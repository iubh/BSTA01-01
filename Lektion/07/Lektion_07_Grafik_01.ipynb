{
 "cells": [
  {
   "cell_type": "markdown",
   "metadata": {
        "trusted": true,
        "editable": false,
        "deletable": false
   },
   "source": [
    "# Lektion 7 - Grafik"
   ]
  },
  {
   "cell_type": "code",
   "execution_count": 1,
   "metadata": { "trusted": true, "editable": false, "deletable": false },
   "outputs": [
    {
     "data": {
      "text/html": [
       "\n",
       "    <script>\n",
       "    function code_toggle() {\n",
       "        if ($('div.cell.code_cell.rendered.selected div.input').css('display')!='none'){\n",
       "            $('div.cell.code_cell.rendered.selected div.input').hide();\n",
       "        } else {\n",
       "            $('div.cell.code_cell.rendered.selected div.input').show();\n",
       "        }\n",
       "    }\n",
       "    </script>\n",
       "    <form action=\"javascript:code_toggle()\"><input type=\"submit\" id=\"toggleButton\" value=\"Code ein-/ausblenden\"></form>\n",
       "    "
      ],
      "text/plain": [
       "<IPython.core.display.HTML object>"
      ]
     },
     "metadata": { "trusted": true, "editable": false, "deletable": false },
     "output_type": "display_data"
    }
   ],
   "source": [
    "## imports\n",
    "import math\n",
    "import pandas as pd\n",
    "from IPython.display import HTML, display\n",
    "\n",
    "\n",
    "## Der folgende Code dient zur Implementierung der Funktionalität, damit Code ein- und ausgeblendet werden kann.\n",
    "def toggle_code():\n",
    "    toggle_code_js_html = '''\n",
    "    <script>\n",
    "    function code_toggle() {\n",
    "        if ($('div.cell.code_cell.rendered.selected div.input').css('display')!='none'){\n",
    "            $('div.cell.code_cell.rendered.selected div.input').hide();\n",
    "        } else {\n",
    "            $('div.cell.code_cell.rendered.selected div.input').show();\n",
    "        }\n",
    "    }\n",
    "    </script>\n",
    "    <form action=\"javascript:code_toggle()\"><input type=\"submit\" id=\"toggleButton\" value=\"Code ein-/ausblenden\"></form>\n",
    "    '''\n",
    "    display(HTML(toggle_code_js_html))\n",
    "\n",
    "\n",
    "toggle_code()"
   ]
  },
  {
   "cell_type": "markdown",
   "metadata": { "trusted": true, "editable": false, "deletable": false },
   "source": [
    "Der Standardfehler berechnet sich durch die Standardabweichung der Grundgesamtheit und des Stichprobenumfangs:  \n",
    "\n",
    "$$ \\sigma_{\\bar{x}} = \\frac{\\sigma}{\\sqrt{n}} $$"
   ]
  },
  {
   "cell_type": "code",
   "execution_count": 1,
   "metadata": { "trusted": true, "editable": false, "deletable": false },
   "outputs": [],
   "source": [
    "from scipy.stats import norm"
   ]
  },
  {
   "cell_type": "code",
   "execution_count": 6,
   "metadata": { "trusted": true, "editable": false, "deletable": false },
   "outputs": [
    {
     "name": "stdout",
     "output_type": "stream",
     "text": [
      "1.6448536269514722\n",
      "1.959963984540054\n",
      "2.5758293035489004\n"
     ]
    }
   ],
   "source": [
    "## alpha = 0.1, 2-seitig\n",
    "print(norm.ppf(1 - (0.1 / 2)))\n",
    "\n",
    "## alpha = 0.05, 2-seitig\n",
    "print(norm.ppf(1 - (0.05 / 2)))\n",
    "\n",
    "## alpha = 0.01, 2-seitig\n",
    "print(norm.ppf(1 - (0.01 / 2)))"
   ]
  },
  {
   "cell_type": "markdown",
   "metadata": { "trusted": true, "editable": false, "deletable": false },
   "source": [
    "Der z-Wert ergibt sich aus der Konfidenzwahrscheinlichkeit:  \n",
    "\n",
    "Konfidenzwahrscheinlichkeit $1 - \\alpha = 0,9$ => z-Wert: $z_{0,9} = 1,645$  \n",
    "Konfidenzwahrscheinlichkeit $1 - \\alpha = 0,95$ => z-Wert: $z_{0,95} = 1,96$  \n",
    "Konfidenzwahrscheinlichkeit $1 - \\alpha = 0,99$ => z-Wert: $z_{0,99} = 2,576$"
   ]
  },
  {
   "cell_type": "markdown",
   "metadata": { "trusted": true, "editable": false, "deletable": false },
   "source": [
    "Das 2-seitige Konfidenzintervall ergibt sich durch Stichprobenmittelwert $\\bar{x}$, z-Wert und Standardfehler:  \n",
    "\n",
    "$$KI = [ \\bar{x} - z_{1-\\alpha} \\sigma_{\\bar{x}} ; \\bar{x} + z_{1-\\alpha} \\sigma_{\\bar{x}} ]$$"
   ]
  },
  {
   "cell_type": "markdown",
   "metadata": { "trusted": true, "editable": false, "deletable": false },
   "source": [
    "Wie verändert sich das Konfidenzintervall für einen Mittelwert bei Veränderungen von  \n",
    "a) der Konfidenzwahrscheinlichkeit  \n",
    "b) der Standardabweichung in der Grundgesamtheit und  \n",
    "c) des Stichprobenumfangs."
   ]
  },
  {
   "cell_type": "code",
   "execution_count": 2,
   "metadata": { "trusted": true, "editable": false, "deletable": false },
   "outputs": [
    {
     "data": {
      "text/html": [
       "\n",
       "    <script>\n",
       "    function code_toggle() {\n",
       "        if ($('div.cell.code_cell.rendered.selected div.input').css('display')!='none'){\n",
       "            $('div.cell.code_cell.rendered.selected div.input').hide();\n",
       "        } else {\n",
       "            $('div.cell.code_cell.rendered.selected div.input').show();\n",
       "        }\n",
       "    }\n",
       "    </script>\n",
       "    <form action=\"javascript:code_toggle()\"><input type=\"submit\" id=\"toggleButton\" value=\"Code ein-/ausblenden\"></form>\n",
       "    "
      ],
      "text/plain": [
       "<IPython.core.display.HTML object>"
      ]
     },
     "metadata": { "trusted": true, "editable": false, "deletable": false },
     "output_type": "display_data"
    }
   ],
   "source": [
    "import math\n",
    "import numpy as np\n",
    "import matplotlib.pyplot as plt\n",
    "from scipy.stats import t, norm\n",
    "import ipywidgets as widgets\n",
    "from ipywidgets import interact, interactive, fixed, interact_manual\n",
    "\n",
    "\n",
    "%matplotlib inline\n",
    "\n",
    "\n",
    "def make_plot(konfp=0.9, sigma=15, n=40):\n",
    "\n",
    "    loc = 100\n",
    "    \n",
    "    alpha = 1 - konfp\n",
    "    z_value = norm.ppf(1 - alpha / 2)\n",
    "    standard_error = sigma / math.sqrt(n)\n",
    "    \n",
    "    lower_bound = loc - z_value * standard_error\n",
    "    upper_bound = loc + z_value * standard_error\n",
    "    \n",
    "    x_values = np.linspace(lower_bound, upper_bound, 100)\n",
    "    y_values = [1 for i in x_values]\n",
    "\n",
    "    fig, ax = plt.subplots(figsize=(14, 2))\n",
    "    ax.plot(x_values, y_values, linewidth=4)\n",
    "\n",
    "    ## x-Achse\n",
    "    ##\n",
    "    plt.xlim(50, 150)\n",
    "    ax.set_xticks(np.arange(50, 150, 5))\n",
    "\n",
    "    ## y-Achse\n",
    "    ##\n",
    "    plt.ylim(0.9, 1.1)\n",
    "    ax.set_yticks([])\n",
    "    ax.set_yticklabels([])\n",
    "    #ax.set_ylabel('$P(x)$', size=14)\n",
    "\n",
    "    ## Sonstiges\n",
    "    ##\n",
    "    ax.set_title(r'Konfidenzintervall mit $\\bar{x}=100$,' \n",
    "                 + r' $\\sigma=${}, Konfidenzwahrscheinlichkeit {}, Stichprobengröße {}'.format(sigma, konfp, n), \n",
    "                 size=16)\n",
    "    ax.grid(True, axis='x')\n",
    "\n",
    "    ## Text für Untergrenze\n",
    "    plt.annotate(\n",
    "        '{:.0f}'.format(lower_bound),\n",
    "        xy=(lower_bound, 1.01),\n",
    "        ha='center',\n",
    "        size=14\n",
    "    )\n",
    "\n",
    "    ## Text für Obergrenze\n",
    "    plt.annotate(\n",
    "        '{:.0f}'.format(upper_bound),\n",
    "        xy=(upper_bound, 1.01),\n",
    "        ha='center',\n",
    "        size=14\n",
    "    )\n",
    "\n",
    "toggle_code()"
   ]
  },
  {
   "cell_type": "code",
   "execution_count": 3,
   "metadata": { "trusted": true, "editable": false, "deletable": false },
   "outputs": [
    {
     "data": {
      "application/vnd.jupyter.widget-view+json": {
       "model_id": "e90b147ed39d4a4d96f84779e10977ee",
       "version_major": 2,
       "version_minor": 0
      },
      "text/plain": [
       "interactive(children=(FloatSlider(value=0.9, continuous_update=False, description='Konfidenzwahrscheinlichkeit…"
      ]
     },
     "metadata": { "trusted": true, "editable": false, "deletable": false },
     "output_type": "display_data"
    }
   ],
   "source": [
    "interactive(\n",
    "    make_plot, \n",
    "    konfp=widgets.FloatSlider(value=0.9, min=0.9, max=0.99, step=0.01, continuous_update=False, description='Konfidenzwahrscheinlichkeit'),\n",
    "    sigma=widgets.IntSlider(value=15, min=5, max=40, step=1, continuous_update=False, description='Sigma'),\n",
    "    n=widgets.IntSlider(value=15, min=5, max=40, step=5, continuous_update=False, description='Stichprobenumfang')\n",
    ")"
   ]
  }
 ],
 "metadata": {
  "kernelspec": {
   "display_name": "Python 3",
   "language": "python",
   "name": "python3"
  },
  "language_info": {
   "codemirror_mode": {
    "name": "ipython",
    "version": 3
   },
   "file_extension": ".py",
   "mimetype": "text/x-python",
   "name": "python",
   "nbconvert_exporter": "python",
   "pygments_lexer": "ipython3",
   "version": "3.7.4"
  }
 },
 "nbformat": 4,
 "nbformat_minor": 2
}
