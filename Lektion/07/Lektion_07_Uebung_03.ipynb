{
 "cells": [
  {
   "cell_type": "markdown",
   "metadata": {
        "trusted": true,
        "editable": false,
        "deletable": false
   },
   "source": [
    "# Lektion 7 - Übung 3"
   ]
  },
  {
   "cell_type": "markdown",
   "metadata": {},
   "source": [
    "Import von Python-Bibliotheken und notwendiger Code für diverse Funktionen"
   ]
  },
  {
   "cell_type": "code",
   "execution_count": 1,
   "metadata": {
    "code_folding": []
   },
   "outputs": [
    {
     "data": {
      "text/html": [
       "\n",
       "    <script>\n",
       "    function code_toggle() {\n",
       "        if ($('div.cell.code_cell.rendered.selected div.input').css('display')!='none'){\n",
       "            $('div.cell.code_cell.rendered.selected div.input').hide();\n",
       "        } else {\n",
       "            $('div.cell.code_cell.rendered.selected div.input').show();\n",
       "        }\n",
       "    }\n",
       "    </script>\n",
       "    <form action=\"javascript:code_toggle()\"><input type=\"submit\" id=\"toggleButton\" value=\"Code ein-/ausblenden\"></form>\n",
       "    "
      ],
      "text/plain": [
       "<IPython.core.display.HTML object>"
      ]
     },
     "metadata": {},
     "output_type": "display_data"
    }
   ],
   "source": [
    "## imports\n",
    "import math\n",
    "import pandas as pd\n",
    "from IPython.display import HTML, display\n",
    "\n",
    "\n",
    "## Der folgende Code dient zur Implementierung der Funktionalität, damit Code ein- und ausgeblendet werden kann.\n",
    "def toggle_code():\n",
    "    toggle_code_js_html = '''\n",
    "    <script>\n",
    "    function code_toggle() {\n",
    "        if ($('div.cell.code_cell.rendered.selected div.input').css('display')!='none'){\n",
    "            $('div.cell.code_cell.rendered.selected div.input').hide();\n",
    "        } else {\n",
    "            $('div.cell.code_cell.rendered.selected div.input').show();\n",
    "        }\n",
    "    }\n",
    "    </script>\n",
    "    <form action=\"javascript:code_toggle()\"><input type=\"submit\" id=\"toggleButton\" value=\"Code ein-/ausblenden\"></form>\n",
    "    '''\n",
    "    display(HTML(toggle_code_js_html))\n",
    "\n",
    "\n",
    "toggle_code()"
   ]
  },
  {
   "cell_type": "markdown",
   "metadata": {},
   "source": [
    "# Aufgabentext"
   ]
  },
  {
   "cell_type": "markdown",
   "metadata": {},
   "source": [
    "An deutschen Hochschulen müssen unter bestimmten Umständen Studierende einen Sprachtest als Bestandteil des Zulassungsverfahrens absolvieren. Das Merkmal X \"Punkte im Sprachtest\" ist normalverteilt. Eine Stichprobenerhebung ergibt die folgenden Ergebnisse:  \n",
    "\n",
    "66, 38, 73, 64, 85, 58, 32, 42, 77 und 45.  \n",
    "\n",
    "Bestimmen Sie zunächst die Punktschätzer für den Erwartungswert und die Standardabweichung des Merkmals in der Grundgesamtheit.  Ermitteln Sie darauf aufbauend das 95%-Konfidenzintervall für den Erwartungswert in der Grundgesamtheit.  \n",
    "Erläutern Sie anhand dessen den Unterschied der beiden Schätzverfahren."
   ]
  },
  {
   "cell_type": "markdown",
   "metadata": {},
   "source": [
    "# Lösung"
   ]
  },
  {
   "cell_type": "markdown",
   "metadata": {},
   "source": [
    "**1. Festlegung der Konfidenzwahrscheinlichkeit 1 - $\\alpha$**"
   ]
  },
  {
   "cell_type": "markdown",
   "metadata": {},
   "source": [
    "Die Konfidenzwahrscheinlichkeit beträgt 1 - $\\alpha$ = 0.95, d.h. $\\alpha$ = 0.05"
   ]
  },
  {
   "cell_type": "markdown",
   "metadata": {},
   "source": [
    "**2. Bestimmung der Anzahl der Freiheitsgrade und Ablesen des t-Werts**"
   ]
  },
  {
   "cell_type": "markdown",
   "metadata": {},
   "source": [
    "Die Freiheitsgrade ergeben sich durch n - 1 = 10 - 1 = 9.  \n",
    "\n",
    "Der t-Wert für 9 Freiheitsgrade und einer Konfidenzwahrscheinlichkeit von 95% beträgt 2,262."
   ]
  },
  {
   "cell_type": "code",
   "execution_count": 2,
   "metadata": {},
   "outputs": [],
   "source": [
    "import math\n",
    "from scipy.stats import t"
   ]
  },
  {
   "cell_type": "code",
   "execution_count": 3,
   "metadata": {},
   "outputs": [
    {
     "name": "stdout",
     "output_type": "stream",
     "text": [
      "2.2621571627409915\n"
     ]
    }
   ],
   "source": [
    "# Bei einem zweiseitigen Konfidenzintervall verwenden wir 1 - alpha / 2 = 1 - 0.05 / 2 = 1 - 0.025 = 0.975\n",
    "t_value = t.ppf(0.975, 9)\n",
    "print(t_value)"
   ]
  },
  {
   "cell_type": "markdown",
   "metadata": {},
   "source": [
    "**3.1 Punktschätzer für Erwartungswert $\\hat{\\mu}$**\n",
    "$$ \\hat{\\mu} = \\bar{x} = \\frac{1}{n} \\sum_{t=1}^n x_t $$"
   ]
  },
  {
   "cell_type": "code",
   "execution_count": 4,
   "metadata": {},
   "outputs": [
    {
     "name": "stdout",
     "output_type": "stream",
     "text": [
      "58.0\n"
     ]
    }
   ],
   "source": [
    "n = 10\n",
    "x_quer = (66 + 38 + 73 + 64 + 85 + 58 + 32 + 42 + 77 + 45) / n\n",
    "print(x_quer)"
   ]
  },
  {
   "cell_type": "markdown",
   "metadata": {},
   "source": [
    "**3.2 Punktschätzer für Varianz $\\sigma^2$ bzw. Standardabweichung $\\sigma$**  \n",
    "\n",
    "$$ \\hat{\\sigma}^2 = s^2 = \\frac{1}{n - 1} \\sum_{t=1}^n (x_t - \\bar{x})^2 $$  \n",
    "$$ \\hat{\\sigma} = s = \\sqrt{s^2} $$"
   ]
  },
  {
   "cell_type": "code",
   "execution_count": 5,
   "metadata": {},
   "outputs": [
    {
     "name": "stdout",
     "output_type": "stream",
     "text": [
      "18.0\n"
     ]
    }
   ],
   "source": [
    "s_2 = ((66 - x_quer)**2 + (38 - x_quer)**2 + (73 - x_quer)**2 + (64 - x_quer)**2 + (85 - x_quer)**2 + \n",
    "       (58 - x_quer)**2 + (32 - x_quer)**2 + (42 - x_quer)**2 + (77 - x_quer)**2 + (45 - x_quer)**2) / (n - 1)\n",
    "s = math.sqrt(s_2)\n",
    "print(s)"
   ]
  },
  {
   "cell_type": "markdown",
   "metadata": {},
   "source": [
    "**4. Berechnung der geschätzten Standardabweichung des Stichprobenmittelwerts $\\hat{\\sigma}_\\bar{x} = \\frac{s}{\\sqrt{n}}$**"
   ]
  },
  {
   "cell_type": "code",
   "execution_count": 6,
   "metadata": {},
   "outputs": [
    {
     "name": "stdout",
     "output_type": "stream",
     "text": [
      "5.692099788303082\n"
     ]
    }
   ],
   "source": [
    "standard_error = s / math.sqrt(n)\n",
    "print(standard_error)"
   ]
  },
  {
   "cell_type": "markdown",
   "metadata": {},
   "source": [
    "**5. Berechnung des Stichprobenfehlers $\\delta = t_{1-\\alpha} \\hat{\\sigma}_\\bar{x}$**"
   ]
  },
  {
   "cell_type": "code",
   "execution_count": 7,
   "metadata": {},
   "outputs": [
    {
     "name": "stdout",
     "output_type": "stream",
     "text": [
      "12.8764243071463\n"
     ]
    }
   ],
   "source": [
    "sample_error = t_value * standard_error\n",
    "print(sample_error)"
   ]
  },
  {
   "cell_type": "markdown",
   "metadata": {},
   "source": [
    "**6. Angabe des Konfidenzintervalls $KI = [\\bar{x} - t_{1-\\alpha} \\hat{\\sigma}_\\bar{x} ;  \\bar{x} + t_{1-\\alpha} \\hat{\\sigma}_\\bar{x}] $**"
   ]
  },
  {
   "cell_type": "code",
   "execution_count": 8,
   "metadata": {},
   "outputs": [
    {
     "name": "stdout",
     "output_type": "stream",
     "text": [
      "45.12 70.88\n"
     ]
    }
   ],
   "source": [
    "lower_bound = x_quer - sample_error\n",
    "upper_bound = x_quer + sample_error\n",
    "print(lower_bound.round(2), upper_bound.round(2))"
   ]
  },
  {
   "cell_type": "markdown",
   "metadata": {},
   "source": [
    "# Interaktive Grafik\n",
    "## Veränderung des Konfidenzintervalls bei Veränderung der Parameter"
   ]
  },
  {
   "cell_type": "code",
   "execution_count": 9,
   "metadata": {},
   "outputs": [
    {
     "data": {
      "text/html": [
       "\n",
       "    <script>\n",
       "    function code_toggle() {\n",
       "        if ($('div.cell.code_cell.rendered.selected div.input').css('display')!='none'){\n",
       "            $('div.cell.code_cell.rendered.selected div.input').hide();\n",
       "        } else {\n",
       "            $('div.cell.code_cell.rendered.selected div.input').show();\n",
       "        }\n",
       "    }\n",
       "    </script>\n",
       "    <form action=\"javascript:code_toggle()\"><input type=\"submit\" id=\"toggleButton\" value=\"Code ein-/ausblenden\"></form>\n",
       "    "
      ],
      "text/plain": [
       "<IPython.core.display.HTML object>"
      ]
     },
     "metadata": {},
     "output_type": "display_data"
    }
   ],
   "source": [
    "import math\n",
    "import numpy as np\n",
    "import matplotlib.pyplot as plt\n",
    "from scipy.stats import t, norm\n",
    "import ipywidgets as widgets\n",
    "from ipywidgets import interact, interactive, fixed, interact_manual\n",
    "\n",
    "\n",
    "%matplotlib inline\n",
    "\n",
    "\n",
    "def make_plot(konfp=0.95, sigma=18, n=10):\n",
    "\n",
    "    loc = 58\n",
    "    \n",
    "    alpha = 1 - konfp\n",
    "    z_value = t.ppf(1 - alpha / 2, n - 1)\n",
    "    standard_error = sigma / math.sqrt(n)\n",
    "    \n",
    "    lower_bound = loc - z_value * standard_error\n",
    "    upper_bound = loc + z_value * standard_error\n",
    "    \n",
    "    x_values = np.linspace(lower_bound, upper_bound, 100)\n",
    "    y_values = [1 for i in x_values]\n",
    "\n",
    "    fig, ax = plt.subplots(figsize=(14, 2))\n",
    "    ax.plot(x_values, y_values, linewidth=4)\n",
    "\n",
    "    ## x-Achse\n",
    "    ##\n",
    "    plt.xlim(0, 100)\n",
    "    ax.set_xticks(np.arange(0, 100, 5))\n",
    "\n",
    "    ## y-Achse\n",
    "    ##\n",
    "    plt.ylim(0.9, 1.1)\n",
    "    ax.set_yticks([])\n",
    "    ax.set_yticklabels([])\n",
    "    #ax.set_ylabel('$P(x)$', size=14)\n",
    "\n",
    "    ## Sonstiges\n",
    "    ##\n",
    "    ax.set_title(r'Konfidenzintervall mit $\\bar{x}=58$,' \n",
    "                 + r' $\\sigma=${}, Konfidenzwahrscheinlichkeit {}, Stichprobengröße {}'.format(sigma, konfp, n), \n",
    "                 size=16)\n",
    "    ax.grid(True, axis='x')\n",
    "\n",
    "    ## Text für Untergrenze\n",
    "    plt.annotate(\n",
    "        '{:.2f}'.format(lower_bound),\n",
    "        xy=(min(lower_bound, 54.3), 1.01),\n",
    "        ha='center',\n",
    "        size=14\n",
    "    )\n",
    "\n",
    "    ## Text für Obergrenze\n",
    "    plt.annotate(\n",
    "        '{:.2f}'.format(upper_bound),\n",
    "        xy=(max(upper_bound, 61,6), 1.01),\n",
    "        ha='center',\n",
    "        size=14\n",
    "    )\n",
    "\n",
    "toggle_code()"
   ]
  },
  {
   "cell_type": "code",
   "execution_count": 10,
   "metadata": {},
   "outputs": [
    {
     "data": {
      "application/vnd.jupyter.widget-view+json": {
       "model_id": "f935d9f332fa43ec86fd6f70330dbda6",
       "version_major": 2,
       "version_minor": 0
      },
      "text/plain": [
       "interactive(children=(FloatSlider(value=0.95, continuous_update=False, description='Konfidenzwahrscheinlichkei…"
      ]
     },
     "metadata": {},
     "output_type": "display_data"
    }
   ],
   "source": [
    "interactive(\n",
    "    make_plot, \n",
    "    konfp=widgets.FloatSlider(value=0.95, min=0.9, max=0.99, step=0.01, continuous_update=False, description='Konfidenzwahrscheinlichkeit'),\n",
    "    sigma=widgets.IntSlider(value=18, min=1, max=30, step=1, continuous_update=False, description='Sigma'),\n",
    "    n=widgets.IntSlider(value=10, min=5, max=20, step=1, continuous_update=False, description='Stichprobenumfang')\n",
    ")"
   ]
  },
  {
   "cell_type": "markdown",
   "metadata": {},
   "source": [
    "# Interaktive Grafik\n",
    "## Vergleich der t-Verteilung mit der Standardnormalverteilung in Abhängigkeit der Freiheitsgrade"
   ]
  },
  {
   "cell_type": "markdown",
   "metadata": {},
   "source": [
    "Liegt eine Stichprobe vor und die Standardabweichung der Grundgesamtheit muß geschätzt werden, dann wird die t-Verteilung zur Ermittlung des Standardfehlers verwendet.  \n",
    "Ist die Standardabweichung der Grundgesamtheit bekannt, so kann die Normalverteilung verwendet werden.  \n",
    "Ab einer Stichprobengröße von n = 30 nähert sich die t-Verteilung der Standardnormalverteilung an."
   ]
  },
  {
   "cell_type": "code",
   "execution_count": 11,
   "metadata": {},
   "outputs": [
    {
     "data": {
      "text/html": [
       "\n",
       "    <script>\n",
       "    function code_toggle() {\n",
       "        if ($('div.cell.code_cell.rendered.selected div.input').css('display')!='none'){\n",
       "            $('div.cell.code_cell.rendered.selected div.input').hide();\n",
       "        } else {\n",
       "            $('div.cell.code_cell.rendered.selected div.input').show();\n",
       "        }\n",
       "    }\n",
       "    </script>\n",
       "    <form action=\"javascript:code_toggle()\"><input type=\"submit\" id=\"toggleButton\" value=\"Code ein-/ausblenden\"></form>\n",
       "    "
      ],
      "text/plain": [
       "<IPython.core.display.HTML object>"
      ]
     },
     "metadata": {},
     "output_type": "display_data"
    }
   ],
   "source": [
    "import numpy as np\n",
    "import matplotlib.pyplot as plt\n",
    "from scipy.stats import t\n",
    "from scipy.stats import norm\n",
    "import ipywidgets as widgets\n",
    "from ipywidgets import interact, interactive, fixed, interact_manual\n",
    "\n",
    "\n",
    "%matplotlib inline\n",
    "\n",
    "\n",
    "def make_plot(df=5):\n",
    "    pass\n",
    "\n",
    "    x_values = np.linspace(-5, 5, 300)\n",
    "    y_values_norm = [norm.pdf(i, loc=0, scale=1) for i in x_values]\n",
    "    y_values_t = [t.pdf(i, df, loc=0, scale=1) for i in x_values]\n",
    "\n",
    "    fig, ax = plt.subplots(figsize=(14, 8))\n",
    "\n",
    "    ax.plot(x_values, y_values_norm, label=\"Normalverteilung\")\n",
    "    ax.plot(x_values, y_values_t, label=\"t-Verteilung, Freiheitsgrade {}\".format(df))\n",
    "\n",
    "    ax.set_title('Vergleich Dichtefunktion der Standard-Normalverteilung und der t-Verteilung', size=16)\n",
    "    #ax.set_xlabel('$x$', size=14)\n",
    "    #ax.set_ylabel('$P(x)$', size=14)\n",
    "\n",
    "    ax.grid(True, axis='both')\n",
    "\n",
    "    #ax.set_xticks(np.linspace(-3, 3, 13))\n",
    "    #ax.set_xticklabels(x_labels)\n",
    "\n",
    "    #ax.set_yticks(np.linspace(0.0, 1.0, 11))\n",
    "\n",
    "    ## Wert neben Linie schreiben\n",
    "    #for x, y in zip(x_values, y_values):\n",
    "    #    ax.annotate(str(y), xy=(x, y - 0.04), size=14)\n",
    "\n",
    "    #major_ticks = np.arange(0, 1.1, 0.1)    \n",
    "    #ax.set_yticks(major_ticks)\n",
    "\n",
    "    plt.legend()\n",
    "\n",
    "toggle_code()"
   ]
  },
  {
   "cell_type": "code",
   "execution_count": 12,
   "metadata": {},
   "outputs": [
    {
     "data": {
      "application/vnd.jupyter.widget-view+json": {
       "model_id": "8abbfdd9e6424702a8e7a6ec9bf3ca39",
       "version_major": 2,
       "version_minor": 0
      },
      "text/plain": [
       "interactive(children=(IntSlider(value=5, continuous_update=False, description='Freiheitsgrade', max=50, min=5)…"
      ]
     },
     "metadata": {},
     "output_type": "display_data"
    }
   ],
   "source": [
    "interactive(\n",
    "    make_plot, \n",
    "    df=widgets.IntSlider(value=5, min=5, max=50, step=1, continuous_update=False, description='Freiheitsgrade'))"
   ]
  }
 ],
 "metadata": {
  "kernelspec": {
   "display_name": "Python 3",
   "language": "python",
   "name": "python3"
  },
  "language_info": {
   "codemirror_mode": {
    "name": "ipython",
    "version": 3
   },
   "file_extension": ".py",
   "mimetype": "text/x-python",
   "name": "python",
   "nbconvert_exporter": "python",
   "pygments_lexer": "ipython3",
   "version": "3.7.4"
  }
 },
 "nbformat": 4,
 "nbformat_minor": 2
}
