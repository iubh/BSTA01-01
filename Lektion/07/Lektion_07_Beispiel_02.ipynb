{
 "cells": [
  {
   "cell_type": "markdown",
   "metadata": {},
   "source": [
    "# Lektion 7 - Beispiel 2"
   ]
  },
  {
   "cell_type": "markdown",
   "metadata": {},
   "source": [
    "Import von Python-Bibliotheken und notwendiger Code für diverse Funktionen"
   ]
  },
  {
   "cell_type": "code",
   "execution_count": 39,
   "metadata": {
    "code_folding": []
   },
   "outputs": [
    {
     "data": {
      "text/html": [
       "\n",
       "    <script>\n",
       "    function code_toggle() {\n",
       "        if ($('div.cell.code_cell.rendered.selected div.input').css('display')!='none'){\n",
       "            $('div.cell.code_cell.rendered.selected div.input').hide();\n",
       "        } else {\n",
       "            $('div.cell.code_cell.rendered.selected div.input').show();\n",
       "        }\n",
       "    }\n",
       "    </script>\n",
       "    <form action=\"javascript:code_toggle()\"><input type=\"submit\" id=\"toggleButton\" value=\"Code ein-/ausblenden\"></form>\n",
       "    "
      ],
      "text/plain": [
       "<IPython.core.display.HTML object>"
      ]
     },
     "metadata": {},
     "output_type": "display_data"
    }
   ],
   "source": [
    "## imports\n",
    "import math\n",
    "import pandas as pd\n",
    "from IPython.display import HTML, display\n",
    "\n",
    "\n",
    "## Der folgende Code dient zur Implementierung der Funktionalität, damit Code ein- und ausgeblendet werden kann.\n",
    "def toggle_code():\n",
    "    toggle_code_js_html = '''\n",
    "    <script>\n",
    "    function code_toggle() {\n",
    "        if ($('div.cell.code_cell.rendered.selected div.input').css('display')!='none'){\n",
    "            $('div.cell.code_cell.rendered.selected div.input').hide();\n",
    "        } else {\n",
    "            $('div.cell.code_cell.rendered.selected div.input').show();\n",
    "        }\n",
    "    }\n",
    "    </script>\n",
    "    <form action=\"javascript:code_toggle()\"><input type=\"submit\" id=\"toggleButton\" value=\"Code ein-/ausblenden\"></form>\n",
    "    '''\n",
    "    display(HTML(toggle_code_js_html))\n",
    "\n",
    "\n",
    "toggle_code()"
   ]
  },
  {
   "cell_type": "markdown",
   "metadata": {},
   "source": [
    "# Aufgabentext"
   ]
  },
  {
   "cell_type": "markdown",
   "metadata": {},
   "source": [
    "In einer deutschen Großstadt soll die durchschnittliche Kaltmiete pro Quadratmeter festgelegt werden. Es sei angenommen, dass das Merkmal X \"Kaltmiete pro Quadratmeter\" in Euro in der Grundgesamtheit normalverteilt ist. Frühere Untersuchungen haben ergeben, dass die Standardabweichung dieses Merkmals in der Grundgesamtheit 1,50 € je m2 ist. Eine Stichprobe im Umfang von 3000 ergibt einen\n",
    "Stichprobenmittelwert von 12,60 € je m2. Die Konfidenzwahrscheinlichkeit wird auf 99% festgelegt. \n",
    "\n",
    "Bestimmen Sie das entsprechende Konfidenzintervall und stellen Sie das Ergebnis grafisch dar."
   ]
  },
  {
   "cell_type": "markdown",
   "metadata": {},
   "source": [
    "# Lösung"
   ]
  },
  {
   "cell_type": "markdown",
   "metadata": {},
   "source": [
    "**1. Festlegung der Konfidenzwahrscheinlichkeit 1 - $\\alpha$**"
   ]
  },
  {
   "cell_type": "markdown",
   "metadata": {},
   "source": [
    "Die Konfidenzwahrscheinlichkeit beträgt 1 - $\\alpha$ = 0.99, d.h. $\\alpha$ = 0.01"
   ]
  },
  {
   "cell_type": "markdown",
   "metadata": {},
   "source": [
    "**2. Bestimmung des z-Werts**"
   ]
  },
  {
   "cell_type": "markdown",
   "metadata": {},
   "source": [
    "Der z-Wert für eine Konfidenzwahrscheinlichkeit von 99% beträgt 2,576."
   ]
  },
  {
   "cell_type": "code",
   "execution_count": 1,
   "metadata": {},
   "outputs": [],
   "source": [
    "import math\n",
    "from scipy.stats import t\n",
    "from scipy.stats import norm"
   ]
  },
  {
   "cell_type": "code",
   "execution_count": 12,
   "metadata": {},
   "outputs": [
    {
     "name": "stdout",
     "output_type": "stream",
     "text": [
      "2.576\n"
     ]
    }
   ],
   "source": [
    "# alpha=0.01, 2-seitig\n",
    "z_value = norm.ppf(1 - (0.01 / 2))\n",
    "print(z_value.round(3))"
   ]
  },
  {
   "cell_type": "markdown",
   "metadata": {},
   "source": [
    "**3. Berechnung des Stichprobenmittelwerts $\\bar{x}$ und der Stichprobenstandardabweichung s**"
   ]
  },
  {
   "cell_type": "markdown",
   "metadata": {},
   "source": [
    "Der Stichprobenmittelwert beträgt laut Angabe 12,60 Euro/m2."
   ]
  },
  {
   "cell_type": "code",
   "execution_count": 13,
   "metadata": {},
   "outputs": [
    {
     "name": "stdout",
     "output_type": "stream",
     "text": [
      "12.6\n"
     ]
    }
   ],
   "source": [
    "x_mean = 12.6\n",
    "print(x_mean)"
   ]
  },
  {
   "cell_type": "markdown",
   "metadata": {},
   "source": [
    "Die Standardabweichung in der Grundgesamtheit beträgt laut Angabe 1,50 Euro/m2."
   ]
  },
  {
   "cell_type": "code",
   "execution_count": 14,
   "metadata": {},
   "outputs": [
    {
     "name": "stdout",
     "output_type": "stream",
     "text": [
      "1.5\n"
     ]
    }
   ],
   "source": [
    "sigma = 1.5\n",
    "print(sigma)"
   ]
  },
  {
   "cell_type": "markdown",
   "metadata": {},
   "source": [
    "**4. Berechnung der Standardabweichung des Stichprobenmittelwerts ${\\sigma}_\\bar{x} = \\frac{\\sigma}{\\sqrt{n}}$**"
   ]
  },
  {
   "cell_type": "code",
   "execution_count": 15,
   "metadata": {},
   "outputs": [
    {
     "name": "stdout",
     "output_type": "stream",
     "text": [
      "0.027386127875258303\n"
     ]
    }
   ],
   "source": [
    "standard_error = sigma / math.sqrt(3000)\n",
    "print(standard_error)"
   ]
  },
  {
   "cell_type": "markdown",
   "metadata": {},
   "source": [
    "**5. Berechnung des Stichprobenfehlers $\\delta = z_{1-\\alpha} \\sigma_\\bar{x}$**"
   ]
  },
  {
   "cell_type": "code",
   "execution_count": 16,
   "metadata": {},
   "outputs": [
    {
     "name": "stdout",
     "output_type": "stream",
     "text": [
      "0.07058691430473146\n"
     ]
    }
   ],
   "source": [
    "sample_error = t_value * standard_error\n",
    "print(sample_error)"
   ]
  },
  {
   "cell_type": "markdown",
   "metadata": {},
   "source": [
    "**6. Angabe des Konfidenzintervalls $KI = [\\bar{x} - z_{1-\\alpha} \\sigma_\\bar{x} ;  \\bar{x} + z_{1-\\alpha} \\sigma_\\bar{x}] $**"
   ]
  },
  {
   "cell_type": "code",
   "execution_count": 17,
   "metadata": {},
   "outputs": [
    {
     "name": "stdout",
     "output_type": "stream",
     "text": [
      "12.53 12.67\n"
     ]
    }
   ],
   "source": [
    "lower_bound = x_mean - sample_error\n",
    "upper_bound = x_mean + sample_error\n",
    "print(lower_bound.round(2), upper_bound.round(2))"
   ]
  },
  {
   "cell_type": "markdown",
   "metadata": {},
   "source": [
    "# Grafik"
   ]
  },
  {
   "cell_type": "code",
   "execution_count": 40,
   "metadata": {},
   "outputs": [
    {
     "data": {
      "image/png": "[encoded data removed]",
      "text/plain": [
       "<Figure size 1008x144 with 1 Axes>"
      ]
     },
     "metadata": {
      "needs_background": "light"
     },
     "output_type": "display_data"
    },
    {
     "data": {
      "text/html": [
       "\n",
       "    <script>\n",
       "    function code_toggle() {\n",
       "        if ($('div.cell.code_cell.rendered.selected div.input').css('display')!='none'){\n",
       "            $('div.cell.code_cell.rendered.selected div.input').hide();\n",
       "        } else {\n",
       "            $('div.cell.code_cell.rendered.selected div.input').show();\n",
       "        }\n",
       "    }\n",
       "    </script>\n",
       "    <form action=\"javascript:code_toggle()\"><input type=\"submit\" id=\"toggleButton\" value=\"Code ein-/ausblenden\"></form>\n",
       "    "
      ],
      "text/plain": [
       "<IPython.core.display.HTML object>"
      ]
     },
     "metadata": {},
     "output_type": "display_data"
    }
   ],
   "source": [
    "import math\n",
    "import numpy as np\n",
    "import matplotlib.pyplot as plt\n",
    "from scipy.stats import t, norm\n",
    "import ipywidgets as widgets\n",
    "from ipywidgets import interact, interactive, fixed, interact_manual\n",
    "\n",
    "%matplotlib inline\n",
    "\n",
    "\n",
    "def make_plot(konfp=0.99, sigma=1.5, n=3000):\n",
    "\n",
    "    loc = 12.6\n",
    "    \n",
    "    alpha = 1 - konfp\n",
    "    z_value = norm.ppf(1 - alpha / 2)\n",
    "    standard_error = sigma / math.sqrt(n)\n",
    "    \n",
    "    lower_bound = loc - z_value * standard_error\n",
    "    upper_bound = loc + z_value * standard_error\n",
    "    \n",
    "    x_values = np.linspace(lower_bound, upper_bound, 100)\n",
    "    y_values = [1 for i in x_values]\n",
    "\n",
    "    fig, ax = plt.subplots(figsize=(14, 2))\n",
    "    ax.plot(x_values, y_values, linewidth=4)\n",
    "\n",
    "    ## x-Achse\n",
    "    ##\n",
    "    plt.xlim(11.9, 13.1)\n",
    "    ax.set_xticks(np.arange(12, 13.1, 0.1))\n",
    "\n",
    "    ## y-Achse\n",
    "    ##\n",
    "    plt.ylim(0.9, 1.1)\n",
    "    ax.set_yticks([])\n",
    "    ax.set_yticklabels([])\n",
    "    #ax.set_ylabel('$P(x)$', size=14)\n",
    "\n",
    "    ## Sonstiges\n",
    "    ##\n",
    "    ax.set_title(r'Konfidenzintervall mit $\\bar{x}=12.6$,' \n",
    "                 + r' $\\sigma=${}, Konfidenzwahrscheinlichkeit {}, Stichprobengröße {}'.format(sigma, konfp, n), \n",
    "                 size=16)\n",
    "    ax.grid(True, axis='x')\n",
    "\n",
    "    ## Text für Untergrenze\n",
    "    plt.annotate(\n",
    "        '{:.2f}'.format(lower_bound),\n",
    "        xy=(lower_bound, 1.01),\n",
    "        ha='center',\n",
    "        size=14\n",
    "    )\n",
    "    \n",
    "    ## Text für Obergrenze\n",
    "    plt.annotate(\n",
    "        '{:.2f}'.format(upper_bound),\n",
    "        xy=(upper_bound, 1.01),\n",
    "        ha='center',\n",
    "        size=14\n",
    "    )\n",
    "\n",
    "    plt.show()\n",
    "\n",
    "make_plot()\n",
    "toggle_code()"
   ]
  }
 ],
 "metadata": {
  "kernelspec": {
   "display_name": "Python 3",
   "language": "python",
   "name": "python3"
  },
  "language_info": {
   "codemirror_mode": {
    "name": "ipython",
    "version": 3
   },
   "file_extension": ".py",
   "mimetype": "text/x-python",
   "name": "python",
   "nbconvert_exporter": "python",
   "pygments_lexer": "ipython3",
   "version": "3.7.4"
  }
 },
 "nbformat": 4,
 "nbformat_minor": 2
}
