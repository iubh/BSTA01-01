{
 "cells": [
  {
   "cell_type": "markdown",
   "metadata": {
        "trusted": true,
        "editable": false,
        "deletable": false
   },
   "source": [
    "# Lektion 2 - Übung 7"
   ]
  },
  {
   "cell_type": "code",
   "execution_count": 6,
   "metadata": { "trusted": true, "editable": false, "deletable": false },
   "outputs": [],
   "source": [
    "## Bibliothek für Berechnung der Wurzel\n",
    "import math"
   ]
  },
  {
   "cell_type": "markdown",
   "metadata": { "trusted": true, "editable": false, "deletable": false },
   "source": [
    "# Aufgabentext"
   ]
  },
  {
   "cell_type": "markdown",
   "metadata": { "trusted": true, "editable": false, "deletable": false },
   "source": [
    "10 Studierende wurden gefragt, wie viele Stunden sie pro Tag für den IUBH-Kurs Statistik in der Woche vor der Klausur gelernt haben. Die Beobachtungswerte sind: \n",
    "\n",
    "2, 10, 1, 5, 6, 3, 3, 3, 2, 4.\n",
    "\n",
    "Analysieren Sie die Lage und die Streuung dieser Verteilung mit Hilfe des Ihnen bekannten Instrumentariums."
   ]
  },
  {
   "cell_type": "markdown",
   "metadata": { "trusted": true, "editable": false, "deletable": false },
   "source": [
    "# Lösung"
   ]
  },
  {
   "cell_type": "markdown",
   "metadata": { "trusted": true, "editable": false, "deletable": false },
   "source": [
    "## Berechnung / Darstellung über eine Tabelle"
   ]
  },
  {
   "cell_type": "markdown",
   "metadata": { "trusted": true, "editable": false, "deletable": false },
   "source": [
    "|i          |$$x_i$$|$$x_i - \\bar{x}$$|$$\\mid x_i - \\bar{x} \\mid$$|$$(x - \\bar{x})^2$$|\n",
    "|---        |---    |---              |---                        |---                |\n",
    "|1          |2      |-1,9             |1,9                        |3,61               |\n",
    "|2          |10     |6,1              |6,1                        |37,21              |\n",
    "|3          |1      |-2,9             |2,9                        |8,41               |\n",
    "|4          |5      |1,1              |1,1                        |1,21               |\n",
    "|5          |6      |2,1              |2,1                        |4,41               |\n",
    "|6          |3      |-0,9             |0,9                        |0,81               |\n",
    "|7          |3      |-0,9             |0,9                        |0,81               |\n",
    "|8          |3      |-0,9             |0,9                        |0,81               |\n",
    "|9          |2      |-1,9             |1,9                        |3,61               |\n",
    "|10         |4      |0,1              |0,1                        |0,01               |\n",
    "|           |       |                 |                           |                   |\n",
    "|$$\\sum{}$$ |39     |0                |18,8                       |60,9               |\n",
    "|$$\\bar{x}$$|3,9    |                 |                           |                   |\n"
   ]
  },
  {
   "cell_type": "code",
   "execution_count": 1,
   "metadata": { "trusted": true, "editable": false, "deletable": false },
   "outputs": [
    {
     "data": {
      "text/plain": [
       "3.9"
      ]
     },
     "execution_count": 1,
     "metadata": { "trusted": true, "editable": false, "deletable": false },
     "output_type": "execute_result"
    }
   ],
   "source": [
    "## Berechnung Mittelwert\n",
    "39 / 10"
   ]
  },
  {
   "cell_type": "code",
   "execution_count": 3,
   "metadata": { "trusted": true, "editable": false, "deletable": false },
   "outputs": [
    {
     "data": {
      "text/plain": [
       "1.8800000000000001"
      ]
     },
     "execution_count": 3,
     "metadata": { "trusted": true, "editable": false, "deletable": false },
     "output_type": "execute_result"
    }
   ],
   "source": [
    "## Berechnung MAD\n",
    "18.8 / 10"
   ]
  },
  {
   "cell_type": "code",
   "execution_count": 4,
   "metadata": { "trusted": true, "editable": false, "deletable": false },
   "outputs": [
    {
     "data": {
      "text/plain": [
       "6.09"
      ]
     },
     "execution_count": 4,
     "metadata": { "trusted": true, "editable": false, "deletable": false },
     "output_type": "execute_result"
    }
   ],
   "source": [
    "## Berechnung Varianz\n",
    "60.9 / 10"
   ]
  },
  {
   "cell_type": "code",
   "execution_count": 7,
   "metadata": { "trusted": true, "editable": false, "deletable": false },
   "outputs": [
    {
     "data": {
      "text/plain": [
       "2.467792535850613"
      ]
     },
     "execution_count": 7,
     "metadata": { "trusted": true, "editable": false, "deletable": false },
     "output_type": "execute_result"
    }
   ],
   "source": [
    "## Berechnung Standardabweichung\n",
    "math.sqrt(60.9 / 10)"
   ]
  },
  {
   "cell_type": "markdown",
   "metadata": { "trusted": true, "editable": false, "deletable": false },
   "source": [
    "## Explizite Berechnung"
   ]
  },
  {
   "cell_type": "markdown",
   "metadata": { "trusted": true, "editable": false, "deletable": false },
   "source": [
    "### Mittelwert"
   ]
  },
  {
   "cell_type": "markdown",
   "metadata": { "trusted": true, "editable": false, "deletable": false },
   "source": [
    "$$ \\bar{x} = \\frac{1}{n} \\sum_{i=1}^n{x_i} $$"
   ]
  },
  {
   "cell_type": "markdown",
   "metadata": { "trusted": true, "editable": false, "deletable": false },
   "source": [
    "Für den Mittelwert muss die Summe der Einzelelemente der Rohdaten gebildet und diese dann durch die Anzahl der Elemente geteilt werden."
   ]
  },
  {
   "cell_type": "code",
   "execution_count": 13,
   "metadata": { "trusted": true, "editable": false, "deletable": false },
   "outputs": [],
   "source": [
    "mean = (2 + 10 + 1 + 5 + 6 + 3 + 3 + 3 + 2 + 4) / 10"
   ]
  },
  {
   "cell_type": "code",
   "execution_count": 14,
   "metadata": { "trusted": true, "editable": false, "deletable": false },
   "outputs": [
    {
     "name": "stdout",
     "output_type": "stream",
     "text": [
      "3.9\n"
     ]
    }
   ],
   "source": [
    "print(mean)"
   ]
  },
  {
   "cell_type": "markdown",
   "metadata": { "trusted": true, "editable": false, "deletable": false },
   "source": [
    "### Median"
   ]
  },
  {
   "cell_type": "markdown",
   "metadata": { "trusted": true, "editable": false, "deletable": false },
   "source": [
    "Da n = 10, berechnet sich der Median aus dem Mittelwert der sortierten Elemente an den Positionen n / 2 und n / 2 + 1 bzw. den Positionen 5 und 6.\n",
    "\n",
    "|i  |$$x_i$$|\n",
    "|---|---    |\n",
    "|1  |1      |\n",
    "|2  |2      |\n",
    "|3  |2      |\n",
    "|4  |3      |\n",
    "|5  |3      |\n",
    "|6  |3      |\n",
    "|7  |4      |\n",
    "|8  |5      |\n",
    "|9  |6      |\n",
    "|10 |10     |"
   ]
  },
  {
   "cell_type": "code",
   "execution_count": 10,
   "metadata": { "trusted": true, "editable": false, "deletable": false },
   "outputs": [],
   "source": [
    "median = (3 + 3) / 2"
   ]
  },
  {
   "cell_type": "code",
   "execution_count": 11,
   "metadata": { "trusted": true, "editable": false, "deletable": false },
   "outputs": [
    {
     "name": "stdout",
     "output_type": "stream",
     "text": [
      "3.0\n"
     ]
    }
   ],
   "source": [
    "print(median)"
   ]
  },
  {
   "cell_type": "markdown",
   "metadata": { "trusted": true, "editable": false, "deletable": false },
   "source": [
    "### Mittlere absolute Abweichung MAD"
   ]
  },
  {
   "cell_type": "markdown",
   "metadata": { "trusted": true, "editable": false, "deletable": false },
   "source": [
    "$$ MAD = \\frac{1}{n} \\sum_{i=1}^n{ \\mid x_i - \\bar{x} \\mid } $$"
   ]
  },
  {
   "cell_type": "code",
   "execution_count": 15,
   "metadata": { "trusted": true, "editable": false, "deletable": false },
   "outputs": [],
   "source": [
    "mad = (abs(2 - mean) + abs(10 - mean) + abs(1 - mean) + abs(5 - mean) + abs(6 - mean) + \n",
    "       abs(3 - mean) + abs(3 - mean) + abs(3 - mean) + abs(2 - mean) + abs(4 - mean)) / 10"
   ]
  },
  {
   "cell_type": "code",
   "execution_count": 16,
   "metadata": { "trusted": true, "editable": false, "deletable": false },
   "outputs": [
    {
     "name": "stdout",
     "output_type": "stream",
     "text": [
      "1.8800000000000001\n"
     ]
    }
   ],
   "source": [
    "print(mad)"
   ]
  },
  {
   "cell_type": "markdown",
   "metadata": { "trusted": true, "editable": false, "deletable": false },
   "source": [
    "### Varianz"
   ]
  },
  {
   "cell_type": "markdown",
   "metadata": { "trusted": true, "editable": false, "deletable": false },
   "source": [
    "$$ s^2 = \\frac{1}{n} \\sum_{i=1}^n{ (x_i - \\bar{x})^2 } $$"
   ]
  },
  {
   "cell_type": "code",
   "execution_count": 19,
   "metadata": { "trusted": true, "editable": false, "deletable": false },
   "outputs": [],
   "source": [
    "var = ((2 - mean)**2 + (10 - mean)**2 + (1 - mean)**2 + (5 - mean)**2 + (6 - mean)**2 + \n",
    "       (3 - mean)**2 + (3 - mean)**2 + (3 - mean)**2 + (2 - mean)**2 + (4 - mean)**2) / 10\n"
   ]
  },
  {
   "cell_type": "code",
   "execution_count": 20,
   "metadata": { "trusted": true, "editable": false, "deletable": false },
   "outputs": [
    {
     "name": "stdout",
     "output_type": "stream",
     "text": [
      "6.09\n"
     ]
    }
   ],
   "source": [
    "print(var)"
   ]
  },
  {
   "cell_type": "markdown",
   "metadata": { "trusted": true, "editable": false, "deletable": false },
   "source": [
    "### Standardabweichung"
   ]
  },
  {
   "cell_type": "markdown",
   "metadata": { "trusted": true, "editable": false, "deletable": false },
   "source": [
    "$$ s = \\sqrt{s^2} $$"
   ]
  },
  {
   "cell_type": "markdown",
   "metadata": { "trusted": true, "editable": false, "deletable": false },
   "source": [
    "Bei der Standardabweichung wird die Wurzel aus der Varianz gezogen; hierfür benötigen wir bei der Umsetzung mit Python die oben importierte Bibliothek math und die Funktion sqrt."
   ]
  },
  {
   "cell_type": "code",
   "execution_count": 21,
   "metadata": { "trusted": true, "editable": false, "deletable": false },
   "outputs": [],
   "source": [
    "sd = math.sqrt(var)"
   ]
  },
  {
   "cell_type": "code",
   "execution_count": 22,
   "metadata": { "trusted": true, "editable": false, "deletable": false },
   "outputs": [
    {
     "name": "stdout",
     "output_type": "stream",
     "text": [
      "2.467792535850613\n"
     ]
    }
   ],
   "source": [
    "print(sd)"
   ]
  }
 ],
 "metadata": {
  "kernelspec": {
   "display_name": "Python 3",
   "language": "python",
   "name": "python3"
  },
  "language_info": {
   "codemirror_mode": {
    "name": "ipython",
    "version": 3
   },
   "file_extension": ".py",
   "mimetype": "text/x-python",
   "name": "python",
   "nbconvert_exporter": "python",
   "pygments_lexer": "ipython3",
   "version": "3.7.4"
  }
 },
 "nbformat": 4,
 "nbformat_minor": 2
}
