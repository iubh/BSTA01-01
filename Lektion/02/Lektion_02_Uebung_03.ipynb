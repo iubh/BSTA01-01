{
 "cells": [
  {
   "cell_type": "markdown",
   "metadata": {},
   "source": [
    "# Lektion 2 - Übung 3"
   ]
  },
  {
   "cell_type": "markdown",
   "metadata": {},
   "source": [
    "Import von Python-Bibliotheken und notwendiger Code für diverse Funktionen"
   ]
  },
  {
   "cell_type": "code",
   "execution_count": 1,
   "metadata": {},
   "outputs": [
    {
     "data": {
      "text/html": [
       "\n",
       "    <script>\n",
       "    function code_toggle() {\n",
       "        if ($('div.cell.code_cell.rendered.selected div.input').css('display')!='none'){\n",
       "            $('div.cell.code_cell.rendered.selected div.input').hide();\n",
       "        } else {\n",
       "            $('div.cell.code_cell.rendered.selected div.input').show();\n",
       "        }\n",
       "    }\n",
       "    </script>\n",
       "    <form action=\"javascript:code_toggle()\"><input type=\"submit\" id=\"toggleButton\" value=\"Code ein-/ausblenden\"></form>\n",
       "    "
      ],
      "text/plain": [
       "<IPython.core.display.HTML object>"
      ]
     },
     "metadata": {},
     "output_type": "display_data"
    }
   ],
   "source": [
    "import math\n",
    "import numpy as np\n",
    "import pandas as pd\n",
    "import matplotlib.pyplot as plt\n",
    "from IPython.display import HTML, display\n",
    "%matplotlib inline\n",
    "#%matplotlib notebook\n",
    "\n",
    "\n",
    "## Der folgende Code dient zur Implementierung der Funktionalität, damit Code ein- und ausgeblendet werden kann.\n",
    "def toggle_code():\n",
    "    toggle_code_js_html = '''\n",
    "    <script>\n",
    "    function code_toggle() {\n",
    "        if ($('div.cell.code_cell.rendered.selected div.input').css('display')!='none'){\n",
    "            $('div.cell.code_cell.rendered.selected div.input').hide();\n",
    "        } else {\n",
    "            $('div.cell.code_cell.rendered.selected div.input').show();\n",
    "        }\n",
    "    }\n",
    "    </script>\n",
    "    <form action=\"javascript:code_toggle()\"><input type=\"submit\" id=\"toggleButton\" value=\"Code ein-/ausblenden\"></form>\n",
    "    '''\n",
    "    display(HTML(toggle_code_js_html))\n",
    "\n",
    "    \n",
    "def haeufigkeitsverteilung(values):\n",
    "    \"\"\"Berechne ein Dictionary mit der Häufigkeitsverteilung für eine Liste von Beobachtungswerten.\n",
    "    \"\"\"\n",
    "    haeuf = {}\n",
    "    for i in values:\n",
    "        if i in haeuf:\n",
    "            haeuf[i] = haeuf[i] + 1\n",
    "        else:\n",
    "            haeuf[i] = 1\n",
    "    return haeuf\n",
    "\n",
    "\n",
    "toggle_code()"
   ]
  },
  {
   "cell_type": "markdown",
   "metadata": {},
   "source": [
    "# Aufgabentext"
   ]
  },
  {
   "cell_type": "markdown",
   "metadata": {},
   "source": [
    "In der letzten Statistikklausur gab es die folgende Punkteverteilung:\n",
    "\n",
    "* von 0 bis unter 25 Punkte: 50 Studierende\n",
    "* von 25 bis unter 50 Punkte: 90 Studierende\n",
    "* von 50 bis unter 75 Punkte: 170 Studierende\n",
    "*  von 75 bis unter 100 Punkte: 90 Studierende\n",
    "\n",
    "Veranschaulichen Sie die Häufigkeitsverteilung tabellarisch und grafisch. Wie viele Klausurteilnehmer erzielten weniger als 90 Punkte?  \n",
    "Hinweis: Es ist zur Beantwortung ausreichend, den ungefähren Wert aus einer geeigneten Abbildung abzulesen."
   ]
  },
  {
   "cell_type": "markdown",
   "metadata": {},
   "source": [
    "# Lösung"
   ]
  },
  {
   "cell_type": "markdown",
   "metadata": {},
   "source": [
    "### Tabellarische Darstellung der Häufigkeitsverteilung"
   ]
  },
  {
   "cell_type": "markdown",
   "metadata": {},
   "source": [
    "|Merkmal: Punkte               |j         |1      |2       |4       |5        |\n",
    "|---                           |---       |---    |---     |---     |---      |\n",
    "|                              |$$K_j$$   |[0; 25[|[25; 50[|[50; 75[|[75; 100]|\n",
    "|Klassenbreite                 |$$w_j$$   |25     |25      |25      |25       |\n",
    "|Klassenmitte                  |$$x^*_j$$ |12,50  |37,50   |62,50   |87,50    |\n",
    "|absolute Häufigkeit           |$$h(x_j)$$|50     |90      |170     |90       |\n",
    "|relative Häufigkeit           |$$f(x_j)$$|0,125  |0,225   |0,425   |0,225    |\n",
    "|kumulierte absolute Häufigkeit|$$H(x_j)$$|50     |140     |310     |400      |\n",
    "|kumulierte relative Häufigkeit|$$F(x_j)$$|0,125  |0,35    |0,775   |1,00     |"
   ]
  },
  {
   "cell_type": "markdown",
   "metadata": {},
   "source": [
    "Die Gesamtzahl n der Beobachtungswerte beträgt 400."
   ]
  },
  {
   "cell_type": "markdown",
   "metadata": {},
   "source": [
    "# Säulendiagramm"
   ]
  },
  {
   "cell_type": "code",
   "execution_count": 2,
   "metadata": {},
   "outputs": [
    {
     "data": {
      "image/png": "[encoded data removed]",
      "text/plain": [
       "<Figure size 1008x576 with 1 Axes>"
      ]
     },
     "metadata": {
      "needs_background": "light"
     },
     "output_type": "display_data"
    },
    {
     "data": {
      "text/html": [
       "\n",
       "    <script>\n",
       "    function code_toggle() {\n",
       "        if ($('div.cell.code_cell.rendered.selected div.input').css('display')!='none'){\n",
       "            $('div.cell.code_cell.rendered.selected div.input').hide();\n",
       "        } else {\n",
       "            $('div.cell.code_cell.rendered.selected div.input').show();\n",
       "        }\n",
       "    }\n",
       "    </script>\n",
       "    <form action=\"javascript:code_toggle()\"><input type=\"submit\" id=\"toggleButton\" value=\"Code ein-/ausblenden\"></form>\n",
       "    "
      ],
      "text/plain": [
       "<IPython.core.display.HTML object>"
      ]
     },
     "metadata": {},
     "output_type": "display_data"
    }
   ],
   "source": [
    "haeuf = {0: 0.125, 1: 0.225, 2: 0.425, 3: 0.225}\n",
    "xlabels = ['12,5', '37,5', '62,5', '87,5']\n",
    "x_values = list(haeuf.keys())\n",
    "y_values = list(haeuf.values())\n",
    "\n",
    "def autolabel(rects):\n",
    "    \"\"\"Attach a text label above each bar in *rects*, displaying its height.\"\"\"\n",
    "    for rect in rects:\n",
    "        height = rect.get_height()\n",
    "        ax.annotate('{}'.format(height),\n",
    "                    xy=(rect.get_x() + rect.get_width() / 2, height),\n",
    "                    xytext=(0, 3),  # 3 points vertical offset\n",
    "                    textcoords=\"offset points\",\n",
    "                    ha='center', va='bottom', size=14)\n",
    "\n",
    "fig, ax = plt.subplots(figsize=(14, 8))\n",
    "rects = ax.bar(x=x_values, height=y_values, width=0.6)\n",
    "ax.set_title('Häufigkeitsverteilung', size=16)\n",
    "ax.set_ylabel('relative Häufigkeit $f(x_j)$', size=14)\n",
    "\n",
    "#plt.xticks(x_values, xlabels)\n",
    "ax.set_xticks(x_values)\n",
    "ax.set_xticklabels(xlabels)\n",
    "\n",
    "ax.set_axisbelow(True)\n",
    "\n",
    "#plt.grid(True, axis='y')\n",
    "ax.grid(True, axis='y')\n",
    "\n",
    "#plt.ylim((0, 0.45))\n",
    "ax.set_ylim(0, 0.45)\n",
    "\n",
    "autolabel(rects)\n",
    "\n",
    "plt.show()\n",
    "toggle_code()"
   ]
  },
  {
   "cell_type": "markdown",
   "metadata": {},
   "source": [
    "# Verteilungsfunktion"
   ]
  },
  {
   "cell_type": "code",
   "execution_count": 3,
   "metadata": {},
   "outputs": [
    {
     "data": {
      "image/png": "[encoded data removed]",
      "text/plain": [
       "<Figure size 1008x576 with 1 Axes>"
      ]
     },
     "metadata": {
      "needs_background": "light"
     },
     "output_type": "display_data"
    },
    {
     "data": {
      "text/html": [
       "\n",
       "    <script>\n",
       "    function code_toggle() {\n",
       "        if ($('div.cell.code_cell.rendered.selected div.input').css('display')!='none'){\n",
       "            $('div.cell.code_cell.rendered.selected div.input').hide();\n",
       "        } else {\n",
       "            $('div.cell.code_cell.rendered.selected div.input').show();\n",
       "        }\n",
       "    }\n",
       "    </script>\n",
       "    <form action=\"javascript:code_toggle()\"><input type=\"submit\" id=\"toggleButton\" value=\"Code ein-/ausblenden\"></form>\n",
       "    "
      ],
      "text/plain": [
       "<IPython.core.display.HTML object>"
      ]
     },
     "metadata": {},
     "output_type": "display_data"
    }
   ],
   "source": [
    "x_values = [0, 1, 2, 3, 4]\n",
    "x_labels = [0, 25, 50, 75, 100]\n",
    "y_values = [0, 0.125, 0.35, 0.775, 1]\n",
    "\n",
    "fig, ax = plt.subplots(figsize=(14, 8))\n",
    "ax.plot(x_values, y_values)\n",
    "ax.plot(x_values, y_values, 'bo')\n",
    "#plt.title('Empirische Verteilungsfunktion', size=16)\n",
    "ax.set_title('Empirische Verteilungsfunktion', size=16)\n",
    "#plt.grid(True, axis='y')\n",
    "ax.grid(True, axis='y')\n",
    "#plt.xticks(x_values, x_labels)\n",
    "ax.set_xticks(x_values)\n",
    "ax.set_xticklabels(x_labels)\n",
    "\n",
    "## Wert neben Linie schreiben\n",
    "for x, y in zip(x_values, y_values):\n",
    "    ax.annotate(str(y), xy=(x, y - 0.04), size=14)\n",
    "\n",
    "major_ticks = np.arange(0, 1.1, 0.1)    \n",
    "ax.set_yticks(major_ticks)\n",
    "    \n",
    "plt.show()\n",
    "toggle_code()"
   ]
  }
 ],
 "metadata": {
  "kernelspec": {
   "display_name": "Python 3",
   "language": "python",
   "name": "python3"
  },
  "language_info": {
   "codemirror_mode": {
    "name": "ipython",
    "version": 3
   },
   "file_extension": ".py",
   "mimetype": "text/x-python",
   "name": "python",
   "nbconvert_exporter": "python",
   "pygments_lexer": "ipython3",
   "version": "3.7.4"
  }
 },
 "nbformat": 4,
 "nbformat_minor": 2
}
