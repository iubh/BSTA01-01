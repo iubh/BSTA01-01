{
 "cells": [
  {
   "cell_type": "markdown",
   "metadata": {
        "trusted": true,
        "editable": false,
        "deletable": false
   },
   "source": [
    "# Lektion 2 - Übung 1"
   ]
  },
  {
   "cell_type": "markdown",
   "metadata": { "trusted": true, "editable": false, "deletable": false },
   "source": [
    "Import von Python-Bibliotheken und notwendiger Code für diverse Funktionen"
   ]
  },
  {
   "cell_type": "code",
   "execution_count": 1,
   "metadata": { "trusted": true, "editable": false, "deletable": false },
   "outputs": [
    {
     "data": {
      "text/html": [
       "\n",
       "    <script>\n",
       "    function code_toggle() {\n",
       "        if ($('div.cell.code_cell.rendered.selected div.input').css('display')!='none'){\n",
       "            $('div.cell.code_cell.rendered.selected div.input').hide();\n",
       "        } else {\n",
       "            $('div.cell.code_cell.rendered.selected div.input').show();\n",
       "        }\n",
       "    }\n",
       "    </script>\n",
       "\n",
       "\n",
       "<form action=\"javascript:code_toggle()\"><input type=\"submit\" id=\"toggleButton\" value=\"Code ein-/ausblenden\"></form>\n"
      ],
      "text/plain": [
       "<IPython.core.display.HTML object>"
      ]
     },
     "metadata": { "trusted": true, "editable": false, "deletable": false },
     "output_type": "display_data"
    }
   ],
   "source": [
    "import math\n",
    "import pandas as pd\n",
    "\n",
    "## Der folgende Code dient zur Implementierung der Funktionalität, damit Code ein- und ausgeblendet werden kann.\n",
    "\n",
    "from IPython.display import HTML, display\n",
    "\n",
    "toggle_code_str = '''\n",
    "<form action=\"javascript:code_toggle()\"><input type=\"submit\" id=\"toggleButton\" value=\"Code ein-/ausblenden\"></form>\n",
    "'''\n",
    "\n",
    "toggle_code_prepare_str = '''\n",
    "    <script>\n",
    "    function code_toggle() {\n",
    "        if ($('div.cell.code_cell.rendered.selected div.input').css('display')!='none'){\n",
    "            $('div.cell.code_cell.rendered.selected div.input').hide();\n",
    "        } else {\n",
    "            $('div.cell.code_cell.rendered.selected div.input').show();\n",
    "        }\n",
    "    }\n",
    "    </script>\n",
    "\n",
    "'''\n",
    "\n",
    "display(HTML(toggle_code_prepare_str + toggle_code_str))\n",
    "\n",
    "def toggle_code():\n",
    "    display(HTML(toggle_code_str))"
   ]
  },
  {
   "cell_type": "markdown",
   "metadata": { "trusted": true, "editable": false, "deletable": false },
   "source": [
    "# Aufgabentext"
   ]
  },
  {
   "cell_type": "markdown",
   "metadata": { "trusted": true, "editable": false, "deletable": false },
   "source": [
    "In einer Mathearbeit, bei der maximal 10 Punkte erreicht werden konnten, haben 50\n",
    "Schüler teilgenommen. Die Beobachtungswerte sind:  \n",
    "\n",
    "0, 1, 1, 1, 2, 2, 2, 2, 3, 3, 4, 4, 4, 4, 4, 5, 5, 5, 5, 5, 5, 6, 6, 6, 6, 6, 6, 6, 6, 7, 7, 7, 7, 7, 7, 7, 7, 7, 7, 8, 8, 8, 8, 9, 9, 9, 9, 9, 10, 10.  \n",
    "\n",
    "Der Lehrer möchte das Ergebnis gerne statistisch auswerten. Sie können ihm\n",
    "bei dieser Aufgabe helfen, indem Sie das Ihnen bisher bekannte Instrumentarium\n",
    "anwenden. Hinweis: Es konnten nur ganze Punkte verteilt werden."
   ]
  },
  {
   "cell_type": "markdown",
   "metadata": { "trusted": true, "editable": false, "deletable": false },
   "source": [
    "# Lösung"
   ]
  },
  {
   "cell_type": "markdown",
   "metadata": { "trusted": true, "editable": false, "deletable": false },
   "source": [
    "In der Variante 1 berechnen wir die Ergebnisse, wie man sie z.B. auch in einem Taschenrechner berechnen könnte. Der Rechnungsweg wird explizit und ausführlich angegeben."
   ]
  },
  {
   "cell_type": "markdown",
   "metadata": { "trusted": true, "editable": false, "deletable": false },
   "source": [
    "### Mittelwert"
   ]
  },
  {
   "cell_type": "markdown",
   "metadata": { "trusted": true, "editable": false, "deletable": false },
   "source": [
    "$$ \\bar{x} = \\frac{1}{n} \\sum_{i=1}^n{x_i} $$"
   ]
  },
  {
   "cell_type": "markdown",
   "metadata": { "trusted": true, "editable": false, "deletable": false },
   "source": [
    "Für den Mittelwert muss die Summe der Einzelelemente der Rohdaten gebildet und diese dann durch die Anzahl der Elemente geteilt werden."
   ]
  },
  {
   "cell_type": "code",
   "execution_count": 2,
   "metadata": { "trusted": true, "editable": false, "deletable": false },
   "outputs": [],
   "source": [
    "xquer = (0 + 1 + 1 + 1 + 2 + 2 + 2 + 2 + 3 + 3 + 4 + 4 + 4 + 4 + 4 + 5 + 5 + 5 + 5 + 5 + 5 + 6 + 6 + 6 + \n",
    "         6 + 6 + 6 + 6 + 6 + 7 + 7 + 7 + 7 + 7 + 7 + 7 + 7 + 7 + 7 + 8 + 8 + 8 + 8 + 9 + 9 + 9 + 9 + 9 + 10 + 10) / 50"
   ]
  },
  {
   "cell_type": "code",
   "execution_count": 3,
   "metadata": { "trusted": true, "editable": false, "deletable": false },
   "outputs": [
    {
     "name": "stdout",
     "output_type": "stream",
     "text": [
      "5.64\n"
     ]
    }
   ],
   "source": [
    "print(xquer)"
   ]
  },
  {
   "cell_type": "markdown",
   "metadata": { "trusted": true, "editable": false, "deletable": false },
   "source": [
    "### Mittlere absolute Abweichung MAD"
   ]
  },
  {
   "cell_type": "markdown",
   "metadata": { "trusted": true, "editable": false, "deletable": false },
   "source": [
    "$$ MAD = \\frac{1}{n} \\sum_{i=1}^n{ \\mid x_i - \\bar{x} \\mid } $$"
   ]
  },
  {
   "cell_type": "markdown",
   "metadata": { "trusted": true, "editable": false, "deletable": false },
   "source": [
    "Bei der mittleren absoluten Abweichung wird von jedem Element der Mittelwert abgezogen und dann der Absolutwert genommen. Die Absolutwerte werden aufaddiert und dann durch die Anzahl der Elemente geteilt."
   ]
  },
  {
   "cell_type": "code",
   "execution_count": 4,
   "metadata": { "trusted": true, "editable": false, "deletable": false },
   "outputs": [],
   "source": [
    "mad = (abs(0 - xquer) + abs(1 - xquer) + abs(1 - xquer) + abs(1 - xquer) + abs(2 - xquer) + abs(2 - xquer) + \n",
    "       abs(2 - xquer) + abs(2 - xquer) + abs(3 - xquer) + abs(3 - xquer) + abs(4 - xquer) + abs(4 - xquer) + \n",
    "       abs(4 - xquer) + abs(4 - xquer) + abs(4 - xquer) + abs(5 - xquer) + abs(5 - xquer) + abs(5 - xquer) + \n",
    "       abs(5 - xquer) + abs(5 - xquer) + abs(5 - xquer) + abs(6 - xquer) + abs(6 - xquer) + abs(6 - xquer) + \n",
    "       abs(6 - xquer) + abs(6 - xquer) + abs(6 - xquer) + abs(6 - xquer) + abs(6 - xquer) + abs(7 - xquer) + \n",
    "       abs(7 - xquer) + abs(7 - xquer) + abs(7 - xquer) + abs(7 - xquer) + abs(7 - xquer) + abs(7 - xquer) + \n",
    "       abs(7 - xquer) + abs(7 - xquer) + abs(7 - xquer) + abs(8 - xquer) + abs(8 - xquer) + abs(8 - xquer) + \n",
    "       abs(8 - xquer) + abs(9 - xquer) + abs(9 - xquer) + abs(9 - xquer) + abs(9 - xquer) + abs(9 - xquer) + \n",
    "       abs(10 - xquer) + abs(10 - xquer)) / 50"
   ]
  },
  {
   "cell_type": "code",
   "execution_count": 5,
   "metadata": { "trusted": true, "editable": false, "deletable": false },
   "outputs": [
    {
     "name": "stdout",
     "output_type": "stream",
     "text": [
      "2.0576\n"
     ]
    }
   ],
   "source": [
    "print(mad)"
   ]
  },
  {
   "cell_type": "markdown",
   "metadata": { "trusted": true, "editable": false, "deletable": false },
   "source": [
    "### Varianz"
   ]
  },
  {
   "cell_type": "markdown",
   "metadata": { "trusted": true, "editable": false, "deletable": false },
   "source": [
    "$$ s^2 = \\frac{1}{n} \\sum_{i=1}^n{ (x_i - \\bar{x})^2 } $$"
   ]
  },
  {
   "cell_type": "markdown",
   "metadata": { "trusted": true, "editable": false, "deletable": false },
   "source": [
    "Die Varianz wird ähnlich berechnet wie die mittlere absolute Abweichung, allerdings wird nicht der Absolutwert der Differenz zwischen Einzelelement und Mittelwert genommen, sondern die Differenz wird quadriert. Die Summe der quadrierten Abweichungen wird dann wieder durch die Anzahl der Elemente geteilt."
   ]
  },
  {
   "cell_type": "code",
   "execution_count": 6,
   "metadata": { "trusted": true, "editable": false, "deletable": false },
   "outputs": [],
   "source": [
    "var = ((0 - xquer)**2 + (1 - xquer)**2 + (1 - xquer)**2 + (1 - xquer)**2 + (2 - xquer)**2 + (2 - xquer)**2 + \n",
    "       (2 - xquer)**2 + (2 - xquer)**2 + (3 - xquer)**2 + (3 - xquer)**2 + (4 - xquer)**2 + (4 - xquer)**2 + \n",
    "       (4 - xquer)**2 + (4 - xquer)**2 + (4 - xquer)**2 + (5 - xquer)**2 + (5 - xquer)**2 + (5 - xquer)**2 + \n",
    "       (5 - xquer)**2 + (5 - xquer)**2 + (5 - xquer)**2 + (6 - xquer)**2 + (6 - xquer)**2 + (6 - xquer)**2 + \n",
    "       (6 - xquer)**2 + (6 - xquer)**2 + (6 - xquer)**2 + (6 - xquer)**2 + (6 - xquer)**2 + (7 - xquer)**2 + \n",
    "       (7 - xquer)**2 + (7 - xquer)**2 + (7 - xquer)**2 + (7 - xquer)**2 + (7 - xquer)**2 + (7 - xquer)**2 + \n",
    "       (7 - xquer)**2 + (7 - xquer)**2 + (7 - xquer)**2 + (8 - xquer)**2 + (8 - xquer)**2 + (8 - xquer)**2 + \n",
    "       (8 - xquer)**2 + (9 - xquer)**2 + (9 - xquer)**2 + (9 - xquer)**2 + (9 - xquer)**2 + (9 - xquer)**2 + \n",
    "       (10 - xquer)**2 + (10 - xquer)**2) / 50"
   ]
  },
  {
   "cell_type": "code",
   "execution_count": 7,
   "metadata": { "trusted": true, "editable": false, "deletable": false },
   "outputs": [
    {
     "name": "stdout",
     "output_type": "stream",
     "text": [
      "6.310400000000005\n"
     ]
    }
   ],
   "source": [
    "print(var)"
   ]
  },
  {
   "cell_type": "markdown",
   "metadata": { "trusted": true, "editable": false, "deletable": false },
   "source": [
    "### Standardabweichung"
   ]
  },
  {
   "cell_type": "markdown",
   "metadata": { "trusted": true, "editable": false, "deletable": false },
   "source": [
    "$$ s = \\sqrt{s^2} $$"
   ]
  },
  {
   "cell_type": "markdown",
   "metadata": { "trusted": true, "editable": false, "deletable": false },
   "source": [
    "Bei der Standardabweichung wird die Wurzel aus der Varianz gezogen; hierfür benötigen wir bei der Umsetzung mit Python die oben importierte Bibliothek sqrt."
   ]
  },
  {
   "cell_type": "code",
   "execution_count": 8,
   "metadata": { "trusted": true, "editable": false, "deletable": false },
   "outputs": [],
   "source": [
    "sd = math.sqrt(var)"
   ]
  },
  {
   "cell_type": "code",
   "execution_count": 9,
   "metadata": { "trusted": true, "editable": false, "deletable": false },
   "outputs": [
    {
     "name": "stdout",
     "output_type": "stream",
     "text": [
      "2.512050954897214\n"
     ]
    }
   ],
   "source": [
    "print(sd)"
   ]
  },
  {
   "cell_type": "markdown",
   "metadata": { "trusted": true, "editable": false, "deletable": false },
   "source": [
    "### Berechnung / Darstellung über eine Tabelle"
   ]
  },
  {
   "cell_type": "code",
   "execution_count": 10,
   "metadata": { "trusted": true, "editable": false, "deletable": false },
   "outputs": [
    {
     "data": {
      "text/html": [
       "\n",
       "<form action=\"javascript:code_toggle()\"><input type=\"submit\" id=\"toggleButton\" value=\"Code ein-/ausblenden\"></form>\n"
      ],
      "text/plain": [
       "<IPython.core.display.HTML object>"
      ]
     },
     "metadata": { "trusted": true, "editable": false, "deletable": false },
     "output_type": "display_data"
    }
   ],
   "source": [
    "data = [0, \n",
    "        1, 1, 1, \n",
    "        2, 2, 2, 2, \n",
    "        3, 3, \n",
    "        4, 4, 4, 4, 4, \n",
    "        5, 5, 5, 5, 5, 5, \n",
    "        6, 6, 6, 6, 6, 6, 6, 6, \n",
    "        7, 7, 7, 7, 7, 7, 7, 7, 7, 7, \n",
    "        8, 8, 8, 8, \n",
    "        9, 9, 9, 9, 9,\n",
    "        10, 10]\n",
    "df_raw = pd.DataFrame()\n",
    "df_raw['x'] = data\n",
    "df_raw['x-xquer'] = df_raw['x'] - df_raw['x'].mean()\n",
    "df_raw['abs(x-xquer)'] = (df_raw['x'] - df_raw['x'].mean()).abs()\n",
    "df_raw['(x-xquer)**2'] = (df_raw['x'] - df_raw['x'].mean())**2\n",
    "df_raw.index = range(1, len(df_raw) + 1)\n",
    "s = df_raw.sum().round(4)\n",
    "s.name = 'SUMME'\n",
    "df_raw = df_raw.append(s)\n",
    "\n",
    "toggle_code()"
   ]
  },
  {
   "cell_type": "code",
   "execution_count": 11,
   "metadata": { "trusted": true, "editable": false, "deletable": false },
   "outputs": [
    {
     "data": {
      "text/html": [
       "<div>\n",
       "<style scoped>\n",
       "    .dataframe tbody tr th:only-of-type {\n",
       "        vertical-align: middle;\n",
       "    }\n",
       "\n",
       "    .dataframe tbody tr th {\n",
       "        vertical-align: top;\n",
       "    }\n",
       "\n",
       "    .dataframe thead th {\n",
       "        text-align: right;\n",
       "    }\n",
       "</style>\n",
       "<table border=\"1\" class=\"dataframe\">\n",
       "  <thead>\n",
       "    <tr style=\"text-align: right;\">\n",
       "      <th></th>\n",
       "      <th>x</th>\n",
       "      <th>x-xquer</th>\n",
       "      <th>abs(x-xquer)</th>\n",
       "      <th>(x-xquer)**2</th>\n",
       "    </tr>\n",
       "  </thead>\n",
       "  <tbody>\n",
       "    <tr>\n",
       "      <th>1</th>\n",
       "      <td>0.0</td>\n",
       "      <td>-5.64</td>\n",
       "      <td>5.64</td>\n",
       "      <td>31.8096</td>\n",
       "    </tr>\n",
       "    <tr>\n",
       "      <th>2</th>\n",
       "      <td>1.0</td>\n",
       "      <td>-4.64</td>\n",
       "      <td>4.64</td>\n",
       "      <td>21.5296</td>\n",
       "    </tr>\n",
       "    <tr>\n",
       "      <th>3</th>\n",
       "      <td>1.0</td>\n",
       "      <td>-4.64</td>\n",
       "      <td>4.64</td>\n",
       "      <td>21.5296</td>\n",
       "    </tr>\n",
       "    <tr>\n",
       "      <th>4</th>\n",
       "      <td>1.0</td>\n",
       "      <td>-4.64</td>\n",
       "      <td>4.64</td>\n",
       "      <td>21.5296</td>\n",
       "    </tr>\n",
       "    <tr>\n",
       "      <th>5</th>\n",
       "      <td>2.0</td>\n",
       "      <td>-3.64</td>\n",
       "      <td>3.64</td>\n",
       "      <td>13.2496</td>\n",
       "    </tr>\n",
       "    <tr>\n",
       "      <th>6</th>\n",
       "      <td>2.0</td>\n",
       "      <td>-3.64</td>\n",
       "      <td>3.64</td>\n",
       "      <td>13.2496</td>\n",
       "    </tr>\n",
       "    <tr>\n",
       "      <th>7</th>\n",
       "      <td>2.0</td>\n",
       "      <td>-3.64</td>\n",
       "      <td>3.64</td>\n",
       "      <td>13.2496</td>\n",
       "    </tr>\n",
       "    <tr>\n",
       "      <th>8</th>\n",
       "      <td>2.0</td>\n",
       "      <td>-3.64</td>\n",
       "      <td>3.64</td>\n",
       "      <td>13.2496</td>\n",
       "    </tr>\n",
       "    <tr>\n",
       "      <th>9</th>\n",
       "      <td>3.0</td>\n",
       "      <td>-2.64</td>\n",
       "      <td>2.64</td>\n",
       "      <td>6.9696</td>\n",
       "    </tr>\n",
       "    <tr>\n",
       "      <th>10</th>\n",
       "      <td>3.0</td>\n",
       "      <td>-2.64</td>\n",
       "      <td>2.64</td>\n",
       "      <td>6.9696</td>\n",
       "    </tr>\n",
       "    <tr>\n",
       "      <th>11</th>\n",
       "      <td>4.0</td>\n",
       "      <td>-1.64</td>\n",
       "      <td>1.64</td>\n",
       "      <td>2.6896</td>\n",
       "    </tr>\n",
       "    <tr>\n",
       "      <th>12</th>\n",
       "      <td>4.0</td>\n",
       "      <td>-1.64</td>\n",
       "      <td>1.64</td>\n",
       "      <td>2.6896</td>\n",
       "    </tr>\n",
       "    <tr>\n",
       "      <th>13</th>\n",
       "      <td>4.0</td>\n",
       "      <td>-1.64</td>\n",
       "      <td>1.64</td>\n",
       "      <td>2.6896</td>\n",
       "    </tr>\n",
       "    <tr>\n",
       "      <th>14</th>\n",
       "      <td>4.0</td>\n",
       "      <td>-1.64</td>\n",
       "      <td>1.64</td>\n",
       "      <td>2.6896</td>\n",
       "    </tr>\n",
       "    <tr>\n",
       "      <th>15</th>\n",
       "      <td>4.0</td>\n",
       "      <td>-1.64</td>\n",
       "      <td>1.64</td>\n",
       "      <td>2.6896</td>\n",
       "    </tr>\n",
       "    <tr>\n",
       "      <th>16</th>\n",
       "      <td>5.0</td>\n",
       "      <td>-0.64</td>\n",
       "      <td>0.64</td>\n",
       "      <td>0.4096</td>\n",
       "    </tr>\n",
       "    <tr>\n",
       "      <th>17</th>\n",
       "      <td>5.0</td>\n",
       "      <td>-0.64</td>\n",
       "      <td>0.64</td>\n",
       "      <td>0.4096</td>\n",
       "    </tr>\n",
       "    <tr>\n",
       "      <th>18</th>\n",
       "      <td>5.0</td>\n",
       "      <td>-0.64</td>\n",
       "      <td>0.64</td>\n",
       "      <td>0.4096</td>\n",
       "    </tr>\n",
       "    <tr>\n",
       "      <th>19</th>\n",
       "      <td>5.0</td>\n",
       "      <td>-0.64</td>\n",
       "      <td>0.64</td>\n",
       "      <td>0.4096</td>\n",
       "    </tr>\n",
       "    <tr>\n",
       "      <th>20</th>\n",
       "      <td>5.0</td>\n",
       "      <td>-0.64</td>\n",
       "      <td>0.64</td>\n",
       "      <td>0.4096</td>\n",
       "    </tr>\n",
       "    <tr>\n",
       "      <th>21</th>\n",
       "      <td>5.0</td>\n",
       "      <td>-0.64</td>\n",
       "      <td>0.64</td>\n",
       "      <td>0.4096</td>\n",
       "    </tr>\n",
       "    <tr>\n",
       "      <th>22</th>\n",
       "      <td>6.0</td>\n",
       "      <td>0.36</td>\n",
       "      <td>0.36</td>\n",
       "      <td>0.1296</td>\n",
       "    </tr>\n",
       "    <tr>\n",
       "      <th>23</th>\n",
       "      <td>6.0</td>\n",
       "      <td>0.36</td>\n",
       "      <td>0.36</td>\n",
       "      <td>0.1296</td>\n",
       "    </tr>\n",
       "    <tr>\n",
       "      <th>24</th>\n",
       "      <td>6.0</td>\n",
       "      <td>0.36</td>\n",
       "      <td>0.36</td>\n",
       "      <td>0.1296</td>\n",
       "    </tr>\n",
       "    <tr>\n",
       "      <th>25</th>\n",
       "      <td>6.0</td>\n",
       "      <td>0.36</td>\n",
       "      <td>0.36</td>\n",
       "      <td>0.1296</td>\n",
       "    </tr>\n",
       "    <tr>\n",
       "      <th>26</th>\n",
       "      <td>6.0</td>\n",
       "      <td>0.36</td>\n",
       "      <td>0.36</td>\n",
       "      <td>0.1296</td>\n",
       "    </tr>\n",
       "    <tr>\n",
       "      <th>27</th>\n",
       "      <td>6.0</td>\n",
       "      <td>0.36</td>\n",
       "      <td>0.36</td>\n",
       "      <td>0.1296</td>\n",
       "    </tr>\n",
       "    <tr>\n",
       "      <th>28</th>\n",
       "      <td>6.0</td>\n",
       "      <td>0.36</td>\n",
       "      <td>0.36</td>\n",
       "      <td>0.1296</td>\n",
       "    </tr>\n",
       "    <tr>\n",
       "      <th>29</th>\n",
       "      <td>6.0</td>\n",
       "      <td>0.36</td>\n",
       "      <td>0.36</td>\n",
       "      <td>0.1296</td>\n",
       "    </tr>\n",
       "    <tr>\n",
       "      <th>30</th>\n",
       "      <td>7.0</td>\n",
       "      <td>1.36</td>\n",
       "      <td>1.36</td>\n",
       "      <td>1.8496</td>\n",
       "    </tr>\n",
       "    <tr>\n",
       "      <th>31</th>\n",
       "      <td>7.0</td>\n",
       "      <td>1.36</td>\n",
       "      <td>1.36</td>\n",
       "      <td>1.8496</td>\n",
       "    </tr>\n",
       "    <tr>\n",
       "      <th>32</th>\n",
       "      <td>7.0</td>\n",
       "      <td>1.36</td>\n",
       "      <td>1.36</td>\n",
       "      <td>1.8496</td>\n",
       "    </tr>\n",
       "    <tr>\n",
       "      <th>33</th>\n",
       "      <td>7.0</td>\n",
       "      <td>1.36</td>\n",
       "      <td>1.36</td>\n",
       "      <td>1.8496</td>\n",
       "    </tr>\n",
       "    <tr>\n",
       "      <th>34</th>\n",
       "      <td>7.0</td>\n",
       "      <td>1.36</td>\n",
       "      <td>1.36</td>\n",
       "      <td>1.8496</td>\n",
       "    </tr>\n",
       "    <tr>\n",
       "      <th>35</th>\n",
       "      <td>7.0</td>\n",
       "      <td>1.36</td>\n",
       "      <td>1.36</td>\n",
       "      <td>1.8496</td>\n",
       "    </tr>\n",
       "    <tr>\n",
       "      <th>36</th>\n",
       "      <td>7.0</td>\n",
       "      <td>1.36</td>\n",
       "      <td>1.36</td>\n",
       "      <td>1.8496</td>\n",
       "    </tr>\n",
       "    <tr>\n",
       "      <th>37</th>\n",
       "      <td>7.0</td>\n",
       "      <td>1.36</td>\n",
       "      <td>1.36</td>\n",
       "      <td>1.8496</td>\n",
       "    </tr>\n",
       "    <tr>\n",
       "      <th>38</th>\n",
       "      <td>7.0</td>\n",
       "      <td>1.36</td>\n",
       "      <td>1.36</td>\n",
       "      <td>1.8496</td>\n",
       "    </tr>\n",
       "    <tr>\n",
       "      <th>39</th>\n",
       "      <td>7.0</td>\n",
       "      <td>1.36</td>\n",
       "      <td>1.36</td>\n",
       "      <td>1.8496</td>\n",
       "    </tr>\n",
       "    <tr>\n",
       "      <th>40</th>\n",
       "      <td>8.0</td>\n",
       "      <td>2.36</td>\n",
       "      <td>2.36</td>\n",
       "      <td>5.5696</td>\n",
       "    </tr>\n",
       "    <tr>\n",
       "      <th>41</th>\n",
       "      <td>8.0</td>\n",
       "      <td>2.36</td>\n",
       "      <td>2.36</td>\n",
       "      <td>5.5696</td>\n",
       "    </tr>\n",
       "    <tr>\n",
       "      <th>42</th>\n",
       "      <td>8.0</td>\n",
       "      <td>2.36</td>\n",
       "      <td>2.36</td>\n",
       "      <td>5.5696</td>\n",
       "    </tr>\n",
       "    <tr>\n",
       "      <th>43</th>\n",
       "      <td>8.0</td>\n",
       "      <td>2.36</td>\n",
       "      <td>2.36</td>\n",
       "      <td>5.5696</td>\n",
       "    </tr>\n",
       "    <tr>\n",
       "      <th>44</th>\n",
       "      <td>9.0</td>\n",
       "      <td>3.36</td>\n",
       "      <td>3.36</td>\n",
       "      <td>11.2896</td>\n",
       "    </tr>\n",
       "    <tr>\n",
       "      <th>45</th>\n",
       "      <td>9.0</td>\n",
       "      <td>3.36</td>\n",
       "      <td>3.36</td>\n",
       "      <td>11.2896</td>\n",
       "    </tr>\n",
       "    <tr>\n",
       "      <th>46</th>\n",
       "      <td>9.0</td>\n",
       "      <td>3.36</td>\n",
       "      <td>3.36</td>\n",
       "      <td>11.2896</td>\n",
       "    </tr>\n",
       "    <tr>\n",
       "      <th>47</th>\n",
       "      <td>9.0</td>\n",
       "      <td>3.36</td>\n",
       "      <td>3.36</td>\n",
       "      <td>11.2896</td>\n",
       "    </tr>\n",
       "    <tr>\n",
       "      <th>48</th>\n",
       "      <td>9.0</td>\n",
       "      <td>3.36</td>\n",
       "      <td>3.36</td>\n",
       "      <td>11.2896</td>\n",
       "    </tr>\n",
       "    <tr>\n",
       "      <th>49</th>\n",
       "      <td>10.0</td>\n",
       "      <td>4.36</td>\n",
       "      <td>4.36</td>\n",
       "      <td>19.0096</td>\n",
       "    </tr>\n",
       "    <tr>\n",
       "      <th>50</th>\n",
       "      <td>10.0</td>\n",
       "      <td>4.36</td>\n",
       "      <td>4.36</td>\n",
       "      <td>19.0096</td>\n",
       "    </tr>\n",
       "    <tr>\n",
       "      <th>SUMME</th>\n",
       "      <td>282.0</td>\n",
       "      <td>-0.00</td>\n",
       "      <td>102.88</td>\n",
       "      <td>315.5200</td>\n",
       "    </tr>\n",
       "  </tbody>\n",
       "</table>\n",
       "</div>"
      ],
      "text/plain": [
       "           x  x-xquer  abs(x-xquer)  (x-xquer)**2\n",
       "1        0.0    -5.64          5.64       31.8096\n",
       "2        1.0    -4.64          4.64       21.5296\n",
       "3        1.0    -4.64          4.64       21.5296\n",
       "4        1.0    -4.64          4.64       21.5296\n",
       "5        2.0    -3.64          3.64       13.2496\n",
       "6        2.0    -3.64          3.64       13.2496\n",
       "7        2.0    -3.64          3.64       13.2496\n",
       "8        2.0    -3.64          3.64       13.2496\n",
       "9        3.0    -2.64          2.64        6.9696\n",
       "10       3.0    -2.64          2.64        6.9696\n",
       "11       4.0    -1.64          1.64        2.6896\n",
       "12       4.0    -1.64          1.64        2.6896\n",
       "13       4.0    -1.64          1.64        2.6896\n",
       "14       4.0    -1.64          1.64        2.6896\n",
       "15       4.0    -1.64          1.64        2.6896\n",
       "16       5.0    -0.64          0.64        0.4096\n",
       "17       5.0    -0.64          0.64        0.4096\n",
       "18       5.0    -0.64          0.64        0.4096\n",
       "19       5.0    -0.64          0.64        0.4096\n",
       "20       5.0    -0.64          0.64        0.4096\n",
       "21       5.0    -0.64          0.64        0.4096\n",
       "22       6.0     0.36          0.36        0.1296\n",
       "23       6.0     0.36          0.36        0.1296\n",
       "24       6.0     0.36          0.36        0.1296\n",
       "25       6.0     0.36          0.36        0.1296\n",
       "26       6.0     0.36          0.36        0.1296\n",
       "27       6.0     0.36          0.36        0.1296\n",
       "28       6.0     0.36          0.36        0.1296\n",
       "29       6.0     0.36          0.36        0.1296\n",
       "30       7.0     1.36          1.36        1.8496\n",
       "31       7.0     1.36          1.36        1.8496\n",
       "32       7.0     1.36          1.36        1.8496\n",
       "33       7.0     1.36          1.36        1.8496\n",
       "34       7.0     1.36          1.36        1.8496\n",
       "35       7.0     1.36          1.36        1.8496\n",
       "36       7.0     1.36          1.36        1.8496\n",
       "37       7.0     1.36          1.36        1.8496\n",
       "38       7.0     1.36          1.36        1.8496\n",
       "39       7.0     1.36          1.36        1.8496\n",
       "40       8.0     2.36          2.36        5.5696\n",
       "41       8.0     2.36          2.36        5.5696\n",
       "42       8.0     2.36          2.36        5.5696\n",
       "43       8.0     2.36          2.36        5.5696\n",
       "44       9.0     3.36          3.36       11.2896\n",
       "45       9.0     3.36          3.36       11.2896\n",
       "46       9.0     3.36          3.36       11.2896\n",
       "47       9.0     3.36          3.36       11.2896\n",
       "48       9.0     3.36          3.36       11.2896\n",
       "49      10.0     4.36          4.36       19.0096\n",
       "50      10.0     4.36          4.36       19.0096\n",
       "SUMME  282.0    -0.00        102.88      315.5200"
      ]
     },
     "execution_count": 11,
     "metadata": { "trusted": true, "editable": false, "deletable": false },
     "output_type": "execute_result"
    }
   ],
   "source": [
    "df_raw"
   ]
  },
  {
   "cell_type": "code",
   "execution_count": 12,
   "metadata": { "trusted": true, "editable": false, "deletable": false },
   "outputs": [
    {
     "data": {
      "text/plain": [
       "5.64"
      ]
     },
     "execution_count": 12,
     "metadata": { "trusted": true, "editable": false, "deletable": false },
     "output_type": "execute_result"
    }
   ],
   "source": [
    "## Berechnung Mittelwert\n",
    "282 / 50"
   ]
  },
  {
   "cell_type": "code",
   "execution_count": 13,
   "metadata": { "trusted": true, "editable": false, "deletable": false },
   "outputs": [
    {
     "data": {
      "text/plain": [
       "2.0576"
      ]
     },
     "execution_count": 13,
     "metadata": { "trusted": true, "editable": false, "deletable": false },
     "output_type": "execute_result"
    }
   ],
   "source": [
    "## Berechnung MAD\n",
    "102.88 / 50"
   ]
  },
  {
   "cell_type": "code",
   "execution_count": 14,
   "metadata": { "trusted": true, "editable": false, "deletable": false },
   "outputs": [
    {
     "data": {
      "text/plain": [
       "6.3104"
      ]
     },
     "execution_count": 14,
     "metadata": { "trusted": true, "editable": false, "deletable": false },
     "output_type": "execute_result"
    }
   ],
   "source": [
    "## Berechnung Varianz\n",
    "315.52 / 50"
   ]
  },
  {
   "cell_type": "code",
   "execution_count": 15,
   "metadata": { "trusted": true, "editable": false, "deletable": false },
   "outputs": [
    {
     "data": {
      "text/plain": [
       "2.512050954897213"
      ]
     },
     "execution_count": 15,
     "metadata": { "trusted": true, "editable": false, "deletable": false },
     "output_type": "execute_result"
    }
   ],
   "source": [
    "## Berechnung Standardabweichung\n",
    "math.sqrt(315.52 / 50)"
   ]
  },
  {
   "cell_type": "markdown",
   "metadata": { "trusted": true, "editable": false, "deletable": false },
   "source": [
    "### Die Häufigkeitsverteilung unserer Rohdaten"
   ]
  },
  {
   "cell_type": "markdown",
   "metadata": { "trusted": true, "editable": false, "deletable": false },
   "source": [
    "Zur Berechnung der Häufigkeitsverteilung wird das Auftreten jedes Elements gezählt. In unseren Rohdaten kommen die Werte 0 bis 10 vor, jeweils mit den folgenden Häufigkeiten:  \n",
    "\n",
    "|Wert|Häufigkeit|\n",
    "|----|----------|\n",
    "|0|1|\n",
    "|1|3|\n",
    "|2|4|\n",
    "|3|2|\n",
    "|4|5|\n",
    "|5|6|\n",
    "|6|8|\n",
    "|7|10|\n",
    "|8|4|\n",
    "|9|5|\n",
    "|10|2|\n",
    "\n",
    "Summieren wir die Einzelhäufigkeiten auf, so erhalten wir wieder die Anzahl der Elemente bzw. Beobachtungen in den Rohdaten:"
   ]
  },
  {
   "cell_type": "code",
   "execution_count": 16,
   "metadata": { "trusted": true, "editable": false, "deletable": false },
   "outputs": [
    {
     "data": {
      "text/plain": [
       "50"
      ]
     },
     "execution_count": 16,
     "metadata": { "trusted": true, "editable": false, "deletable": false },
     "output_type": "execute_result"
    }
   ],
   "source": [
    "1 + 3 + 4 + 2 + 5+ 6 + 8 + 10 + 4 + 5 + 2"
   ]
  },
  {
   "cell_type": "markdown",
   "metadata": { "trusted": true, "editable": false, "deletable": false },
   "source": [
    "### Mittelwert aus einer Häufigkeitsverteilung"
   ]
  },
  {
   "cell_type": "markdown",
   "metadata": { "trusted": true, "editable": false, "deletable": false },
   "source": [
    "$$ \\bar{x} = \\frac{1}{n} \\sum_{j = 1}^m{ h(x_j)x_j } $$"
   ]
  },
  {
   "cell_type": "markdown",
   "metadata": { "trusted": true, "editable": false, "deletable": false },
   "source": [
    "Um den Mittelwert aus einer Häufigkeitsverteilung zu berechnen, multiplizieren wir jede auftretende Ausprägung (in unserem Beispiel: die Werte 0 bis 10) mit der zugehörigen Häufigkeit und bilden über diese Produkte die Summe; diese teilen wir dann durch die Anzahl der Beobachtungen."
   ]
  },
  {
   "cell_type": "code",
   "execution_count": 17,
   "metadata": { "trusted": true, "editable": false, "deletable": false },
   "outputs": [],
   "source": [
    "xquer = ((0 * 1) + (1 * 3) + (2 * 4) + (3 * 2) + (4 * 5) + (5 * 6) + (6 * 8) + (7 * 10) + (8 * 4) + (9 * 5) + (10 * 2)) / 50"
   ]
  },
  {
   "cell_type": "code",
   "execution_count": 18,
   "metadata": { "trusted": true, "editable": false, "deletable": false },
   "outputs": [
    {
     "name": "stdout",
     "output_type": "stream",
     "text": [
      "5.64\n"
     ]
    }
   ],
   "source": [
    "print(xquer)"
   ]
  },
  {
   "cell_type": "markdown",
   "metadata": { "trusted": true, "editable": false, "deletable": false },
   "source": [
    "### Varianz aus einer Häufigkeitsverteilung"
   ]
  },
  {
   "cell_type": "markdown",
   "metadata": { "trusted": true, "editable": false, "deletable": false },
   "source": [
    "$$ s^2 = \\frac{1}{n} \\sum_{j = 1}^m{ h(x_j)(x_j - \\bar{x})^2 } $$"
   ]
  },
  {
   "cell_type": "markdown",
   "metadata": { "trusted": true, "editable": false, "deletable": false },
   "source": [
    "Für die Berechnung der Varianz aus einer Häufigkeitsverteilung subtrahieren wir von jeder möglichen Merkmalsausprägung den Mittelwert, quadrieren das Ergebnis und multiplizieren es mit der jeweiligen Häufigkeit der Ausprägung. Die Gesamtsumme teilen wir dann wieder durch die Anzahl der Beobachtungen."
   ]
  },
  {
   "cell_type": "code",
   "execution_count": 19,
   "metadata": { "trusted": true, "editable": false, "deletable": false },
   "outputs": [],
   "source": [
    "var = ((1 * (0 - xquer)**2) + (3 * (1 - xquer)**2) + (4 * (2 - xquer)**2) + (2 * (3 - xquer)**2) + \n",
    "       (5 * (4 - xquer)**2) + (6 * (5 - xquer)**2) + (8 * (6 - xquer)**2) + (10 * (7 - xquer)**2) + \n",
    "       (4 * (8 - xquer)**2) + (5 * (9 - xquer)**2) + (2 * (10 - xquer)**2)) / 50"
   ]
  },
  {
   "cell_type": "code",
   "execution_count": 20,
   "metadata": { "trusted": true, "editable": false, "deletable": false },
   "outputs": [
    {
     "name": "stdout",
     "output_type": "stream",
     "text": [
      "6.3104000000000005\n"
     ]
    }
   ],
   "source": [
    "print(var)"
   ]
  },
  {
   "cell_type": "markdown",
   "metadata": { "trusted": true, "editable": false, "deletable": false },
   "source": [
    "### Alternative Darstellung: Häufigkeitsverteilung in einer Tabelle"
   ]
  },
  {
   "cell_type": "code",
   "execution_count": 21,
   "metadata": { "trusted": true, "editable": false, "deletable": false },
   "outputs": [
    {
     "data": {
      "text/html": [
       "\n",
       "<form action=\"javascript:code_toggle()\"><input type=\"submit\" id=\"toggleButton\" value=\"Code ein-/ausblenden\"></form>\n"
      ],
      "text/plain": [
       "<IPython.core.display.HTML object>"
      ]
     },
     "metadata": { "trusted": true, "editable": false, "deletable": false },
     "output_type": "display_data"
    },
    {
     "data": {
      "text/html": [
       "<div>\n",
       "<style scoped>\n",
       "    .dataframe tbody tr th:only-of-type {\n",
       "        vertical-align: middle;\n",
       "    }\n",
       "\n",
       "    .dataframe tbody tr th {\n",
       "        vertical-align: top;\n",
       "    }\n",
       "\n",
       "    .dataframe thead th {\n",
       "        text-align: right;\n",
       "    }\n",
       "</style>\n",
       "<table border=\"1\" class=\"dataframe\">\n",
       "  <thead>\n",
       "    <tr style=\"text-align: right;\">\n",
       "      <th></th>\n",
       "      <th>x</th>\n",
       "      <th>h(x)</th>\n",
       "      <th>x*h(x)</th>\n",
       "      <th>xquer</th>\n",
       "      <th>(x-xquer)**2</th>\n",
       "      <th>h(x)*(x-xquer)**2</th>\n",
       "    </tr>\n",
       "  </thead>\n",
       "  <tbody>\n",
       "    <tr>\n",
       "      <th>0</th>\n",
       "      <td>0.0</td>\n",
       "      <td>1.0</td>\n",
       "      <td>0.0</td>\n",
       "      <td>5.64</td>\n",
       "      <td>31.8096</td>\n",
       "      <td>31.8096</td>\n",
       "    </tr>\n",
       "    <tr>\n",
       "      <th>1</th>\n",
       "      <td>1.0</td>\n",
       "      <td>3.0</td>\n",
       "      <td>3.0</td>\n",
       "      <td>5.64</td>\n",
       "      <td>21.5296</td>\n",
       "      <td>64.5888</td>\n",
       "    </tr>\n",
       "    <tr>\n",
       "      <th>2</th>\n",
       "      <td>2.0</td>\n",
       "      <td>4.0</td>\n",
       "      <td>8.0</td>\n",
       "      <td>5.64</td>\n",
       "      <td>13.2496</td>\n",
       "      <td>52.9984</td>\n",
       "    </tr>\n",
       "    <tr>\n",
       "      <th>3</th>\n",
       "      <td>3.0</td>\n",
       "      <td>2.0</td>\n",
       "      <td>6.0</td>\n",
       "      <td>5.64</td>\n",
       "      <td>6.9696</td>\n",
       "      <td>13.9392</td>\n",
       "    </tr>\n",
       "    <tr>\n",
       "      <th>4</th>\n",
       "      <td>4.0</td>\n",
       "      <td>5.0</td>\n",
       "      <td>20.0</td>\n",
       "      <td>5.64</td>\n",
       "      <td>2.6896</td>\n",
       "      <td>13.4480</td>\n",
       "    </tr>\n",
       "    <tr>\n",
       "      <th>5</th>\n",
       "      <td>5.0</td>\n",
       "      <td>6.0</td>\n",
       "      <td>30.0</td>\n",
       "      <td>5.64</td>\n",
       "      <td>0.4096</td>\n",
       "      <td>2.4576</td>\n",
       "    </tr>\n",
       "    <tr>\n",
       "      <th>6</th>\n",
       "      <td>6.0</td>\n",
       "      <td>8.0</td>\n",
       "      <td>48.0</td>\n",
       "      <td>5.64</td>\n",
       "      <td>0.1296</td>\n",
       "      <td>1.0368</td>\n",
       "    </tr>\n",
       "    <tr>\n",
       "      <th>7</th>\n",
       "      <td>7.0</td>\n",
       "      <td>10.0</td>\n",
       "      <td>70.0</td>\n",
       "      <td>5.64</td>\n",
       "      <td>1.8496</td>\n",
       "      <td>18.4960</td>\n",
       "    </tr>\n",
       "    <tr>\n",
       "      <th>8</th>\n",
       "      <td>8.0</td>\n",
       "      <td>4.0</td>\n",
       "      <td>32.0</td>\n",
       "      <td>5.64</td>\n",
       "      <td>5.5696</td>\n",
       "      <td>22.2784</td>\n",
       "    </tr>\n",
       "    <tr>\n",
       "      <th>9</th>\n",
       "      <td>9.0</td>\n",
       "      <td>5.0</td>\n",
       "      <td>45.0</td>\n",
       "      <td>5.64</td>\n",
       "      <td>11.2896</td>\n",
       "      <td>56.4480</td>\n",
       "    </tr>\n",
       "    <tr>\n",
       "      <th>10</th>\n",
       "      <td>10.0</td>\n",
       "      <td>2.0</td>\n",
       "      <td>20.0</td>\n",
       "      <td>5.64</td>\n",
       "      <td>19.0096</td>\n",
       "      <td>38.0192</td>\n",
       "    </tr>\n",
       "    <tr>\n",
       "      <th>SUMME</th>\n",
       "      <td>55.0</td>\n",
       "      <td>50.0</td>\n",
       "      <td>282.0</td>\n",
       "      <td>62.04</td>\n",
       "      <td>114.5056</td>\n",
       "      <td>315.5200</td>\n",
       "    </tr>\n",
       "  </tbody>\n",
       "</table>\n",
       "</div>"
      ],
      "text/plain": [
       "          x  h(x)  x*h(x)  xquer  (x-xquer)**2  h(x)*(x-xquer)**2\n",
       "0       0.0   1.0     0.0   5.64       31.8096            31.8096\n",
       "1       1.0   3.0     3.0   5.64       21.5296            64.5888\n",
       "2       2.0   4.0     8.0   5.64       13.2496            52.9984\n",
       "3       3.0   2.0     6.0   5.64        6.9696            13.9392\n",
       "4       4.0   5.0    20.0   5.64        2.6896            13.4480\n",
       "5       5.0   6.0    30.0   5.64        0.4096             2.4576\n",
       "6       6.0   8.0    48.0   5.64        0.1296             1.0368\n",
       "7       7.0  10.0    70.0   5.64        1.8496            18.4960\n",
       "8       8.0   4.0    32.0   5.64        5.5696            22.2784\n",
       "9       9.0   5.0    45.0   5.64       11.2896            56.4480\n",
       "10     10.0   2.0    20.0   5.64       19.0096            38.0192\n",
       "SUMME  55.0  50.0   282.0  62.04      114.5056           315.5200"
      ]
     },
     "execution_count": 21,
     "metadata": { "trusted": true, "editable": false, "deletable": false },
     "output_type": "execute_result"
    }
   ],
   "source": [
    "df_h = pd.DataFrame()\n",
    "df_h['x'] = list(range(0, 11))\n",
    "df_h['h(x)'] = [1, 3, 4, 2, 5, 6, 8, 10, 4, 5, 2]\n",
    "df_h['x*h(x)'] = df_h['x'] * df_h['h(x)']\n",
    "df_h['xquer'] = df_h['x*h(x)'].sum() / df_h['h(x)'].sum()\n",
    "df_h['(x-xquer)**2'] = (df_h['x'] - df_h['xquer'])**2\n",
    "df_h['h(x)*(x-xquer)**2'] = df_h['h(x)'] * df_h['(x-xquer)**2']\n",
    "\n",
    "s = df_h.sum().round(4)\n",
    "s.name = 'SUMME'\n",
    "df_h = df_h.append(s)\n",
    "\n",
    "toggle_code()\n",
    "df_h"
   ]
  },
  {
   "cell_type": "code",
   "execution_count": 22,
   "metadata": { "trusted": true, "editable": false, "deletable": false },
   "outputs": [
    {
     "data": {
      "text/plain": [
       "5.64"
      ]
     },
     "execution_count": 22,
     "metadata": { "trusted": true, "editable": false, "deletable": false },
     "output_type": "execute_result"
    }
   ],
   "source": [
    "## Mittelwert\n",
    "282 / 50"
   ]
  },
  {
   "cell_type": "code",
   "execution_count": 23,
   "metadata": { "trusted": true, "editable": false, "deletable": false },
   "outputs": [
    {
     "data": {
      "text/plain": [
       "6.3104"
      ]
     },
     "execution_count": 23,
     "metadata": { "trusted": true, "editable": false, "deletable": false },
     "output_type": "execute_result"
    }
   ],
   "source": [
    "## Varianz\n",
    "315.52 / 50"
   ]
  },
  {
   "cell_type": "markdown",
   "metadata": { "trusted": true, "editable": false, "deletable": false },
   "source": [
    "# Grafik"
   ]
  },
  {
   "cell_type": "markdown",
   "metadata": { "trusted": true, "editable": false, "deletable": false },
   "source": [
    "Für die Erstellung der Grafik benötigen wird die Bibliothek *matplotlib*."
   ]
  },
  {
   "cell_type": "code",
   "execution_count": 24,
   "metadata": { "trusted": true, "editable": false, "deletable": false },
   "outputs": [],
   "source": [
    "import matplotlib.pyplot as plt\n",
    "%matplotlib inline\n",
    "# %matplotlib notebook\n",
    "\n",
    "haeuf = {0: 1, 1: 3, 2: 4, 3: 2, 4: 5, 5: 6, 6: 8, 7: 10, 8: 4, 9: 5, 10: 2}"
   ]
  },
  {
   "cell_type": "markdown",
   "metadata": { "trusted": true, "editable": false, "deletable": false },
   "source": [
    "Wir bilden zwei Python-Listen x_values und y_values; x_values entspricht den einzelnen möglichen Merkmalsausprägungen (x-Achse), y_values entspricht den jeweils beobachteten Häufigkeiten."
   ]
  },
  {
   "cell_type": "code",
   "execution_count": 25,
   "metadata": { "trusted": true, "editable": false, "deletable": false },
   "outputs": [
    {
     "data": {
      "text/plain": [
       "[0, 1, 2, 3, 4, 5, 6, 7, 8, 9, 10]"
      ]
     },
     "execution_count": 25,
     "metadata": { "trusted": true, "editable": false, "deletable": false },
     "output_type": "execute_result"
    }
   ],
   "source": [
    "x_values = list(haeuf.keys())\n",
    "x_values"
   ]
  },
  {
   "cell_type": "code",
   "execution_count": 26,
   "metadata": { "trusted": true, "editable": false, "deletable": false },
   "outputs": [
    {
     "data": {
      "text/plain": [
       "[1, 3, 4, 2, 5, 6, 8, 10, 4, 5, 2]"
      ]
     },
     "execution_count": 26,
     "metadata": { "trusted": true, "editable": false, "deletable": false },
     "output_type": "execute_result"
    }
   ],
   "source": [
    "y_values = list(haeuf.values())\n",
    "y_values"
   ]
  },
  {
   "cell_type": "markdown",
   "metadata": { "trusted": true, "editable": false, "deletable": false },
   "source": [
    "Mit diesen beiden Listen können wir schließlich ein Balkendiagramm erzeugen."
   ]
  },
  {
   "cell_type": "code",
   "execution_count": 27,
   "metadata": { "trusted": true, "editable": false, "deletable": false },
   "outputs": [
    {
     "data": {
      "image/png": "[encoded data removed]",
      "text/plain": [
       "<Figure size 1008x576 with 1 Axes>"
      ]
     },
     "metadata": {
      "needs_background": "light"
     },
     "output_type": "display_data"
    },
    {
     "data": {
      "text/html": [
       "\n",
       "<form action=\"javascript:code_toggle()\"><input type=\"submit\" id=\"toggleButton\" value=\"Code ein-/ausblenden\"></form>\n"
      ],
      "text/plain": [
       "<IPython.core.display.HTML object>"
      ]
     },
     "metadata": { "trusted": true, "editable": false, "deletable": false },
     "output_type": "display_data"
    }
   ],
   "source": [
    "plt.figure(figsize=(14, 8))\n",
    "plt.bar(x=x_values, height=y_values, width=0.6)\n",
    "plt.title('Häufigkeitsverteilung', size=16)\n",
    "plt.ylabel('absolute Häufigkeit $h(x_j)$', size=14)\n",
    "plt.xticks(x_values)\n",
    "plt.grid(True, axis='y')\n",
    "plt.ylim((0, 12))\n",
    "ax = plt.gca()\n",
    "ax.set_axisbelow(True)\n",
    "plt.show()\n",
    "\n",
    "toggle_code()"
   ]
  },
  {
   "cell_type": "markdown",
   "metadata": { "trusted": true, "editable": false, "deletable": false },
   "source": [
    "# Exkurs: Lösung durch Verwendung von Python"
   ]
  },
  {
   "cell_type": "markdown",
   "metadata": { "trusted": true, "editable": false, "deletable": false },
   "source": [
    "### Erstellung der Daten"
   ]
  },
  {
   "cell_type": "markdown",
   "metadata": { "trusted": true, "editable": false, "deletable": false },
   "source": [
    "Die Rohdaten speichern wir in Form einer Python-Liste."
   ]
  },
  {
   "cell_type": "code",
   "execution_count": 28,
   "metadata": { "trusted": true, "editable": false, "deletable": false },
   "outputs": [],
   "source": [
    "data = [0, \n",
    "        1, 1, 1, \n",
    "        2, 2, 2, 2, \n",
    "        3, 3, \n",
    "        4, 4, 4, 4, 4, \n",
    "        5, 5, 5, 5, 5, 5, \n",
    "        6, 6, 6, 6, 6, 6, 6, 6, \n",
    "        7, 7, 7, 7, 7, 7, 7, 7, 7, 7, \n",
    "        8, 8, 8, 8, \n",
    "        9, 9, 9, 9, 9,\n",
    "        10, 10]"
   ]
  },
  {
   "cell_type": "markdown",
   "metadata": { "trusted": true, "editable": false, "deletable": false },
   "source": [
    "### Mittelwert"
   ]
  },
  {
   "cell_type": "markdown",
   "metadata": { "trusted": true, "editable": false, "deletable": false },
   "source": [
    "$$ \\bar{x} = \\frac{1}{n} \\sum_{i=1}^n{x_i} $$"
   ]
  },
  {
   "cell_type": "markdown",
   "metadata": { "trusted": true, "editable": false, "deletable": false },
   "source": [
    "Die Länge einer Liste (d.h. in diesem Fall die Anzahl n der Beobachtungen) können wir mit der Funktion \"len\" ermitteln.  \n",
    "Die Summe der Werte einer Liste können wir mit der Funktion \"sum\" ermitteln."
   ]
  },
  {
   "cell_type": "code",
   "execution_count": 29,
   "metadata": { "trusted": true, "editable": false, "deletable": false },
   "outputs": [],
   "source": [
    "def mean(values):\n",
    "    \"\"\"Berechne den Mittelwert einer Liste von Beobachtungswerten.\n",
    "    \"\"\"\n",
    "    n = len(values)\n",
    "    sum_ = sum(values)\n",
    "    return 1 / n * sum_"
   ]
  },
  {
   "cell_type": "code",
   "execution_count": 30,
   "metadata": { "trusted": true, "editable": false, "deletable": false },
   "outputs": [
    {
     "name": "stdout",
     "output_type": "stream",
     "text": [
      "5.64\n"
     ]
    }
   ],
   "source": [
    "print(mean(data))"
   ]
  },
  {
   "cell_type": "markdown",
   "metadata": { "trusted": true, "editable": false, "deletable": false },
   "source": [
    "### Mittlere absolute Abweichung MAD"
   ]
  },
  {
   "cell_type": "markdown",
   "metadata": { "trusted": true, "editable": false, "deletable": false },
   "source": [
    "$$ MAD = \\frac{1}{n} \\sum_{i=1}^n{ \\mid x_i - \\bar{x} \\mid } $$"
   ]
  },
  {
   "cell_type": "markdown",
   "metadata": { "trusted": true, "editable": false, "deletable": false },
   "source": [
    "Zur Berechnung des Mittelwerts verwenden wird die oben definierte Funktion \"mean\".  \n",
    "Den Absolutwert berechnen wir mit der Built-In-Funktion \"abs\"."
   ]
  },
  {
   "cell_type": "code",
   "execution_count": 31,
   "metadata": { "trusted": true, "editable": false, "deletable": false },
   "outputs": [],
   "source": [
    "def mad(values):\n",
    "    \"\"\"Berechne die mittlere absolute Abweichung einer Liste von Beobachtungswerten.\n",
    "    \"\"\"\n",
    "    n = len(values)\n",
    "    x_quer = mean(values)\n",
    "    sum_ = sum([abs(i - x_quer) for i in values])\n",
    "    return 1 / n * sum_"
   ]
  },
  {
   "cell_type": "code",
   "execution_count": 32,
   "metadata": { "trusted": true, "editable": false, "deletable": false },
   "outputs": [
    {
     "data": {
      "text/plain": [
       "2.0576"
      ]
     },
     "execution_count": 32,
     "metadata": { "trusted": true, "editable": false, "deletable": false },
     "output_type": "execute_result"
    }
   ],
   "source": [
    "mad(data)"
   ]
  },
  {
   "cell_type": "markdown",
   "metadata": { "trusted": true, "editable": false, "deletable": false },
   "source": [
    "### Varianz"
   ]
  },
  {
   "cell_type": "markdown",
   "metadata": { "trusted": true, "editable": false, "deletable": false },
   "source": [
    "$$ s^2 = \\frac{1}{n} \\sum_{i=1}^n{ (x_i - \\bar{x})^2 } $$"
   ]
  },
  {
   "cell_type": "markdown",
   "metadata": { "trusted": true, "editable": false, "deletable": false },
   "source": [
    "Hier greifen wir ebenfalls auf die oben erstellte Funktion \"mean\" zurück."
   ]
  },
  {
   "cell_type": "code",
   "execution_count": 33,
   "metadata": { "trusted": true, "editable": false, "deletable": false },
   "outputs": [],
   "source": [
    "def var(values):\n",
    "    \"\"\"Berechne die Varianz einer Liste von Beobachtungswerten.\n",
    "    \"\"\"\n",
    "    n = len(values)\n",
    "    x_quer = mean(values)\n",
    "    sum_ = sum([(i - x_quer)**2 for i in values])\n",
    "    return 1 / n * sum_"
   ]
  },
  {
   "cell_type": "code",
   "execution_count": 34,
   "metadata": { "trusted": true, "editable": false, "deletable": false },
   "outputs": [
    {
     "data": {
      "text/plain": [
       "6.310400000000006"
      ]
     },
     "execution_count": 34,
     "metadata": { "trusted": true, "editable": false, "deletable": false },
     "output_type": "execute_result"
    }
   ],
   "source": [
    "var(data)"
   ]
  },
  {
   "cell_type": "markdown",
   "metadata": { "trusted": true, "editable": false, "deletable": false },
   "source": [
    "### Standardabweichung"
   ]
  },
  {
   "cell_type": "markdown",
   "metadata": { "trusted": true, "editable": false, "deletable": false },
   "source": [
    "$$ s = \\sqrt{s^2} $$"
   ]
  },
  {
   "cell_type": "markdown",
   "metadata": { "trusted": true, "editable": false, "deletable": false },
   "source": [
    "Für die Berechnung der Standardabweichung benötigen wir eine Wurzelfunktion \"sqrt\". Diese ist in der oben importierten Bibliothek \"math\" vorhanden. Die Varianz haben wir bereits definiert."
   ]
  },
  {
   "cell_type": "code",
   "execution_count": 35,
   "metadata": { "trusted": true, "editable": false, "deletable": false },
   "outputs": [],
   "source": [
    "def stdev(values):\n",
    "    \"\"\"Berechne die Standardabweichung einer Liste von Beobachtungswerten.\n",
    "    \"\"\"\n",
    "    s2 = var(values)\n",
    "    return math.sqrt(s2)"
   ]
  },
  {
   "cell_type": "code",
   "execution_count": 36,
   "metadata": { "trusted": true, "editable": false, "deletable": false },
   "outputs": [
    {
     "data": {
      "text/plain": [
       "2.512050954897214"
      ]
     },
     "execution_count": 36,
     "metadata": { "trusted": true, "editable": false, "deletable": false },
     "output_type": "execute_result"
    }
   ],
   "source": [
    "stdev(data)"
   ]
  },
  {
   "cell_type": "markdown",
   "metadata": { "trusted": true, "editable": false, "deletable": false },
   "source": [
    "### Berechnen der Häufigkeitsverteilung"
   ]
  },
  {
   "cell_type": "markdown",
   "metadata": { "trusted": true, "editable": false, "deletable": false },
   "source": [
    "Für die Berechnung der Häufigkeitsverteilung definieren wir eine Funktion, welche aus einer Liste von Werten ein Dictionary erzeugt, welches für jeden Wert in den Rohdaten die zugehörige Häufigkeit liefert."
   ]
  },
  {
   "cell_type": "code",
   "execution_count": 37,
   "metadata": { "trusted": true, "editable": false, "deletable": false },
   "outputs": [],
   "source": [
    "def haeufigkeitsverteilung(values):\n",
    "    \"\"\"Berechne ein Dictionary mit der Häufigkeitsverteilung für eine Liste von Beobachtungswerten.\n",
    "    \"\"\"\n",
    "    haeuf = {}\n",
    "    for i in values:\n",
    "        if i in haeuf:\n",
    "            haeuf[i] = haeuf[i] + 1\n",
    "        else:\n",
    "            haeuf[i] = 1\n",
    "    return haeuf"
   ]
  },
  {
   "cell_type": "code",
   "execution_count": 38,
   "metadata": { "trusted": true, "editable": false, "deletable": false },
   "outputs": [
    {
     "data": {
      "text/plain": [
       "{0: 1, 1: 3, 2: 4, 3: 2, 4: 5, 5: 6, 6: 8, 7: 10, 8: 4, 9: 5, 10: 2}"
      ]
     },
     "execution_count": 38,
     "metadata": { "trusted": true, "editable": false, "deletable": false },
     "output_type": "execute_result"
    }
   ],
   "source": [
    "haeuf = haeufigkeitsverteilung(data)\n",
    "haeuf"
   ]
  },
  {
   "cell_type": "markdown",
   "metadata": { "trusted": true, "editable": false, "deletable": false },
   "source": [
    "Die \"Schlüssel\" bzw. Werte der Häufigkeitsverteilung erhalten wir mit der Methode *keys*.\n",
    "Diese entsprechen den vorhanden Merkmalsausprägungen in unseren Rohdaten."
   ]
  },
  {
   "cell_type": "code",
   "execution_count": 39,
   "metadata": { "trusted": true, "editable": false, "deletable": false },
   "outputs": [
    {
     "data": {
      "text/plain": [
       "dict_keys([0, 1, 2, 3, 4, 5, 6, 7, 8, 9, 10])"
      ]
     },
     "execution_count": 39,
     "metadata": { "trusted": true, "editable": false, "deletable": false },
     "output_type": "execute_result"
    }
   ],
   "source": [
    "haeuf.keys()"
   ]
  },
  {
   "cell_type": "markdown",
   "metadata": { "trusted": true, "editable": false, "deletable": false },
   "source": [
    "Die Werte des Dictionaries - in unserem Fall entsprechen diese den beobachteten Häufigkeiten - erhalten wir mit der Methode *values*."
   ]
  },
  {
   "cell_type": "code",
   "execution_count": 40,
   "metadata": { "trusted": true, "editable": false, "deletable": false },
   "outputs": [
    {
     "data": {
      "text/plain": [
       "dict_values([1, 3, 4, 2, 5, 6, 8, 10, 4, 5, 2])"
      ]
     },
     "execution_count": 40,
     "metadata": { "trusted": true, "editable": false, "deletable": false },
     "output_type": "execute_result"
    }
   ],
   "source": [
    "haeuf.values()"
   ]
  },
  {
   "cell_type": "markdown",
   "metadata": { "trusted": true, "editable": false, "deletable": false },
   "source": [
    "Bei den Funktionen für die Berechnung der Ergebnisse aus einer Häufigkeitsverteilung hängen wir ein \"haeuf\" an, um diese von den Funktionen zu unterscheiden, welche direkt mit den Rohdaten bzw. einer Liste arbeiten."
   ]
  },
  {
   "cell_type": "markdown",
   "metadata": { "trusted": true, "editable": false, "deletable": false },
   "source": [
    "### Mittelwert"
   ]
  },
  {
   "cell_type": "markdown",
   "metadata": { "trusted": true, "editable": false, "deletable": false },
   "source": [
    "$$ \\bar{x} = \\frac{1}{n} \\sum_{j = 1}^m{ h(x_j)x_j } $$"
   ]
  },
  {
   "cell_type": "code",
   "execution_count": 41,
   "metadata": { "trusted": true, "editable": false, "deletable": false },
   "outputs": [],
   "source": [
    "def mean_haeuf(dhaeuf):\n",
    "    \"\"\"Berechne den Mittelwert aus einem Dictionary mit einer Häufigkeitsverteilung.\n",
    "    \"\"\"\n",
    "    n = sum(dhaeuf.values())\n",
    "    merkmale = dhaeuf.keys()\n",
    "    sum_ = sum([dhaeuf[i] * i for i in merkmale])\n",
    "    return 1 / n * sum_"
   ]
  },
  {
   "cell_type": "code",
   "execution_count": 42,
   "metadata": { "trusted": true, "editable": false, "deletable": false },
   "outputs": [
    {
     "data": {
      "text/plain": [
       "5.64"
      ]
     },
     "execution_count": 42,
     "metadata": { "trusted": true, "editable": false, "deletable": false },
     "output_type": "execute_result"
    }
   ],
   "source": [
    "mean_haeuf(haeufigkeitsverteilung(data))"
   ]
  },
  {
   "cell_type": "markdown",
   "metadata": { "trusted": true, "editable": false, "deletable": false },
   "source": [
    "### Varianz"
   ]
  },
  {
   "cell_type": "markdown",
   "metadata": { "trusted": true, "editable": false, "deletable": false },
   "source": [
    "$$ s^2 = \\frac{1}{n} \\sum_{j = 1}^m{ h(x_j)(x_j - \\bar{x})^2 } $$"
   ]
  },
  {
   "cell_type": "code",
   "execution_count": 43,
   "metadata": { "trusted": true, "editable": false, "deletable": false },
   "outputs": [],
   "source": [
    "def var_haeuf(dhaeuf):\n",
    "    \"\"\"Berechne die Varianz aus einem Dictionary mit einer Häufigkeitsverteilung.\n",
    "    \"\"\"\n",
    "    n = sum(dhaeuf.values())\n",
    "    x_quer = mean_haeuf(dhaeuf)\n",
    "    merkmale = dhaeuf.keys()\n",
    "    sum_ = sum([dhaeuf[i] * ((i - x_quer)**2) for i in merkmale])\n",
    "    return 1 / n * sum_"
   ]
  },
  {
   "cell_type": "code",
   "execution_count": 44,
   "metadata": { "trusted": true, "editable": false, "deletable": false },
   "outputs": [
    {
     "data": {
      "text/plain": [
       "6.310400000000001"
      ]
     },
     "execution_count": 44,
     "metadata": { "trusted": true, "editable": false, "deletable": false },
     "output_type": "execute_result"
    }
   ],
   "source": [
    "var_haeuf(haeufigkeitsverteilung(data))"
   ]
  },
  {
   "cell_type": "markdown",
   "metadata": { "trusted": true, "editable": false, "deletable": false },
   "source": [
    "### Standardabweichung"
   ]
  },
  {
   "cell_type": "markdown",
   "metadata": { "trusted": true, "editable": false, "deletable": false },
   "source": [
    "$$ s = \\sqrt{s^2} $$"
   ]
  },
  {
   "cell_type": "code",
   "execution_count": 45,
   "metadata": { "trusted": true, "editable": false, "deletable": false },
   "outputs": [],
   "source": [
    "def stdev_haeuf(dhaeuf):\n",
    "    \"\"\"Berechne die Standardabweichung aus einem Dictionary mit einer Häufigkeitsverteilung.\n",
    "    \"\"\"\n",
    "    s2 = var_haeuf(dhaeuf)\n",
    "    return math.sqrt(s2)"
   ]
  },
  {
   "cell_type": "code",
   "execution_count": 46,
   "metadata": { "trusted": true, "editable": false, "deletable": false },
   "outputs": [
    {
     "data": {
      "text/plain": [
       "2.512050954897213"
      ]
     },
     "execution_count": 46,
     "metadata": { "trusted": true, "editable": false, "deletable": false },
     "output_type": "execute_result"
    }
   ],
   "source": [
    "stdev_haeuf(haeufigkeitsverteilung(data))"
   ]
  },
  {
   "cell_type": "markdown",
   "metadata": {},
   "source": [
    "Copyright © 2020 IUBH Internationale Hochschule"
   ]
  }
 ],
 "metadata": {
  "kernelspec": {
   "display_name": "Python 3",
   "language": "python",
   "name": "python3"
  },
  "language_info": {
   "codemirror_mode": {
    "name": "ipython",
    "version": 3
   },
   "file_extension": ".py",
   "mimetype": "text/x-python",
   "name": "python",
   "nbconvert_exporter": "python",
   "pygments_lexer": "ipython3",
   "version": "3.7.4"
  }
 },
 "nbformat": 4,
 "nbformat_minor": 2
}
