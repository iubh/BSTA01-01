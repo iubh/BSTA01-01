{
 "cells": [
  {
   "cell_type": "markdown",
   "metadata": {
        "trusted": true,
        "editable": false,
        "deletable": false
   },
   "source": [
    "# Lektion 2 - Übung 2"
   ]
  },
  {
   "cell_type": "code",
   "execution_count": 16,
   "metadata": { "trusted": true, "editable": false, "deletable": false },
   "outputs": [],
   "source": [
    "## Bibliothek für Berechnung der Wurzel\n",
    "import math"
   ]
  },
  {
   "cell_type": "markdown",
   "metadata": { "trusted": true, "editable": false, "deletable": false },
   "source": [
    "# Aufgabentext"
   ]
  },
  {
   "cell_type": "markdown",
   "metadata": { "trusted": true, "editable": false, "deletable": false },
   "source": [
    "Zur Qualitätskontrolle beauftragt Sie Ihr Vorgesetzter, 20 verpackte Zuckerpakete nachzuwiegen. Es ergeben sich folgende Werte (in g):  \n",
    "\n",
    "492, 497, 478, 482, 499, 512, 503, 511, 499, 504, 508, 496, 502, 500, 499, 500, 507, 502, 500, 499.  \n",
    "\n",
    "Nutzen Sie das Ihnen bisher bekannten Instrumentarium, um die Messwerte statistisch auszuwerten."
   ]
  },
  {
   "cell_type": "markdown",
   "metadata": { "trusted": true, "editable": false, "deletable": false },
   "source": [
    "# Lösung"
   ]
  },
  {
   "cell_type": "markdown",
   "metadata": { "trusted": true, "editable": false, "deletable": false },
   "source": [
    "## Berechnung / Darstellung über eine Tabelle"
   ]
  },
  {
   "cell_type": "markdown",
   "metadata": { "trusted": true, "editable": false, "deletable": false },
   "source": [
    "|i          |$$x_i$$|$$x_i - \\bar{x}$$|$$\\mid x_i - \\bar{x} \\mid$$|$$(x - \\bar{x})^2$$|\n",
    "|---        |---    |---              |---                        |---                |\n",
    "|1          |492    |-7,5             |7,5                        |56,25              |\n",
    "|2          |497    |-2,5             |2,5                        |6,25               |\n",
    "|3          |478    |-21,5            |21,5                       |462,25             |\n",
    "|4          |482    |-17,5            |17,5                       |306,25             |\n",
    "|5          |499    |-0,5             |0,5                        |0,25               |\n",
    "|6          |512    |12,5             |12,5                       |156,25             |\n",
    "|7          |503    |3,5              |3,5                        |12,25              |\n",
    "|8          |511    |11,5             |11,5                       |132,25             |\n",
    "|9          |499    |-0,5             |0,5                        |0,25               |\n",
    "|10         |504    |4,5              |4,5                        |20,25              |\n",
    "|11         |508    |8,5              |8,5                        |72,25              |\n",
    "|12         |496    |-3,5             |3,5                        |12,25              |\n",
    "|13         |502    |2,5              |2,5                        |6,25               |\n",
    "|14         |500    |0,5              |0,5                        |0,25               |\n",
    "|15         |499    |-0,5             |0,5                        |0,25               |\n",
    "|16         |500    |0,5              |0,5                        |0,25               |\n",
    "|17         |507    |7,5              |7,5                        |56,25              |\n",
    "|18         |502    |2,5              |2,5                        |6,25               |\n",
    "|19         |500    |0,5              |0,5                        |0,25               |\n",
    "|20         |499    |-0,5             |0,5                        |0,25               |\n",
    "|**SUMME**  |9990   |0                |109                        |1307               |\n",
    "|$$\\bar{x}$$|499,5  |                 |                           |                   |\n"
   ]
  },
  {
   "cell_type": "code",
   "execution_count": 12,
   "metadata": { "trusted": true, "editable": false, "deletable": false },
   "outputs": [
    {
     "data": {
      "text/plain": [
       "499.5"
      ]
     },
     "execution_count": 12,
     "metadata": { "trusted": true, "editable": false, "deletable": false },
     "output_type": "execute_result"
    }
   ],
   "source": [
    "## Berechnung Mittelwert\n",
    "9990 / 20"
   ]
  },
  {
   "cell_type": "code",
   "execution_count": 13,
   "metadata": { "trusted": true, "editable": false, "deletable": false },
   "outputs": [
    {
     "data": {
      "text/plain": [
       "5.45"
      ]
     },
     "execution_count": 13,
     "metadata": { "trusted": true, "editable": false, "deletable": false },
     "output_type": "execute_result"
    }
   ],
   "source": [
    "## Berechnung MAD\n",
    "109 / 20"
   ]
  },
  {
   "cell_type": "code",
   "execution_count": 14,
   "metadata": { "trusted": true, "editable": false, "deletable": false },
   "outputs": [
    {
     "data": {
      "text/plain": [
       "65.35"
      ]
     },
     "execution_count": 14,
     "metadata": { "trusted": true, "editable": false, "deletable": false },
     "output_type": "execute_result"
    }
   ],
   "source": [
    "## Berechnung Varianz\n",
    "1307 / 20"
   ]
  },
  {
   "cell_type": "code",
   "execution_count": 15,
   "metadata": { "trusted": true, "editable": false, "deletable": false },
   "outputs": [
    {
     "data": {
      "text/plain": [
       "8.083934685535256"
      ]
     },
     "execution_count": 15,
     "metadata": { "trusted": true, "editable": false, "deletable": false },
     "output_type": "execute_result"
    }
   ],
   "source": [
    "## Berechnung Standardabweichung\n",
    "math.sqrt(1307 / 20)"
   ]
  },
  {
   "cell_type": "markdown",
   "metadata": { "trusted": true, "editable": false, "deletable": false },
   "source": [
    "## Explizite Berechnung"
   ]
  },
  {
   "cell_type": "markdown",
   "metadata": { "trusted": true, "editable": false, "deletable": false },
   "source": [
    "### Mittelwert"
   ]
  },
  {
   "cell_type": "markdown",
   "metadata": { "trusted": true, "editable": false, "deletable": false },
   "source": [
    "$$ \\bar{x} = \\frac{1}{n} \\sum_{i=1}^n{x_i} $$"
   ]
  },
  {
   "cell_type": "markdown",
   "metadata": { "trusted": true, "editable": false, "deletable": false },
   "source": [
    "Für den Mittelwert muss die Summe der Einzelelemente der Rohdaten gebildet und diese dann durch die Anzahl der Elemente geteilt werden."
   ]
  },
  {
   "cell_type": "code",
   "execution_count": 2,
   "metadata": { "trusted": true, "editable": false, "deletable": false },
   "outputs": [],
   "source": [
    "xquer = (478 + 482 + 492 + 496 + 497 + 499 + 499 + 499 + 499 + 500 + 500 + \n",
    "         500 + 502 + 502 + 503 + 504 + 507 + 508 + 511 + 512) / 20"
   ]
  },
  {
   "cell_type": "code",
   "execution_count": 3,
   "metadata": { "trusted": true, "editable": false, "deletable": false },
   "outputs": [
    {
     "name": "stdout",
     "output_type": "stream",
     "text": [
      "499.5\n"
     ]
    }
   ],
   "source": [
    "print(xquer)"
   ]
  },
  {
   "cell_type": "markdown",
   "metadata": { "trusted": true, "editable": false, "deletable": false },
   "source": [
    "### Median"
   ]
  },
  {
   "cell_type": "markdown",
   "metadata": { "trusted": true, "editable": false, "deletable": false },
   "source": [
    "Da n = 20, berechnet sich der Median aus dem Mittelwert der Elemente an den Positionen n / 2 und n / 2 + 1 bzw. den Positionen 10 und 11."
   ]
  },
  {
   "cell_type": "code",
   "execution_count": 4,
   "metadata": { "trusted": true, "editable": false, "deletable": false },
   "outputs": [],
   "source": [
    "median = (500 + 500) / 2"
   ]
  },
  {
   "cell_type": "code",
   "execution_count": 5,
   "metadata": { "trusted": true, "editable": false, "deletable": false },
   "outputs": [
    {
     "name": "stdout",
     "output_type": "stream",
     "text": [
      "500.0\n"
     ]
    }
   ],
   "source": [
    "print(median)"
   ]
  },
  {
   "cell_type": "markdown",
   "metadata": { "trusted": true, "editable": false, "deletable": false },
   "source": [
    "### Mittlere absolute Abweichung MAD"
   ]
  },
  {
   "cell_type": "markdown",
   "metadata": { "trusted": true, "editable": false, "deletable": false },
   "source": [
    "$$ MAD = \\frac{1}{n} \\sum_{i=1}^n{ \\mid x_i - \\bar{x} \\mid } $$"
   ]
  },
  {
   "cell_type": "markdown",
   "metadata": { "trusted": true, "editable": false, "deletable": false },
   "source": [
    "Bei der mittleren absoluten Abweichung wird von jedem Element der Mittelwert abgezogen und dann der Absolutwert genommen. Die Absolutwerte werden aufaddiert und dann durch die Anzahl der Elemente geteilt."
   ]
  },
  {
   "cell_type": "code",
   "execution_count": 6,
   "metadata": { "trusted": true, "editable": false, "deletable": false },
   "outputs": [],
   "source": [
    "mad = (abs(478 - xquer) + abs(482 - xquer) + abs(492 - xquer) + abs(496 - xquer) + \n",
    "       abs(497 - xquer) + abs(499 - xquer) + abs(499 - xquer) + abs(499 - xquer) + \n",
    "       abs(499 - xquer) + abs(500 - xquer) + abs(500 - xquer) + abs(500 - xquer) + \n",
    "       abs(502 - xquer) + abs(502 - xquer) + abs(503 - xquer) + abs(504 - xquer) + \n",
    "       abs(507 - xquer) + abs(508 - xquer) + abs(511 - xquer) + abs(512 - xquer)) / 20"
   ]
  },
  {
   "cell_type": "code",
   "execution_count": 7,
   "metadata": { "trusted": true, "editable": false, "deletable": false },
   "outputs": [
    {
     "name": "stdout",
     "output_type": "stream",
     "text": [
      "5.45\n"
     ]
    }
   ],
   "source": [
    "print(mad)"
   ]
  },
  {
   "cell_type": "markdown",
   "metadata": { "trusted": true, "editable": false, "deletable": false },
   "source": [
    "### Varianz"
   ]
  },
  {
   "cell_type": "markdown",
   "metadata": { "trusted": true, "editable": false, "deletable": false },
   "source": [
    "$$ s^2 = \\frac{1}{n} \\sum_{i=1}^n{ (x_i - \\bar{x})^2 } $$"
   ]
  },
  {
   "cell_type": "markdown",
   "metadata": { "trusted": true, "editable": false, "deletable": false },
   "source": [
    "Die Varianz wird ähnlich berechnet wie die mittlere absolute Abweichung, allerdings wird nicht der Absolutwert der Differenz zwischen Einzelelement und Mittelwert genommen, sondern die Differenz wird quadriert. Die Summe der quadrierten Abweichungen wird dann wieder durch die Anzahl der Elemente geteilt."
   ]
  },
  {
   "cell_type": "code",
   "execution_count": 8,
   "metadata": { "trusted": true, "editable": false, "deletable": false },
   "outputs": [],
   "source": [
    "var = ((492 - xquer)**2 + (497 - xquer)**2 + (478 - xquer)**2 + (482 - xquer)**2 + \n",
    "       (499 - xquer)**2 + (512 - xquer)**2 + (503 - xquer)**2 + (511 - xquer)**2 + \n",
    "       (499 - xquer)**2 + (504 - xquer)**2 + (508 - xquer)**2 + (496 - xquer)**2 + \n",
    "       (502 - xquer)**2 + (500 - xquer)**2 + (499 - xquer)**2 + (500 - xquer)**2 + \n",
    "       (507 - xquer)**2 + (502 - xquer)**2 + (500 - xquer)**2 + (499 - xquer)**2) / 20"
   ]
  },
  {
   "cell_type": "code",
   "execution_count": 9,
   "metadata": { "trusted": true, "editable": false, "deletable": false },
   "outputs": [
    {
     "name": "stdout",
     "output_type": "stream",
     "text": [
      "65.35\n"
     ]
    }
   ],
   "source": [
    "print(var)"
   ]
  },
  {
   "cell_type": "markdown",
   "metadata": { "trusted": true, "editable": false, "deletable": false },
   "source": [
    "### Standardabweichung"
   ]
  },
  {
   "cell_type": "markdown",
   "metadata": { "trusted": true, "editable": false, "deletable": false },
   "source": [
    "$$ s = \\sqrt{s^2} $$"
   ]
  },
  {
   "cell_type": "markdown",
   "metadata": { "trusted": true, "editable": false, "deletable": false },
   "source": [
    "Bei der Standardabweichung wird die Wurzel aus der Varianz gezogen; hierfür benötigen wir bei der Umsetzung mit Python die oben importierte Bibliothek sqrt."
   ]
  },
  {
   "cell_type": "code",
   "execution_count": 10,
   "metadata": { "trusted": true, "editable": false, "deletable": false },
   "outputs": [],
   "source": [
    "sd = math.sqrt(var)"
   ]
  },
  {
   "cell_type": "code",
   "execution_count": 11,
   "metadata": { "trusted": true, "editable": false, "deletable": false },
   "outputs": [
    {
     "name": "stdout",
     "output_type": "stream",
     "text": [
      "8.083934685535256\n"
     ]
    }
   ],
   "source": [
    "print(sd)"
   ]
  },
  {
   "cell_type": "markdown",
   "metadata": {},
   "source": [
    "Copyright © 2020 IUBH Internationale Hochschule"
   ]
  }
 ],
 "metadata": {
  "kernelspec": {
   "display_name": "Python 3",
   "language": "python",
   "name": "python3"
  },
  "language_info": {
   "codemirror_mode": {
    "name": "ipython",
    "version": 3
   },
   "file_extension": ".py",
   "mimetype": "text/x-python",
   "name": "python",
   "nbconvert_exporter": "python",
   "pygments_lexer": "ipython3",
   "version": "3.7.4"
  }
 },
 "nbformat": 4,
 "nbformat_minor": 2
}
