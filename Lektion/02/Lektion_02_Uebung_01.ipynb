{
 "cells": [
  {
   "cell_type": "markdown",
   "metadata": {
        "trusted": true,
        "editable": false,
        "deletable": false
   },
   "source": [
    "# Lektion 2 - Übung 1"
   ]
  },
  {
   "cell_type": "markdown",
   "metadata": { "trusted": true, "editable": false, "deletable": false },
   "source": [
    "Import von Python-Bibliotheken und notwendiger Code für diverse Funktionen"
   ]
  },
  {
   "cell_type": "code",
   "execution_count": 22,
   "metadata": { "trusted": true, "editable": false, "deletable": false },
   "outputs": [
    {
     "data": {
      "text/html": [
       "\n",
       "    <script>\n",
       "    function code_toggle() {\n",
       "        if ($('div.cell.code_cell.rendered.selected div.input').css('display')!='none'){\n",
       "            $('div.cell.code_cell.rendered.selected div.input').hide();\n",
       "        } else {\n",
       "            $('div.cell.code_cell.rendered.selected div.input').show();\n",
       "        }\n",
       "    }\n",
       "    </script>\n",
       "    <form action=\"javascript:code_toggle()\"><input type=\"submit\" id=\"toggleButton\" value=\"Code ein-/ausblenden\"></form>\n",
       "    "
      ],
      "text/plain": [
       "<IPython.core.display.HTML object>"
      ]
     },
     "metadata": { "trusted": true, "editable": false, "deletable": false },
     "output_type": "display_data"
    }
   ],
   "source": [
    "## imports\n",
    "import math\n",
    "import pandas as pd\n",
    "from IPython.display import HTML, display\n",
    "\n",
    "\n",
    "## Der folgende Code dient zur Implementierung der Funktionalität, damit Code ein- und ausgeblendet werden kann.\n",
    "def toggle_code():\n",
    "    toggle_code_js_html = '''\n",
    "    <script>\n",
    "    function code_toggle() {\n",
    "        if ($('div.cell.code_cell.rendered.selected div.input').css('display')!='none'){\n",
    "            $('div.cell.code_cell.rendered.selected div.input').hide();\n",
    "        } else {\n",
    "            $('div.cell.code_cell.rendered.selected div.input').show();\n",
    "        }\n",
    "    }\n",
    "    </script>\n",
    "    <form action=\"javascript:code_toggle()\"><input type=\"submit\" id=\"toggleButton\" value=\"Code ein-/ausblenden\"></form>\n",
    "    '''\n",
    "    display(HTML(toggle_code_js_html))\n",
    "\n",
    "\n",
    "toggle_code()"
   ]
  },
  {
   "cell_type": "markdown",
   "metadata": { "trusted": true, "editable": false, "deletable": false },
   "source": [
    "# Aufgabentext"
   ]
  },
  {
   "cell_type": "markdown",
   "metadata": { "trusted": true, "editable": false, "deletable": false },
   "source": [
    "In einer Mathearbeit, bei der maximal 10 Punkte erreicht werden konnten, haben 50\n",
    "Schüler teilgenommen. Die Beobachtungswerte sind:  \n",
    "\n",
    "0, 1, 1, 1, 2, 2, 2, 2, 3, 3, 4, 4, 4, 4, 4, 5, 5, 5, 5, 5, 5, 6, 6, 6, 6, 6, 6, 6, 6, 7, 7, 7, 7, 7, 7, 7, 7, 7, 7, 8, 8, 8, 8, 9, 9, 9, 9, 9, 10, 10.  \n",
    "\n",
    "Der Lehrer möchte das Ergebnis gerne statistisch auswerten. Sie können ihm\n",
    "bei dieser Aufgabe helfen, indem Sie das Ihnen bisher bekannte Instrumentarium\n",
    "anwenden. Hinweis: Es konnten nur ganze Punkte verteilt werden."
   ]
  },
  {
   "cell_type": "markdown",
   "metadata": { "trusted": true, "editable": false, "deletable": false },
   "source": [
    "# Lösung"
   ]
  },
  {
   "cell_type": "markdown",
   "metadata": { "trusted": true, "editable": false, "deletable": false },
   "source": [
    "## Berechnung / Darstellung über eine Tabelle"
   ]
  },
  {
   "cell_type": "markdown",
   "metadata": { "trusted": true, "editable": false, "deletable": false },
   "source": [
    "Insgesamt haben wir n = 50 Beobachtungen."
   ]
  },
  {
   "cell_type": "markdown",
   "metadata": { "trusted": true, "editable": false, "deletable": false },
   "source": [
    "|i         |$$x_i$$|$$x_i - \\bar{x}$$|$$\\mid x_i - \\bar{x} \\mid$$|$$(x - \\bar{x})^2$$|\n",
    "|---       |---    |---              |---                        |---                |\n",
    "|1         |0      |-5,64            |5,64                       |31,8096            |\n",
    "|2         |1      |-4,64            |4,64                       |21,5296            |\n",
    "|3         |1      |-4,64            |4,64                       |21,5296            |\n",
    "|4         |1      |-4,64            |4,64                       |21,5296            |\n",
    "|5         |2      |-3,64            |3,64                       |13,2496            |\n",
    "|6         |2      |-3,64            |3,64                       |13,2496            |\n",
    "|7         |2      |-3,64            |3,64                       |13,2496            |\n",
    "|8         |2      |-3,64            |3,64                       |13,2496            |\n",
    "|9         |3      |-2,64            |2,64                       |6,9696             |\n",
    "|10        |3      |-2,64            |2,64                       |6,9696             |\n",
    "|11        |4      |-1,64            |1,64                       |2,6896             |\n",
    "|12        |4      |-1,64            |1,64                       |2,6896             |\n",
    "|13        |4      |-1,64            |1,64                       |2,6896             |\n",
    "|14        |4      |-1,64            |1,64                       |2,6896             |\n",
    "|15        |4      |-1,64            |1,64                       |2,6896             |\n",
    "|16        |5      |-0,64            |0,64                       |0,4096             |\n",
    "|17        |5      |-0,64            |0,64                       |0,4096             |\n",
    "|18        |5      |-0,64            |0,64                       |0,4096             |\n",
    "|19        |5      |-0,64            |0,64                       |0,4096             |\n",
    "|20        |5      |-0,64            |0,64                       |0,4096             |\n",
    "|21        |5      |-0,64            |0,64                       |0,4096             |\n",
    "|22        |6      |0,36             |0,36                       |0,1296             |\n",
    "|23        |6      |0,36             |0,36                       |0,1296             |\n",
    "|24        |6      |0,36             |0,36                       |0,1296             |\n",
    "|25        |6      |0,36             |0,36                       |0,1296             |\n",
    "|26        |6      |0,36             |0,36                       |0,1296             |\n",
    "|27        |6      |0,36             |0,36                       |0,1296             |\n",
    "|28        |6      |0,36             |0,36                       |0,1296             |\n",
    "|29        |6      |0,36             |0,36                       |0,1296             |\n",
    "|30        |7      |1,36             |1,36                       |1,8496             |\n",
    "|31        |7      |1,36             |1,36                       |1,8496             |\n",
    "|32        |7      |1,36             |1,36                       |1,8496             |\n",
    "|33        |7      |1,36             |1,36                       |1,8496             |\n",
    "|34        |7      |1,36             |1,36                       |1,8496             |\n",
    "|35        |7      |1,36             |1,36                       |1,8496             |\n",
    "|36        |7      |1,36             |1,36                       |1,8496             |\n",
    "|37        |7      |1,36             |1,36                       |1,8496             |\n",
    "|38        |7      |1,36             |1,36                       |1,8496             |\n",
    "|39        |7      |1,36             |1,36                       |1,8496             |\n",
    "|40        |8      |2,36             |2,36                       |5,5696             |\n",
    "|41        |8      |2,36             |2,36                       |5,5696             |\n",
    "|42        |8      |2,36             |2,36                       |5,5696             |\n",
    "|43        |8      |2,36             |2,36                       |5,5696             |\n",
    "|44        |9      |3,36             |3,36                       |11,2896            |\n",
    "|45        |9      |3,36             |3,36                       |11,2896            |\n",
    "|46        |9      |3,36             |3,36                       |11,2896            |\n",
    "|47        |9      |3,36             |3,36                       |11,2896            |\n",
    "|48        |9      |3,36             |3,36                       |11,2896            |\n",
    "|49        |10     |4,36             |4,36                       |19,0096            |\n",
    "|50        |10     |4,36             |4,36                       |19,0096            |\n",
    "|          |       |                 |                           |                   |\n",
    "|$$\\sum{}$$|282    |0                |102,88                     |315,52             |\n"
   ]
  },
  {
   "cell_type": "code",
   "execution_count": 2,
   "metadata": { "trusted": true, "editable": false, "deletable": false },
   "outputs": [
    {
     "data": {
      "text/plain": [
       "5.64"
      ]
     },
     "execution_count": 2,
     "metadata": { "trusted": true, "editable": false, "deletable": false },
     "output_type": "execute_result"
    }
   ],
   "source": [
    "## Berechnung Mittelwert\n",
    "282 / 50"
   ]
  },
  {
   "cell_type": "code",
   "execution_count": 3,
   "metadata": { "trusted": true, "editable": false, "deletable": false },
   "outputs": [
    {
     "data": {
      "text/plain": [
       "2.0576"
      ]
     },
     "execution_count": 3,
     "metadata": { "trusted": true, "editable": false, "deletable": false },
     "output_type": "execute_result"
    }
   ],
   "source": [
    "## Berechnung MAD\n",
    "102.88 / 50"
   ]
  },
  {
   "cell_type": "code",
   "execution_count": 4,
   "metadata": { "trusted": true, "editable": false, "deletable": false },
   "outputs": [
    {
     "data": {
      "text/plain": [
       "6.3104"
      ]
     },
     "execution_count": 4,
     "metadata": { "trusted": true, "editable": false, "deletable": false },
     "output_type": "execute_result"
    }
   ],
   "source": [
    "## Berechnung Varianz\n",
    "315.52 / 50"
   ]
  },
  {
   "cell_type": "code",
   "execution_count": 5,
   "metadata": { "trusted": true, "editable": false, "deletable": false },
   "outputs": [
    {
     "data": {
      "text/plain": [
       "2.512050954897213"
      ]
     },
     "execution_count": 5,
     "metadata": { "trusted": true, "editable": false, "deletable": false },
     "output_type": "execute_result"
    }
   ],
   "source": [
    "## Berechnung Standardabweichung\n",
    "math.sqrt(315.52 / 50)"
   ]
  },
  {
   "cell_type": "markdown",
   "metadata": { "trusted": true, "editable": false, "deletable": false },
   "source": [
    "## Explizite Berechnung"
   ]
  },
  {
   "cell_type": "markdown",
   "metadata": { "trusted": true, "editable": false, "deletable": false },
   "source": [
    "Im folgenden berechnen wir die Ergebnisse, wie man sie z.B. auch in einem Taschenrechner berechnen könnte. Der Rechnungsweg wird explizit und ausführlich angegeben."
   ]
  },
  {
   "cell_type": "markdown",
   "metadata": { "trusted": true, "editable": false, "deletable": false },
   "source": [
    "### Mittelwert"
   ]
  },
  {
   "cell_type": "markdown",
   "metadata": { "trusted": true, "editable": false, "deletable": false },
   "source": [
    "$$ \\bar{x} = \\frac{1}{n} \\sum_{i=1}^n{x_i} $$"
   ]
  },
  {
   "cell_type": "markdown",
   "metadata": { "trusted": true, "editable": false, "deletable": false },
   "source": [
    "Für den Mittelwert muss die Summe der Einzelelemente der Rohdaten gebildet und diese dann durch die Anzahl der Elemente geteilt werden."
   ]
  },
  {
   "cell_type": "code",
   "execution_count": 6,
   "metadata": { "trusted": true, "editable": false, "deletable": false },
   "outputs": [],
   "source": [
    "xquer = (0 + 1 + 1 + 1 + 2 + 2 + 2 + 2 + 3 + 3 + 4 + 4 + 4 + 4 + 4 + 5 + 5 + 5 + 5 + 5 + 5 + 6 + 6 + 6 + \n",
    "         6 + 6 + 6 + 6 + 6 + 7 + 7 + 7 + 7 + 7 + 7 + 7 + 7 + 7 + 7 + 8 + 8 + 8 + 8 + 9 + 9 + 9 + 9 + 9 + 10 + 10) / 50"
   ]
  },
  {
   "cell_type": "code",
   "execution_count": 7,
   "metadata": { "trusted": true, "editable": false, "deletable": false },
   "outputs": [
    {
     "name": "stdout",
     "output_type": "stream",
     "text": [
      "5.64\n"
     ]
    }
   ],
   "source": [
    "print(xquer)"
   ]
  },
  {
   "cell_type": "markdown",
   "metadata": { "trusted": true, "editable": false, "deletable": false },
   "source": [
    "### Mittlere absolute Abweichung MAD"
   ]
  },
  {
   "cell_type": "markdown",
   "metadata": { "trusted": true, "editable": false, "deletable": false },
   "source": [
    "$$ MAD = \\frac{1}{n} \\sum_{i=1}^n{ \\mid x_i - \\bar{x} \\mid } $$"
   ]
  },
  {
   "cell_type": "markdown",
   "metadata": { "trusted": true, "editable": false, "deletable": false },
   "source": [
    "Bei der mittleren absoluten Abweichung wird von jedem Element der Mittelwert abgezogen und dann der Absolutwert genommen. Die Absolutwerte werden aufaddiert und dann durch die Anzahl der Elemente geteilt."
   ]
  },
  {
   "cell_type": "code",
   "execution_count": 8,
   "metadata": { "trusted": true, "editable": false, "deletable": false },
   "outputs": [],
   "source": [
    "mad = (abs(0 - xquer) + abs(1 - xquer) + abs(1 - xquer) + abs(1 - xquer) + abs(2 - xquer) + abs(2 - xquer) + \n",
    "       abs(2 - xquer) + abs(2 - xquer) + abs(3 - xquer) + abs(3 - xquer) + abs(4 - xquer) + abs(4 - xquer) + \n",
    "       abs(4 - xquer) + abs(4 - xquer) + abs(4 - xquer) + abs(5 - xquer) + abs(5 - xquer) + abs(5 - xquer) + \n",
    "       abs(5 - xquer) + abs(5 - xquer) + abs(5 - xquer) + abs(6 - xquer) + abs(6 - xquer) + abs(6 - xquer) + \n",
    "       abs(6 - xquer) + abs(6 - xquer) + abs(6 - xquer) + abs(6 - xquer) + abs(6 - xquer) + abs(7 - xquer) + \n",
    "       abs(7 - xquer) + abs(7 - xquer) + abs(7 - xquer) + abs(7 - xquer) + abs(7 - xquer) + abs(7 - xquer) + \n",
    "       abs(7 - xquer) + abs(7 - xquer) + abs(7 - xquer) + abs(8 - xquer) + abs(8 - xquer) + abs(8 - xquer) + \n",
    "       abs(8 - xquer) + abs(9 - xquer) + abs(9 - xquer) + abs(9 - xquer) + abs(9 - xquer) + abs(9 - xquer) + \n",
    "       abs(10 - xquer) + abs(10 - xquer)) / 50"
   ]
  },
  {
   "cell_type": "code",
   "execution_count": 9,
   "metadata": { "trusted": true, "editable": false, "deletable": false },
   "outputs": [
    {
     "name": "stdout",
     "output_type": "stream",
     "text": [
      "2.0576\n"
     ]
    }
   ],
   "source": [
    "print(mad)"
   ]
  },
  {
   "cell_type": "markdown",
   "metadata": { "trusted": true, "editable": false, "deletable": false },
   "source": [
    "### Varianz"
   ]
  },
  {
   "cell_type": "markdown",
   "metadata": { "trusted": true, "editable": false, "deletable": false },
   "source": [
    "$$ s^2 = \\frac{1}{n} \\sum_{i=1}^n{ (x_i - \\bar{x})^2 } $$"
   ]
  },
  {
   "cell_type": "markdown",
   "metadata": { "trusted": true, "editable": false, "deletable": false },
   "source": [
    "Die Varianz wird ähnlich berechnet wie die mittlere absolute Abweichung, allerdings wird nicht der Absolutwert der Differenz zwischen Einzelelement und Mittelwert genommen, sondern die Differenz wird quadriert. Die Summe der quadrierten Abweichungen wird dann wieder durch die Anzahl der Elemente geteilt."
   ]
  },
  {
   "cell_type": "code",
   "execution_count": 10,
   "metadata": { "trusted": true, "editable": false, "deletable": false },
   "outputs": [],
   "source": [
    "var = ((0 - xquer)**2 + (1 - xquer)**2 + (1 - xquer)**2 + (1 - xquer)**2 + (2 - xquer)**2 + (2 - xquer)**2 + \n",
    "       (2 - xquer)**2 + (2 - xquer)**2 + (3 - xquer)**2 + (3 - xquer)**2 + (4 - xquer)**2 + (4 - xquer)**2 + \n",
    "       (4 - xquer)**2 + (4 - xquer)**2 + (4 - xquer)**2 + (5 - xquer)**2 + (5 - xquer)**2 + (5 - xquer)**2 + \n",
    "       (5 - xquer)**2 + (5 - xquer)**2 + (5 - xquer)**2 + (6 - xquer)**2 + (6 - xquer)**2 + (6 - xquer)**2 + \n",
    "       (6 - xquer)**2 + (6 - xquer)**2 + (6 - xquer)**2 + (6 - xquer)**2 + (6 - xquer)**2 + (7 - xquer)**2 + \n",
    "       (7 - xquer)**2 + (7 - xquer)**2 + (7 - xquer)**2 + (7 - xquer)**2 + (7 - xquer)**2 + (7 - xquer)**2 + \n",
    "       (7 - xquer)**2 + (7 - xquer)**2 + (7 - xquer)**2 + (8 - xquer)**2 + (8 - xquer)**2 + (8 - xquer)**2 + \n",
    "       (8 - xquer)**2 + (9 - xquer)**2 + (9 - xquer)**2 + (9 - xquer)**2 + (9 - xquer)**2 + (9 - xquer)**2 + \n",
    "       (10 - xquer)**2 + (10 - xquer)**2) / 50"
   ]
  },
  {
   "cell_type": "code",
   "execution_count": 11,
   "metadata": { "trusted": true, "editable": false, "deletable": false },
   "outputs": [
    {
     "name": "stdout",
     "output_type": "stream",
     "text": [
      "6.310400000000005\n"
     ]
    }
   ],
   "source": [
    "print(var)"
   ]
  },
  {
   "cell_type": "markdown",
   "metadata": { "trusted": true, "editable": false, "deletable": false },
   "source": [
    "### Standardabweichung"
   ]
  },
  {
   "cell_type": "markdown",
   "metadata": { "trusted": true, "editable": false, "deletable": false },
   "source": [
    "$$ s = \\sqrt{s^2} $$"
   ]
  },
  {
   "cell_type": "markdown",
   "metadata": { "trusted": true, "editable": false, "deletable": false },
   "source": [
    "Bei der Standardabweichung wird die Wurzel aus der Varianz gezogen; hierfür benötigen wir bei der Umsetzung mit Python die oben importierte Bibliothek sqrt."
   ]
  },
  {
   "cell_type": "code",
   "execution_count": 12,
   "metadata": { "trusted": true, "editable": false, "deletable": false },
   "outputs": [],
   "source": [
    "sd = math.sqrt(var)"
   ]
  },
  {
   "cell_type": "code",
   "execution_count": 13,
   "metadata": { "trusted": true, "editable": false, "deletable": false },
   "outputs": [
    {
     "name": "stdout",
     "output_type": "stream",
     "text": [
      "2.512050954897214\n"
     ]
    }
   ],
   "source": [
    "print(sd)"
   ]
  },
  {
   "cell_type": "markdown",
   "metadata": { "trusted": true, "editable": false, "deletable": false },
   "source": [
    "## Die Häufigkeitsverteilung unserer Rohdaten"
   ]
  },
  {
   "cell_type": "markdown",
   "metadata": { "trusted": true, "editable": false, "deletable": false },
   "source": [
    "Zur Berechnung der Häufigkeitsverteilung wird das Auftreten jedes möglichen Werts x gezählt. In unseren Rohdaten kommen die Werte 0 bis 10 vor, jeweils mit den folgenden Häufigkeiten h(x):  \n",
    "\n",
    "|x         |$$h(x)$$|$$x * h(x)$$|$$(x - \\bar{x})^2$$|$$h(x) * (x - \\bar{x})^2$$|\n",
    "|---       |---     |---         |---                |                          |\n",
    "|0         |1       |0           |31,8096            |31,8096                   |\n",
    "|1         |3       |3           |21,5296            |64,5888                   |\n",
    "|2         |4       |8           |13,2496            |52,9984                   |\n",
    "|3         |2       |6           |6,9696             |13,9392                   |\n",
    "|4         |5       |20          |2,6896             |13,448                    |\n",
    "|5         |6       |30          |0,4096             |2,4576                    |\n",
    "|6         |8       |48          |0,1296             |1,0368                    |\n",
    "|7         |10      |70          |1,8496             |18,496                    |\n",
    "|8         |4       |32          |5,5696             |22,2784                   |\n",
    "|9         |5       |45          |11,2896            |56,448                    |\n",
    "|10        |2       |20          |19,0096            |38,0192                   |\n",
    "|          |        |            |                   |                          |\n",
    "|$$\\sum{}$$|50      |282         |114,5056           |315,52                    |\n",
    "\n",
    "$$\\bar{x} = 5,64$$\n",
    "\n",
    "Summieren wir die Einzelhäufigkeiten auf, so erhalten wir wieder die Anzahl der Elemente bzw. Beobachtungen in den Rohdaten:"
   ]
  },
  {
   "cell_type": "code",
   "execution_count": 14,
   "metadata": { "trusted": true, "editable": false, "deletable": false },
   "outputs": [
    {
     "data": {
      "text/plain": [
       "50"
      ]
     },
     "execution_count": 14,
     "metadata": { "trusted": true, "editable": false, "deletable": false },
     "output_type": "execute_result"
    }
   ],
   "source": [
    "1 + 3 + 4 + 2 + 5+ 6 + 8 + 10 + 4 + 5 + 2"
   ]
  },
  {
   "cell_type": "markdown",
   "metadata": { "trusted": true, "editable": false, "deletable": false },
   "source": [
    "### Mittelwert aus einer Häufigkeitsverteilung"
   ]
  },
  {
   "cell_type": "markdown",
   "metadata": { "trusted": true, "editable": false, "deletable": false },
   "source": [
    "$$ \\bar{x} = \\frac{1}{n} \\sum_{j = 1}^m{ h(x_j)x_j } $$"
   ]
  },
  {
   "cell_type": "markdown",
   "metadata": { "trusted": true, "editable": false, "deletable": false },
   "source": [
    "Um den Mittelwert aus einer Häufigkeitsverteilung zu berechnen, multiplizieren wir jede auftretende Ausprägung (in unserem Beispiel: die Werte 0 bis 10) mit der zugehörigen Häufigkeit und bilden über diese Produkte die Summe; diese teilen wir dann durch die Anzahl der Beobachtungen."
   ]
  },
  {
   "cell_type": "code",
   "execution_count": 15,
   "metadata": { "trusted": true, "editable": false, "deletable": false },
   "outputs": [],
   "source": [
    "xquer = ((0 * 1) + (1 * 3) + (2 * 4) + (3 * 2) + (4 * 5) + (5 * 6) + (6 * 8) + (7 * 10) + (8 * 4) + (9 * 5) + (10 * 2)) / 50"
   ]
  },
  {
   "cell_type": "code",
   "execution_count": 16,
   "metadata": { "trusted": true, "editable": false, "deletable": false },
   "outputs": [
    {
     "name": "stdout",
     "output_type": "stream",
     "text": [
      "5.64\n"
     ]
    }
   ],
   "source": [
    "print(xquer)"
   ]
  },
  {
   "cell_type": "markdown",
   "metadata": { "trusted": true, "editable": false, "deletable": false },
   "source": [
    "### Varianz aus einer Häufigkeitsverteilung"
   ]
  },
  {
   "cell_type": "markdown",
   "metadata": { "trusted": true, "editable": false, "deletable": false },
   "source": [
    "$$ s^2 = \\frac{1}{n} \\sum_{j = 1}^m{ h(x_j)(x_j - \\bar{x})^2 } $$"
   ]
  },
  {
   "cell_type": "markdown",
   "metadata": { "trusted": true, "editable": false, "deletable": false },
   "source": [
    "Für die Berechnung der Varianz aus einer Häufigkeitsverteilung subtrahieren wir von jeder möglichen Merkmalsausprägung den Mittelwert, quadrieren das Ergebnis und multiplizieren es mit der jeweiligen Häufigkeit der Ausprägung. Die Gesamtsumme teilen wir dann wieder durch die Anzahl der Beobachtungen."
   ]
  },
  {
   "cell_type": "code",
   "execution_count": 17,
   "metadata": { "trusted": true, "editable": false, "deletable": false },
   "outputs": [],
   "source": [
    "var = ((1 * (0 - xquer)**2) + (3 * (1 - xquer)**2) + (4 * (2 - xquer)**2) + (2 * (3 - xquer)**2) + \n",
    "       (5 * (4 - xquer)**2) + (6 * (5 - xquer)**2) + (8 * (6 - xquer)**2) + (10 * (7 - xquer)**2) + \n",
    "       (4 * (8 - xquer)**2) + (5 * (9 - xquer)**2) + (2 * (10 - xquer)**2)) / 50"
   ]
  },
  {
   "cell_type": "code",
   "execution_count": 18,
   "metadata": { "trusted": true, "editable": false, "deletable": false },
   "outputs": [
    {
     "name": "stdout",
     "output_type": "stream",
     "text": [
      "6.3104000000000005\n"
     ]
    }
   ],
   "source": [
    "print(var)"
   ]
  },
  {
   "cell_type": "markdown",
   "metadata": { "trusted": true, "editable": false, "deletable": false },
   "source": [
    "# Grafik"
   ]
  },
  {
   "cell_type": "code",
   "execution_count": 21,
   "metadata": { "trusted": true, "editable": false, "deletable": false },
   "outputs": [
    {
     "data": {
      "image/png": "[encoded data removed]",
      "text/plain": [
       "<Figure size 1008x576 with 1 Axes>"
      ]
     },
     "metadata": {
      "needs_background": "light"
     },
     "output_type": "display_data"
    },
    {
     "data": {
      "text/html": [
       "\n",
       "    <script>\n",
       "    function code_toggle() {\n",
       "        if ($('div.cell.code_cell.rendered.selected div.input').css('display')!='none'){\n",
       "            $('div.cell.code_cell.rendered.selected div.input').hide();\n",
       "        } else {\n",
       "            $('div.cell.code_cell.rendered.selected div.input').show();\n",
       "        }\n",
       "    }\n",
       "    </script>\n",
       "    <form action=\"javascript:code_toggle()\"><input type=\"submit\" id=\"toggleButton\" value=\"Code ein-/ausblenden\"></form>\n",
       "    "
      ],
      "text/plain": [
       "<IPython.core.display.HTML object>"
      ]
     },
     "metadata": { "trusted": true, "editable": false, "deletable": false },
     "output_type": "display_data"
    }
   ],
   "source": [
    "import matplotlib.pyplot as plt\n",
    "%matplotlib inline\n",
    "\n",
    "haeuf = {0: 1, 1: 3, 2: 4, 3: 2, 4: 5, 5: 6, 6: 8, 7: 10, 8: 4, 9: 5, 10: 2}\n",
    "x_values = list(haeuf.keys())\n",
    "y_values = list(haeuf.values())\n",
    "\n",
    "plt.figure(figsize=(14, 8))\n",
    "plt.bar(x=x_values, height=y_values, width=0.6)\n",
    "plt.title('Häufigkeitsverteilung', size=16)\n",
    "plt.ylabel('absolute Häufigkeit $h(x_j)$', size=14)\n",
    "plt.xticks(x_values)\n",
    "plt.grid(True, axis='y')\n",
    "plt.ylim((0, 12))\n",
    "ax = plt.gca()\n",
    "ax.set_axisbelow(True)\n",
    "plt.show()\n",
    "\n",
    "toggle_code()"
   ]
  },
  {
   "cell_type": "markdown",
   "metadata": {},
   "source": [
    "Copyright © 2020 IUBH Internationale Hochschule"
   ]
  }
 ],
 "metadata": {
  "kernelspec": {
   "display_name": "Python 3",
   "language": "python",
   "name": "python3"
  },
  "language_info": {
   "codemirror_mode": {
    "name": "ipython",
    "version": 3
   },
   "file_extension": ".py",
   "mimetype": "text/x-python",
   "name": "python",
   "nbconvert_exporter": "python",
   "pygments_lexer": "ipython3",
   "version": "3.7.4"
  }
 },
 "nbformat": 4,
 "nbformat_minor": 2
}
