{
 "cells": [
  {
   "cell_type": "markdown",
   "metadata": {
        "trusted": true,
        "editable": false,
        "deletable": false
   },
   "source": [
    "# Lektion 2 - Übung 4"
   ]
  },
  {
   "cell_type": "code",
   "execution_count": 17,
   "metadata": { "trusted": true, "editable": false, "deletable": false },
   "outputs": [],
   "source": [
    "## Bibliothek für Berechnung der Wurzel\n",
    "import math"
   ]
  },
  {
   "cell_type": "markdown",
   "metadata": { "trusted": true, "editable": false, "deletable": false },
   "source": [
    "# Aufgabentext"
   ]
  },
  {
   "cell_type": "markdown",
   "metadata": { "trusted": true, "editable": false, "deletable": false },
   "source": [
    "In einem Betrieb werden an die acht Beschäftigen folgende Löhne gezahlt (in €):  \n",
    "\n",
    "2.500, 2.450, 3.000, 2.800, 3.150, 2.600, 2.800, 2.900.\n",
    "\n",
    "Analysieren Sie die Lage und die Streuung dieser Verteilung mit Hilfe des Ihnen bekannten Instrumentariums."
   ]
  },
  {
   "cell_type": "markdown",
   "metadata": { "trusted": true, "editable": false, "deletable": false },
   "source": [
    "# Lösung"
   ]
  },
  {
   "cell_type": "markdown",
   "metadata": { "trusted": true, "editable": false, "deletable": false },
   "source": [
    "## Berechnung / Darstellung über eine Tabelle"
   ]
  },
  {
   "cell_type": "markdown",
   "metadata": { "trusted": true, "editable": false, "deletable": false },
   "source": [
    "|i          |$$x_i$$|$$x_i - \\bar{x}$$|$$\\mid x_i - \\bar{x} \\mid$$|$$(x - \\bar{x})^2$$|\n",
    "|---        |---    |---              |---                        |---                |\n",
    "|1          |2500   |-275             |275                        |75625              |\n",
    "|2          |2450   |-325             |325                        |105625             |\n",
    "|3          |3000   |225              |225                        |50625              |\n",
    "|4          |2800   |25               |25                         |625                |\n",
    "|5          |3150   |375              |375                        |140625             |\n",
    "|6          |2600   |-175             |175                        |30625              |\n",
    "|7          |2800   |25               |25                         |625                |\n",
    "|8          |2900   |125              |125                        |15625              |\n",
    "|           |       |                 |                           |                   |\n",
    "|$$\\sum{}$$ |22200  |0                |1550                       |420000             |\n",
    "|$$\\bar{x}$$|2775   |                 |                           |                   |\n"
   ]
  },
  {
   "cell_type": "code",
   "execution_count": 2,
   "metadata": { "trusted": true, "editable": false, "deletable": false },
   "outputs": [
    {
     "data": {
      "text/plain": [
       "2775.0"
      ]
     },
     "execution_count": 2,
     "metadata": { "trusted": true, "editable": false, "deletable": false },
     "output_type": "execute_result"
    }
   ],
   "source": [
    "## Berechnung Mittelwert\n",
    "22200 / 8"
   ]
  },
  {
   "cell_type": "code",
   "execution_count": 3,
   "metadata": { "trusted": true, "editable": false, "deletable": false },
   "outputs": [
    {
     "data": {
      "text/plain": [
       "2800.0"
      ]
     },
     "execution_count": 3,
     "metadata": { "trusted": true, "editable": false, "deletable": false },
     "output_type": "execute_result"
    }
   ],
   "source": [
    "## Median\n",
    "(2800 + 2800) / 2"
   ]
  },
  {
   "cell_type": "code",
   "execution_count": 4,
   "metadata": { "trusted": true, "editable": false, "deletable": false },
   "outputs": [
    {
     "data": {
      "text/plain": [
       "193.75"
      ]
     },
     "execution_count": 4,
     "metadata": { "trusted": true, "editable": false, "deletable": false },
     "output_type": "execute_result"
    }
   ],
   "source": [
    "## Berechnung MAD\n",
    "1550 / 8"
   ]
  },
  {
   "cell_type": "code",
   "execution_count": 5,
   "metadata": { "trusted": true, "editable": false, "deletable": false },
   "outputs": [
    {
     "data": {
      "text/plain": [
       "52500.0"
      ]
     },
     "execution_count": 5,
     "metadata": { "trusted": true, "editable": false, "deletable": false },
     "output_type": "execute_result"
    }
   ],
   "source": [
    "## Berechnung Varianz\n",
    "420000 / 8"
   ]
  },
  {
   "cell_type": "code",
   "execution_count": 6,
   "metadata": { "trusted": true, "editable": false, "deletable": false },
   "outputs": [
    {
     "data": {
      "text/plain": [
       "229.128784747792"
      ]
     },
     "execution_count": 6,
     "metadata": { "trusted": true, "editable": false, "deletable": false },
     "output_type": "execute_result"
    }
   ],
   "source": [
    "## Berechnung Standardabweichung\n",
    "math.sqrt(420000 / 8)"
   ]
  },
  {
   "cell_type": "markdown",
   "metadata": { "trusted": true, "editable": false, "deletable": false },
   "source": [
    "## Explizite Berechnung"
   ]
  },
  {
   "cell_type": "markdown",
   "metadata": { "trusted": true, "editable": false, "deletable": false },
   "source": [
    "### Mittelwert"
   ]
  },
  {
   "cell_type": "markdown",
   "metadata": { "trusted": true, "editable": false, "deletable": false },
   "source": [
    "$$ \\bar{x} = \\frac{1}{n} \\sum_{i=1}^n{x_i} $$"
   ]
  },
  {
   "cell_type": "code",
   "execution_count": 7,
   "metadata": { "trusted": true, "editable": false, "deletable": false },
   "outputs": [],
   "source": [
    "xquer = (2500 + 2450 + 3000 + 2800 + 3150 + 2600 + 2800 + 2900) / 8"
   ]
  },
  {
   "cell_type": "code",
   "execution_count": 8,
   "metadata": { "trusted": true, "editable": false, "deletable": false },
   "outputs": [
    {
     "name": "stdout",
     "output_type": "stream",
     "text": [
      "2775.0\n"
     ]
    }
   ],
   "source": [
    "print(xquer)"
   ]
  },
  {
   "cell_type": "markdown",
   "metadata": { "trusted": true, "editable": false, "deletable": false },
   "source": [
    "### Median"
   ]
  },
  {
   "cell_type": "markdown",
   "metadata": { "trusted": true, "editable": false, "deletable": false },
   "source": [
    "Da n = 8, berechnet sich der Median aus dem Mittelwert der Elemente an den Positionen n / 2 und n / 2 + 1 bzw. den Positionen 4 und 5 der sortierten Rohdaten:\n",
    "\n",
    "2450, 2500, 2600, 2800, 2800, 2900, 3000, 3150"
   ]
  },
  {
   "cell_type": "code",
   "execution_count": 9,
   "metadata": { "trusted": true, "editable": false, "deletable": false },
   "outputs": [],
   "source": [
    "median = (2800 + 2800) / 2"
   ]
  },
  {
   "cell_type": "code",
   "execution_count": 10,
   "metadata": { "trusted": true, "editable": false, "deletable": false },
   "outputs": [
    {
     "name": "stdout",
     "output_type": "stream",
     "text": [
      "2800.0\n"
     ]
    }
   ],
   "source": [
    "print(median)"
   ]
  },
  {
   "cell_type": "markdown",
   "metadata": { "trusted": true, "editable": false, "deletable": false },
   "source": [
    "### Mittlere absolute Abweichung MAD"
   ]
  },
  {
   "cell_type": "markdown",
   "metadata": { "trusted": true, "editable": false, "deletable": false },
   "source": [
    "$$ MAD = \\frac{1}{n} \\sum_{i=1}^n{ \\mid x_i - \\bar{x} \\mid } $$"
   ]
  },
  {
   "cell_type": "markdown",
   "metadata": { "trusted": true, "editable": false, "deletable": false },
   "source": [
    "Bei der mittleren absoluten Abweichung wird von jedem Element der Mittelwert abgezogen und dann der Absolutwert genommen. Die Absolutwerte werden aufaddiert und dann durch die Anzahl der Elemente geteilt."
   ]
  },
  {
   "cell_type": "code",
   "execution_count": 11,
   "metadata": { "trusted": true, "editable": false, "deletable": false },
   "outputs": [],
   "source": [
    "mad = (abs(2450 - xquer) + abs(2500 - xquer) + abs(2600 - xquer) + abs(2800 - xquer) +\n",
    "       abs(2800 - xquer) + abs(2900 - xquer) + abs(3000 - xquer) + abs(3150 - xquer)) / 8"
   ]
  },
  {
   "cell_type": "code",
   "execution_count": 12,
   "metadata": { "trusted": true, "editable": false, "deletable": false },
   "outputs": [
    {
     "name": "stdout",
     "output_type": "stream",
     "text": [
      "193.75\n"
     ]
    }
   ],
   "source": [
    "print(mad)"
   ]
  },
  {
   "cell_type": "markdown",
   "metadata": { "trusted": true, "editable": false, "deletable": false },
   "source": [
    "### Varianz"
   ]
  },
  {
   "cell_type": "markdown",
   "metadata": { "trusted": true, "editable": false, "deletable": false },
   "source": [
    "$$ s^2 = \\frac{1}{n} \\sum_{i=1}^n{ (x_i - \\bar{x})^2 } $$"
   ]
  },
  {
   "cell_type": "markdown",
   "metadata": { "trusted": true, "editable": false, "deletable": false },
   "source": [
    "Die Varianz wird ähnlich berechnet wie die mittlere absolute Abweichung, allerdings wird nicht der Absolutwert der Differenz zwischen Einzelelement und Mittelwert genommen, sondern die Differenz wird quadriert. Die Summe der quadrierten Abweichungen wird dann wieder durch die Anzahl der Elemente geteilt."
   ]
  },
  {
   "cell_type": "code",
   "execution_count": 13,
   "metadata": { "trusted": true, "editable": false, "deletable": false },
   "outputs": [],
   "source": [
    "var = ((2450 - xquer)**2 + (2500 - xquer)**2 + (2600 - xquer)**2 + (2800 - xquer)**2 + \n",
    "       (2800 - xquer)**2 + (2900 - xquer)**2 + (3000 - xquer)**2 + (3150 - xquer)**2) / 8"
   ]
  },
  {
   "cell_type": "code",
   "execution_count": 14,
   "metadata": { "trusted": true, "editable": false, "deletable": false },
   "outputs": [
    {
     "name": "stdout",
     "output_type": "stream",
     "text": [
      "52500.0\n"
     ]
    }
   ],
   "source": [
    "print(var)"
   ]
  },
  {
   "cell_type": "markdown",
   "metadata": { "trusted": true, "editable": false, "deletable": false },
   "source": [
    "### Standardabweichung"
   ]
  },
  {
   "cell_type": "markdown",
   "metadata": { "trusted": true, "editable": false, "deletable": false },
   "source": [
    "$$ s = \\sqrt{s^2} $$"
   ]
  },
  {
   "cell_type": "markdown",
   "metadata": { "trusted": true, "editable": false, "deletable": false },
   "source": [
    "Bei der Standardabweichung wird die Wurzel aus der Varianz gezogen; hierfür benötigen wir bei der Umsetzung mit Python die oben importierte Bibliothek sqrt."
   ]
  },
  {
   "cell_type": "code",
   "execution_count": 15,
   "metadata": { "trusted": true, "editable": false, "deletable": false },
   "outputs": [],
   "source": [
    "sd = math.sqrt(var)"
   ]
  },
  {
   "cell_type": "code",
   "execution_count": 16,
   "metadata": { "trusted": true, "editable": false, "deletable": false },
   "outputs": [
    {
     "name": "stdout",
     "output_type": "stream",
     "text": [
      "229.128784747792\n"
     ]
    }
   ],
   "source": [
    "print(sd)"
   ]
  }
 ],
 "metadata": {
  "kernelspec": {
   "display_name": "Python 3",
   "language": "python",
   "name": "python3"
  },
  "language_info": {
   "codemirror_mode": {
    "name": "ipython",
    "version": 3
   },
   "file_extension": ".py",
   "mimetype": "text/x-python",
   "name": "python",
   "nbconvert_exporter": "python",
   "pygments_lexer": "ipython3",
   "version": "3.7.4"
  }
 },
 "nbformat": 4,
 "nbformat_minor": 2
}
