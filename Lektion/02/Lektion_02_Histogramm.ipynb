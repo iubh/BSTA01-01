{
 "cells": [
  {
   "cell_type": "markdown",
   "metadata": {
        "trusted": true,
        "editable": false,
        "deletable": false
   },
   "source": [
    "# Lektion 2 - Histogramm"
   ]
  },
  {
   "cell_type": "markdown",
   "metadata": { "trusted": true, "editable": false, "deletable": false },
   "source": [
    "Import von Python-Bibliotheken und notwendiger Code für diverse Funktionen"
   ]
  },
  {
   "cell_type": "code",
   "execution_count": 1,
   "metadata": {
    "code_folding": []
   },
   "outputs": [
    {
     "data": {
      "text/html": [
       "\n",
       "    <script>\n",
       "    function code_toggle() {\n",
       "        if ($('div.cell.code_cell.rendered.selected div.input').css('display')!='none'){\n",
       "            $('div.cell.code_cell.rendered.selected div.input').hide();\n",
       "        } else {\n",
       "            $('div.cell.code_cell.rendered.selected div.input').show();\n",
       "        }\n",
       "    }\n",
       "    </script>\n",
       "    <form action=\"javascript:code_toggle()\"><input type=\"submit\" id=\"toggleButton\" value=\"Code ein-/ausblenden\"></form>\n",
       "    "
      ],
      "text/plain": [
       "<IPython.core.display.HTML object>"
      ]
     },
     "metadata": { "trusted": true, "editable": false, "deletable": false },
     "output_type": "display_data"
    }
   ],
   "source": [
    "## imports\n",
    "import math\n",
    "import pandas as pd\n",
    "from IPython.display import HTML, display\n",
    "\n",
    "\n",
    "## Der folgende Code dient zur Implementierung der Funktionalität, damit Code ein- und ausgeblendet werden kann.\n",
    "def toggle_code():\n",
    "    toggle_code_js_html = '''\n",
    "    <script>\n",
    "    function code_toggle() {\n",
    "        if ($('div.cell.code_cell.rendered.selected div.input').css('display')!='none'){\n",
    "            $('div.cell.code_cell.rendered.selected div.input').hide();\n",
    "        } else {\n",
    "            $('div.cell.code_cell.rendered.selected div.input').show();\n",
    "        }\n",
    "    }\n",
    "    </script>\n",
    "    <form action=\"javascript:code_toggle()\"><input type=\"submit\" id=\"toggleButton\" value=\"Code ein-/ausblenden\"></form>\n",
    "    '''\n",
    "    display(HTML(toggle_code_js_html))\n",
    "\n",
    "\n",
    "toggle_code()"
   ]
  },
  {
   "cell_type": "markdown",
   "metadata": { "trusted": true, "editable": false, "deletable": false },
   "source": [
    "# Tabelle"
   ]
  },
  {
   "cell_type": "markdown",
   "metadata": { "trusted": true, "editable": false, "deletable": false },
   "source": [
    "|Klasse                          |j         |1        |2           |3           |4            |5             |\n",
    "|---                             |---       |---      |---         |---         |---          |---           |\n",
    "|Merkmal: Bruttogehalt           |$$K_j$$   |[0; 3000[|[3000; 5000[|[5000; 7000[|[7000; 10000[|[10000; 20000]|\n",
    "|                                |          |         |            |            |             |              |\n",
    "|Rechteckbreite = Klassenbreite  |$$w_j$$   |3000     |2000        |2000        |3000         |10000         |\n",
    "|Klassenmitte                    |$$x^*_j$$ |1500     |4000        |6000        |8500         |15000         |\n",
    "|absolute Häufigkeit             |$$h(x_j)$$|3        |3           |5           |6            |8             |\n",
    "|relative Häufigkeit             |$$f(x_j)$$|0,12     |0,12        |0,20        |0,24         |0,32          |\n",
    "|Rechteckhöhe = Dichte           |$$f/w$$   |0,000040 |0,000060    |0,000100    |0,000080     |0,000032      |\n",
    "|                                |          |         |            |            |             |              |\n",
    "|Gesamtzahl der Beobachtungswerte|n         |25       |            |            |             |              |"
   ]
  },
  {
   "cell_type": "markdown",
   "metadata": { "trusted": true, "editable": false, "deletable": false },
   "source": [
    "# Histogramm"
   ]
  },
  {
   "cell_type": "code",
   "execution_count": 21,
   "metadata": { "trusted": true, "editable": false, "deletable": false },
   "outputs": [
    {
     "data": {
      "image/png": "[encoded data removed]",
      "text/plain": [
       "<Figure size 1008x576 with 1 Axes>"
      ]
     },
     "metadata": {
      "needs_background": "light"
     },
     "output_type": "display_data"
    },
    {
     "data": {
      "text/html": [
       "\n",
       "    <script>\n",
       "    function code_toggle() {\n",
       "        if ($('div.cell.code_cell.rendered.selected div.input').css('display')!='none'){\n",
       "            $('div.cell.code_cell.rendered.selected div.input').hide();\n",
       "        } else {\n",
       "            $('div.cell.code_cell.rendered.selected div.input').show();\n",
       "        }\n",
       "    }\n",
       "    </script>\n",
       "    <form action=\"javascript:code_toggle()\"><input type=\"submit\" id=\"toggleButton\" value=\"Code ein-/ausblenden\"></form>\n",
       "    "
      ],
      "text/plain": [
       "<IPython.core.display.HTML object>"
      ]
     },
     "metadata": { "trusted": true, "editable": false, "deletable": false },
     "output_type": "display_data"
    }
   ],
   "source": [
    "import matplotlib.pyplot as plt\n",
    "import matplotlib.ticker as ticker\n",
    "%matplotlib inline\n",
    "\n",
    "x_values = [0, 1000, 2000, 3000, 4000, 5000, 6000, 7000, 8000, 9000, 10000, 11000, 12000, 13000, 14000, 15000, 16000, 17000, 18000, 19000]\n",
    "y_values = [4, 4, 4, 6, 6, 10, 10, 8, 8, 8, 3.2, 3.2, 3.2, 3.2, 3.2, 3.2, 3.2, 3.2, 3.2, 3.2]\n",
    "\n",
    "plt.figure(figsize=(14, 8))\n",
    "plt.bar(x=x_values, height=y_values, align='edge', width=1000) #, width=1) # , width=1)\n",
    "plt.title('Histogramm', size=16)\n",
    "plt.ylabel('Dichte', size=14)\n",
    "plt.xticks(range(0, 21000, 1000))\n",
    "y_labels = ['0,00000', '0,00001', '0,00002', '0,00003', '0,00004', '0,00005', '0,00006', '0,00007', '0,00008', '0,00009', '0,00010',]\n",
    "plt.yticks(range(0, 11, 1), y_labels)\n",
    "\n",
    "#plt.ylim((0, 19))\n",
    "\n",
    "plt.grid(True, axis='y')\n",
    "\n",
    "ax = plt.gca()\n",
    "ax.set_axisbelow(True)\n",
    "#ax.xaxis.set_major_formatter(ticker.FormatStrFormatter('%0.0f'))\n",
    "#ax.yaxis.set_major_formatter(ticker.FormatStrFormatter('%0.5f'))\n",
    "\n",
    "# Nur an Grenzen Labels: 0, 3000, 5000, 7000, 10000, 20000\n",
    "positions = list(range(0, 21000, 1000))\n",
    "labels = ['' for i in positions]\n",
    "labels[0] = '0'\n",
    "labels[3] = '3000'\n",
    "labels[5] = '5000'\n",
    "labels[7] = '7000'\n",
    "labels[10] = '10000'\n",
    "labels[20] = '20000'\n",
    "plt.xticks(positions, labels)\n",
    "\n",
    "# Weiße Linien\n",
    "plt.vlines(3000, 0, 4, color='white', linewidth=0.5)\n",
    "plt.vlines(5000, 0, 6, color='white', linewidth=0.5)\n",
    "plt.vlines(7000, 0, 8, color='white', linewidth=0.5)\n",
    "plt.vlines(10000, 0, 3.2, color='white', linewidth=0.5)\n",
    "\n",
    "plt.show()\n",
    "\n",
    "toggle_code()"
   ]
  }
 ],
 "metadata": {
  "kernelspec": {
   "display_name": "Python 3",
   "language": "python",
   "name": "python3"
  },
  "language_info": {
   "codemirror_mode": {
    "name": "ipython",
    "version": 3
   },
   "file_extension": ".py",
   "mimetype": "text/x-python",
   "name": "python",
   "nbconvert_exporter": "python",
   "pygments_lexer": "ipython3",
   "version": "3.7.4"
  }
 },
 "nbformat": 4,
 "nbformat_minor": 2
}
