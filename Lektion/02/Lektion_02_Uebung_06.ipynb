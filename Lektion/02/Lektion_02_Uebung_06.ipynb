{
 "cells": [
  {
   "cell_type": "markdown",
   "metadata": {
        "trusted": true,
        "editable": false,
        "deletable": false
   },
   "source": [
    "# Lektion 2 - Übung 6"
   ]
  },
  {
   "cell_type": "markdown",
   "metadata": { "trusted": true, "editable": false, "deletable": false },
   "source": [
    "Import von Python-Bibliotheken und notwendiger Code für diverse Funktionen"
   ]
  },
  {
   "cell_type": "code",
   "execution_count": 7,
   "metadata": {
    "code_folding": []
   },
   "outputs": [
    {
     "data": {
      "text/html": [
       "\n",
       "    <script>\n",
       "    function code_toggle() {\n",
       "        if ($('div.cell.code_cell.rendered.selected div.input').css('display')!='none'){\n",
       "            $('div.cell.code_cell.rendered.selected div.input').hide();\n",
       "        } else {\n",
       "            $('div.cell.code_cell.rendered.selected div.input').show();\n",
       "        }\n",
       "    }\n",
       "    </script>\n",
       "    <form action=\"javascript:code_toggle()\"><input type=\"submit\" id=\"toggleButton\" value=\"Code ein-/ausblenden\"></form>\n",
       "    "
      ],
      "text/plain": [
       "<IPython.core.display.HTML object>"
      ]
     },
     "metadata": { "trusted": true, "editable": false, "deletable": false },
     "output_type": "display_data"
    }
   ],
   "source": [
    "import math\n",
    "import pandas as pd\n",
    "from IPython.display import HTML, display\n",
    "\n",
    "\n",
    "## Der folgende Code dient zur Implementierung der Funktionalität, damit Code ein- und ausgeblendet werden kann.\n",
    "def toggle_code():\n",
    "    toggle_code_js_html = '''\n",
    "    <script>\n",
    "    function code_toggle() {\n",
    "        if ($('div.cell.code_cell.rendered.selected div.input').css('display')!='none'){\n",
    "            $('div.cell.code_cell.rendered.selected div.input').hide();\n",
    "        } else {\n",
    "            $('div.cell.code_cell.rendered.selected div.input').show();\n",
    "        }\n",
    "    }\n",
    "    </script>\n",
    "    <form action=\"javascript:code_toggle()\"><input type=\"submit\" id=\"toggleButton\" value=\"Code ein-/ausblenden\"></form>\n",
    "    '''\n",
    "    display(HTML(toggle_code_js_html))\n",
    "\n",
    "\n",
    "toggle_code()"
   ]
  },
  {
   "cell_type": "markdown",
   "metadata": { "trusted": true, "editable": false, "deletable": false },
   "source": [
    "# Aufgabentext"
   ]
  },
  {
   "cell_type": "markdown",
   "metadata": { "trusted": true, "editable": false, "deletable": false },
   "source": [
    "Bei einer Untersuchung zum Intelligenzquotienten von Vorschulkindern wurde folgende Häufigkeitsverteilung festgestellt.\n",
    "\n",
    "|Klasse $$ j $$|IQ                   |Absolute Häufigkeit|\n",
    "|---           |---                  |---                |\n",
    "|1             |Von 71 bis unter 91  |26                 |\n",
    "|2             |Von 91 bis unter 111 |144                |\n",
    "|3             |Von 111 bis unter 131|15                 |\n",
    "|              |                     |                   |\n",
    "|$$ \\sum{} $$  |                     |185                |\n",
    "\n",
    "Analysieren Sie die Lage und die Streuung dieser Verteilung mit Hilfe des Ihnen bekannten Instrumentariums."
   ]
  },
  {
   "cell_type": "markdown",
   "metadata": { "trusted": true, "editable": false, "deletable": false },
   "source": [
    "# Lösung"
   ]
  },
  {
   "cell_type": "markdown",
   "metadata": { "trusted": true, "editable": false, "deletable": false },
   "source": [
    "|$$ j $$      |$$ x_j^* $$|$$ h(x_j^*) $$|$$ h(x_j^*) x_j^* $$|$$ x_j^*-\\bar{x} $$|$$ (x_j^*-\\bar{x})^2 $$|$$h(x_j^*)(x_j^* - \\bar{x})^2$$|\n",
    "|---          |---        |---           |---                 |---                |---                    |---                            |\n",
    "|1            |81         |26            |2106                |-18,81             |353,82                 |9199,22                        |\n",
    "|2            |101        |144           |14544               |1,19               |1,42                   |203,92                         |\n",
    "|3            |121        |15            |1815                |21,19              |449,02                 |6735,24                        |\n",
    "|             |           |              |                    |                   |                       |                               |\n",
    "|$$ \\sum{} $$ |           |185           |18465               |                   |                       |16138,38                       |\n",
    "|$$ \\bar{x} $$|99,81      |              |                    |                   |                       |                               |\n"
   ]
  },
  {
   "cell_type": "markdown",
   "metadata": { "trusted": true, "editable": false, "deletable": false },
   "source": [
    "## Mittelwert"
   ]
  },
  {
   "cell_type": "markdown",
   "metadata": { "trusted": true, "editable": false, "deletable": false },
   "source": [
    "$$ \\bar{x} = \\frac{1}{n} \\sum_{j = 1}^m{ h(x_j^*)x_j^* } $$"
   ]
  },
  {
   "cell_type": "code",
   "execution_count": 1,
   "metadata": { "trusted": true, "editable": false, "deletable": false },
   "outputs": [],
   "source": [
    "mean = ((26 * 81) + (144 * 101) + (15 * 121)) / 185"
   ]
  },
  {
   "cell_type": "code",
   "execution_count": 2,
   "metadata": { "trusted": true, "editable": false, "deletable": false },
   "outputs": [
    {
     "name": "stdout",
     "output_type": "stream",
     "text": [
      "99.8108108108108\n"
     ]
    }
   ],
   "source": [
    "print(mean)"
   ]
  },
  {
   "cell_type": "markdown",
   "metadata": { "trusted": true, "editable": false, "deletable": false },
   "source": [
    "## Varianz"
   ]
  },
  {
   "cell_type": "markdown",
   "metadata": { "trusted": true, "editable": false, "deletable": false },
   "source": [
    "$$ s^2 = \\frac{1}{n} \\sum_{j = 1}^m{ h(x_j^*)(x_j^* - \\bar{x})^2 } $$"
   ]
  },
  {
   "cell_type": "code",
   "execution_count": 3,
   "metadata": { "trusted": true, "editable": false, "deletable": false },
   "outputs": [],
   "source": [
    "var = ((26 * (81 - mean)**2) + (144 * (101 - mean)**2) + (15 * (121 - mean)**2)) / 185"
   ]
  },
  {
   "cell_type": "code",
   "execution_count": 4,
   "metadata": { "trusted": true, "editable": false, "deletable": false },
   "outputs": [
    {
     "name": "stdout",
     "output_type": "stream",
     "text": [
      "87.2344777209642\n"
     ]
    }
   ],
   "source": [
    "print(var)"
   ]
  },
  {
   "cell_type": "markdown",
   "metadata": { "trusted": true, "editable": false, "deletable": false },
   "source": [
    "## Standardabweichung"
   ]
  },
  {
   "cell_type": "markdown",
   "metadata": { "trusted": true, "editable": false, "deletable": false },
   "source": [
    "$$ s = \\sqrt{s^2} $$"
   ]
  },
  {
   "cell_type": "code",
   "execution_count": 8,
   "metadata": { "trusted": true, "editable": false, "deletable": false },
   "outputs": [],
   "source": [
    "std = math.sqrt(var)"
   ]
  },
  {
   "cell_type": "code",
   "execution_count": 9,
   "metadata": { "trusted": true, "editable": false, "deletable": false },
   "outputs": [
    {
     "name": "stdout",
     "output_type": "stream",
     "text": [
      "9.339939920629265\n"
     ]
    }
   ],
   "source": [
    "print(std)"
   ]
  },
  {
   "cell_type": "markdown",
   "metadata": { "trusted": true, "editable": false, "deletable": false },
   "source": [
    "# Histogramm"
   ]
  },
  {
   "cell_type": "code",
   "execution_count": 29,
   "metadata": { "trusted": true, "editable": false, "deletable": false },
   "outputs": [
    {
     "data": {
      "image/png": "[encoded data removed]",
      "text/plain": [
       "<Figure size 1008x576 with 1 Axes>"
      ]
     },
     "metadata": {
      "needs_background": "light"
     },
     "output_type": "display_data"
    },
    {
     "data": {
      "text/html": [
       "\n",
       "    <script>\n",
       "    function code_toggle() {\n",
       "        if ($('div.cell.code_cell.rendered.selected div.input').css('display')!='none'){\n",
       "            $('div.cell.code_cell.rendered.selected div.input').hide();\n",
       "        } else {\n",
       "            $('div.cell.code_cell.rendered.selected div.input').show();\n",
       "        }\n",
       "    }\n",
       "    </script>\n",
       "    <form action=\"javascript:code_toggle()\"><input type=\"submit\" id=\"toggleButton\" value=\"Code ein-/ausblenden\"></form>\n",
       "    "
      ],
      "text/plain": [
       "<IPython.core.display.HTML object>"
      ]
     },
     "metadata": { "trusted": true, "editable": false, "deletable": false },
     "output_type": "display_data"
    }
   ],
   "source": [
    "import matplotlib.pyplot as plt\n",
    "%matplotlib inline\n",
    "\n",
    "x_values = list(range(71, 132))\n",
    "y_values = [26] * 20 + [144] * 20 + [15] * 20 + [15]\n",
    "x_ticks = list(range(70, 135, 5))\n",
    "\n",
    "plt.figure(figsize=(14, 8))\n",
    "plt.bar(x=x_values, height=y_values, align='edge', width=1) # , width=1)\n",
    "plt.title('Histogramm', size=16)\n",
    "plt.ylabel('absolute Häufigkeit $h(x_j)$', size=14)\n",
    "#plt.yticks(range(0, 19))\n",
    "plt.xticks(x_ticks)\n",
    "plt.grid(True, axis='y')\n",
    "#plt.ylim((0, 19))\n",
    "ax = plt.gca()\n",
    "ax.set_axisbelow(True)\n",
    "plt.show()\n",
    "\n",
    "toggle_code()"
   ]
  },
  {
   "cell_type": "markdown",
   "metadata": {},
   "source": [
    "Copyright © 2020 IUBH Internationale Hochschule"
   ]
  }
 ],
 "metadata": {
  "kernelspec": {
   "display_name": "Python 3",
   "language": "python",
   "name": "python3"
  },
  "language_info": {
   "codemirror_mode": {
    "name": "ipython",
    "version": 3
   },
   "file_extension": ".py",
   "mimetype": "text/x-python",
   "name": "python",
   "nbconvert_exporter": "python",
   "pygments_lexer": "ipython3",
   "version": "3.7.4"
  }
 },
 "nbformat": 4,
 "nbformat_minor": 2
}
