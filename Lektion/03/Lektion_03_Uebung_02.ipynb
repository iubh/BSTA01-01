{
 "cells": [
  {
   "cell_type": "markdown",
   "metadata": {},
   "source": [
    "# Lektion 3 - Übung 2"
   ]
  },
  {
   "cell_type": "markdown",
   "metadata": {},
   "source": [
    "Import von Python-Bibliotheken und notwendiger Code für diverse Funktionen"
   ]
  },
  {
   "cell_type": "code",
   "execution_count": 8,
   "metadata": {
    "code_folding": []
   },
   "outputs": [
    {
     "data": {
      "text/html": [
       "\n",
       "    <script>\n",
       "    function code_toggle() {\n",
       "        if ($('div.cell.code_cell.rendered.selected div.input').css('display')!='none'){\n",
       "            $('div.cell.code_cell.rendered.selected div.input').hide();\n",
       "        } else {\n",
       "            $('div.cell.code_cell.rendered.selected div.input').show();\n",
       "        }\n",
       "    }\n",
       "    </script>\n",
       "    <form action=\"javascript:code_toggle()\"><input type=\"submit\" id=\"toggleButton\" value=\"Code ein-/ausblenden\"></form>\n",
       "    "
      ],
      "text/plain": [
       "<IPython.core.display.HTML object>"
      ]
     },
     "metadata": {},
     "output_type": "display_data"
    }
   ],
   "source": [
    "## imports\n",
    "import math\n",
    "import pandas as pd\n",
    "from IPython.display import HTML, display\n",
    "\n",
    "\n",
    "## Der folgende Code dient zur Implementierung der Funktionalität, damit Code ein- und ausgeblendet werden kann.\n",
    "def toggle_code():\n",
    "    toggle_code_js_html = '''\n",
    "    <script>\n",
    "    function code_toggle() {\n",
    "        if ($('div.cell.code_cell.rendered.selected div.input').css('display')!='none'){\n",
    "            $('div.cell.code_cell.rendered.selected div.input').hide();\n",
    "        } else {\n",
    "            $('div.cell.code_cell.rendered.selected div.input').show();\n",
    "        }\n",
    "    }\n",
    "    </script>\n",
    "    <form action=\"javascript:code_toggle()\"><input type=\"submit\" id=\"toggleButton\" value=\"Code ein-/ausblenden\"></form>\n",
    "    '''\n",
    "    display(HTML(toggle_code_js_html))\n",
    "\n",
    "\n",
    "toggle_code()"
   ]
  },
  {
   "cell_type": "markdown",
   "metadata": {},
   "source": [
    "# Aufgabentext"
   ]
  },
  {
   "cell_type": "markdown",
   "metadata": {},
   "source": [
    "Im Rahmen einer wissenschaftlichen Analyse soll der Zusammenhang zwischen Jahresgewinn (Merkmal X) und Jahresmiete für die EDV-Anlage (Merkmal Y) beurteilt werden. Dazu wurden in einer bestimmten Branche 15 Unternehmen befragt. Das Ergebnis ist:\n",
    "\n",
    "|Unternehmen|Jahresgewinn (in Mio. €)|Jahresmiete (in 1000 €)|\n",
    "|---        |---                     |---                    |\n",
    "|1          |10                      |30                     |\n",
    "|2          |15                      |30                     |\n",
    "|3          |15                      |100                    |\n",
    "|4          |20                      |50                     |\n",
    "|5          |20                      |100                    |\n",
    "|6          |25                      |80                     |\n",
    "|7          |30                      |50                     |\n",
    "|8          |30                      |100                    |\n",
    "|9          |30                      |250                    |\n",
    "|10         |35                      |180                    |\n",
    "|11         |35                      |330                    |\n",
    "|12         |40                      |200                    |\n",
    "|13         |45                      |400                    |\n",
    "|14         |50                      |500                    |\n",
    "|15         |50                      |600                    |\n",
    "\n",
    "Analysieren Sie den Zusammenhang mit Hilfe des Ihnen bekannten Instrumentariums."
   ]
  },
  {
   "cell_type": "markdown",
   "metadata": {},
   "source": [
    "# Lösung"
   ]
  },
  {
   "cell_type": "markdown",
   "metadata": {},
   "source": [
    "|i           |$$ x_i $$|$$ y_i $$|$$ x_i - \\bar{x} $$|$$ y_i - \\bar{y} $$|$$ (x_i - \\bar{x})^2 $$|$$ (y_i - \\bar{y})^2 $$|$$ (x_i - \\bar{x})(y_i - \\bar{y}) $$|\n",
    "|---         |---      |---      |---                |---                |---                    |---                    |---                                 |\n",
    "|1           |10       |30       |-20                |-170               |400                    |28900                  |3400                                |\n",
    "|2           |15       |30       |-15                |-170               |225                    |28900                  |2550                                |\n",
    "|3           |15       |100      |-15                |-100               |225                    |10000                  |1500                                |\n",
    "|4           |20       |50       |-10                |-150               |100                    |22500                  |1500                                |\n",
    "|5           |20       |100      |-10                |-100               |100                    |10000                  |1000                                |\n",
    "|6           |25       |80       |-5                 |-120               |25                     |14400                  |600                                 |\n",
    "|7           |30       |50       |0                  |-150               |0                      |22500                  |0                                   |\n",
    "|8           |30       |100      |0                  |-100               |0                      |10000                  |0                                   |\n",
    "|9           |30       |250      |0                  |50                 |0                      |2500                   |0                                   |\n",
    "|10          |35       |180      |5                  |-20                |25                     |400                    |-100                                |\n",
    "|11          |35       |330      |5                  |130                |25                     |16900                  |650                                 |\n",
    "|12          |40       |200      |10                 |0                  |100                    |0                      |0                                   |\n",
    "|13          |45       |400      |15                 |200                |225                    |40000                  |3000                                |\n",
    "|14          |50       |500      |20                 |300                |400                    |90000                  |6000                                |\n",
    "|15          |50       |600      |20                 |400                |400                    |160000                 |8000                                |\n",
    "|            |         |         |                   |                   |                       |                       |                                    |\n",
    "|$$ \\sum{} $$|450      |3000     |0                  |0                  |2250                   |457000                 |28100                               |\n",
    "|Mittelwert  |30       |200      |                   |                   |                       |                       |                                    |\n"
   ]
  },
  {
   "cell_type": "markdown",
   "metadata": {},
   "source": [
    "## Mittelwert"
   ]
  },
  {
   "cell_type": "markdown",
   "metadata": {},
   "source": [
    "$$ \\bar{x} = \\frac{1}{n} \\sum_{i=1}^n{ x_i } $$"
   ]
  },
  {
   "cell_type": "code",
   "execution_count": 1,
   "metadata": {},
   "outputs": [
    {
     "name": "stdout",
     "output_type": "stream",
     "text": [
      "30.0\n"
     ]
    }
   ],
   "source": [
    "x_quer = 450 / 15\n",
    "print(x_quer)"
   ]
  },
  {
   "cell_type": "code",
   "execution_count": 2,
   "metadata": {},
   "outputs": [
    {
     "name": "stdout",
     "output_type": "stream",
     "text": [
      "200.0\n"
     ]
    }
   ],
   "source": [
    "y_quer = 3000 / 15\n",
    "print(y_quer)"
   ]
  },
  {
   "cell_type": "markdown",
   "metadata": {},
   "source": [
    "## Varianz"
   ]
  },
  {
   "cell_type": "markdown",
   "metadata": {},
   "source": [
    "$$ s_x^2 = \\frac{1}{n} \\sum_{i=1}^n{ (x_i - \\bar{x})^2 } $$"
   ]
  },
  {
   "cell_type": "code",
   "execution_count": 5,
   "metadata": {},
   "outputs": [
    {
     "name": "stdout",
     "output_type": "stream",
     "text": [
      "150.0\n"
     ]
    }
   ],
   "source": [
    "var_x = 2250 / 15\n",
    "print(var_x)"
   ]
  },
  {
   "cell_type": "code",
   "execution_count": 4,
   "metadata": {},
   "outputs": [
    {
     "name": "stdout",
     "output_type": "stream",
     "text": [
      "30466.666666666668\n"
     ]
    }
   ],
   "source": [
    "var_y = 457000 / 15\n",
    "print(var_y)"
   ]
  },
  {
   "cell_type": "markdown",
   "metadata": {},
   "source": [
    "## Standardabweichung"
   ]
  },
  {
   "cell_type": "markdown",
   "metadata": {},
   "source": [
    "$$ s_x = \\sqrt{s_x^2} $$"
   ]
  },
  {
   "cell_type": "code",
   "execution_count": 9,
   "metadata": {},
   "outputs": [
    {
     "name": "stdout",
     "output_type": "stream",
     "text": [
      "12.24744871391589\n"
     ]
    }
   ],
   "source": [
    "std_x = math.sqrt(var_x)\n",
    "print(std_x)"
   ]
  },
  {
   "cell_type": "code",
   "execution_count": 10,
   "metadata": {},
   "outputs": [
    {
     "name": "stdout",
     "output_type": "stream",
     "text": [
      "174.5470328211473\n"
     ]
    }
   ],
   "source": [
    "std_y = math.sqrt(var_y)\n",
    "print(std_y)"
   ]
  },
  {
   "cell_type": "markdown",
   "metadata": {},
   "source": [
    "## Kovarianz"
   ]
  },
  {
   "cell_type": "markdown",
   "metadata": {},
   "source": [
    "$$ c_{XY} = \\frac{1}{n} \\sum_{i=1}^n{ (x_i - \\bar{x}) (y_i - \\bar{y}) } $$"
   ]
  },
  {
   "cell_type": "code",
   "execution_count": 11,
   "metadata": {},
   "outputs": [
    {
     "name": "stdout",
     "output_type": "stream",
     "text": [
      "1873.3333333333333\n"
     ]
    }
   ],
   "source": [
    "cov_xy = 28100 / 15\n",
    "print(cov_xy)"
   ]
  },
  {
   "cell_type": "markdown",
   "metadata": {},
   "source": [
    "## Korrelationskoeffizient"
   ]
  },
  {
   "cell_type": "markdown",
   "metadata": {},
   "source": [
    "$$ r_{XY} = \\frac{ c_{XY} }{ s_X s_Y } $$"
   ]
  },
  {
   "cell_type": "code",
   "execution_count": 12,
   "metadata": {},
   "outputs": [
    {
     "name": "stdout",
     "output_type": "stream",
     "text": [
      "0.8763083719514775\n"
     ]
    }
   ],
   "source": [
    "corr_xy = cov_xy / (std_x * std_y)\n",
    "print(corr_xy)"
   ]
  },
  {
   "cell_type": "code",
   "execution_count": 13,
   "metadata": {},
   "outputs": [
    {
     "name": "stdout",
     "output_type": "stream",
     "text": [
      "0.8763083719514775\n"
     ]
    }
   ],
   "source": [
    "corr_xy = 28100 / 15 / (math.sqrt(2250 / 15) * math.sqrt(457000 / 15))\n",
    "print(corr_xy)"
   ]
  },
  {
   "cell_type": "markdown",
   "metadata": {},
   "source": [
    "# Streudiagramm"
   ]
  },
  {
   "cell_type": "code",
   "execution_count": 16,
   "metadata": {},
   "outputs": [
    {
     "data": {
      "image/png": "[encoded data removed]",
      "text/plain": [
       "<Figure size 1008x576 with 1 Axes>"
      ]
     },
     "metadata": {
      "needs_background": "light"
     },
     "output_type": "display_data"
    },
    {
     "data": {
      "text/html": [
       "\n",
       "    <script>\n",
       "    function code_toggle() {\n",
       "        if ($('div.cell.code_cell.rendered.selected div.input').css('display')!='none'){\n",
       "            $('div.cell.code_cell.rendered.selected div.input').hide();\n",
       "        } else {\n",
       "            $('div.cell.code_cell.rendered.selected div.input').show();\n",
       "        }\n",
       "    }\n",
       "    </script>\n",
       "    <form action=\"javascript:code_toggle()\"><input type=\"submit\" id=\"toggleButton\" value=\"Code ein-/ausblenden\"></form>\n",
       "    "
      ],
      "text/plain": [
       "<IPython.core.display.HTML object>"
      ]
     },
     "metadata": {},
     "output_type": "display_data"
    }
   ],
   "source": [
    "import matplotlib.pyplot as plt\n",
    "import matplotlib.ticker as ticker\n",
    "import numpy as np\n",
    "%matplotlib inline\n",
    "\n",
    "x_values = [10, 15, 15, 20, 20, 25, 30, 30, 30, 35, 35, 40, 45, 50, 50]\n",
    "y_values = [30, 30, 100, 50, 100, 80, 50, 100, 250, 180, 330, 200, 400, 500, 600]\n",
    "\n",
    "plt.figure(figsize=(14, 8))\n",
    "plt.scatter(x=x_values, y=y_values)\n",
    "plt.title('Streudiagramm', size=16)\n",
    "plt.xlabel('Jahresgewinn (in Mio. €)', size=14)\n",
    "plt.ylabel('Jahresmiete (in 1000 €)', size=14)\n",
    "\n",
    "ax = plt.gca()\n",
    "ax.xaxis.set_major_formatter(ticker.FormatStrFormatter('%0.0f'))\n",
    "ax.yaxis.set_major_formatter(ticker.FormatStrFormatter('%0.0f'))\n",
    "\n",
    "plt.show()\n",
    "\n",
    "toggle_code()"
   ]
  }
 ],
 "metadata": {
  "kernelspec": {
   "display_name": "Python 3",
   "language": "python",
   "name": "python3"
  },
  "language_info": {
   "codemirror_mode": {
    "name": "ipython",
    "version": 3
   },
   "file_extension": ".py",
   "mimetype": "text/x-python",
   "name": "python",
   "nbconvert_exporter": "python",
   "pygments_lexer": "ipython3",
   "version": "3.7.4"
  }
 },
 "nbformat": 4,
 "nbformat_minor": 2
}
