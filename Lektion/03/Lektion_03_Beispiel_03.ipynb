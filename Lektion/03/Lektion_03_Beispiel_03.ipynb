{
 "cells": [
  {
   "cell_type": "markdown",
   "metadata": {},
   "source": [
    "# Lektion 3 - Beispiel 3"
   ]
  },
  {
   "cell_type": "markdown",
   "metadata": {},
   "source": [
    "Import von Python-Bibliotheken und notwendiger Code für diverse Funktionen"
   ]
  },
  {
   "cell_type": "code",
   "execution_count": 1,
   "metadata": {
    "code_folding": []
   },
   "outputs": [
    {
     "data": {
      "text/html": [
       "\n",
       "    <script>\n",
       "    function code_toggle() {\n",
       "        if ($('div.cell.code_cell.rendered.selected div.input').css('display')!='none'){\n",
       "            $('div.cell.code_cell.rendered.selected div.input').hide();\n",
       "        } else {\n",
       "            $('div.cell.code_cell.rendered.selected div.input').show();\n",
       "        }\n",
       "    }\n",
       "    </script>\n",
       "    <form action=\"javascript:code_toggle()\"><input type=\"submit\" id=\"toggleButton\" value=\"Code ein-/ausblenden\"></form>\n",
       "    "
      ],
      "text/plain": [
       "<IPython.core.display.HTML object>"
      ]
     },
     "metadata": {},
     "output_type": "display_data"
    }
   ],
   "source": [
    "## imports\n",
    "import math\n",
    "import pandas as pd\n",
    "from IPython.display import HTML, display\n",
    "\n",
    "\n",
    "## Der folgende Code dient zur Implementierung der Funktionalität, damit Code ein- und ausgeblendet werden kann.\n",
    "def toggle_code():\n",
    "    toggle_code_js_html = '''\n",
    "    <script>\n",
    "    function code_toggle() {\n",
    "        if ($('div.cell.code_cell.rendered.selected div.input').css('display')!='none'){\n",
    "            $('div.cell.code_cell.rendered.selected div.input').hide();\n",
    "        } else {\n",
    "            $('div.cell.code_cell.rendered.selected div.input').show();\n",
    "        }\n",
    "    }\n",
    "    </script>\n",
    "    <form action=\"javascript:code_toggle()\"><input type=\"submit\" id=\"toggleButton\" value=\"Code ein-/ausblenden\"></form>\n",
    "    '''\n",
    "    display(HTML(toggle_code_js_html))\n",
    "\n",
    "\n",
    "toggle_code()"
   ]
  },
  {
   "cell_type": "markdown",
   "metadata": {},
   "source": [
    "# Aufgabentext"
   ]
  },
  {
   "cell_type": "markdown",
   "metadata": {},
   "source": [
    "Eine sozialwissenschaftliche Analyse zum Zusammenhang zwischen Punkte im Intelligenztest (Merkmal X) und Punkte in der Klausur (Merkmal Y) ergab folgende Ergebnisse:\n",
    "\n",
    "|Person|Intelligenztest (Punkte)|Klausur (Punkte)|\n",
    "|---   |---                     |---             |\n",
    "|1     |10                      |10              |\n",
    "|2     |30                      |19              |\n",
    "|3     |10                      |30              |\n",
    "|4     |50                      |50              |\n",
    "|5     |30                      |60              |\n",
    "|6     |15                      |20              |\n",
    "\n",
    "Analysieren Sie den Zusammenhang mit Hilfe des Ihnen bekannten Instrumentariums."
   ]
  },
  {
   "cell_type": "markdown",
   "metadata": {},
   "source": [
    "# Lösung"
   ]
  },
  {
   "cell_type": "markdown",
   "metadata": {},
   "source": [
    "|i           |$$ x_i $$       |$$ y_i $$|$$ x_i - \\bar{x} $$|$$ y_i - \\bar{y} $$|$$ (x_i - \\bar{x})^2 $$|$$ (y_i - \\bar{y})^2 $$|$$ (x_i - \\bar{x})(y_i - \\bar{y}) $$|\n",
    "|---         |---             |---      |---                |---                |---                    |---                    |---                                 |\n",
    "|1       |10           |10    |-14,17             |-21,50             |200,69                 |462,25                 |304,58                              |\n",
    "|2       |30           |19    |5,83               |-12,50             |34,03                  |156,25                 |-72,92                              |\n",
    "|3       |10           |30    |-14,17             |-1,50              |200,69                 |2,25                   |21,25                               |\n",
    "|4       |50           |50    |25,83              |18,50              |667,36                 |342,25                 |477,92                              |\n",
    "|5       |30           |60    |5,83               |28,50              |34,03                  |812,25                 |166,25                              |\n",
    "|6       |15           |20    |-9,17              |-11,50             |84,03                  |132,25                 |105,42                              |\n",
    "|            |                |         |                   |                   |                       |                       |                                    |\n",
    "|$$ \\sum{} $$|145,00          |189,00   |0,00               |0,00               |1220,83                |1907,50                |1002,50                             |\n",
    "|Mittelwert  |24,17           |31,50    |                   |                   |                       |                       |                                    |\n"
   ]
  },
  {
   "cell_type": "markdown",
   "metadata": {},
   "source": [
    "## Mittelwert"
   ]
  },
  {
   "cell_type": "markdown",
   "metadata": {},
   "source": [
    "$$ \\bar{x} = \\frac{1}{n} \\sum_{i=1}^n{ x_i } $$"
   ]
  },
  {
   "cell_type": "code",
   "execution_count": 2,
   "metadata": {},
   "outputs": [
    {
     "name": "stdout",
     "output_type": "stream",
     "text": [
      "24.166666666666668\n"
     ]
    }
   ],
   "source": [
    "x_quer = 145 / 6\n",
    "print(x_quer)"
   ]
  },
  {
   "cell_type": "code",
   "execution_count": 3,
   "metadata": {},
   "outputs": [
    {
     "name": "stdout",
     "output_type": "stream",
     "text": [
      "31.5\n"
     ]
    }
   ],
   "source": [
    "y_quer = 189 / 6\n",
    "print(y_quer)"
   ]
  },
  {
   "cell_type": "markdown",
   "metadata": {},
   "source": [
    "## Varianz"
   ]
  },
  {
   "cell_type": "markdown",
   "metadata": {},
   "source": [
    "$$ s_x^2 = \\frac{1}{n} \\sum_{i=1}^n{ (x_i - \\bar{x})^2 } $$"
   ]
  },
  {
   "cell_type": "code",
   "execution_count": 13,
   "metadata": {},
   "outputs": [
    {
     "name": "stdout",
     "output_type": "stream",
     "text": [
      "203.47166666666666\n"
     ]
    }
   ],
   "source": [
    "var_x = 1220.83 / 6\n",
    "print(var_x)"
   ]
  },
  {
   "cell_type": "code",
   "execution_count": 11,
   "metadata": {},
   "outputs": [
    {
     "name": "stdout",
     "output_type": "stream",
     "text": [
      "317.9166666666667\n"
     ]
    }
   ],
   "source": [
    "var_y = 1907.50 / 6\n",
    "print(var_y)"
   ]
  },
  {
   "cell_type": "markdown",
   "metadata": {},
   "source": [
    "## Standardabweichung"
   ]
  },
  {
   "cell_type": "markdown",
   "metadata": {},
   "source": [
    "$$ s_x = \\sqrt{s_x^2} $$"
   ]
  },
  {
   "cell_type": "code",
   "execution_count": 6,
   "metadata": {},
   "outputs": [
    {
     "name": "stdout",
     "output_type": "stream",
     "text": [
      "14.26434950029852\n"
     ]
    }
   ],
   "source": [
    "std_x = math.sqrt(var_x)\n",
    "print(std_x)"
   ]
  },
  {
   "cell_type": "code",
   "execution_count": 7,
   "metadata": {},
   "outputs": [
    {
     "name": "stdout",
     "output_type": "stream",
     "text": [
      "17.83021779638899\n"
     ]
    }
   ],
   "source": [
    "std_y = math.sqrt(var_y)\n",
    "print(std_y)"
   ]
  },
  {
   "cell_type": "markdown",
   "metadata": {},
   "source": [
    "## Kovarianz"
   ]
  },
  {
   "cell_type": "markdown",
   "metadata": {},
   "source": [
    "$$ c_{XY} = \\frac{1}{n} \\sum_{i=1}^n{ (x_i - \\bar{x}) (y_i - \\bar{y}) } $$"
   ]
  },
  {
   "cell_type": "code",
   "execution_count": 8,
   "metadata": {},
   "outputs": [
    {
     "name": "stdout",
     "output_type": "stream",
     "text": [
      "167.08333333333334\n"
     ]
    }
   ],
   "source": [
    "cov_xy = 1002.50 / 6\n",
    "print(cov_xy)"
   ]
  },
  {
   "cell_type": "markdown",
   "metadata": {},
   "source": [
    "## Korrelationskoeffizient"
   ]
  },
  {
   "cell_type": "markdown",
   "metadata": {},
   "source": [
    "$$ r_{XY} = \\frac{ c_{XY} }{ s_X s_Y } $$"
   ]
  },
  {
   "cell_type": "code",
   "execution_count": 9,
   "metadata": {},
   "outputs": [
    {
     "name": "stdout",
     "output_type": "stream",
     "text": [
      "0.6569381929780826\n"
     ]
    }
   ],
   "source": [
    "corr_xy = cov_xy / (std_x * std_y)\n",
    "print(corr_xy)"
   ]
  },
  {
   "cell_type": "code",
   "execution_count": 10,
   "metadata": {},
   "outputs": [
    {
     "name": "stdout",
     "output_type": "stream",
     "text": [
      "0.6569381929780826\n"
     ]
    }
   ],
   "source": [
    "corr_xy = 1002.50 / 6 / (math.sqrt(1220.83 / 6) * math.sqrt(1907.50 / 6))\n",
    "print(corr_xy)"
   ]
  },
  {
   "cell_type": "markdown",
   "metadata": {},
   "source": [
    "# Streudiagramm"
   ]
  },
  {
   "cell_type": "code",
   "execution_count": 19,
   "metadata": {},
   "outputs": [
    {
     "data": {
      "image/png": "[encoded data removed]",
      "text/plain": [
       "<Figure size 1008x576 with 1 Axes>"
      ]
     },
     "metadata": {
      "needs_background": "light"
     },
     "output_type": "display_data"
    },
    {
     "data": {
      "text/html": [
       "\n",
       "    <script>\n",
       "    function code_toggle() {\n",
       "        if ($('div.cell.code_cell.rendered.selected div.input').css('display')!='none'){\n",
       "            $('div.cell.code_cell.rendered.selected div.input').hide();\n",
       "        } else {\n",
       "            $('div.cell.code_cell.rendered.selected div.input').show();\n",
       "        }\n",
       "    }\n",
       "    </script>\n",
       "    <form action=\"javascript:code_toggle()\"><input type=\"submit\" id=\"toggleButton\" value=\"Code ein-/ausblenden\"></form>\n",
       "    "
      ],
      "text/plain": [
       "<IPython.core.display.HTML object>"
      ]
     },
     "metadata": {},
     "output_type": "display_data"
    }
   ],
   "source": [
    "import matplotlib.pyplot as plt\n",
    "import matplotlib.ticker as ticker\n",
    "import numpy as np\n",
    "%matplotlib inline\n",
    "\n",
    "x_values = [10, 30, 10, 50, 30, 15]\n",
    "y_values = [10, 19, 30, 50, 60, 20]\n",
    "\n",
    "plt.figure(figsize=(14, 8))\n",
    "plt.scatter(x=x_values, y=y_values)\n",
    "plt.xlim(0, 52)\n",
    "plt.ylim(0, 62)\n",
    "plt.title('Streudiagramm', size=16)\n",
    "plt.xlabel('Intelligenztest (Punkte)', size=14)\n",
    "plt.ylabel('Klausur (Punkte)', size=14)\n",
    "\n",
    "ax = plt.gca()\n",
    "ax.xaxis.set_major_formatter(ticker.FormatStrFormatter('%0.0f'))\n",
    "ax.yaxis.set_major_formatter(ticker.FormatStrFormatter('%0.0f'))\n",
    "\n",
    "plt.show()\n",
    "\n",
    "toggle_code()"
   ]
  }
 ],
 "metadata": {
  "kernelspec": {
   "display_name": "Python 3",
   "language": "python",
   "name": "python3"
  },
  "language_info": {
   "codemirror_mode": {
    "name": "ipython",
    "version": 3
   },
   "file_extension": ".py",
   "mimetype": "text/x-python",
   "name": "python",
   "nbconvert_exporter": "python",
   "pygments_lexer": "ipython3",
   "version": "3.7.4"
  }
 },
 "nbformat": 4,
 "nbformat_minor": 2
}
