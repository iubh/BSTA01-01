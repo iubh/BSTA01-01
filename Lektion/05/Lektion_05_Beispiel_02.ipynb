{
 "cells": [
  {
   "cell_type": "markdown",
   "metadata": {},
   "source": [
    "# Lektion 5 - Beispiel 2"
   ]
  },
  {
   "cell_type": "markdown",
   "metadata": {},
   "source": [
    "Import von Python-Bibliotheken und notwendiger Code für diverse Funktionen"
   ]
  },
  {
   "cell_type": "code",
   "execution_count": 1,
   "metadata": {
    "code_folding": []
   },
   "outputs": [
    {
     "data": {
      "text/html": [
       "\n",
       "    <script>\n",
       "    function code_toggle() {\n",
       "        if ($('div.cell.code_cell.rendered.selected div.input').css('display')!='none'){\n",
       "            $('div.cell.code_cell.rendered.selected div.input').hide();\n",
       "        } else {\n",
       "            $('div.cell.code_cell.rendered.selected div.input').show();\n",
       "        }\n",
       "    }\n",
       "    </script>\n",
       "    <form action=\"javascript:code_toggle()\"><input type=\"submit\" id=\"toggleButton\" value=\"Code ein-/ausblenden\"></form>\n",
       "    "
      ],
      "text/plain": [
       "<IPython.core.display.HTML object>"
      ]
     },
     "metadata": {},
     "output_type": "display_data"
    }
   ],
   "source": [
    "## imports\n",
    "import math\n",
    "import pandas as pd\n",
    "from IPython.display import HTML, display\n",
    "\n",
    "\n",
    "## Der folgende Code dient zur Implementierung der Funktionalität, damit Code ein- und ausgeblendet werden kann.\n",
    "def toggle_code():\n",
    "    toggle_code_js_html = '''\n",
    "    <script>\n",
    "    function code_toggle() {\n",
    "        if ($('div.cell.code_cell.rendered.selected div.input').css('display')!='none'){\n",
    "            $('div.cell.code_cell.rendered.selected div.input').hide();\n",
    "        } else {\n",
    "            $('div.cell.code_cell.rendered.selected div.input').show();\n",
    "        }\n",
    "    }\n",
    "    </script>\n",
    "    <form action=\"javascript:code_toggle()\"><input type=\"submit\" id=\"toggleButton\" value=\"Code ein-/ausblenden\"></form>\n",
    "    '''\n",
    "    display(HTML(toggle_code_js_html))\n",
    "\n",
    "\n",
    "toggle_code()"
   ]
  },
  {
   "cell_type": "markdown",
   "metadata": {},
   "source": [
    "# Aufgabentext"
   ]
  },
  {
   "cell_type": "markdown",
   "metadata": {},
   "source": [
    "Im Finanzbereich wird häufig die Annahme getroffen, dass Renditen von Wertpapieren normalverteilt sind. Damit können die Renditen als Zufallsvariable X aufgefasst werden, der Erwartungswert $\\mu$ gibt die erwartete Rendite an, während die Standardabweichung $\\sigma$ die Schwankungen der Rendite und damit das Risiko anzeigt.  \n",
    "\n",
    "Angenommen, es gibt drei Aktien A, B und C. Die Renditen der Aktie A sind normalverteilt mit N(44%;22%), die Renditen der Aktie B sind normalverteilt mit N(36%;20%) und für Aktie C gilt N(10%;4%). Wie hoch ist die Wahrscheinlichkeit, dass ein Anleger bei der Investition in eine einzelne Aktie einen Verlust (Rendite ist kleiner als null) erleidet?"
   ]
  },
  {
   "cell_type": "markdown",
   "metadata": {},
   "source": [
    "# Lösung"
   ]
  },
  {
   "cell_type": "code",
   "execution_count": 3,
   "metadata": {},
   "outputs": [],
   "source": [
    "from scipy.stats import norm"
   ]
  },
  {
   "cell_type": "markdown",
   "metadata": {},
   "source": [
    "Gesucht ist  \n",
    "für A: P(X<0) bei N(0.44, 0.22).  \n",
    "für B: P(X<0) bei N(0.36, 0.20).  \n",
    "für C: P(X<0) bei N(0.1, 0.04).  "
   ]
  },
  {
   "cell_type": "markdown",
   "metadata": {},
   "source": [
    "### Aktie A\n",
    "\n",
    "**Wie hoch ist die Wahrscheinlichkeit, dass bei Investition in A ein Verlust auftritt?**\n",
    "\n",
    "Gesuchte Wahrscheinlichkeit:\n",
    "$$ P(Z < z) = F_{St}(z) $$\n",
    "mit $z = 0$, $ \\mu = 0.44 $ und $ \\sigma = 0.22 $"
   ]
  },
  {
   "cell_type": "code",
   "execution_count": 1,
   "metadata": {},
   "outputs": [
    {
     "name": "stdout",
     "output_type": "stream",
     "text": [
      "-2.0\n"
     ]
    }
   ],
   "source": [
    "# z-Transformation\n",
    "z = (0 - 0.44) / 0.22\n",
    "print(z)"
   ]
  },
  {
   "cell_type": "code",
   "execution_count": 5,
   "metadata": {},
   "outputs": [
    {
     "data": {
      "text/plain": [
       "0.022750131948179195"
      ]
     },
     "execution_count": 5,
     "metadata": {},
     "output_type": "execute_result"
    }
   ],
   "source": [
    "# P(Z < z) = F(z)\n",
    "norm.cdf(z)"
   ]
  },
  {
   "cell_type": "markdown",
   "metadata": {},
   "source": [
    "### Aktie B\n",
    "\n",
    "**Wie hoch ist die Wahrscheinlichkeit, dass bei Investition in B ein Verlust auftritt?**\n",
    "\n",
    "Gesuchte Wahrscheinlichkeit:\n",
    "$$ P(Z < z) = F_{St}(z) $$\n",
    "mit $z = 0$, $ \\mu = 0.36 $ und $ \\sigma = 0.2 $"
   ]
  },
  {
   "cell_type": "code",
   "execution_count": 6,
   "metadata": {},
   "outputs": [
    {
     "name": "stdout",
     "output_type": "stream",
     "text": [
      "-1.7999999999999998\n"
     ]
    }
   ],
   "source": [
    "# z-Transformation\n",
    "z = (0 - 0.36) / 0.2\n",
    "print(z)"
   ]
  },
  {
   "cell_type": "code",
   "execution_count": 7,
   "metadata": {},
   "outputs": [
    {
     "data": {
      "text/plain": [
       "0.03593031911292581"
      ]
     },
     "execution_count": 7,
     "metadata": {},
     "output_type": "execute_result"
    }
   ],
   "source": [
    "# P(Z < z) = F(z)\n",
    "norm.cdf(z)"
   ]
  },
  {
   "cell_type": "markdown",
   "metadata": {},
   "source": [
    "### Aktie C\n",
    "\n",
    "**Wie hoch ist die Wahrscheinlichkeit, dass bei Investition in C ein Verlust auftritt?**\n",
    "\n",
    "Gesuchte Wahrscheinlichkeit:\n",
    "$$ P(Z < z) = F_{St}(z) $$\n",
    "mit $z = 0$, $ \\mu = 0.1 $ und $ \\sigma = 0.04 $"
   ]
  },
  {
   "cell_type": "code",
   "execution_count": 8,
   "metadata": {},
   "outputs": [
    {
     "name": "stdout",
     "output_type": "stream",
     "text": [
      "-2.5\n"
     ]
    }
   ],
   "source": [
    "# z-Transformation\n",
    "z = (0 - 0.1) / 0.04\n",
    "print(z)"
   ]
  },
  {
   "cell_type": "code",
   "execution_count": 9,
   "metadata": {},
   "outputs": [
    {
     "data": {
      "text/plain": [
       "0.006209665325776132"
      ]
     },
     "execution_count": 9,
     "metadata": {},
     "output_type": "execute_result"
    }
   ],
   "source": [
    "# P(Z < z) = F(z)\n",
    "norm.cdf(z)"
   ]
  }
 ],
 "metadata": {
  "kernelspec": {
   "display_name": "Python 3",
   "language": "python",
   "name": "python3"
  },
  "language_info": {
   "codemirror_mode": {
    "name": "ipython",
    "version": 3
   },
   "file_extension": ".py",
   "mimetype": "text/x-python",
   "name": "python",
   "nbconvert_exporter": "python",
   "pygments_lexer": "ipython3",
   "version": "3.7.4"
  }
 },
 "nbformat": 4,
 "nbformat_minor": 2
}
