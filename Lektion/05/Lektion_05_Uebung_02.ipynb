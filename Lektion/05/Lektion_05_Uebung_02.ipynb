{
 "cells": [
  {
   "cell_type": "markdown",
   "metadata": {
        "trusted": true,
        "editable": false,
        "deletable": false
   },
   "source": [
    "# Lektion 5 - Übung 2"
   ]
  },
  {
   "cell_type": "markdown",
   "metadata": {},
   "source": [
    "Import von Python-Bibliotheken und notwendiger Code für diverse Funktionen"
   ]
  },
  {
   "cell_type": "code",
   "execution_count": 1,
   "metadata": {
    "code_folding": []
   },
   "outputs": [
    {
     "data": {
      "text/html": [
       "\n",
       "    <script>\n",
       "    function code_toggle() {\n",
       "        if ($('div.cell.code_cell.rendered.selected div.input').css('display')!='none'){\n",
       "            $('div.cell.code_cell.rendered.selected div.input').hide();\n",
       "        } else {\n",
       "            $('div.cell.code_cell.rendered.selected div.input').show();\n",
       "        }\n",
       "    }\n",
       "    </script>\n",
       "    <form action=\"javascript:code_toggle()\"><input type=\"submit\" id=\"toggleButton\" value=\"Code ein-/ausblenden\"></form>\n",
       "    "
      ],
      "text/plain": [
       "<IPython.core.display.HTML object>"
      ]
     },
     "metadata": {},
     "output_type": "display_data"
    }
   ],
   "source": [
    "## imports\n",
    "import math\n",
    "import pandas as pd\n",
    "from IPython.display import HTML, display\n",
    "\n",
    "\n",
    "## Der folgende Code dient zur Implementierung der Funktionalität, damit Code ein- und ausgeblendet werden kann.\n",
    "def toggle_code():\n",
    "    toggle_code_js_html = '''\n",
    "    <script>\n",
    "    function code_toggle() {\n",
    "        if ($('div.cell.code_cell.rendered.selected div.input').css('display')!='none'){\n",
    "            $('div.cell.code_cell.rendered.selected div.input').hide();\n",
    "        } else {\n",
    "            $('div.cell.code_cell.rendered.selected div.input').show();\n",
    "        }\n",
    "    }\n",
    "    </script>\n",
    "    <form action=\"javascript:code_toggle()\"><input type=\"submit\" id=\"toggleButton\" value=\"Code ein-/ausblenden\"></form>\n",
    "    '''\n",
    "    display(HTML(toggle_code_js_html))\n",
    "\n",
    "\n",
    "toggle_code()"
   ]
  },
  {
   "cell_type": "markdown",
   "metadata": {},
   "source": [
    "# Aufgabentext"
   ]
  },
  {
   "cell_type": "markdown",
   "metadata": {},
   "source": [
    "Im Finanzbereich wird häufig die Annahme getroffen, dass Renditen von Wertpapieren normalverteilt sind. Damit können die Renditen als Zufallsvariable X aufgefasst werden, der Erwartungswert $\\mu$ gibt die erwartete Rendite an, während die Standardabweichung $\\sigma$ die Schwankungen der Rendite und damit das Risiko anzeigt.  \n",
    "\n",
    "Angenommen, es gibt drei Aktien A, B und C. Die Renditen der Aktie A sind normalverteilt mit N(44%;22%), die Renditen der Aktie B sind normalverteilt mit N(36%;20%) und für Aktie C gilt N(10%;4%). Wie hoch ist die Wahrscheinlichkeit, dass ein Anleger bei der Investition in eine einzelne Aktie einen Verlust (Rendite ist kleiner als null) erleidet?"
   ]
  },
  {
   "cell_type": "markdown",
   "metadata": {},
   "source": [
    "# Lösung"
   ]
  },
  {
   "cell_type": "code",
   "execution_count": 2,
   "metadata": {},
   "outputs": [],
   "source": [
    "from scipy.stats import norm"
   ]
  },
  {
   "cell_type": "markdown",
   "metadata": {},
   "source": [
    "Gesucht ist  \n",
    "für A: P(X<0) bei N(0.44, 0.22).  \n",
    "für B: P(X<0) bei N(0.36, 0.20).  \n",
    "für C: P(X<0) bei N(0.1, 0.04).  "
   ]
  },
  {
   "cell_type": "markdown",
   "metadata": {},
   "source": [
    "### Aktie A\n",
    "\n",
    "**Wie hoch ist die Wahrscheinlichkeit, dass bei Investition in A ein Verlust auftritt?**\n",
    "\n",
    "Gesuchte Wahrscheinlichkeit:\n",
    "$$ P(Z < z) = F_{St}(z) $$\n",
    "mit $z = 0$, $ \\mu = 0.44 $ und $ \\sigma = 0.22 $"
   ]
  },
  {
   "cell_type": "code",
   "execution_count": 3,
   "metadata": {},
   "outputs": [
    {
     "name": "stdout",
     "output_type": "stream",
     "text": [
      "-2.0\n"
     ]
    }
   ],
   "source": [
    "# z-Transformation\n",
    "z = (0 - 0.44) / 0.22\n",
    "print(z)"
   ]
  },
  {
   "cell_type": "code",
   "execution_count": 4,
   "metadata": {},
   "outputs": [
    {
     "data": {
      "text/plain": [
       "0.022750131948179195"
      ]
     },
     "execution_count": 4,
     "metadata": {},
     "output_type": "execute_result"
    }
   ],
   "source": [
    "# P(Z < z) = F(z)\n",
    "norm.cdf(z)"
   ]
  },
  {
   "cell_type": "markdown",
   "metadata": {},
   "source": [
    "### Aktie B\n",
    "\n",
    "**Wie hoch ist die Wahrscheinlichkeit, dass bei Investition in B ein Verlust auftritt?**\n",
    "\n",
    "Gesuchte Wahrscheinlichkeit:\n",
    "$$ P(Z < z) = F_{St}(z) $$\n",
    "mit $z = 0$, $ \\mu = 0.36 $ und $ \\sigma = 0.2 $"
   ]
  },
  {
   "cell_type": "code",
   "execution_count": 5,
   "metadata": {},
   "outputs": [
    {
     "name": "stdout",
     "output_type": "stream",
     "text": [
      "-1.7999999999999998\n"
     ]
    }
   ],
   "source": [
    "# z-Transformation\n",
    "z = (0 - 0.36) / 0.2\n",
    "print(z)"
   ]
  },
  {
   "cell_type": "code",
   "execution_count": 6,
   "metadata": {},
   "outputs": [
    {
     "data": {
      "text/plain": [
       "0.03593031911292581"
      ]
     },
     "execution_count": 6,
     "metadata": {},
     "output_type": "execute_result"
    }
   ],
   "source": [
    "# P(Z < z) = F(z)\n",
    "norm.cdf(z)"
   ]
  },
  {
   "cell_type": "markdown",
   "metadata": {},
   "source": [
    "### Aktie C\n",
    "\n",
    "**Wie hoch ist die Wahrscheinlichkeit, dass bei Investition in C ein Verlust auftritt?**\n",
    "\n",
    "Gesuchte Wahrscheinlichkeit:\n",
    "$$ P(Z < z) = F_{St}(z) $$\n",
    "mit $z = 0$, $ \\mu = 0.1 $ und $ \\sigma = 0.04 $"
   ]
  },
  {
   "cell_type": "code",
   "execution_count": 7,
   "metadata": {},
   "outputs": [
    {
     "name": "stdout",
     "output_type": "stream",
     "text": [
      "-2.5\n"
     ]
    }
   ],
   "source": [
    "# z-Transformation\n",
    "z = (0 - 0.1) / 0.04\n",
    "print(z)"
   ]
  },
  {
   "cell_type": "code",
   "execution_count": 8,
   "metadata": {},
   "outputs": [
    {
     "data": {
      "text/plain": [
       "0.006209665325776132"
      ]
     },
     "execution_count": 8,
     "metadata": {},
     "output_type": "execute_result"
    }
   ],
   "source": [
    "# P(Z < z) = F(z)\n",
    "norm.cdf(z)"
   ]
  },
  {
   "cell_type": "markdown",
   "metadata": {},
   "source": [
    "# Grafik: Dichtefunktionen"
   ]
  },
  {
   "cell_type": "code",
   "execution_count": 9,
   "metadata": {},
   "outputs": [
    {
     "data": {
      "image/png": "[encoded data removed]",
      "text/plain": [
       "<Figure size 1008x576 with 1 Axes>"
      ]
     },
     "metadata": {
      "needs_background": "light"
     },
     "output_type": "display_data"
    },
    {
     "data": {
      "text/html": [
       "\n",
       "    <script>\n",
       "    function code_toggle() {\n",
       "        if ($('div.cell.code_cell.rendered.selected div.input').css('display')!='none'){\n",
       "            $('div.cell.code_cell.rendered.selected div.input').hide();\n",
       "        } else {\n",
       "            $('div.cell.code_cell.rendered.selected div.input').show();\n",
       "        }\n",
       "    }\n",
       "    </script>\n",
       "    <form action=\"javascript:code_toggle()\"><input type=\"submit\" id=\"toggleButton\" value=\"Code ein-/ausblenden\"></form>\n",
       "    "
      ],
      "text/plain": [
       "<IPython.core.display.HTML object>"
      ]
     },
     "metadata": {},
     "output_type": "display_data"
    }
   ],
   "source": [
    "import numpy as np\n",
    "import matplotlib.pyplot as plt\n",
    "%matplotlib inline\n",
    "\n",
    "fig, ax = plt.subplots(figsize=(14, 8))\n",
    "\n",
    "## A\n",
    "x_values = np.linspace(-0.5, 1.5, 1000)\n",
    "y_values = [norm.pdf(i, loc=0.44, scale=0.22) for i in x_values]\n",
    "ax.plot(x_values, y_values, label='Aktie A')\n",
    "\n",
    "## B\n",
    "x_values = np.linspace(-0.5, 1.5, 1000)\n",
    "y_values = [norm.pdf(i, loc=0.36, scale=0.2) for i in x_values]\n",
    "ax.plot(x_values, y_values, label='Aktie B')\n",
    "\n",
    "## C\n",
    "x_values = np.linspace(-0.5, 1.5, 1000)\n",
    "y_values = [norm.pdf(i, loc=0.1, scale=0.04) for i in x_values]\n",
    "ax.plot(x_values, y_values, label='Aktie C')\n",
    "\n",
    "ax.set_title('Dichtefunktionen der Rendite x der Aktien A, B und C', size=16)\n",
    "ax.set_xlabel('$x$', size=14)\n",
    "ax.set_ylabel('$f(x)$', size=14)\n",
    "\n",
    "ax.grid(True, axis='both')\n",
    "\n",
    "#ax.set_xticks(np.linspace(-3, 3, 13))\n",
    "#ax.set_xticklabels(x_labels)\n",
    "\n",
    "#ax.set_yticks(np.linspace(0.0, 1.0, 11))\n",
    "\n",
    "## Wert neben Linie schreiben\n",
    "#for x, y in zip(x_values, y_values):\n",
    "#    ax.annotate(str(y), xy=(x, y - 0.04), size=14)\n",
    "\n",
    "#major_ticks = np.arange(0, 1.1, 0.1)    \n",
    "#ax.set_yticks(major_ticks)\n",
    "\n",
    "plt.legend()\n",
    "\n",
    "plt.show()\n",
    "toggle_code()"
   ]
  },
  {
   "cell_type": "markdown",
   "metadata": {},
   "source": [
    "# Interaktive Grafik\n",
    "## Wahrscheinlichkeit für einen Verlust"
   ]
  },
  {
   "cell_type": "code",
   "execution_count": 10,
   "metadata": {},
   "outputs": [
    {
     "data": {
      "text/html": [
       "\n",
       "    <script>\n",
       "    function code_toggle() {\n",
       "        if ($('div.cell.code_cell.rendered.selected div.input').css('display')!='none'){\n",
       "            $('div.cell.code_cell.rendered.selected div.input').hide();\n",
       "        } else {\n",
       "            $('div.cell.code_cell.rendered.selected div.input').show();\n",
       "        }\n",
       "    }\n",
       "    </script>\n",
       "    <form action=\"javascript:code_toggle()\"><input type=\"submit\" id=\"toggleButton\" value=\"Code ein-/ausblenden\"></form>\n",
       "    "
      ],
      "text/plain": [
       "<IPython.core.display.HTML object>"
      ]
     },
     "metadata": {},
     "output_type": "display_data"
    }
   ],
   "source": [
    "import numpy as np\n",
    "import matplotlib.pyplot as plt\n",
    "import ipywidgets as widgets\n",
    "from ipywidgets import interact, interactive, fixed, interact_manual\n",
    "\n",
    "%matplotlib inline\n",
    "\n",
    "\n",
    "def make_plot(mu, sigma):\n",
    "    fig, ax = plt.subplots(figsize=(14, 8))\n",
    "\n",
    "    x_values = np.linspace(-0.5, 1.5, 1000)\n",
    "    y_values = [norm.pdf(i, loc=mu, scale=sigma) for i in x_values]\n",
    "    ax.plot(x_values, y_values, label='Aktie A')\n",
    "\n",
    "    ax.set_title('Dichtefunktion für $\\mu$={:.2f} und $\\sigma$={:.2f} und Wahrscheinlichkeit für Verlust, d.h. P(X)<0'.format(\n",
    "                    mu, sigma),\n",
    "                 size=16)\n",
    "    ax.set_xlabel('$x$', size=14)\n",
    "    ax.set_ylabel('$f(x)$', size=14)\n",
    "\n",
    "    ax.grid(True, axis='both')\n",
    "\n",
    "    ## Linie bei x=0\n",
    "    x = 0\n",
    "    y = norm.pdf(x, loc=mu, scale=sigma)\n",
    "    plt.vlines(x, 0, y)\n",
    "    \n",
    "    ## Text für Ergebnis\n",
    "    p_verlust = norm.cdf(x, loc=mu, scale=sigma)\n",
    "    plt.annotate(\n",
    "        'P(X<0) = {:.4f}'.format(p_verlust),\n",
    "        size=14,\n",
    "        xy=(0.1, 0.1)\n",
    "    )    \n",
    "    \n",
    "    ## Fläche markieren\n",
    "    xs = np.linspace(-0.5, 0, 250)\n",
    "    ys1 = [0 for i in xs]\n",
    "    ys2 = [norm.pdf(i, loc=mu, scale=sigma) for i in xs]\n",
    "    plt.fill_between(x=xs, y1=ys1, y2=ys2, color='yellow')\n",
    "\n",
    "\n",
    "toggle_code()"
   ]
  },
  {
   "cell_type": "code",
   "execution_count": 11,
   "metadata": {},
   "outputs": [
    {
     "data": {
      "application/vnd.jupyter.widget-view+json": {
       "model_id": "5ba03b04b8e3433cbe7e7b617fee8050",
       "version_major": 2,
       "version_minor": 0
      },
      "text/plain": [
       "interactive(children=(FloatSlider(value=0.44, continuous_update=False, description='$\\\\mu$', max=0.5, min=0.01…"
      ]
     },
     "metadata": {},
     "output_type": "display_data"
    }
   ],
   "source": [
    "interactive(\n",
    "    make_plot, \n",
    "    mu=widgets.FloatSlider(value=0.44, min=0.01, max=0.5, step=0.01, continuous_update=False, description='$\\mu$'),\n",
    "    sigma=widgets.FloatSlider(value=0.22, min=0.01, max=0.5, step=0.01, continuous_update=False, description='$\\sigma$'))"
   ]
  }
 ],
 "metadata": {
  "kernelspec": {
   "display_name": "Python 3",
   "language": "python",
   "name": "python3"
  },
  "language_info": {
   "codemirror_mode": {
    "name": "ipython",
    "version": 3
   },
   "file_extension": ".py",
   "mimetype": "text/x-python",
   "name": "python",
   "nbconvert_exporter": "python",
   "pygments_lexer": "ipython3",
   "version": "3.7.4"
  }
 },
 "nbformat": 4,
 "nbformat_minor": 2
}
