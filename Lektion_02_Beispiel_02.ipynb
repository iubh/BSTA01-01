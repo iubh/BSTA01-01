{
 "cells": [
  {
   "cell_type": "markdown",
   "metadata": {},
   "source": [
    "# Lektion 2 - Beispiel 2"
   ]
  },
  {
   "cell_type": "markdown",
   "metadata": {},
   "source": [
    "Import von Python-Bibliotheken und notwendiger Code für diverse Funktionen"
   ]
  },
  {
   "cell_type": "code",
   "execution_count": 1,
   "metadata": {},
   "outputs": [
    {
     "data": {
      "text/html": [
       "\n",
       "    <script>\n",
       "    function code_toggle() {\n",
       "        if ($('div.cell.code_cell.rendered.selected div.input').css('display')!='none'){\n",
       "            $('div.cell.code_cell.rendered.selected div.input').hide();\n",
       "        } else {\n",
       "            $('div.cell.code_cell.rendered.selected div.input').show();\n",
       "        }\n",
       "    }\n",
       "    </script>\n",
       "\n",
       "\n",
       "<form action=\"javascript:code_toggle()\"><input type=\"submit\" id=\"toggleButton\" value=\"Code ein-/ausblenden\"></form>\n"
      ],
      "text/plain": [
       "<IPython.core.display.HTML object>"
      ]
     },
     "metadata": {},
     "output_type": "display_data"
    }
   ],
   "source": [
    "## imports\n",
    "import math\n",
    "import pandas as pd\n",
    "\n",
    "## Der folgende Code dient zur Implementierung der Funktionalität, damit Code ein- und ausgeblendet werden kann.\n",
    "from IPython.display import HTML, display\n",
    "\n",
    "toggle_code_str = '''\n",
    "<form action=\"javascript:code_toggle()\"><input type=\"submit\" id=\"toggleButton\" value=\"Code ein-/ausblenden\"></form>\n",
    "'''\n",
    "\n",
    "toggle_code_prepare_str = '''\n",
    "    <script>\n",
    "    function code_toggle() {\n",
    "        if ($('div.cell.code_cell.rendered.selected div.input').css('display')!='none'){\n",
    "            $('div.cell.code_cell.rendered.selected div.input').hide();\n",
    "        } else {\n",
    "            $('div.cell.code_cell.rendered.selected div.input').show();\n",
    "        }\n",
    "    }\n",
    "    </script>\n",
    "\n",
    "'''\n",
    "\n",
    "display(HTML(toggle_code_prepare_str + toggle_code_str))\n",
    "\n",
    "def toggle_code():\n",
    "    display(HTML(toggle_code_str))\n",
    "\n",
    "\n",
    "def clean_df(df):\n",
    "    \"\"\"Convert datatypes in dataframe to string and remove .0\n",
    "    \"\"\"\n",
    "    df0 = df.copy()\n",
    "    df0 = df0.astype(str)\n",
    "    for col in df0.columns:\n",
    "        df0[col] = df0[col].apply(lambda v: v.replace('.0', ''))\n",
    "    return df0"
   ]
  },
  {
   "cell_type": "markdown",
   "metadata": {},
   "source": [
    "# Aufgabentext"
   ]
  },
  {
   "cell_type": "markdown",
   "metadata": {},
   "source": [
    "Zur Qualitätskontrolle beauftragt Sie Ihr Vorgesetzter, 20 verpackte Zuckerpakete nachzuwiegen. Es ergeben sich folgende Werte (in g):  \n",
    "\n",
    "492, 497, 478, 482, 499, 512, 503, 511, 499, 504, 508, 496, 502, 500, 499, 500, 507, 502, 500, 499.  \n",
    "\n",
    "Nutzen Sie das Ihnen bisher bekannten Instrumentarium, um die Messwerte statistisch auszuwerten."
   ]
  },
  {
   "cell_type": "markdown",
   "metadata": {},
   "source": [
    "# Lösung"
   ]
  },
  {
   "cell_type": "markdown",
   "metadata": {},
   "source": [
    "### Mittelwert"
   ]
  },
  {
   "cell_type": "markdown",
   "metadata": {},
   "source": [
    "$$ \\bar{x} = \\frac{1}{n} \\sum_{i=1}^n{x_i} $$"
   ]
  },
  {
   "cell_type": "markdown",
   "metadata": {},
   "source": [
    "Für den Mittelwert muss die Summe der Einzelelemente der Rohdaten gebildet und diese dann durch die Anzahl der Elemente geteilt werden."
   ]
  },
  {
   "cell_type": "code",
   "execution_count": 2,
   "metadata": {},
   "outputs": [],
   "source": [
    "xquer = (478 + 482 + 492 + 496 + 497 + 499 + 499 + 499 + 499 + 500 + 500 + \n",
    "         500 + 502 + 502 + 503 + 504 + 507 + 508 + 511 + 512) / 20"
   ]
  },
  {
   "cell_type": "code",
   "execution_count": 3,
   "metadata": {},
   "outputs": [
    {
     "name": "stdout",
     "output_type": "stream",
     "text": [
      "499.5\n"
     ]
    }
   ],
   "source": [
    "print(xquer)"
   ]
  },
  {
   "cell_type": "markdown",
   "metadata": {},
   "source": [
    "### Median"
   ]
  },
  {
   "cell_type": "markdown",
   "metadata": {},
   "source": [
    "Da n = 20, berechnet sich der Median aus dem Mittelwert der Elemente an den Positionen n / 2 und n / 2 + 1 bzw. den Positionen 10 und 11."
   ]
  },
  {
   "cell_type": "code",
   "execution_count": 4,
   "metadata": {},
   "outputs": [],
   "source": [
    "median = (500 + 500) / 2"
   ]
  },
  {
   "cell_type": "code",
   "execution_count": 5,
   "metadata": {},
   "outputs": [
    {
     "name": "stdout",
     "output_type": "stream",
     "text": [
      "500.0\n"
     ]
    }
   ],
   "source": [
    "print(median)"
   ]
  },
  {
   "cell_type": "markdown",
   "metadata": {},
   "source": [
    "### Mittlere absolute Abweichung MAD"
   ]
  },
  {
   "cell_type": "markdown",
   "metadata": {},
   "source": [
    "$$ MAD = \\frac{1}{n} \\sum_{i=1}^n{ \\mid x_i - \\bar{x} \\mid } $$"
   ]
  },
  {
   "cell_type": "markdown",
   "metadata": {},
   "source": [
    "Bei der mittleren absoluten Abweichung wird von jedem Element der Mittelwert abgezogen und dann der Absolutwert genommen. Die Absolutwerte werden aufaddiert und dann durch die Anzahl der Elemente geteilt."
   ]
  },
  {
   "cell_type": "code",
   "execution_count": 6,
   "metadata": {},
   "outputs": [],
   "source": [
    "mad = (abs(478 - xquer) + abs(482 - xquer) + abs(492 - xquer) + abs(496 - xquer) + \n",
    "       abs(497 - xquer) + abs(499 - xquer) + abs(499 - xquer) + abs(499 - xquer) + \n",
    "       abs(499 - xquer) + abs(500 - xquer) + abs(500 - xquer) + abs(500 - xquer) + \n",
    "       abs(502 - xquer) + abs(502 - xquer) + abs(503 - xquer) + abs(504 - xquer) + \n",
    "       abs(507 - xquer) + abs(508 - xquer) + abs(511 - xquer) + abs(512 - xquer)) / 20"
   ]
  },
  {
   "cell_type": "code",
   "execution_count": 7,
   "metadata": {},
   "outputs": [
    {
     "name": "stdout",
     "output_type": "stream",
     "text": [
      "5.45\n"
     ]
    }
   ],
   "source": [
    "print(mad)"
   ]
  },
  {
   "cell_type": "markdown",
   "metadata": {},
   "source": [
    "### Varianz"
   ]
  },
  {
   "cell_type": "markdown",
   "metadata": {},
   "source": [
    "$$ s^2 = \\frac{1}{n} \\sum_{i=1}^n{ (x_i - \\bar{x})^2 } $$"
   ]
  },
  {
   "cell_type": "markdown",
   "metadata": {},
   "source": [
    "Die Varianz wird ähnlich berechnet wie die mittlere absolute Abweichung, allerdings wird nicht der Absolutwert der Differenz zwischen Einzelelement und Mittelwert genommen, sondern die Differenz wird quadriert. Die Summe der quadrierten Abweichungen wird dann wieder durch die Anzahl der Elemente geteilt."
   ]
  },
  {
   "cell_type": "code",
   "execution_count": 8,
   "metadata": {},
   "outputs": [],
   "source": [
    "var = ((492 - xquer)**2 + (497 - xquer)**2 + (478 - xquer)**2 + (482 - xquer)**2 + \n",
    "       (499 - xquer)**2 + (512 - xquer)**2 + (503 - xquer)**2 + (511 - xquer)**2 + \n",
    "       (499 - xquer)**2 + (504 - xquer)**2 + (508 - xquer)**2 + (496 - xquer)**2 + \n",
    "       (502 - xquer)**2 + (500 - xquer)**2 + (499 - xquer)**2 + (500 - xquer)**2 + \n",
    "       (507 - xquer)**2 + (502 - xquer)**2 + (500 - xquer)**2 + (499 - xquer)**2) / 20"
   ]
  },
  {
   "cell_type": "code",
   "execution_count": 9,
   "metadata": {},
   "outputs": [
    {
     "name": "stdout",
     "output_type": "stream",
     "text": [
      "65.35\n"
     ]
    }
   ],
   "source": [
    "print(var)"
   ]
  },
  {
   "cell_type": "markdown",
   "metadata": {},
   "source": [
    "### Standardabweichung"
   ]
  },
  {
   "cell_type": "markdown",
   "metadata": {},
   "source": [
    "$$ s = \\sqrt{s^2} $$"
   ]
  },
  {
   "cell_type": "markdown",
   "metadata": {},
   "source": [
    "Bei der Standardabweichung wird die Wurzel aus der Varianz gezogen; hierfür benötigen wir bei der Umsetzung mit Python die oben importierte Bibliothek sqrt."
   ]
  },
  {
   "cell_type": "code",
   "execution_count": 10,
   "metadata": {},
   "outputs": [],
   "source": [
    "sd = math.sqrt(var)"
   ]
  },
  {
   "cell_type": "code",
   "execution_count": 11,
   "metadata": {},
   "outputs": [
    {
     "name": "stdout",
     "output_type": "stream",
     "text": [
      "8.083934685535256\n"
     ]
    }
   ],
   "source": [
    "print(sd)"
   ]
  },
  {
   "cell_type": "markdown",
   "metadata": {},
   "source": [
    "### Berechnung / Darstellung über eine Tabelle"
   ]
  },
  {
   "cell_type": "code",
   "execution_count": 12,
   "metadata": {},
   "outputs": [
    {
     "data": {
      "text/html": [
       "\n",
       "<form action=\"javascript:code_toggle()\"><input type=\"submit\" id=\"toggleButton\" value=\"Code ein-/ausblenden\"></form>\n"
      ],
      "text/plain": [
       "<IPython.core.display.HTML object>"
      ]
     },
     "metadata": {},
     "output_type": "display_data"
    }
   ],
   "source": [
    "data = [478, 482, 492, 496, 497, 499, 499, 499, 499, 500, 500, 500, 502, 502, 503, 504, 507, 508, 511, 512]\n",
    "df_raw = pd.DataFrame()\n",
    "df_raw['x'] = data\n",
    "df_raw['x-xquer'] = df_raw['x'] - df_raw['x'].mean()\n",
    "df_raw['abs(x-xquer)'] = (df_raw['x'] - df_raw['x'].mean()).abs()\n",
    "df_raw['(x-xquer)**2'] = (df_raw['x'] - df_raw['x'].mean())**2\n",
    "df_raw.index = range(1, len(df_raw) + 1)\n",
    "s = df_raw.sum().round(4)\n",
    "s.name = 'SUMME'\n",
    "df_raw = df_raw.append(s)\n",
    "dataframe = clean_df(df_raw)\n",
    "toggle_code()"
   ]
  },
  {
   "cell_type": "markdown",
   "metadata": {},
   "source": [
    "__Variante 1: mit Python erstellt__"
   ]
  },
  {
   "cell_type": "code",
   "execution_count": 13,
   "metadata": {},
   "outputs": [
    {
     "data": {
      "text/html": [
       "<div>\n",
       "<style scoped>\n",
       "    .dataframe tbody tr th:only-of-type {\n",
       "        vertical-align: middle;\n",
       "    }\n",
       "\n",
       "    .dataframe tbody tr th {\n",
       "        vertical-align: top;\n",
       "    }\n",
       "\n",
       "    .dataframe thead th {\n",
       "        text-align: right;\n",
       "    }\n",
       "</style>\n",
       "<table border=\"1\" class=\"dataframe\">\n",
       "  <thead>\n",
       "    <tr style=\"text-align: right;\">\n",
       "      <th></th>\n",
       "      <th>x</th>\n",
       "      <th>x-xquer</th>\n",
       "      <th>abs(x-xquer)</th>\n",
       "      <th>(x-xquer)**2</th>\n",
       "    </tr>\n",
       "  </thead>\n",
       "  <tbody>\n",
       "    <tr>\n",
       "      <th>1</th>\n",
       "      <td>478</td>\n",
       "      <td>-21.5</td>\n",
       "      <td>21.5</td>\n",
       "      <td>462.25</td>\n",
       "    </tr>\n",
       "    <tr>\n",
       "      <th>2</th>\n",
       "      <td>482</td>\n",
       "      <td>-17.5</td>\n",
       "      <td>17.5</td>\n",
       "      <td>306.25</td>\n",
       "    </tr>\n",
       "    <tr>\n",
       "      <th>3</th>\n",
       "      <td>492</td>\n",
       "      <td>-7.5</td>\n",
       "      <td>7.5</td>\n",
       "      <td>56.25</td>\n",
       "    </tr>\n",
       "    <tr>\n",
       "      <th>4</th>\n",
       "      <td>496</td>\n",
       "      <td>-3.5</td>\n",
       "      <td>3.5</td>\n",
       "      <td>12.25</td>\n",
       "    </tr>\n",
       "    <tr>\n",
       "      <th>5</th>\n",
       "      <td>497</td>\n",
       "      <td>-2.5</td>\n",
       "      <td>2.5</td>\n",
       "      <td>6.25</td>\n",
       "    </tr>\n",
       "    <tr>\n",
       "      <th>6</th>\n",
       "      <td>499</td>\n",
       "      <td>-0.5</td>\n",
       "      <td>0.5</td>\n",
       "      <td>0.25</td>\n",
       "    </tr>\n",
       "    <tr>\n",
       "      <th>7</th>\n",
       "      <td>499</td>\n",
       "      <td>-0.5</td>\n",
       "      <td>0.5</td>\n",
       "      <td>0.25</td>\n",
       "    </tr>\n",
       "    <tr>\n",
       "      <th>8</th>\n",
       "      <td>499</td>\n",
       "      <td>-0.5</td>\n",
       "      <td>0.5</td>\n",
       "      <td>0.25</td>\n",
       "    </tr>\n",
       "    <tr>\n",
       "      <th>9</th>\n",
       "      <td>499</td>\n",
       "      <td>-0.5</td>\n",
       "      <td>0.5</td>\n",
       "      <td>0.25</td>\n",
       "    </tr>\n",
       "    <tr>\n",
       "      <th>10</th>\n",
       "      <td>500</td>\n",
       "      <td>0.5</td>\n",
       "      <td>0.5</td>\n",
       "      <td>0.25</td>\n",
       "    </tr>\n",
       "    <tr>\n",
       "      <th>11</th>\n",
       "      <td>500</td>\n",
       "      <td>0.5</td>\n",
       "      <td>0.5</td>\n",
       "      <td>0.25</td>\n",
       "    </tr>\n",
       "    <tr>\n",
       "      <th>12</th>\n",
       "      <td>500</td>\n",
       "      <td>0.5</td>\n",
       "      <td>0.5</td>\n",
       "      <td>0.25</td>\n",
       "    </tr>\n",
       "    <tr>\n",
       "      <th>13</th>\n",
       "      <td>502</td>\n",
       "      <td>2.5</td>\n",
       "      <td>2.5</td>\n",
       "      <td>6.25</td>\n",
       "    </tr>\n",
       "    <tr>\n",
       "      <th>14</th>\n",
       "      <td>502</td>\n",
       "      <td>2.5</td>\n",
       "      <td>2.5</td>\n",
       "      <td>6.25</td>\n",
       "    </tr>\n",
       "    <tr>\n",
       "      <th>15</th>\n",
       "      <td>503</td>\n",
       "      <td>3.5</td>\n",
       "      <td>3.5</td>\n",
       "      <td>12.25</td>\n",
       "    </tr>\n",
       "    <tr>\n",
       "      <th>16</th>\n",
       "      <td>504</td>\n",
       "      <td>4.5</td>\n",
       "      <td>4.5</td>\n",
       "      <td>20.25</td>\n",
       "    </tr>\n",
       "    <tr>\n",
       "      <th>17</th>\n",
       "      <td>507</td>\n",
       "      <td>7.5</td>\n",
       "      <td>7.5</td>\n",
       "      <td>56.25</td>\n",
       "    </tr>\n",
       "    <tr>\n",
       "      <th>18</th>\n",
       "      <td>508</td>\n",
       "      <td>8.5</td>\n",
       "      <td>8.5</td>\n",
       "      <td>72.25</td>\n",
       "    </tr>\n",
       "    <tr>\n",
       "      <th>19</th>\n",
       "      <td>511</td>\n",
       "      <td>11.5</td>\n",
       "      <td>11.5</td>\n",
       "      <td>132.25</td>\n",
       "    </tr>\n",
       "    <tr>\n",
       "      <th>20</th>\n",
       "      <td>512</td>\n",
       "      <td>12.5</td>\n",
       "      <td>12.5</td>\n",
       "      <td>156.25</td>\n",
       "    </tr>\n",
       "    <tr>\n",
       "      <th>SUMME</th>\n",
       "      <td>9990</td>\n",
       "      <td>0</td>\n",
       "      <td>109</td>\n",
       "      <td>1307</td>\n",
       "    </tr>\n",
       "  </tbody>\n",
       "</table>\n",
       "</div>"
      ],
      "text/plain": [
       "          x x-xquer abs(x-xquer) (x-xquer)**2\n",
       "1       478   -21.5         21.5       462.25\n",
       "2       482   -17.5         17.5       306.25\n",
       "3       492    -7.5          7.5        56.25\n",
       "4       496    -3.5          3.5        12.25\n",
       "5       497    -2.5          2.5         6.25\n",
       "6       499    -0.5          0.5         0.25\n",
       "7       499    -0.5          0.5         0.25\n",
       "8       499    -0.5          0.5         0.25\n",
       "9       499    -0.5          0.5         0.25\n",
       "10      500     0.5          0.5         0.25\n",
       "11      500     0.5          0.5         0.25\n",
       "12      500     0.5          0.5         0.25\n",
       "13      502     2.5          2.5         6.25\n",
       "14      502     2.5          2.5         6.25\n",
       "15      503     3.5          3.5        12.25\n",
       "16      504     4.5          4.5        20.25\n",
       "17      507     7.5          7.5        56.25\n",
       "18      508     8.5          8.5        72.25\n",
       "19      511    11.5         11.5       132.25\n",
       "20      512    12.5         12.5       156.25\n",
       "SUMME  9990       0          109         1307"
      ]
     },
     "execution_count": 13,
     "metadata": {},
     "output_type": "execute_result"
    }
   ],
   "source": [
    "dataframe"
   ]
  },
  {
   "cell_type": "markdown",
   "metadata": {},
   "source": [
    "__Variante 2: mit Markdown erstellt__"
   ]
  },
  {
   "cell_type": "markdown",
   "metadata": {},
   "source": [
    "|i          |$$x_i$$|$$x_i - \\bar{x}$$|$$\\mid x_i - \\bar{x} \\mid$$|$$(x - \\bar{x})^2$$|\n",
    "|---        |---    |---              |---                        |---                |\n",
    "|1          |492    |-7,5             |7,5                        |56,25              |\n",
    "|2          |497    |-2,5             |2,5                        |6,25               |\n",
    "|3          |478    |-21,5            |21,5                       |462,25             |\n",
    "|4          |482    |-17,5            |17,5                       |306,25             |\n",
    "|5          |499    |-0,5             |0,5                        |0,25               |\n",
    "|6          |512    |12,5             |12,5                       |156,25             |\n",
    "|7          |503    |3,5              |3,5                        |12,25              |\n",
    "|8          |511    |11,5             |11,5                       |132,25             |\n",
    "|9          |499    |-0,5             |0,5                        |0,25               |\n",
    "|10         |504    |4,5              |4,5                        |20,25              |\n",
    "|11         |508    |8,5              |8,5                        |72,25              |\n",
    "|12         |496    |-3,5             |3,5                        |12,25              |\n",
    "|13         |502    |2,5              |2,5                        |6,25               |\n",
    "|14         |500    |0,5              |0,5                        |0,25               |\n",
    "|15         |499    |-0,5             |0,5                        |0,25               |\n",
    "|16         |500    |0,5              |0,5                        |0,25               |\n",
    "|17         |507    |7,5              |7,5                        |56,25              |\n",
    "|18         |502    |2,5              |2,5                        |6,25               |\n",
    "|19         |500    |0,5              |0,5                        |0,25               |\n",
    "|20         |499    |-0,5             |0,5                        |0,25               |\n",
    "|**SUMME**  |9990   |0                |109                        |1307               |\n",
    "|$$\\bar{x}$$|499,5  |                 |                           |                   |\n"
   ]
  },
  {
   "cell_type": "code",
   "execution_count": 14,
   "metadata": {},
   "outputs": [
    {
     "data": {
      "text/plain": [
       "499.5"
      ]
     },
     "execution_count": 14,
     "metadata": {},
     "output_type": "execute_result"
    }
   ],
   "source": [
    "## Berechnung Mittelwert\n",
    "9990 / 20"
   ]
  },
  {
   "cell_type": "code",
   "execution_count": 15,
   "metadata": {},
   "outputs": [
    {
     "data": {
      "text/plain": [
       "5.45"
      ]
     },
     "execution_count": 15,
     "metadata": {},
     "output_type": "execute_result"
    }
   ],
   "source": [
    "## Berechnung MAD\n",
    "109 / 20"
   ]
  },
  {
   "cell_type": "code",
   "execution_count": 16,
   "metadata": {},
   "outputs": [
    {
     "data": {
      "text/plain": [
       "65.35"
      ]
     },
     "execution_count": 16,
     "metadata": {},
     "output_type": "execute_result"
    }
   ],
   "source": [
    "## Berechnung Varianz\n",
    "1307 / 20"
   ]
  },
  {
   "cell_type": "code",
   "execution_count": 17,
   "metadata": {},
   "outputs": [
    {
     "data": {
      "text/plain": [
       "8.083934685535256"
      ]
     },
     "execution_count": 17,
     "metadata": {},
     "output_type": "execute_result"
    }
   ],
   "source": [
    "## Berechnung Standardabweichung\n",
    "math.sqrt(1307 / 20)"
   ]
  }
 ],
 "metadata": {
  "kernelspec": {
   "display_name": "Python 3",
   "language": "python",
   "name": "python3"
  },
  "language_info": {
   "codemirror_mode": {
    "name": "ipython",
    "version": 3
   },
   "file_extension": ".py",
   "mimetype": "text/x-python",
   "name": "python",
   "nbconvert_exporter": "python",
   "pygments_lexer": "ipython3",
   "version": "3.7.4"
  }
 },
 "nbformat": 4,
 "nbformat_minor": 2
}
