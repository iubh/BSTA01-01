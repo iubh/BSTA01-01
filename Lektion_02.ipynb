{
 "cells": [
  {
   "cell_type": "markdown",
   "metadata": {},
   "source": [
    "# Lektion 2 - Aufgabentext"
   ]
  },
  {
   "cell_type": "markdown",
   "metadata": {},
   "source": [
    "Der zu bearbeitende Aufgabentext lautet:\n",
    "> In einer Mathearbeit, bei der maximal 10 Punkte erreicht werden konnten, haben 50\n",
    "Schüler teilgenommen. Die Beobachtungswerte sind: 0, 1, 1, 1, 2, 2, 2, 2, 3, 3, 4, 4, 4,\n",
    "4, 4, 5, 5, 5, 5, 5, 5, 6, 6, 6, 6, 6, 6, 6, 6, 7, 7, 7, 7, 7, 7, 7, 7, 7, 7, 8, 8, 8, 8, 9, 9, 9, 9, 9,\n",
    "10, 10. Der Lehrer möchte das Ergebnis gerne statistisch auswerten. Sie können ihm\n",
    "bei dieser Aufgabe helfen, indem Sie das Ihnen bisher bekannte Instrumentarium\n",
    "anwenden. Hinweis: Es konnten nur ganze Punkte verteilt werden."
   ]
  },
  {
   "cell_type": "markdown",
   "metadata": {},
   "source": [
    "# Notwendige Python-Bibliotheken"
   ]
  },
  {
   "cell_type": "markdown",
   "metadata": {},
   "source": [
    "**Allgemein**  \n",
    "Python bringt sogenannte \"built-in\"-Funktionen mit, welche nicht über Bibliotheken importiert oder selbst geschrieben werden müssen; hierzu gehören z.B. \"len\" (Länge einer Sequenz) und \"sum\" (Summe einer Sequenz).  \n",
    "Weitere benötigte Funktionen müssen entweder über eine Bibliothek importiert oder sie müssen selbst geschrieben werden.\n",
    "Für die Berechnung von Wurzeln benötigen wir die Bibliothek \"math\".\n",
    "Für die Berechnung der Ergebnisse der eigentlichen Aufgaben (z.B. des Mittelwerts) schreiben wir selbst Funktionen."
   ]
  },
  {
   "cell_type": "code",
   "execution_count": 1,
   "metadata": {},
   "outputs": [],
   "source": [
    "import math"
   ]
  },
  {
   "cell_type": "markdown",
   "metadata": {},
   "source": [
    "# Erstellung der Daten"
   ]
  },
  {
   "cell_type": "markdown",
   "metadata": {},
   "source": [
    "Die Rohdaten speichern wir in Form einer Python-Liste."
   ]
  },
  {
   "cell_type": "code",
   "execution_count": 2,
   "metadata": {},
   "outputs": [],
   "source": [
    "data = [0, \n",
    "        1, 1, 1, \n",
    "        2, 2, 2, 2, \n",
    "        3, 3, \n",
    "        4, 4, 4, 4, 4, \n",
    "        5, 5, 5, 5, 5, 5, \n",
    "        6, 6, 6, 6, 6, 6, 6, 6, \n",
    "        7, 7, 7, 7, 7, 7, 7, 7, 7, 7, \n",
    "        8, 8, 8, 8, \n",
    "        9, 9, 9, 9, 9,\n",
    "        10, 10]"
   ]
  },
  {
   "cell_type": "markdown",
   "metadata": {},
   "source": [
    "# Lösung - Variante 1: Berechnung aus den Rohdaten"
   ]
  },
  {
   "cell_type": "markdown",
   "metadata": {},
   "source": [
    "## Mittelwert"
   ]
  },
  {
   "cell_type": "markdown",
   "metadata": {},
   "source": [
    "$$ \\bar{x} = \\frac{1}{n} \\sum_{i=1}^n{x_i} $$"
   ]
  },
  {
   "cell_type": "markdown",
   "metadata": {},
   "source": [
    "Die Länge einer Liste (d.h. in diesem Fall die Anzahl n der Beobachtungen) können wir mit der Funktion \"len\" ermitteln.  \n",
    "Die Summe der Werte einer Liste können wir mit der Funktion \"sum\" ermitteln."
   ]
  },
  {
   "cell_type": "code",
   "execution_count": 3,
   "metadata": {},
   "outputs": [],
   "source": [
    "def mean(values):\n",
    "    \"\"\"Berechne den Mittelwert einer Liste von Beobachtungswerten.\n",
    "    \"\"\"\n",
    "    n = len(values)\n",
    "    sum_ = sum(values)\n",
    "    return 1 / n * sum_"
   ]
  },
  {
   "cell_type": "code",
   "execution_count": 4,
   "metadata": {},
   "outputs": [
    {
     "data": {
      "text/plain": [
       "5.64"
      ]
     },
     "execution_count": 4,
     "metadata": {},
     "output_type": "execute_result"
    }
   ],
   "source": [
    "mean(data)"
   ]
  },
  {
   "cell_type": "markdown",
   "metadata": {},
   "source": [
    "## Mittlere absolute Abweichung MAD"
   ]
  },
  {
   "cell_type": "markdown",
   "metadata": {},
   "source": [
    "$$ MAD = \\frac{1}{n} \\sum_{i=1}^n{ \\mid x_i - \\bar{x} \\mid } $$"
   ]
  },
  {
   "cell_type": "markdown",
   "metadata": {},
   "source": [
    "Zur Berechnung des Mittelwerts verwenden wird die oben definierte Funktion \"mean\".  \n",
    "Den Absolutwert berechnen wir mit der Built-In-Funktion \"abs\"."
   ]
  },
  {
   "cell_type": "code",
   "execution_count": 5,
   "metadata": {},
   "outputs": [],
   "source": [
    "def mad(values):\n",
    "    \"\"\"Berechne die mittlere absolute Abweichung einer Liste von Beobachtungswerten.\n",
    "    \"\"\"\n",
    "    n = len(values)\n",
    "    x_quer = mean(values)\n",
    "    sum_ = sum([abs(i - x_quer) for i in values])\n",
    "    return 1 / n * sum_"
   ]
  },
  {
   "cell_type": "code",
   "execution_count": 6,
   "metadata": {},
   "outputs": [
    {
     "data": {
      "text/plain": [
       "2.0576"
      ]
     },
     "execution_count": 6,
     "metadata": {},
     "output_type": "execute_result"
    }
   ],
   "source": [
    "mad(data)"
   ]
  },
  {
   "cell_type": "markdown",
   "metadata": {},
   "source": [
    "## Varianz"
   ]
  },
  {
   "cell_type": "markdown",
   "metadata": {},
   "source": [
    "$$ s^2 = \\frac{1}{n} \\sum_{i=1}^n{ (x_i - \\bar{x})^2 } $$"
   ]
  },
  {
   "cell_type": "markdown",
   "metadata": {},
   "source": [
    "Hier greifen wir ebenfalls auf die oben erstellte Funktion \"mean\" zurück."
   ]
  },
  {
   "cell_type": "code",
   "execution_count": 7,
   "metadata": {},
   "outputs": [],
   "source": [
    "def var(values):\n",
    "    \"\"\"Berechne die Varianz einer Liste von Beobachtungswerten.\n",
    "    \"\"\"\n",
    "    n = len(values)\n",
    "    x_quer = mean(values)\n",
    "    sum_ = sum([(i - x_quer)**2 for i in values])\n",
    "    return 1 / n * sum_"
   ]
  },
  {
   "cell_type": "code",
   "execution_count": 8,
   "metadata": {},
   "outputs": [
    {
     "data": {
      "text/plain": [
       "6.310400000000006"
      ]
     },
     "execution_count": 8,
     "metadata": {},
     "output_type": "execute_result"
    }
   ],
   "source": [
    "var(data)"
   ]
  },
  {
   "cell_type": "markdown",
   "metadata": {},
   "source": [
    "## Standardabweichung"
   ]
  },
  {
   "cell_type": "markdown",
   "metadata": {},
   "source": [
    "$$ s = \\sqrt{s^2} $$"
   ]
  },
  {
   "cell_type": "markdown",
   "metadata": {},
   "source": [
    "Für die Berechnung der Standardabweichung benötigen wir eine Wurzelfunktion \"sqrt\". Diese ist in der oben importierten Bibliothek \"math\" vorhanden. Die Varianz haben wir bereits definiert."
   ]
  },
  {
   "cell_type": "code",
   "execution_count": 9,
   "metadata": {},
   "outputs": [],
   "source": [
    "def stdev(values):\n",
    "    \"\"\"Berechne die Standardabweichung einer Liste von Beobachtungswerten.\n",
    "    \"\"\"\n",
    "    s2 = var(values)\n",
    "    return math.sqrt(s2)"
   ]
  },
  {
   "cell_type": "code",
   "execution_count": 10,
   "metadata": {},
   "outputs": [
    {
     "data": {
      "text/plain": [
       "2.512050954897214"
      ]
     },
     "execution_count": 10,
     "metadata": {},
     "output_type": "execute_result"
    }
   ],
   "source": [
    "stdev(data)"
   ]
  },
  {
   "cell_type": "markdown",
   "metadata": {},
   "source": [
    "# Lösung - Variante 2: Berechnung aus der Häufigkeitsverteilung"
   ]
  },
  {
   "cell_type": "markdown",
   "metadata": {},
   "source": [
    "Für die Berechnung der Häufigkeitsverteilung definieren wir eine Funktion, welche aus einer Liste von Werten ein Dictionary erzeugt, welches für jeden Wert in den Rohdaten die zugehörige Häufigkeit liefert."
   ]
  },
  {
   "cell_type": "code",
   "execution_count": 11,
   "metadata": {},
   "outputs": [],
   "source": [
    "def haeufigkeitsverteilung(values):\n",
    "    \"\"\"Berechne ein Dictionary mit der Häufigkeitsverteilung für eine Liste von Beobachtungswerten.\n",
    "    \"\"\"\n",
    "    haeuf = {}\n",
    "    for i in values:\n",
    "        if i in haeuf:\n",
    "            haeuf[i] = haeuf[i] + 1\n",
    "        else:\n",
    "            haeuf[i] = 1\n",
    "    return haeuf"
   ]
  },
  {
   "cell_type": "code",
   "execution_count": 12,
   "metadata": {},
   "outputs": [
    {
     "data": {
      "text/plain": [
       "{0: 1, 1: 3, 2: 4, 3: 2, 4: 5, 5: 6, 6: 8, 7: 10, 8: 4, 9: 5, 10: 2}"
      ]
     },
     "execution_count": 12,
     "metadata": {},
     "output_type": "execute_result"
    }
   ],
   "source": [
    "haeuf = haeufigkeitsverteilung(data)\n",
    "haeuf"
   ]
  },
  {
   "cell_type": "markdown",
   "metadata": {},
   "source": [
    "Die \"Schlüssel\" bzw. Werte der Häufigkeitsverteilung erhalten wir mit der Methode *keys*."
   ]
  },
  {
   "cell_type": "code",
   "execution_count": 13,
   "metadata": {},
   "outputs": [
    {
     "data": {
      "text/plain": [
       "dict_keys([0, 1, 2, 3, 4, 5, 6, 7, 8, 9, 10])"
      ]
     },
     "execution_count": 13,
     "metadata": {},
     "output_type": "execute_result"
    }
   ],
   "source": [
    "haeuf.keys()"
   ]
  },
  {
   "cell_type": "markdown",
   "metadata": {},
   "source": [
    "Die Werte des Dictionaries - in unserem Fall entsprechen diese den Häufigkeiten - erhalten wir mit der Methode *values*."
   ]
  },
  {
   "cell_type": "code",
   "execution_count": 14,
   "metadata": {},
   "outputs": [
    {
     "data": {
      "text/plain": [
       "dict_values([1, 3, 4, 2, 5, 6, 8, 10, 4, 5, 2])"
      ]
     },
     "execution_count": 14,
     "metadata": {},
     "output_type": "execute_result"
    }
   ],
   "source": [
    "haeuf.values()"
   ]
  },
  {
   "cell_type": "markdown",
   "metadata": {},
   "source": [
    "Bei den Funktionen für Variante 2 hängen wir ein \"haeuf\" an, um diese von den Funktionen zu unterscheiden, welche direkt mit den Rohdaten bzw. einer Liste arbeiten."
   ]
  },
  {
   "cell_type": "markdown",
   "metadata": {},
   "source": [
    "## Mittelwert"
   ]
  },
  {
   "cell_type": "markdown",
   "metadata": {},
   "source": [
    "$$ \\bar{x} = \\frac{1}{n} \\sum_{j = 1}^m{ h(x_j)x_j } $$"
   ]
  },
  {
   "cell_type": "code",
   "execution_count": 15,
   "metadata": {},
   "outputs": [],
   "source": [
    "def mean_haeuf(dhaeuf):\n",
    "    \"\"\"Berechne den Mittelwert aus einem Dictionary mit einer Häufigkeitsverteilung.\n",
    "    \"\"\"\n",
    "    n = sum(dhaeuf.values())\n",
    "    merkmale = dhaeuf.keys()\n",
    "    sum_ = sum([dhaeuf[i] * i for i in merkmale])\n",
    "    return 1 / n * sum_"
   ]
  },
  {
   "cell_type": "code",
   "execution_count": 16,
   "metadata": {},
   "outputs": [
    {
     "data": {
      "text/plain": [
       "5.64"
      ]
     },
     "execution_count": 16,
     "metadata": {},
     "output_type": "execute_result"
    }
   ],
   "source": [
    "mean_haeuf(haeufigkeitsverteilung(data))"
   ]
  },
  {
   "cell_type": "markdown",
   "metadata": {},
   "source": [
    "## Varianz"
   ]
  },
  {
   "cell_type": "markdown",
   "metadata": {},
   "source": [
    "$$ s^2 = \\frac{1}{n} \\sum_{j = 1}^m{ h(x_j)(x_j - \\bar{x})^2 } $$"
   ]
  },
  {
   "cell_type": "code",
   "execution_count": 17,
   "metadata": {},
   "outputs": [],
   "source": [
    "def var_haeuf(dhaeuf):\n",
    "    \"\"\"Berechne die Varianz aus einem Dictionary mit einer Häufigkeitsverteilung.\n",
    "    \"\"\"\n",
    "    n = sum(dhaeuf.values())\n",
    "    x_quer = mean_haeuf(dhaeuf)\n",
    "    merkmale = dhaeuf.keys()\n",
    "    sum_ = sum([dhaeuf[i] * ((i - x_quer)**2) for i in merkmale])\n",
    "    return 1 / n * sum_"
   ]
  },
  {
   "cell_type": "code",
   "execution_count": 18,
   "metadata": {},
   "outputs": [
    {
     "data": {
      "text/plain": [
       "6.310400000000001"
      ]
     },
     "execution_count": 18,
     "metadata": {},
     "output_type": "execute_result"
    }
   ],
   "source": [
    "var_haeuf(haeufigkeitsverteilung(data))"
   ]
  },
  {
   "cell_type": "markdown",
   "metadata": {},
   "source": [
    "## Standardabweichung"
   ]
  },
  {
   "cell_type": "markdown",
   "metadata": {},
   "source": [
    "$$ s = \\sqrt{s^2} $$"
   ]
  },
  {
   "cell_type": "code",
   "execution_count": 19,
   "metadata": {},
   "outputs": [],
   "source": [
    "def stdev_haeuf(dhaeuf):\n",
    "    \"\"\"Berechne die Standardabweichung aus einem Dictionary mit einer Häufigkeitsverteilung.\n",
    "    \"\"\"\n",
    "    s2 = var_haeuf(dhaeuf)\n",
    "    return math.sqrt(s2)"
   ]
  },
  {
   "cell_type": "code",
   "execution_count": 20,
   "metadata": {},
   "outputs": [
    {
     "data": {
      "text/plain": [
       "2.512050954897213"
      ]
     },
     "execution_count": 20,
     "metadata": {},
     "output_type": "execute_result"
    }
   ],
   "source": [
    "stdev_haeuf(haeufigkeitsverteilung(data))"
   ]
  },
  {
   "cell_type": "markdown",
   "metadata": {},
   "source": [
    "# Grafik"
   ]
  },
  {
   "cell_type": "markdown",
   "metadata": {},
   "source": [
    "Für die Erstellung der Grafik benötigen wird die Bibliothek *matplotlib*."
   ]
  },
  {
   "cell_type": "code",
   "execution_count": 21,
   "metadata": {},
   "outputs": [],
   "source": [
    "import matplotlib.pyplot as plt\n",
    "%matplotlib inline\n",
    "# %matplotlib notebook"
   ]
  },
  {
   "cell_type": "code",
   "execution_count": 22,
   "metadata": {},
   "outputs": [
    {
     "data": {
      "text/plain": [
       "[0, 1, 2, 3, 4, 5, 6, 7, 8, 9, 10]"
      ]
     },
     "execution_count": 22,
     "metadata": {},
     "output_type": "execute_result"
    }
   ],
   "source": [
    "x_values = list(haeuf.keys())\n",
    "x_values"
   ]
  },
  {
   "cell_type": "code",
   "execution_count": 23,
   "metadata": {},
   "outputs": [
    {
     "data": {
      "text/plain": [
       "[1, 3, 4, 2, 5, 6, 8, 10, 4, 5, 2]"
      ]
     },
     "execution_count": 23,
     "metadata": {},
     "output_type": "execute_result"
    }
   ],
   "source": [
    "y_values = list(haeuf.values())\n",
    "y_values"
   ]
  },
  {
   "cell_type": "code",
   "execution_count": 33,
   "metadata": {},
   "outputs": [
    {
     "data": {
      "image/png": "[encoded data removed]",
      "text/plain": [
       "<Figure size 1008x576 with 1 Axes>"
      ]
     },
     "metadata": {
      "needs_background": "light"
     },
     "output_type": "display_data"
    }
   ],
   "source": [
    "plt.figure(figsize=(14, 8))\n",
    "plt.bar(x=x_values, height=y_values, width=0.6)\n",
    "plt.title('Häufigkeitsverteilung', size=16)\n",
    "plt.ylabel('absolute Häufigkeit $h(x_j)$', size=14)\n",
    "plt.xticks(x_values)\n",
    "plt.grid(True, axis='y')\n",
    "plt.ylim((0, 12))\n",
    "plt.show()"
   ]
  },
  {
   "cell_type": "markdown",
   "metadata": {},
   "source": [
    "# ========== Anhang =========="
   ]
  },
  {
   "cell_type": "markdown",
   "metadata": {},
   "source": [
    "## Überprüfung der definierten Daten mit den Vorgaben bzw. der Aufgabenstellung"
   ]
  },
  {
   "cell_type": "code",
   "execution_count": 25,
   "metadata": {},
   "outputs": [],
   "source": [
    "assert len(data) == 50, 'Anzahl Beobachtungen ist 50'\n",
    "assert sum(data) == 282, 'Summe der Datenpunkte ist 282'"
   ]
  },
  {
   "cell_type": "code",
   "execution_count": 26,
   "metadata": {},
   "outputs": [],
   "source": [
    "mean_ = sum(data) / len(data)\n",
    "assert round(sum([i - mean_ for i in data]), 4) == 0, 'Summe der Abweichungen ist 0'\n",
    "assert round(sum([abs(i - mean_) for i in data]), 4) == 102.88, 'Summe der absoluten Abweichungen ist 102.88'\n",
    "assert round(sum([(i - mean_)**2 for i in data]), 4) == 315.52, 'Summe der quadrierten Abweichungen ist 315.52'"
   ]
  },
  {
   "cell_type": "markdown",
   "metadata": {},
   "source": [
    "## Vergleich der selbst definierten Funktionen mit numpy-/scipy-Funktionen"
   ]
  },
  {
   "cell_type": "code",
   "execution_count": 27,
   "metadata": {},
   "outputs": [],
   "source": [
    "import numpy as np\n",
    "from scipy import stats"
   ]
  },
  {
   "cell_type": "code",
   "execution_count": 28,
   "metadata": {},
   "outputs": [
    {
     "data": {
      "text/plain": [
       "True"
      ]
     },
     "execution_count": 28,
     "metadata": {},
     "output_type": "execute_result"
    }
   ],
   "source": [
    "np.mean(data) == mean(data)"
   ]
  },
  {
   "cell_type": "code",
   "execution_count": 29,
   "metadata": {},
   "outputs": [
    {
     "data": {
      "text/plain": [
       "True"
      ]
     },
     "execution_count": 29,
     "metadata": {},
     "output_type": "execute_result"
    }
   ],
   "source": [
    "round(np.var(data), 4) == round(var(data), 4)"
   ]
  },
  {
   "cell_type": "code",
   "execution_count": 30,
   "metadata": {},
   "outputs": [
    {
     "data": {
      "text/plain": [
       "True"
      ]
     },
     "execution_count": 30,
     "metadata": {},
     "output_type": "execute_result"
    }
   ],
   "source": [
    "round(np.std(data), 4) == round(stdev(data), 4)"
   ]
  },
  {
   "cell_type": "markdown",
   "metadata": {},
   "source": [
    "## Validierung der Ergebnisse der Häufigkeitsfunktion"
   ]
  },
  {
   "cell_type": "code",
   "execution_count": 31,
   "metadata": {},
   "outputs": [],
   "source": [
    "assert sum(haeuf.values()) == 50, 'Summe der Beobachtungen ist 50'\n",
    "assert sum([haeuf[i] * i for i in haeuf]) == 282, 'Summe der Datenpunkte ist 282'"
   ]
  }
 ],
 "metadata": {
  "kernelspec": {
   "display_name": "Python 3",
   "language": "python",
   "name": "python3"
  },
  "language_info": {
   "codemirror_mode": {
    "name": "ipython",
    "version": 3
   },
   "file_extension": ".py",
   "mimetype": "text/x-python",
   "name": "python",
   "nbconvert_exporter": "python",
   "pygments_lexer": "ipython3",
   "version": "3.7.4"
  }
 },
 "nbformat": 4,
 "nbformat_minor": 2
}
