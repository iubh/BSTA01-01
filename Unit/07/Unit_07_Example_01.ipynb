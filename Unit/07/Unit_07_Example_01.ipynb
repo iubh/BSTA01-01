{
 "cells": [
  {
   "cell_type": "markdown",
   "metadata": {},
   "source": [
    "# Unit 7 - Example 1"
   ]
  },
  {
   "cell_type": "markdown",
   "metadata": {},
   "source": [
    "Import of Python libraries"
   ]
  },
  {
   "cell_type": "code",
   "execution_count": 1,
   "metadata": {
    "code_folding": []
   },
   "outputs": [
    {
     "data": {
      "text/html": [
       "\n",
       "    <script>\n",
       "    function code_toggle() {\n",
       "        if ($('div.cell.code_cell.rendered.selected div.input').css('display')!='none'){\n",
       "            $('div.cell.code_cell.rendered.selected div.input').hide();\n",
       "        } else {\n",
       "            $('div.cell.code_cell.rendered.selected div.input').show();\n",
       "        }\n",
       "    }\n",
       "    </script>\n",
       "    <form action=\"javascript:code_toggle()\"><input type=\"submit\" id=\"toggleButton\" value=\"Toggle code\"></form>\n",
       "    "
      ],
      "text/plain": [
       "<IPython.core.display.HTML object>"
      ]
     },
     "metadata": {},
     "output_type": "display_data"
    }
   ],
   "source": [
    "## imports\n",
    "import math\n",
    "import pandas as pd\n",
    "from IPython.display import HTML, display\n",
    "\n",
    "\n",
    "## Der folgende Code dient zur Implementierung der Funktionalität, damit Code ein- und ausgeblendet werden kann.\n",
    "def toggle_code():\n",
    "    toggle_code_js_html = '''\n",
    "    <script>\n",
    "    function code_toggle() {\n",
    "        if ($('div.cell.code_cell.rendered.selected div.input').css('display')!='none'){\n",
    "            $('div.cell.code_cell.rendered.selected div.input').hide();\n",
    "        } else {\n",
    "            $('div.cell.code_cell.rendered.selected div.input').show();\n",
    "        }\n",
    "    }\n",
    "    </script>\n",
    "    <form action=\"javascript:code_toggle()\"><input type=\"submit\" id=\"toggleButton\" value=\"Toggle code\"></form>\n",
    "    '''\n",
    "    display(HTML(toggle_code_js_html))\n",
    "\n",
    "\n",
    "toggle_code()"
   ]
  },
  {
   "cell_type": "markdown",
   "metadata": {},
   "source": [
    "# Exercise"
   ]
  },
  {
   "cell_type": "markdown",
   "metadata": {},
   "source": [
    "In a company the number of hours of overtime of the employees should be estimated. Let's assume the attribute X \"hours of overtime\" in the population follows a normal distribution. A sample with sample size 41 shows a sample mean of 10 hours and a sample variance of 15 hours^2. The probability of confidence is set to 95%.  \n",
    "\n",
    "Compute the confidence interval and visualize the result. Discuss how the confidence interval changes (given all other parameters are constant) if  \n",
    "(i) the sample size increases  \n",
    "(ii) the probability of confidence increases  \n",
    "(iii) the sample standard deviation decreases.  "
   ]
  },
  {
   "cell_type": "markdown",
   "metadata": {},
   "source": [
    "# Solution"
   ]
  },
  {
   "cell_type": "markdown",
   "metadata": {},
   "source": [
    "**1. Determing the probability of confidence 1 - $\\alpha$**"
   ]
  },
  {
   "cell_type": "markdown",
   "metadata": {},
   "source": [
    "The probability of confidence is 1 - $\\alpha$ = 0.95, i.e. $\\alpha$ = 0.05"
   ]
  },
  {
   "cell_type": "markdown",
   "metadata": {},
   "source": [
    "**2. Determine the degrees of freedom and the t-value**"
   ]
  },
  {
   "cell_type": "markdown",
   "metadata": {},
   "source": [
    "The degrees of freedom are n - 1 = 41 - 1 = 40.  \n",
    "\n",
    "The t-value for 40 degrees of freedom and a probability of confidence of 95% is 2.0211."
   ]
  },
  {
   "cell_type": "code",
   "execution_count": 3,
   "metadata": {},
   "outputs": [],
   "source": [
    "import math\n",
    "from scipy.stats import t"
   ]
  },
  {
   "cell_type": "code",
   "execution_count": 4,
   "metadata": {},
   "outputs": [
    {
     "name": "stdout",
     "output_type": "stream",
     "text": [
      "2.0210753829953374\n"
     ]
    }
   ],
   "source": [
    "# For a 2-sided confidence interval we use 1 - alpha / 2 = 1 - 0.05 / 2 = 1 - 0.025 = 0.975\n",
    "t_value = t.ppf(0.975, 40)\n",
    "print(t_value)"
   ]
  },
  {
   "cell_type": "markdown",
   "metadata": {},
   "source": [
    "**3. Computation of the sample mean $\\bar{x}$ and the sample standard deviation s**"
   ]
  },
  {
   "cell_type": "code",
   "execution_count": 5,
   "metadata": {},
   "outputs": [
    {
     "name": "stdout",
     "output_type": "stream",
     "text": [
      "10\n"
     ]
    }
   ],
   "source": [
    "x_mean = 10\n",
    "print(x_mean)"
   ]
  },
  {
   "cell_type": "code",
   "execution_count": 6,
   "metadata": {},
   "outputs": [
    {
     "name": "stdout",
     "output_type": "stream",
     "text": [
      "3.872983346207417\n"
     ]
    }
   ],
   "source": [
    "x_variance = 15\n",
    "x_std = math.sqrt(x_variance)\n",
    "print(x_std)"
   ]
  },
  {
   "cell_type": "markdown",
   "metadata": {},
   "source": [
    "**4. Computation of the estimated standard deviation of the sample mean $\\hat{\\sigma}_\\bar{x} = \\frac{s}{\\sqrt{n}}$**"
   ]
  },
  {
   "cell_type": "code",
   "execution_count": 7,
   "metadata": {},
   "outputs": [
    {
     "name": "stdout",
     "output_type": "stream",
     "text": [
      "0.604858378909134\n"
     ]
    }
   ],
   "source": [
    "standard_error = x_std / math.sqrt(41)\n",
    "print(standard_error)"
   ]
  },
  {
   "cell_type": "markdown",
   "metadata": {},
   "source": [
    "**5. Computation of the sample error $\\delta = t_{1-\\alpha} \\hat{\\sigma}_\\bar{x}$**"
   ]
  },
  {
   "cell_type": "code",
   "execution_count": 8,
   "metadata": {},
   "outputs": [
    {
     "name": "stdout",
     "output_type": "stream",
     "text": [
      "1.2224643798117167\n"
     ]
    }
   ],
   "source": [
    "sample_error = t_value * standard_error\n",
    "print(sample_error)"
   ]
  },
  {
   "cell_type": "markdown",
   "metadata": {},
   "source": [
    "**6. Construction of the confidence interval $CI = [\\bar{x} - t_{1-\\alpha} \\hat{\\sigma}_\\bar{x} ;  \\bar{x} + t_{1-\\alpha} \\hat{\\sigma}_\\bar{x}] $**"
   ]
  },
  {
   "cell_type": "code",
   "execution_count": 9,
   "metadata": {},
   "outputs": [
    {
     "name": "stdout",
     "output_type": "stream",
     "text": [
      "8.78 11.22\n"
     ]
    }
   ],
   "source": [
    "lower_bound = x_mean - sample_error\n",
    "upper_bound = x_mean + sample_error\n",
    "print(lower_bound.round(2), upper_bound.round(2))"
   ]
  },
  {
   "cell_type": "markdown",
   "metadata": {},
   "source": [
    "# Interactive Chart\n",
    "## Changes of the confidence interval if the parameters change"
   ]
  },
  {
   "cell_type": "code",
   "execution_count": 10,
   "metadata": {},
   "outputs": [
    {
     "data": {
      "text/html": [
       "\n",
       "    <script>\n",
       "    function code_toggle() {\n",
       "        if ($('div.cell.code_cell.rendered.selected div.input').css('display')!='none'){\n",
       "            $('div.cell.code_cell.rendered.selected div.input').hide();\n",
       "        } else {\n",
       "            $('div.cell.code_cell.rendered.selected div.input').show();\n",
       "        }\n",
       "    }\n",
       "    </script>\n",
       "    <form action=\"javascript:code_toggle()\"><input type=\"submit\" id=\"toggleButton\" value=\"Toggle code\"></form>\n",
       "    "
      ],
      "text/plain": [
       "<IPython.core.display.HTML object>"
      ]
     },
     "metadata": {},
     "output_type": "display_data"
    }
   ],
   "source": [
    "import math\n",
    "import numpy as np\n",
    "import matplotlib.pyplot as plt\n",
    "from scipy.stats import t, norm\n",
    "import ipywidgets as widgets\n",
    "from ipywidgets import interact, interactive, fixed, interact_manual\n",
    "\n",
    "\n",
    "%matplotlib inline\n",
    "\n",
    "\n",
    "def make_plot(konfp=0.95, sigma=4, n=41):\n",
    "\n",
    "    loc = 10\n",
    "    \n",
    "    alpha = 1 - konfp\n",
    "    z_value = norm.ppf(1 - alpha / 2)\n",
    "    standard_error = sigma / math.sqrt(n)\n",
    "    \n",
    "    lower_bound = loc - z_value * standard_error\n",
    "    upper_bound = loc + z_value * standard_error\n",
    "    \n",
    "    x_values = np.linspace(lower_bound, upper_bound, 100)\n",
    "    y_values = [1 for i in x_values]\n",
    "\n",
    "    fig, ax = plt.subplots(figsize=(14, 2))\n",
    "    ax.plot(x_values, y_values, linewidth=4)\n",
    "\n",
    "    ## x-Achse\n",
    "    ##\n",
    "    plt.xlim(0, 20)\n",
    "    ax.set_xticks(np.arange(0, 20, 1))\n",
    "\n",
    "    ## y-Achse\n",
    "    ##\n",
    "    plt.ylim(0.9, 1.1)\n",
    "    ax.set_yticks([])\n",
    "    ax.set_yticklabels([])\n",
    "    #ax.set_ylabel('$P(x)$', size=14)\n",
    "\n",
    "    ## Sonstiges\n",
    "    ##\n",
    "    ax.set_title(r'Confidence interval with $\\bar{x}=10$,' \n",
    "                 + r' $\\sigma=${}, probability of confidence {}, sample size {}'.format(sigma, konfp, n), \n",
    "                 size=16)\n",
    "    ax.grid(True, axis='x')\n",
    "\n",
    "    ## Text für Untergrenze\n",
    "    plt.annotate(\n",
    "        '{:.2f}'.format(lower_bound),\n",
    "        xy=(min(lower_bound, 8.98), 1.01),\n",
    "        ha='center',\n",
    "        size=14\n",
    "    )\n",
    "    \n",
    "    ## Text für Obergrenze\n",
    "    plt.annotate(\n",
    "        '{:.2f}'.format(upper_bound),\n",
    "        xy=(max(upper_bound, 11.0), 1.01),\n",
    "        ha='center',\n",
    "        size=14\n",
    "    )\n",
    "\n",
    "toggle_code()"
   ]
  },
  {
   "cell_type": "code",
   "execution_count": 13,
   "metadata": {},
   "outputs": [
    {
     "data": {
      "application/vnd.jupyter.widget-view+json": {
       "model_id": "497b431e06144109a4807c90c519e587",
       "version_major": 2,
       "version_minor": 0
      },
      "text/plain": [
       "interactive(children=(FloatSlider(value=0.9, continuous_update=False, description='Probability of confidence',…"
      ]
     },
     "metadata": {},
     "output_type": "display_data"
    }
   ],
   "source": [
    "interactive(\n",
    "    make_plot, \n",
    "    konfp=widgets.FloatSlider(value=0.9, min=0.9, max=0.99, step=0.01, \n",
    "                              continuous_update=False, description='Probability of confidence'),\n",
    "    sigma=widgets.IntSlider(value=4, min=1, max=10, step=1, \n",
    "                            continuous_update=False, description='Sigma'),\n",
    "    n=widgets.IntSlider(value=41, min=5, max=60, step=5, \n",
    "                        continuous_update=False, description='Sample size')\n",
    ")"
   ]
  },
  {
   "cell_type": "markdown",
   "metadata": {},
   "source": [
    "# Interactive Chart\n",
    "## Comparison of the t-distribution and the standard normal distribution in dependency of the degrees of freedom"
   ]
  },
  {
   "cell_type": "code",
   "execution_count": 19,
   "metadata": {},
   "outputs": [
    {
     "data": {
      "text/html": [
       "\n",
       "    <script>\n",
       "    function code_toggle() {\n",
       "        if ($('div.cell.code_cell.rendered.selected div.input').css('display')!='none'){\n",
       "            $('div.cell.code_cell.rendered.selected div.input').hide();\n",
       "        } else {\n",
       "            $('div.cell.code_cell.rendered.selected div.input').show();\n",
       "        }\n",
       "    }\n",
       "    </script>\n",
       "    <form action=\"javascript:code_toggle()\"><input type=\"submit\" id=\"toggleButton\" value=\"Toggle code\"></form>\n",
       "    "
      ],
      "text/plain": [
       "<IPython.core.display.HTML object>"
      ]
     },
     "metadata": {},
     "output_type": "display_data"
    }
   ],
   "source": [
    "import numpy as np\n",
    "import matplotlib.pyplot as plt\n",
    "from scipy.stats import t\n",
    "from scipy.stats import norm\n",
    "import ipywidgets as widgets\n",
    "from ipywidgets import interact, interactive, fixed, interact_manual\n",
    "\n",
    "\n",
    "%matplotlib inline\n",
    "\n",
    "\n",
    "def make_plot(df=5):\n",
    "    pass\n",
    "\n",
    "    x_values = np.linspace(-5, 5, 300)\n",
    "    y_values_norm = [norm.pdf(i, loc=0, scale=1) for i in x_values]\n",
    "    y_values_t = [t.pdf(i, df, loc=0, scale=1) for i in x_values]\n",
    "\n",
    "    fig, ax = plt.subplots(figsize=(14, 8))\n",
    "\n",
    "    ax.plot(x_values, y_values_norm, label=\"Normal distribution\")\n",
    "    ax.plot(x_values, y_values_t, label=\"t-distribution, degrees of freedom {}\".format(df))\n",
    "\n",
    "    ax.set_title('Comparison of the density function of the standard normal distribution and the t-distribution', size=16)\n",
    "    #ax.set_xlabel('$x$', size=14)\n",
    "    #ax.set_ylabel('$P(x)$', size=14)\n",
    "\n",
    "    ax.grid(True, axis='both')\n",
    "\n",
    "    #ax.set_xticks(np.linspace(-3, 3, 13))\n",
    "    #ax.set_xticklabels(x_labels)\n",
    "\n",
    "    #ax.set_yticks(np.linspace(0.0, 1.0, 11))\n",
    "\n",
    "    ## Wert neben Linie schreiben\n",
    "    #for x, y in zip(x_values, y_values):\n",
    "    #    ax.annotate(str(y), xy=(x, y - 0.04), size=14)\n",
    "\n",
    "    #major_ticks = np.arange(0, 1.1, 0.1)    \n",
    "    #ax.set_yticks(major_ticks)\n",
    "\n",
    "    plt.legend()\n",
    "\n",
    "toggle_code()"
   ]
  },
  {
   "cell_type": "code",
   "execution_count": 20,
   "metadata": {},
   "outputs": [
    {
     "data": {
      "application/vnd.jupyter.widget-view+json": {
       "model_id": "7bd432bdaace4e1fa85f3fc34242a8aa",
       "version_major": 2,
       "version_minor": 0
      },
      "text/plain": [
       "interactive(children=(IntSlider(value=5, continuous_update=False, description='Degrees of freedom', max=50, mi…"
      ]
     },
     "metadata": {},
     "output_type": "display_data"
    }
   ],
   "source": [
    "interactive(\n",
    "    make_plot, \n",
    "    df=widgets.IntSlider(value=5, min=5, max=50, step=1, continuous_update=False, description='Degrees of freedom'))"
   ]
  },
  {
   "cell_type": "code",
   "execution_count": null,
   "metadata": {},
   "outputs": [],
   "source": []
  },
  {
   "cell_type": "markdown",
   "metadata": {},
   "source": [
    "Copyright © 2020 IUBH Internationale Hochschule"
   ]
  }
 ],
 "metadata": {
  "kernelspec": {
   "display_name": "Python 3",
   "language": "python",
   "name": "python3"
  },
  "language_info": {
   "codemirror_mode": {
    "name": "ipython",
    "version": 3
   },
   "file_extension": ".py",
   "mimetype": "text/x-python",
   "name": "python",
   "nbconvert_exporter": "python",
   "pygments_lexer": "ipython3",
   "version": "3.7.4"
  }
 },
 "nbformat": 4,
 "nbformat_minor": 2
}
