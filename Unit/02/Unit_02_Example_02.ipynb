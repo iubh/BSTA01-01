{
 "cells": [
  {
   "cell_type": "markdown",
   "metadata": {},
   "source": [
    "# Unit 2 - Example 2"
   ]
  },
  {
   "cell_type": "code",
   "execution_count": 1,
   "metadata": {},
   "outputs": [],
   "source": [
    "## Library for computing the square root\n",
    "import math"
   ]
  },
  {
   "cell_type": "markdown",
   "metadata": {},
   "source": [
    "# Exercise"
   ]
  },
  {
   "cell_type": "markdown",
   "metadata": {},
   "source": [
    "You boss orders you to weigh 20 packages of sugar for a check of quality. The measured values (in g) are:\n",
    "\n",
    "492, 497, 478, 482, 499, 512, 503, 511, 499, 504, 508, 496, 502, 500, 499, 500, 507, 502, 500, 499.\n",
    "\n",
    "Conduct a statistical analysis with the set of tools you know."
   ]
  },
  {
   "cell_type": "markdown",
   "metadata": {},
   "source": [
    "# Solution"
   ]
  },
  {
   "cell_type": "markdown",
   "metadata": {},
   "source": [
    "## Computation / Visualisation with a table"
   ]
  },
  {
   "cell_type": "markdown",
   "metadata": {},
   "source": [
    "|i          |$$x_i$$|$$x_i - \\bar{x}$$|$$\\mid x_i - \\bar{x} \\mid$$|$$(x - \\bar{x})^2$$|\n",
    "|---        |---    |---              |---                        |---                |\n",
    "|1          |492    |-7,5             |7,5                        |56,25              |\n",
    "|2          |497    |-2,5             |2,5                        |6,25               |\n",
    "|3          |478    |-21,5            |21,5                       |462,25             |\n",
    "|4          |482    |-17,5            |17,5                       |306,25             |\n",
    "|5          |499    |-0,5             |0,5                        |0,25               |\n",
    "|6          |512    |12,5             |12,5                       |156,25             |\n",
    "|7          |503    |3,5              |3,5                        |12,25              |\n",
    "|8          |511    |11,5             |11,5                       |132,25             |\n",
    "|9          |499    |-0,5             |0,5                        |0,25               |\n",
    "|10         |504    |4,5              |4,5                        |20,25              |\n",
    "|11         |508    |8,5              |8,5                        |72,25              |\n",
    "|12         |496    |-3,5             |3,5                        |12,25              |\n",
    "|13         |502    |2,5              |2,5                        |6,25               |\n",
    "|14         |500    |0,5              |0,5                        |0,25               |\n",
    "|15         |499    |-0,5             |0,5                        |0,25               |\n",
    "|16         |500    |0,5              |0,5                        |0,25               |\n",
    "|17         |507    |7,5              |7,5                        |56,25              |\n",
    "|18         |502    |2,5              |2,5                        |6,25               |\n",
    "|19         |500    |0,5              |0,5                        |0,25               |\n",
    "|20         |499    |-0,5             |0,5                        |0,25               |\n",
    "|**SUMME**  |9990   |0                |109                        |1307               |\n",
    "|$$\\bar{x}$$|499,5  |                 |                           |                   |\n"
   ]
  },
  {
   "cell_type": "code",
   "execution_count": 12,
   "metadata": {},
   "outputs": [
    {
     "data": {
      "text/plain": [
       "499.5"
      ]
     },
     "execution_count": 12,
     "metadata": {},
     "output_type": "execute_result"
    }
   ],
   "source": [
    "## Arithmetic mean\n",
    "9990 / 20"
   ]
  },
  {
   "cell_type": "code",
   "execution_count": 13,
   "metadata": {},
   "outputs": [
    {
     "data": {
      "text/plain": [
       "5.45"
      ]
     },
     "execution_count": 13,
     "metadata": {},
     "output_type": "execute_result"
    }
   ],
   "source": [
    "## Mean absolute deviation (MAD)\n",
    "109 / 20"
   ]
  },
  {
   "cell_type": "code",
   "execution_count": 14,
   "metadata": {},
   "outputs": [
    {
     "data": {
      "text/plain": [
       "65.35"
      ]
     },
     "execution_count": 14,
     "metadata": {},
     "output_type": "execute_result"
    }
   ],
   "source": [
    "## Variance\n",
    "1307 / 20"
   ]
  },
  {
   "cell_type": "code",
   "execution_count": 15,
   "metadata": {},
   "outputs": [
    {
     "data": {
      "text/plain": [
       "8.083934685535256"
      ]
     },
     "execution_count": 15,
     "metadata": {},
     "output_type": "execute_result"
    }
   ],
   "source": [
    "## Standard deviation\n",
    "math.sqrt(1307 / 20)"
   ]
  },
  {
   "cell_type": "markdown",
   "metadata": {},
   "source": [
    "## Explicit Computation"
   ]
  },
  {
   "cell_type": "markdown",
   "metadata": {},
   "source": [
    "### Arithmetic mean"
   ]
  },
  {
   "cell_type": "markdown",
   "metadata": {},
   "source": [
    "$$ \\bar{x} = \\frac{1}{n} \\sum_{i=1}^n{x_i} $$"
   ]
  },
  {
   "cell_type": "code",
   "execution_count": 10,
   "metadata": {},
   "outputs": [],
   "source": [
    "mean = (478 + 482 + 492 + 496 + 497 + 499 + 499 + 499 + 499 + 500 + 500 + \n",
    "        500 + 502 + 502 + 503 + 504 + 507 + 508 + 511 + 512) / 20"
   ]
  },
  {
   "cell_type": "code",
   "execution_count": 11,
   "metadata": {},
   "outputs": [
    {
     "name": "stdout",
     "output_type": "stream",
     "text": [
      "499.5\n"
     ]
    }
   ],
   "source": [
    "print(mean)"
   ]
  },
  {
   "cell_type": "markdown",
   "metadata": {},
   "source": [
    "### Median"
   ]
  },
  {
   "cell_type": "markdown",
   "metadata": {},
   "source": [
    "Since n = 20 we compute the median as the arithmetic mean of the elements on position n / 2 and n / 2 + 1, e. g. the positions 10 and 11."
   ]
  },
  {
   "cell_type": "code",
   "execution_count": 4,
   "metadata": {},
   "outputs": [],
   "source": [
    "median = (500 + 500) / 2"
   ]
  },
  {
   "cell_type": "code",
   "execution_count": 5,
   "metadata": {},
   "outputs": [
    {
     "name": "stdout",
     "output_type": "stream",
     "text": [
      "500.0\n"
     ]
    }
   ],
   "source": [
    "print(median)"
   ]
  },
  {
   "cell_type": "markdown",
   "metadata": {},
   "source": [
    "### Mean absolute deviation (MAD)"
   ]
  },
  {
   "cell_type": "markdown",
   "metadata": {},
   "source": [
    "$$ MAD = \\frac{1}{n} \\sum_{i=1}^n{ \\mid x_i - \\bar{x} \\mid } $$"
   ]
  },
  {
   "cell_type": "markdown",
   "metadata": {},
   "source": [
    "Bei der mittleren absoluten Abweichung wird von jedem Element der Mittelwert abgezogen und dann der Absolutwert genommen. Die Absolutwerte werden aufaddiert und dann durch die Anzahl der Elemente geteilt."
   ]
  },
  {
   "cell_type": "code",
   "execution_count": 16,
   "metadata": {},
   "outputs": [],
   "source": [
    "mad = (abs(478 - mean) + abs(482 - mean) + abs(492 - mean) + abs(496 - mean) + \n",
    "       abs(497 - mean) + abs(499 - mean) + abs(499 - mean) + abs(499 - mean) + \n",
    "       abs(499 - mean) + abs(500 - mean) + abs(500 - mean) + abs(500 - mean) + \n",
    "       abs(502 - mean) + abs(502 - mean) + abs(503 - mean) + abs(504 - mean) + \n",
    "       abs(507 - mean) + abs(508 - mean) + abs(511 - mean) + abs(512 - mean)) / 20"
   ]
  },
  {
   "cell_type": "code",
   "execution_count": 17,
   "metadata": {},
   "outputs": [
    {
     "name": "stdout",
     "output_type": "stream",
     "text": [
      "5.45\n"
     ]
    }
   ],
   "source": [
    "print(mad)"
   ]
  },
  {
   "cell_type": "markdown",
   "metadata": {},
   "source": [
    "### Variance"
   ]
  },
  {
   "cell_type": "markdown",
   "metadata": {},
   "source": [
    "$$ s^2 = \\frac{1}{n} \\sum_{i=1}^n{ (x_i - \\bar{x})^2 } $$"
   ]
  },
  {
   "cell_type": "code",
   "execution_count": 19,
   "metadata": {},
   "outputs": [],
   "source": [
    "var = ((492 - mean)**2 + (497 - mean)**2 + (478 - mean)**2 + (482 - mean)**2 + \n",
    "       (499 - mean)**2 + (512 - mean)**2 + (503 - mean)**2 + (511 - mean)**2 + \n",
    "       (499 - mean)**2 + (504 - mean)**2 + (508 - mean)**2 + (496 - mean)**2 + \n",
    "       (502 - mean)**2 + (500 - mean)**2 + (499 - mean)**2 + (500 - mean)**2 + \n",
    "       (507 - mean)**2 + (502 - mean)**2 + (500 - mean)**2 + (499 - mean)**2) / 20"
   ]
  },
  {
   "cell_type": "code",
   "execution_count": 20,
   "metadata": {},
   "outputs": [
    {
     "name": "stdout",
     "output_type": "stream",
     "text": [
      "65.35\n"
     ]
    }
   ],
   "source": [
    "print(var)"
   ]
  },
  {
   "cell_type": "markdown",
   "metadata": {},
   "source": [
    "### Standard deviation"
   ]
  },
  {
   "cell_type": "markdown",
   "metadata": {},
   "source": [
    "$$ s = \\sqrt{s^2} $$"
   ]
  },
  {
   "cell_type": "code",
   "execution_count": 21,
   "metadata": {},
   "outputs": [],
   "source": [
    "sd = math.sqrt(var)"
   ]
  },
  {
   "cell_type": "code",
   "execution_count": 22,
   "metadata": {},
   "outputs": [
    {
     "name": "stdout",
     "output_type": "stream",
     "text": [
      "8.083934685535256\n"
     ]
    }
   ],
   "source": [
    "print(sd)"
   ]
  }
 ],
 "metadata": {
  "kernelspec": {
   "display_name": "Python 3",
   "language": "python",
   "name": "python3"
  },
  "language_info": {
   "codemirror_mode": {
    "name": "ipython",
    "version": 3
   },
   "file_extension": ".py",
   "mimetype": "text/x-python",
   "name": "python",
   "nbconvert_exporter": "python",
   "pygments_lexer": "ipython3",
   "version": "3.7.4"
  }
 },
 "nbformat": 4,
 "nbformat_minor": 2
}
