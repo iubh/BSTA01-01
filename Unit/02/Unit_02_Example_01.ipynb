{
 "cells": [
  {
   "cell_type": "markdown",
   "metadata": {},
   "source": [
    "# Unit 2 - Example 1"
   ]
  },
  {
   "cell_type": "markdown",
   "metadata": {},
   "source": [
    "Import von Python-Bibliotheken und notwendiger Code für diverse Funktionen"
   ]
  },
  {
   "cell_type": "code",
   "execution_count": 1,
   "metadata": {},
   "outputs": [
    {
     "data": {
      "text/html": [
       "\n",
       "    <script>\n",
       "    function code_toggle() {\n",
       "        if ($('div.cell.code_cell.rendered.selected div.input').css('display')!='none'){\n",
       "            $('div.cell.code_cell.rendered.selected div.input').hide();\n",
       "        } else {\n",
       "            $('div.cell.code_cell.rendered.selected div.input').show();\n",
       "        }\n",
       "    }\n",
       "    </script>\n",
       "    <form action=\"javascript:code_toggle()\"><input type=\"submit\" id=\"toggleButton\" value=\"Toggle code\"></form>\n",
       "    "
      ],
      "text/plain": [
       "<IPython.core.display.HTML object>"
      ]
     },
     "metadata": {},
     "output_type": "display_data"
    }
   ],
   "source": [
    "## imports\n",
    "import math\n",
    "import pandas as pd\n",
    "from IPython.display import HTML, display\n",
    "\n",
    "\n",
    "## Der folgende Code dient zur Implementierung der Funktionalität, damit Code ein- und ausgeblendet werden kann.\n",
    "def toggle_code():\n",
    "    toggle_code_js_html = '''\n",
    "    <script>\n",
    "    function code_toggle() {\n",
    "        if ($('div.cell.code_cell.rendered.selected div.input').css('display')!='none'){\n",
    "            $('div.cell.code_cell.rendered.selected div.input').hide();\n",
    "        } else {\n",
    "            $('div.cell.code_cell.rendered.selected div.input').show();\n",
    "        }\n",
    "    }\n",
    "    </script>\n",
    "    <form action=\"javascript:code_toggle()\"><input type=\"submit\" id=\"toggleButton\" value=\"Toggle code\"></form>\n",
    "    '''\n",
    "    display(HTML(toggle_code_js_html))\n",
    "\n",
    "\n",
    "toggle_code()"
   ]
  },
  {
   "cell_type": "markdown",
   "metadata": {},
   "source": [
    "# Exercise"
   ]
  },
  {
   "cell_type": "markdown",
   "metadata": {},
   "source": [
    "50 pupils took a math test where a maximum of 10 points could be achieved. The following points have been achieved:\n",
    "\n",
    "0, 1, 1, 1, 2, 2, 2, 2, 3, 3, 4, 4, 4, 4, 4, 5, 5, 5, 5, 5, 5, 6, 6, 6, 6, 6, 6, 6, 6, 7, 7, 7, 7, 7, 7, 7, 7, 7, 7, 8, 8, 8, 8, 9, 9, 9, 9, 9, 10, 10.  \n",
    "\n",
    "The teacher wants to do a statistical analysis. You can help with this task in using the tools you know up to now.\n",
    "Hint: Only whole points could be distributed."
   ]
  },
  {
   "cell_type": "markdown",
   "metadata": {},
   "source": [
    "# Solution"
   ]
  },
  {
   "cell_type": "markdown",
   "metadata": {},
   "source": [
    "## Computation / Visualisation with a table"
   ]
  },
  {
   "cell_type": "markdown",
   "metadata": {},
   "source": [
    "We have a total of n = 50 records."
   ]
  },
  {
   "cell_type": "markdown",
   "metadata": {},
   "source": [
    "|i         |$$x_i$$|$$x_i - \\bar{x}$$|$$\\mid x_i - \\bar{x} \\mid$$|$$(x - \\bar{x})^2$$|\n",
    "|---       |---    |---              |---                        |---                |\n",
    "|1         |0      |-5,64            |5,64                       |31,8096            |\n",
    "|2         |1      |-4,64            |4,64                       |21,5296            |\n",
    "|3         |1      |-4,64            |4,64                       |21,5296            |\n",
    "|4         |1      |-4,64            |4,64                       |21,5296            |\n",
    "|5         |2      |-3,64            |3,64                       |13,2496            |\n",
    "|6         |2      |-3,64            |3,64                       |13,2496            |\n",
    "|7         |2      |-3,64            |3,64                       |13,2496            |\n",
    "|8         |2      |-3,64            |3,64                       |13,2496            |\n",
    "|9         |3      |-2,64            |2,64                       |6,9696             |\n",
    "|10        |3      |-2,64            |2,64                       |6,9696             |\n",
    "|11        |4      |-1,64            |1,64                       |2,6896             |\n",
    "|12        |4      |-1,64            |1,64                       |2,6896             |\n",
    "|13        |4      |-1,64            |1,64                       |2,6896             |\n",
    "|14        |4      |-1,64            |1,64                       |2,6896             |\n",
    "|15        |4      |-1,64            |1,64                       |2,6896             |\n",
    "|16        |5      |-0,64            |0,64                       |0,4096             |\n",
    "|17        |5      |-0,64            |0,64                       |0,4096             |\n",
    "|18        |5      |-0,64            |0,64                       |0,4096             |\n",
    "|19        |5      |-0,64            |0,64                       |0,4096             |\n",
    "|20        |5      |-0,64            |0,64                       |0,4096             |\n",
    "|21        |5      |-0,64            |0,64                       |0,4096             |\n",
    "|22        |6      |0,36             |0,36                       |0,1296             |\n",
    "|23        |6      |0,36             |0,36                       |0,1296             |\n",
    "|24        |6      |0,36             |0,36                       |0,1296             |\n",
    "|25        |6      |0,36             |0,36                       |0,1296             |\n",
    "|26        |6      |0,36             |0,36                       |0,1296             |\n",
    "|27        |6      |0,36             |0,36                       |0,1296             |\n",
    "|28        |6      |0,36             |0,36                       |0,1296             |\n",
    "|29        |6      |0,36             |0,36                       |0,1296             |\n",
    "|30        |7      |1,36             |1,36                       |1,8496             |\n",
    "|31        |7      |1,36             |1,36                       |1,8496             |\n",
    "|32        |7      |1,36             |1,36                       |1,8496             |\n",
    "|33        |7      |1,36             |1,36                       |1,8496             |\n",
    "|34        |7      |1,36             |1,36                       |1,8496             |\n",
    "|35        |7      |1,36             |1,36                       |1,8496             |\n",
    "|36        |7      |1,36             |1,36                       |1,8496             |\n",
    "|37        |7      |1,36             |1,36                       |1,8496             |\n",
    "|38        |7      |1,36             |1,36                       |1,8496             |\n",
    "|39        |7      |1,36             |1,36                       |1,8496             |\n",
    "|40        |8      |2,36             |2,36                       |5,5696             |\n",
    "|41        |8      |2,36             |2,36                       |5,5696             |\n",
    "|42        |8      |2,36             |2,36                       |5,5696             |\n",
    "|43        |8      |2,36             |2,36                       |5,5696             |\n",
    "|44        |9      |3,36             |3,36                       |11,2896            |\n",
    "|45        |9      |3,36             |3,36                       |11,2896            |\n",
    "|46        |9      |3,36             |3,36                       |11,2896            |\n",
    "|47        |9      |3,36             |3,36                       |11,2896            |\n",
    "|48        |9      |3,36             |3,36                       |11,2896            |\n",
    "|49        |10     |4,36             |4,36                       |19,0096            |\n",
    "|50        |10     |4,36             |4,36                       |19,0096            |\n",
    "|          |       |                 |                           |                   |\n",
    "|$$\\sum{}$$|282    |0                |102,88                     |315,52             |\n"
   ]
  },
  {
   "cell_type": "code",
   "execution_count": 2,
   "metadata": {},
   "outputs": [
    {
     "data": {
      "text/plain": [
       "5.64"
      ]
     },
     "execution_count": 2,
     "metadata": {},
     "output_type": "execute_result"
    }
   ],
   "source": [
    "## Computation of mean\n",
    "282 / 50"
   ]
  },
  {
   "cell_type": "code",
   "execution_count": 3,
   "metadata": {},
   "outputs": [
    {
     "data": {
      "text/plain": [
       "2.0576"
      ]
     },
     "execution_count": 3,
     "metadata": {},
     "output_type": "execute_result"
    }
   ],
   "source": [
    "## Computation of MAD\n",
    "102.88 / 50"
   ]
  },
  {
   "cell_type": "code",
   "execution_count": 4,
   "metadata": {},
   "outputs": [
    {
     "data": {
      "text/plain": [
       "6.3104"
      ]
     },
     "execution_count": 4,
     "metadata": {},
     "output_type": "execute_result"
    }
   ],
   "source": [
    "## Computation of Variance\n",
    "315.52 / 50"
   ]
  },
  {
   "cell_type": "code",
   "execution_count": 5,
   "metadata": {},
   "outputs": [
    {
     "data": {
      "text/plain": [
       "2.512050954897213"
      ]
     },
     "execution_count": 5,
     "metadata": {},
     "output_type": "execute_result"
    }
   ],
   "source": [
    "## Computation of Standard Deviation\n",
    "math.sqrt(315.52 / 50)"
   ]
  },
  {
   "cell_type": "markdown",
   "metadata": {},
   "source": [
    "## Explicit computation"
   ]
  },
  {
   "cell_type": "markdown",
   "metadata": {},
   "source": [
    "In the following section we compute the results how we would do it with a calculator."
   ]
  },
  {
   "cell_type": "markdown",
   "metadata": {},
   "source": [
    "### Arithmetic Mean"
   ]
  },
  {
   "cell_type": "markdown",
   "metadata": {},
   "source": [
    "$$ \\bar{x} = \\frac{1}{n} \\sum_{i=1}^n{x_i} $$"
   ]
  },
  {
   "cell_type": "code",
   "execution_count": 6,
   "metadata": {},
   "outputs": [],
   "source": [
    "xbar = (0 + 1 + 1 + 1 + 2 + 2 + 2 + 2 + 3 + 3 + 4 + 4 + 4 + 4 + 4 + 5 + 5 + 5 + 5 + 5 + 5 + 6 + 6 + 6 + \n",
    "        6 + 6 + 6 + 6 + 6 + 7 + 7 + 7 + 7 + 7 + 7 + 7 + 7 + 7 + 7 + 8 + 8 + 8 + 8 + 9 + 9 + 9 + 9 + 9 + 10 + 10) / 50"
   ]
  },
  {
   "cell_type": "code",
   "execution_count": 7,
   "metadata": {},
   "outputs": [
    {
     "name": "stdout",
     "output_type": "stream",
     "text": [
      "5.64\n"
     ]
    }
   ],
   "source": [
    "print(xbar)"
   ]
  },
  {
   "cell_type": "markdown",
   "metadata": {},
   "source": [
    "### Mean absolute deviation MAD"
   ]
  },
  {
   "cell_type": "markdown",
   "metadata": {},
   "source": [
    "$$ MAD = \\frac{1}{n} \\sum_{i=1}^n{ \\mid x_i - \\bar{x} \\mid } $$"
   ]
  },
  {
   "cell_type": "code",
   "execution_count": 9,
   "metadata": {},
   "outputs": [],
   "source": [
    "mad = (abs(0 - xbar) + abs(1 - xbar) + abs(1 - xbar) + abs(1 - xbar) + abs(2 - xbar) + abs(2 - xbar) + \n",
    "       abs(2 - xbar) + abs(2 - xbar) + abs(3 - xbar) + abs(3 - xbar) + abs(4 - xbar) + abs(4 - xbar) + \n",
    "       abs(4 - xbar) + abs(4 - xbar) + abs(4 - xbar) + abs(5 - xbar) + abs(5 - xbar) + abs(5 - xbar) + \n",
    "       abs(5 - xbar) + abs(5 - xbar) + abs(5 - xbar) + abs(6 - xbar) + abs(6 - xbar) + abs(6 - xbar) + \n",
    "       abs(6 - xbar) + abs(6 - xbar) + abs(6 - xbar) + abs(6 - xbar) + abs(6 - xbar) + abs(7 - xbar) + \n",
    "       abs(7 - xbar) + abs(7 - xbar) + abs(7 - xbar) + abs(7 - xbar) + abs(7 - xbar) + abs(7 - xbar) + \n",
    "       abs(7 - xbar) + abs(7 - xbar) + abs(7 - xbar) + abs(8 - xbar) + abs(8 - xbar) + abs(8 - xbar) + \n",
    "       abs(8 - xbar) + abs(9 - xbar) + abs(9 - xbar) + abs(9 - xbar) + abs(9 - xbar) + abs(9 - xbar) + \n",
    "       abs(10 - xbar) + abs(10 - xbar)) / 50"
   ]
  },
  {
   "cell_type": "code",
   "execution_count": 10,
   "metadata": {},
   "outputs": [
    {
     "name": "stdout",
     "output_type": "stream",
     "text": [
      "2.0576\n"
     ]
    }
   ],
   "source": [
    "print(mad)"
   ]
  },
  {
   "cell_type": "markdown",
   "metadata": {},
   "source": [
    "### Varianz"
   ]
  },
  {
   "cell_type": "markdown",
   "metadata": {},
   "source": [
    "$$ s^2 = \\frac{1}{n} \\sum_{i=1}^n{ (x_i - \\bar{x})^2 } $$"
   ]
  },
  {
   "cell_type": "code",
   "execution_count": 11,
   "metadata": {},
   "outputs": [],
   "source": [
    "var = ((0 - xbar)**2 + (1 - xbar)**2 + (1 - xbar)**2 + (1 - xbar)**2 + (2 - xbar)**2 + (2 - xbar)**2 + \n",
    "       (2 - xbar)**2 + (2 - xbar)**2 + (3 - xbar)**2 + (3 - xbar)**2 + (4 - xbar)**2 + (4 - xbar)**2 + \n",
    "       (4 - xbar)**2 + (4 - xbar)**2 + (4 - xbar)**2 + (5 - xbar)**2 + (5 - xbar)**2 + (5 - xbar)**2 + \n",
    "       (5 - xbar)**2 + (5 - xbar)**2 + (5 - xbar)**2 + (6 - xbar)**2 + (6 - xbar)**2 + (6 - xbar)**2 + \n",
    "       (6 - xbar)**2 + (6 - xbar)**2 + (6 - xbar)**2 + (6 - xbar)**2 + (6 - xbar)**2 + (7 - xbar)**2 + \n",
    "       (7 - xbar)**2 + (7 - xbar)**2 + (7 - xbar)**2 + (7 - xbar)**2 + (7 - xbar)**2 + (7 - xbar)**2 + \n",
    "       (7 - xbar)**2 + (7 - xbar)**2 + (7 - xbar)**2 + (8 - xbar)**2 + (8 - xbar)**2 + (8 - xbar)**2 + \n",
    "       (8 - xbar)**2 + (9 - xbar)**2 + (9 - xbar)**2 + (9 - xbar)**2 + (9 - xbar)**2 + (9 - xbar)**2 + \n",
    "       (10 - xbar)**2 + (10 - xbar)**2) / 50"
   ]
  },
  {
   "cell_type": "code",
   "execution_count": 12,
   "metadata": {},
   "outputs": [
    {
     "name": "stdout",
     "output_type": "stream",
     "text": [
      "6.310400000000005\n"
     ]
    }
   ],
   "source": [
    "print(var)"
   ]
  },
  {
   "cell_type": "markdown",
   "metadata": {},
   "source": [
    "### Standard Deviation"
   ]
  },
  {
   "cell_type": "markdown",
   "metadata": {},
   "source": [
    "$$ s = \\sqrt{s^2} $$"
   ]
  },
  {
   "cell_type": "code",
   "execution_count": 13,
   "metadata": {},
   "outputs": [],
   "source": [
    "sd = math.sqrt(var)"
   ]
  },
  {
   "cell_type": "code",
   "execution_count": 13,
   "metadata": {},
   "outputs": [
    {
     "name": "stdout",
     "output_type": "stream",
     "text": [
      "2.512050954897214\n"
     ]
    }
   ],
   "source": [
    "print(sd)"
   ]
  },
  {
   "cell_type": "markdown",
   "metadata": {},
   "source": [
    "## The frequency distribution of the raw data"
   ]
  },
  {
   "cell_type": "markdown",
   "metadata": {},
   "source": [
    "To compute the distribution we count the occurence of each value x. There are the values of 0 to 10 in our raw data and we have the following counts (frequency) h(x):\n",
    "\n",
    "|x         |$$h(x)$$|$$x * h(x)$$|$$(x - \\bar{x})^2$$|$$h(x) * (x - \\bar{x})^2$$|\n",
    "|---       |---     |---         |---                |                          |\n",
    "|0         |1       |0           |31,8096            |31,8096                   |\n",
    "|1         |3       |3           |21,5296            |64,5888                   |\n",
    "|2         |4       |8           |13,2496            |52,9984                   |\n",
    "|3         |2       |6           |6,9696             |13,9392                   |\n",
    "|4         |5       |20          |2,6896             |13,448                    |\n",
    "|5         |6       |30          |0,4096             |2,4576                    |\n",
    "|6         |8       |48          |0,1296             |1,0368                    |\n",
    "|7         |10      |70          |1,8496             |18,496                    |\n",
    "|8         |4       |32          |5,5696             |22,2784                   |\n",
    "|9         |5       |45          |11,2896            |56,448                    |\n",
    "|10        |2       |20          |19,0096            |38,0192                   |\n",
    "|          |        |            |                   |                          |\n",
    "|$$\\sum{}$$|50      |282         |114,5056           |315,52                    |\n",
    "\n",
    "$$\\bar{x} = 5,64$$\n",
    "\n",
    "If we sum all the frequencies for the single values we get the number of records in our raw data:"
   ]
  },
  {
   "cell_type": "code",
   "execution_count": 14,
   "metadata": {},
   "outputs": [
    {
     "data": {
      "text/plain": [
       "50"
      ]
     },
     "execution_count": 14,
     "metadata": {},
     "output_type": "execute_result"
    }
   ],
   "source": [
    "1 + 3 + 4 + 2 + 5+ 6 + 8 + 10 + 4 + 5 + 2"
   ]
  },
  {
   "cell_type": "markdown",
   "metadata": {},
   "source": [
    "### Arithmetic mean computed from a frequency distribution"
   ]
  },
  {
   "cell_type": "markdown",
   "metadata": {},
   "source": [
    "$$ \\bar{x} = \\frac{1}{n} \\sum_{j = 1}^m{ h(x_j)x_j } $$"
   ]
  },
  {
   "cell_type": "code",
   "execution_count": 14,
   "metadata": {},
   "outputs": [],
   "source": [
    "xbar = ((0 * 1) + (1 * 3) + (2 * 4) + (3 * 2) + (4 * 5) + (5 * 6) + (6 * 8) + (7 * 10) + (8 * 4) + (9 * 5) + (10 * 2)) / 50"
   ]
  },
  {
   "cell_type": "code",
   "execution_count": 15,
   "metadata": {},
   "outputs": [
    {
     "name": "stdout",
     "output_type": "stream",
     "text": [
      "5.64\n"
     ]
    }
   ],
   "source": [
    "print(xbar)"
   ]
  },
  {
   "cell_type": "markdown",
   "metadata": {},
   "source": [
    "### Variance computed from a frequency distribution"
   ]
  },
  {
   "cell_type": "markdown",
   "metadata": {},
   "source": [
    "$$ s^2 = \\frac{1}{n} \\sum_{j = 1}^m{ h(x_j)(x_j - \\bar{x})^2 } $$"
   ]
  },
  {
   "cell_type": "code",
   "execution_count": 16,
   "metadata": {},
   "outputs": [],
   "source": [
    "var = ((1 * (0 - xbar)**2) + (3 * (1 - xbar)**2) + (4 * (2 - xbar)**2) + (2 * (3 - xbar)**2) + \n",
    "       (5 * (4 - xbar)**2) + (6 * (5 - xbar)**2) + (8 * (6 - xbar)**2) + (10 * (7 - xbar)**2) + \n",
    "       (4 * (8 - xbar)**2) + (5 * (9 - xbar)**2) + (2 * (10 - xbar)**2)) / 50"
   ]
  },
  {
   "cell_type": "code",
   "execution_count": 17,
   "metadata": {},
   "outputs": [
    {
     "name": "stdout",
     "output_type": "stream",
     "text": [
      "6.3104000000000005\n"
     ]
    }
   ],
   "source": [
    "print(var)"
   ]
  },
  {
   "cell_type": "markdown",
   "metadata": {},
   "source": [
    "# Chart"
   ]
  },
  {
   "cell_type": "code",
   "execution_count": 18,
   "metadata": {},
   "outputs": [
    {
     "data": {
      "image/png": "[encoded data removed]",
      "text/plain": [
       "<Figure size 1008x576 with 1 Axes>"
      ]
     },
     "metadata": {
      "needs_background": "light"
     },
     "output_type": "display_data"
    },
    {
     "data": {
      "text/html": [
       "\n",
       "    <script>\n",
       "    function code_toggle() {\n",
       "        if ($('div.cell.code_cell.rendered.selected div.input').css('display')!='none'){\n",
       "            $('div.cell.code_cell.rendered.selected div.input').hide();\n",
       "        } else {\n",
       "            $('div.cell.code_cell.rendered.selected div.input').show();\n",
       "        }\n",
       "    }\n",
       "    </script>\n",
       "    <form action=\"javascript:code_toggle()\"><input type=\"submit\" id=\"toggleButton\" value=\"Toggle code\"></form>\n",
       "    "
      ],
      "text/plain": [
       "<IPython.core.display.HTML object>"
      ]
     },
     "metadata": {},
     "output_type": "display_data"
    }
   ],
   "source": [
    "import matplotlib.pyplot as plt\n",
    "%matplotlib inline\n",
    "\n",
    "haeuf = {0: 1, 1: 3, 2: 4, 3: 2, 4: 5, 5: 6, 6: 8, 7: 10, 8: 4, 9: 5, 10: 2}\n",
    "x_values = list(haeuf.keys())\n",
    "y_values = list(haeuf.values())\n",
    "\n",
    "plt.figure(figsize=(14, 8))\n",
    "plt.bar(x=x_values, height=y_values, width=0.6)\n",
    "plt.title('Frequency distribution', size=16)\n",
    "plt.ylabel('absolute frequency $h(x_j)$', size=14)\n",
    "plt.xticks(x_values)\n",
    "plt.grid(True, axis='y')\n",
    "plt.ylim((0, 12))\n",
    "ax = plt.gca()\n",
    "ax.set_axisbelow(True)\n",
    "plt.show()\n",
    "\n",
    "toggle_code()"
   ]
  }
 ],
 "metadata": {
  "kernelspec": {
   "display_name": "Python 3",
   "language": "python",
   "name": "python3"
  },
  "language_info": {
   "codemirror_mode": {
    "name": "ipython",
    "version": 3
   },
   "file_extension": ".py",
   "mimetype": "text/x-python",
   "name": "python",
   "nbconvert_exporter": "python",
   "pygments_lexer": "ipython3",
   "version": "3.7.4"
  }
 },
 "nbformat": 4,
 "nbformat_minor": 2
}
