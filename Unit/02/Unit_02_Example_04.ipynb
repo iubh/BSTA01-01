{
 "cells": [
  {
   "cell_type": "markdown",
   "metadata": {},
   "source": [
    "# Unit 2 - Example 4"
   ]
  },
  {
   "cell_type": "code",
   "execution_count": 1,
   "metadata": {},
   "outputs": [],
   "source": [
    "## Library for computing the square root\n",
    "import math"
   ]
  },
  {
   "cell_type": "markdown",
   "metadata": {},
   "source": [
    "# Exercise"
   ]
  },
  {
   "cell_type": "markdown",
   "metadata": {},
   "source": [
    "In a company the following wages (in €) are paid to the eight employees:\n",
    "\n",
    "2500, 2450, 3000, 2800, 3150, 2600, 2800, 2900.\n",
    "\n",
    "Analyse the location and spread of this distribution with the set of tools you know until know."
   ]
  },
  {
   "cell_type": "markdown",
   "metadata": {},
   "source": [
    "# Solution"
   ]
  },
  {
   "cell_type": "markdown",
   "metadata": {},
   "source": [
    "## Computation / visualisation with a table"
   ]
  },
  {
   "cell_type": "markdown",
   "metadata": {},
   "source": [
    "|i          |$$x_i$$|$$x_i - \\bar{x}$$|$$\\mid x_i - \\bar{x} \\mid$$|$$(x - \\bar{x})^2$$|\n",
    "|---        |---    |---              |---                        |---                |\n",
    "|1          |2500   |-275             |275                        |75625              |\n",
    "|2          |2450   |-325             |325                        |105625             |\n",
    "|3          |3000   |225              |225                        |50625              |\n",
    "|4          |2800   |25               |25                         |625                |\n",
    "|5          |3150   |375              |375                        |140625             |\n",
    "|6          |2600   |-175             |175                        |30625              |\n",
    "|7          |2800   |25               |25                         |625                |\n",
    "|8          |2900   |125              |125                        |15625              |\n",
    "|           |       |                 |                           |                   |\n",
    "|$$\\sum{}$$ |22200  |0                |1550                       |420000             |\n",
    "|$$\\bar{x}$$|2775   |                 |                           |                   |\n"
   ]
  },
  {
   "cell_type": "code",
   "execution_count": 2,
   "metadata": {},
   "outputs": [
    {
     "data": {
      "text/plain": [
       "2775.0"
      ]
     },
     "execution_count": 2,
     "metadata": {},
     "output_type": "execute_result"
    }
   ],
   "source": [
    "## Arithmetic mean\n",
    "22200 / 8"
   ]
  },
  {
   "cell_type": "code",
   "execution_count": 3,
   "metadata": {},
   "outputs": [
    {
     "data": {
      "text/plain": [
       "2800.0"
      ]
     },
     "execution_count": 3,
     "metadata": {},
     "output_type": "execute_result"
    }
   ],
   "source": [
    "## Median\n",
    "(2800 + 2800) / 2"
   ]
  },
  {
   "cell_type": "code",
   "execution_count": 4,
   "metadata": {},
   "outputs": [
    {
     "data": {
      "text/plain": [
       "193.75"
      ]
     },
     "execution_count": 4,
     "metadata": {},
     "output_type": "execute_result"
    }
   ],
   "source": [
    "## Mean absolute deviation (MAD)\n",
    "1550 / 8"
   ]
  },
  {
   "cell_type": "code",
   "execution_count": 5,
   "metadata": {},
   "outputs": [
    {
     "data": {
      "text/plain": [
       "52500.0"
      ]
     },
     "execution_count": 5,
     "metadata": {},
     "output_type": "execute_result"
    }
   ],
   "source": [
    "## Variance\n",
    "420000 / 8"
   ]
  },
  {
   "cell_type": "code",
   "execution_count": 6,
   "metadata": {},
   "outputs": [
    {
     "data": {
      "text/plain": [
       "229.128784747792"
      ]
     },
     "execution_count": 6,
     "metadata": {},
     "output_type": "execute_result"
    }
   ],
   "source": [
    "## Standard deviation\n",
    "math.sqrt(420000 / 8)"
   ]
  },
  {
   "cell_type": "markdown",
   "metadata": {},
   "source": [
    "## Explicit computation"
   ]
  },
  {
   "cell_type": "markdown",
   "metadata": {},
   "source": [
    "### Arithmetic mean"
   ]
  },
  {
   "cell_type": "markdown",
   "metadata": {},
   "source": [
    "$$ \\bar{x} = \\frac{1}{n} \\sum_{i=1}^n{x_i} $$"
   ]
  },
  {
   "cell_type": "code",
   "execution_count": 7,
   "metadata": {},
   "outputs": [],
   "source": [
    "mean = (2500 + 2450 + 3000 + 2800 + 3150 + 2600 + 2800 + 2900) / 8"
   ]
  },
  {
   "cell_type": "code",
   "execution_count": 8,
   "metadata": {},
   "outputs": [
    {
     "name": "stdout",
     "output_type": "stream",
     "text": [
      "2775.0\n"
     ]
    }
   ],
   "source": [
    "print(mean)"
   ]
  },
  {
   "cell_type": "markdown",
   "metadata": {},
   "source": [
    "### Median"
   ]
  },
  {
   "cell_type": "markdown",
   "metadata": {},
   "source": [
    "Since n = 8 we compute the median as the arithmetic mean of the elements of the positions n / 2 and n / 2 + 1, e. g. the positions 4 and 5 of the sorted raw data:\n",
    "\n",
    "2450, 2500, 2600, 2800, 2800, 2900, 3000, 3150"
   ]
  },
  {
   "cell_type": "code",
   "execution_count": 10,
   "metadata": {},
   "outputs": [],
   "source": [
    "median = (2800 + 2800) / 2"
   ]
  },
  {
   "cell_type": "code",
   "execution_count": 11,
   "metadata": {},
   "outputs": [
    {
     "name": "stdout",
     "output_type": "stream",
     "text": [
      "2800.0\n"
     ]
    }
   ],
   "source": [
    "print(median)"
   ]
  },
  {
   "cell_type": "markdown",
   "metadata": {},
   "source": [
    "### Mean absolute deviation (MAD)"
   ]
  },
  {
   "cell_type": "markdown",
   "metadata": {},
   "source": [
    "$$ MAD = \\frac{1}{n} \\sum_{i=1}^n{ \\mid x_i - \\bar{x} \\mid } $$"
   ]
  },
  {
   "cell_type": "code",
   "execution_count": 12,
   "metadata": {},
   "outputs": [],
   "source": [
    "mad = (abs(2450 - mean) + abs(2500 - mean) + abs(2600 - mean) + abs(2800 - mean) +\n",
    "       abs(2800 - mean) + abs(2900 - mean) + abs(3000 - mean) + abs(3150 - mean)) / 8"
   ]
  },
  {
   "cell_type": "code",
   "execution_count": 13,
   "metadata": {},
   "outputs": [
    {
     "name": "stdout",
     "output_type": "stream",
     "text": [
      "193.75\n"
     ]
    }
   ],
   "source": [
    "print(mad)"
   ]
  },
  {
   "cell_type": "markdown",
   "metadata": {},
   "source": [
    "### Variance"
   ]
  },
  {
   "cell_type": "markdown",
   "metadata": {},
   "source": [
    "$$ s^2 = \\frac{1}{n} \\sum_{i=1}^n{ (x_i - \\bar{x})^2 } $$"
   ]
  },
  {
   "cell_type": "code",
   "execution_count": 14,
   "metadata": {},
   "outputs": [],
   "source": [
    "var = ((2450 - mean)**2 + (2500 - mean)**2 + (2600 - mean)**2 + (2800 - mean)**2 + \n",
    "       (2800 - mean)**2 + (2900 - mean)**2 + (3000 - mean)**2 + (3150 - mean)**2) / 8"
   ]
  },
  {
   "cell_type": "code",
   "execution_count": 15,
   "metadata": {},
   "outputs": [
    {
     "name": "stdout",
     "output_type": "stream",
     "text": [
      "52500.0\n"
     ]
    }
   ],
   "source": [
    "print(var)"
   ]
  },
  {
   "cell_type": "markdown",
   "metadata": {},
   "source": [
    "### Standard deviation"
   ]
  },
  {
   "cell_type": "markdown",
   "metadata": {},
   "source": [
    "$$ s = \\sqrt{s^2} $$"
   ]
  },
  {
   "cell_type": "code",
   "execution_count": 16,
   "metadata": {},
   "outputs": [],
   "source": [
    "sd = math.sqrt(var)"
   ]
  },
  {
   "cell_type": "code",
   "execution_count": 17,
   "metadata": {},
   "outputs": [
    {
     "name": "stdout",
     "output_type": "stream",
     "text": [
      "229.128784747792\n"
     ]
    }
   ],
   "source": [
    "print(sd)"
   ]
  },
  {
   "cell_type": "markdown",
   "metadata": {},
   "source": [
    "Copyright © 2020 IUBH Internationale Hochschule"
   ]
  }
 ],
 "metadata": {
  "kernelspec": {
   "display_name": "Python 3",
   "language": "python",
   "name": "python3"
  },
  "language_info": {
   "codemirror_mode": {
    "name": "ipython",
    "version": 3
   },
   "file_extension": ".py",
   "mimetype": "text/x-python",
   "name": "python",
   "nbconvert_exporter": "python",
   "pygments_lexer": "ipython3",
   "version": "3.7.4"
  }
 },
 "nbformat": 4,
 "nbformat_minor": 2
}
