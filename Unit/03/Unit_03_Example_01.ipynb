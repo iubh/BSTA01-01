{
 "cells": [
  {
   "cell_type": "markdown",
   "metadata": {},
   "source": [
    "# Unit 3 - Example 1"
   ]
  },
  {
   "cell_type": "markdown",
   "metadata": {},
   "source": [
    "Import of Python libraries and necessary code for diverse functions."
   ]
  },
  {
   "cell_type": "code",
   "execution_count": 1,
   "metadata": {
    "code_folding": []
   },
   "outputs": [
    {
     "data": {
      "text/html": [
       "\n",
       "    <script>\n",
       "    function code_toggle() {\n",
       "        if ($('div.cell.code_cell.rendered.selected div.input').css('display')!='none'){\n",
       "            $('div.cell.code_cell.rendered.selected div.input').hide();\n",
       "        } else {\n",
       "            $('div.cell.code_cell.rendered.selected div.input').show();\n",
       "        }\n",
       "    }\n",
       "    </script>\n",
       "    <form action=\"javascript:code_toggle()\"><input type=\"submit\" id=\"toggleButton\" value=\"Toggle code\"></form>\n",
       "    "
      ],
      "text/plain": [
       "<IPython.core.display.HTML object>"
      ]
     },
     "metadata": {},
     "output_type": "display_data"
    }
   ],
   "source": [
    "## imports\n",
    "import math\n",
    "import pandas as pd\n",
    "from IPython.display import HTML, display\n",
    "\n",
    "\n",
    "## Der folgende Code dient zur Implementierung der Funktionalität, damit Code ein- und ausgeblendet werden kann.\n",
    "def toggle_code():\n",
    "    toggle_code_js_html = '''\n",
    "    <script>\n",
    "    function code_toggle() {\n",
    "        if ($('div.cell.code_cell.rendered.selected div.input').css('display')!='none'){\n",
    "            $('div.cell.code_cell.rendered.selected div.input').hide();\n",
    "        } else {\n",
    "            $('div.cell.code_cell.rendered.selected div.input').show();\n",
    "        }\n",
    "    }\n",
    "    </script>\n",
    "    <form action=\"javascript:code_toggle()\"><input type=\"submit\" id=\"toggleButton\" value=\"Toggle code\"></form>\n",
    "    '''\n",
    "    display(HTML(toggle_code_js_html))\n",
    "\n",
    "\n",
    "toggle_code()"
   ]
  },
  {
   "cell_type": "markdown",
   "metadata": {},
   "source": [
    "# Exercise"
   ]
  },
  {
   "cell_type": "markdown",
   "metadata": {},
   "source": [
    "A scientist is instructed to analyse the relation between two stocks X and Y. Around the year the following closing prices have been calculated at the end of each month.\n",
    "\n",
    "|Month    |Price of X (in €)|Price von Y (in €)|\n",
    "|---      |---              |---              |\n",
    "|January  |27,90            |43,00            |\n",
    "|February |28,20            |46,10            |\n",
    "|March    |27,50            |43,40            |\n",
    "|April    |28,30            |43,80            |\n",
    "|May      |28,20            |47,30            |\n",
    "|June     |28,70            |47,80            |\n",
    "|July     |27,90            |43,20            |\n",
    "|August   |27,30            |45,20            |\n",
    "|September|29,10            |47,20            |\n",
    "|October  |29,60            |45,70            |\n",
    "|November |29,50            |48,50            |\n",
    "|December |29,80            |50,60            |\n",
    "\n",
    "Analyse the relation with the help of the tools you know."
   ]
  },
  {
   "cell_type": "markdown",
   "metadata": {},
   "source": [
    "# Solution"
   ]
  },
  {
   "cell_type": "markdown",
   "metadata": {},
   "source": [
    "|i                                  |$$ x_i $$|$$ y_i $$       |$$ x_i - \\bar{x} $$|$$ y_i - \\bar{y} $$|$$ (x_i - \\bar{x})^2 $$|$$ (y_i - \\bar{y})^2 $$|$$ (x_i - \\bar{x})(y_i - \\bar{y}) $$|\n",
    "|---                                |---      |---             |---                |---                |---                    |---                    |---                                 |\n",
    "|1                                  |27,90    |43,00           |-0,60              |-2,98              |0,36                   |8,90                   |1,79                                |\n",
    "|2                                  |28,20    |46,10           |-0,30              |0,12               |0,09                   |0,01                   |-0,04                               |\n",
    "|3                                  |27,50    |43,40           |-1,00              |-2,58              |1,00                   |6,67                   |2,58                                |\n",
    "|4                                  |28,30    |43,80           |-0,20              |-2,18              |0,04                   |4,77                   |0,44                                |\n",
    "|5                                  |28,20    |47,30           |-0,30              |1,32               |0,09                   |1,73                   |-0,40                               |\n",
    "|6                                  |28,70    |47,80           |0,20               |1,82               |0,04                   |3,30                   |0,36                                |\n",
    "|7                                  |27,90    |43,20           |-0,60              |-2,78              |0,36                   |7,75                   |1,67                                |\n",
    "|8                                  |27,30    |45,20           |-1,20              |-0,78              |1,44                   |0,61                   |0,94                                |\n",
    "|9                                  |29,10    |47,20           |0,60               |1,22               |0,36                   |1,48                   |0,73                                |\n",
    "|10                                 |29,60    |45,70           |1,10               |-0,28              |1,21                   |0,08                   |-0,31                               |\n",
    "|11                                 |29,50    |48,50           |1,00               |2,52               |1,00                   |6,33                   |2,52                                |\n",
    "|12                                 |29,80    |50,60           |1,30               |4,62               |1,69                   |21,31                  |6,00                                |\n",
    "|                                   |         |                |                   |                   |                       |                       |                                    |\n",
    "|$$ \\sum{} $$                       |342,00   |551,80          |0,00               |0,00               |7,68                   |62,96                  |16,29                               |\n",
    "|Mean | 28.50 | 45.98 |"
   ]
  },
  {
   "cell_type": "markdown",
   "metadata": {},
   "source": [
    "## Mean"
   ]
  },
  {
   "cell_type": "markdown",
   "metadata": {},
   "source": [
    "$$ \\bar{x} = \\frac{1}{n} \\sum_{i=1}^n{ x_i } $$"
   ]
  },
  {
   "cell_type": "code",
   "execution_count": 2,
   "metadata": {},
   "outputs": [
    {
     "name": "stdout",
     "output_type": "stream",
     "text": [
      "28.5\n"
     ]
    }
   ],
   "source": [
    "x_quer = 342 / 12\n",
    "print(x_quer)"
   ]
  },
  {
   "cell_type": "code",
   "execution_count": 3,
   "metadata": {},
   "outputs": [
    {
     "name": "stdout",
     "output_type": "stream",
     "text": [
      "45.98333333333333\n"
     ]
    }
   ],
   "source": [
    "y_quer = 551.80 / 12\n",
    "print(y_quer)"
   ]
  },
  {
   "cell_type": "markdown",
   "metadata": {},
   "source": [
    "## Variance"
   ]
  },
  {
   "cell_type": "markdown",
   "metadata": {},
   "source": [
    "$$ s_x^2 = \\frac{1}{n} \\sum_{i=1}^n{ (x_i - \\bar{x})^2 } $$"
   ]
  },
  {
   "cell_type": "code",
   "execution_count": 4,
   "metadata": {},
   "outputs": [
    {
     "name": "stdout",
     "output_type": "stream",
     "text": [
      "0.64\n"
     ]
    }
   ],
   "source": [
    "var_x = 7.68 / 12\n",
    "print(var_x)"
   ]
  },
  {
   "cell_type": "code",
   "execution_count": 5,
   "metadata": {},
   "outputs": [
    {
     "name": "stdout",
     "output_type": "stream",
     "text": [
      "5.246666666666667\n"
     ]
    }
   ],
   "source": [
    "var_y = 62.96 / 12\n",
    "print(var_y)"
   ]
  },
  {
   "cell_type": "markdown",
   "metadata": {},
   "source": [
    "## Standard deviation"
   ]
  },
  {
   "cell_type": "markdown",
   "metadata": {},
   "source": [
    "$$ s_x = \\sqrt{s_x^2} $$"
   ]
  },
  {
   "cell_type": "code",
   "execution_count": 6,
   "metadata": {},
   "outputs": [
    {
     "name": "stdout",
     "output_type": "stream",
     "text": [
      "0.8\n"
     ]
    }
   ],
   "source": [
    "std_x = math.sqrt(var_x)\n",
    "print(std_x)"
   ]
  },
  {
   "cell_type": "code",
   "execution_count": 7,
   "metadata": {},
   "outputs": [
    {
     "name": "stdout",
     "output_type": "stream",
     "text": [
      "2.2905603390145974\n"
     ]
    }
   ],
   "source": [
    "std_y = math.sqrt(var_y)\n",
    "print(std_y)"
   ]
  },
  {
   "cell_type": "markdown",
   "metadata": {},
   "source": [
    "## Covariance"
   ]
  },
  {
   "cell_type": "markdown",
   "metadata": {},
   "source": [
    "$$ c_{XY} = \\frac{1}{n} \\sum_{i=1}^n{ (x_i - \\bar{x}) (y_i - \\bar{y}) } $$"
   ]
  },
  {
   "cell_type": "code",
   "execution_count": 8,
   "metadata": {},
   "outputs": [
    {
     "name": "stdout",
     "output_type": "stream",
     "text": [
      "1.3575\n"
     ]
    }
   ],
   "source": [
    "cov_xy = 16.29 / 12\n",
    "print(cov_xy)"
   ]
  },
  {
   "cell_type": "markdown",
   "metadata": {},
   "source": [
    "## Correlation coefficient"
   ]
  },
  {
   "cell_type": "markdown",
   "metadata": {},
   "source": [
    "$$ r_{XY} = \\frac{ c_{XY} }{ s_X s_Y } $$"
   ]
  },
  {
   "cell_type": "code",
   "execution_count": 9,
   "metadata": {},
   "outputs": [
    {
     "name": "stdout",
     "output_type": "stream",
     "text": [
      "0.7408121808002657\n"
     ]
    }
   ],
   "source": [
    "corr_xy = cov_xy / (std_x * std_y)\n",
    "print(corr_xy)"
   ]
  },
  {
   "cell_type": "code",
   "execution_count": 10,
   "metadata": {},
   "outputs": [
    {
     "name": "stdout",
     "output_type": "stream",
     "text": [
      "0.7408121808002657\n"
     ]
    }
   ],
   "source": [
    "corr_xy = 16.29 / 12 / (math.sqrt(7.68 / 12) * math.sqrt(62.96 / 12))\n",
    "print(corr_xy)"
   ]
  },
  {
   "cell_type": "markdown",
   "metadata": {},
   "source": [
    "# Scatter plot"
   ]
  },
  {
   "cell_type": "code",
   "execution_count": 11,
   "metadata": {},
   "outputs": [
    {
     "data": {
      "image/png": "[encoded data removed]",
      "text/plain": [
       "<Figure size 1008x576 with 1 Axes>"
      ]
     },
     "metadata": {
      "needs_background": "light"
     },
     "output_type": "display_data"
    },
    {
     "data": {
      "text/html": [
       "\n",
       "    <script>\n",
       "    function code_toggle() {\n",
       "        if ($('div.cell.code_cell.rendered.selected div.input').css('display')!='none'){\n",
       "            $('div.cell.code_cell.rendered.selected div.input').hide();\n",
       "        } else {\n",
       "            $('div.cell.code_cell.rendered.selected div.input').show();\n",
       "        }\n",
       "    }\n",
       "    </script>\n",
       "    <form action=\"javascript:code_toggle()\"><input type=\"submit\" id=\"toggleButton\" value=\"Toggle code\"></form>\n",
       "    "
      ],
      "text/plain": [
       "<IPython.core.display.HTML object>"
      ]
     },
     "metadata": {},
     "output_type": "display_data"
    }
   ],
   "source": [
    "import matplotlib.pyplot as plt\n",
    "import matplotlib.ticker as ticker\n",
    "import numpy as np\n",
    "%matplotlib inline\n",
    "\n",
    "x_values = [27.9, 28.2, 27.5, 28.3, 28.2, 28.7, 27.9, 27.3, 29.1, 29.6, 29.5, 29.8]\n",
    "y_values = [43, 46.1, 43.4, 43.8, 47.3, 47.8, 43.2, 45.2, 47.2, 45.7, 48.5, 50.6]\n",
    "\n",
    "plt.figure(figsize=(14, 8))\n",
    "plt.scatter(x=x_values, y=y_values)\n",
    "plt.title('Scatter plot', size=16)\n",
    "plt.xlabel('Price of X (in €)', size=14)\n",
    "plt.ylabel('Price of Y (in €)', size=14)\n",
    "\n",
    "ax = plt.gca()\n",
    "ax.xaxis.set_major_formatter(ticker.FormatStrFormatter('%0.2f'))\n",
    "ax.yaxis.set_major_formatter(ticker.FormatStrFormatter('%0.2f'))\n",
    "\n",
    "plt.show()\n",
    "\n",
    "toggle_code()"
   ]
  },
  {
   "cell_type": "markdown",
   "metadata": {},
   "source": [
    "Copyright © 2020 IUBH Internationale Hochschule"
   ]
  }
 ],
 "metadata": {
  "kernelspec": {
   "display_name": "Python 3",
   "language": "python",
   "name": "python3"
  },
  "language_info": {
   "codemirror_mode": {
    "name": "ipython",
    "version": 3
   },
   "file_extension": ".py",
   "mimetype": "text/x-python",
   "name": "python",
   "nbconvert_exporter": "python",
   "pygments_lexer": "ipython3",
   "version": "3.7.4"
  }
 },
 "nbformat": 4,
 "nbformat_minor": 2
}
