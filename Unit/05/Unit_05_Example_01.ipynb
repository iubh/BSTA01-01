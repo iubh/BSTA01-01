{
 "cells": [
  {
   "cell_type": "markdown",
   "metadata": {},
   "source": [
    "# Unit 5 - Example 1"
   ]
  },
  {
   "cell_type": "markdown",
   "metadata": {},
   "source": [
    "Import of Python libraries"
   ]
  },
  {
   "cell_type": "code",
   "execution_count": 1,
   "metadata": {
    "code_folding": []
   },
   "outputs": [
    {
     "data": {
      "text/html": [
       "\n",
       "    <script>\n",
       "    function code_toggle() {\n",
       "        if ($('div.cell.code_cell.rendered.selected div.input').css('display')!='none'){\n",
       "            $('div.cell.code_cell.rendered.selected div.input').hide();\n",
       "        } else {\n",
       "            $('div.cell.code_cell.rendered.selected div.input').show();\n",
       "        }\n",
       "    }\n",
       "    </script>\n",
       "    <form action=\"javascript:code_toggle()\"><input type=\"submit\" id=\"toggleButton\" value=\"Toggle code\"></form>\n",
       "    "
      ],
      "text/plain": [
       "<IPython.core.display.HTML object>"
      ]
     },
     "metadata": {},
     "output_type": "display_data"
    }
   ],
   "source": [
    "## imports\n",
    "import math\n",
    "import pandas as pd\n",
    "from IPython.display import HTML, display\n",
    "\n",
    "\n",
    "## Der folgende Code dient zur Implementierung der Funktionalität, damit Code ein- und ausgeblendet werden kann.\n",
    "def toggle_code():\n",
    "    toggle_code_js_html = '''\n",
    "    <script>\n",
    "    function code_toggle() {\n",
    "        if ($('div.cell.code_cell.rendered.selected div.input').css('display')!='none'){\n",
    "            $('div.cell.code_cell.rendered.selected div.input').hide();\n",
    "        } else {\n",
    "            $('div.cell.code_cell.rendered.selected div.input').show();\n",
    "        }\n",
    "    }\n",
    "    </script>\n",
    "    <form action=\"javascript:code_toggle()\"><input type=\"submit\" id=\"toggleButton\" value=\"Toggle code\"></form>\n",
    "    '''\n",
    "    display(HTML(toggle_code_js_html))\n",
    "\n",
    "\n",
    "toggle_code()"
   ]
  },
  {
   "cell_type": "markdown",
   "metadata": {},
   "source": [
    "# Exercise"
   ]
  },
  {
   "cell_type": "markdown",
   "metadata": {},
   "source": [
    "The results of a test of intelligence (intelligenc quotient = IQ) are interpreted often as a normal distributed stochastic variable. In Psychology the assumption is that the expected value of the IQ is 100 and the standard deviation is 15.  \n",
    "\n",
    "What is the probability, that a person has an IQ greater than 110 points?  \n",
    "What is the probability, that a person has an IQ below 110 points?  \n",
    "What is the probability, that a person has an IQ between 85 and 115 points?"
   ]
  },
  {
   "cell_type": "markdown",
   "metadata": {},
   "source": [
    "# Solution"
   ]
  },
  {
   "cell_type": "code",
   "execution_count": 2,
   "metadata": {},
   "outputs": [],
   "source": [
    "from scipy.stats import norm"
   ]
  },
  {
   "cell_type": "markdown",
   "metadata": {},
   "source": [
    "Given $$\\mu = 100$$ and $$\\sigma = 15$$ x is 110."
   ]
  },
  {
   "cell_type": "markdown",
   "metadata": {},
   "source": [
    "*z-Transformation:*\n",
    "$$ Z = \\frac{(X-\\mu)}{\\sigma} $$"
   ]
  },
  {
   "cell_type": "markdown",
   "metadata": {},
   "source": [
    "**What is the probability, that a person has an IQ greater than 110 points?**"
   ]
  },
  {
   "cell_type": "markdown",
   "metadata": {},
   "source": [
    "$$ P(Z > z) = 1 - F_s(z) $$\n",
    "given z = 110"
   ]
  },
  {
   "cell_type": "code",
   "execution_count": 3,
   "metadata": {},
   "outputs": [
    {
     "name": "stdout",
     "output_type": "stream",
     "text": [
      "0.6666666666666666\n"
     ]
    }
   ],
   "source": [
    "# z-Transformation\n",
    "z = (110 - 100) / 15\n",
    "print(z)"
   ]
  },
  {
   "cell_type": "code",
   "execution_count": 4,
   "metadata": {},
   "outputs": [
    {
     "data": {
      "text/plain": [
       "0.7475074624530771"
      ]
     },
     "execution_count": 4,
     "metadata": {},
     "output_type": "execute_result"
    }
   ],
   "source": [
    "# F(z)\n",
    "norm.cdf(z)"
   ]
  },
  {
   "cell_type": "code",
   "execution_count": 5,
   "metadata": {},
   "outputs": [
    {
     "data": {
      "text/plain": [
       "0.2524925375469229"
      ]
     },
     "execution_count": 5,
     "metadata": {},
     "output_type": "execute_result"
    }
   ],
   "source": [
    "# 1 - F(z)\n",
    "1 - norm.cdf(z)"
   ]
  },
  {
   "cell_type": "code",
   "execution_count": 6,
   "metadata": {},
   "outputs": [],
   "source": [
    "## Direct computation in Python\n",
    "# 1 - norm.cdf(x=110, loc=100, scale=15)"
   ]
  },
  {
   "cell_type": "markdown",
   "metadata": {},
   "source": [
    "**What is the probability, that a person has an IQ below 110 points?**"
   ]
  },
  {
   "cell_type": "markdown",
   "metadata": {},
   "source": [
    "$$ P(Z \\le z) = F_{St}(z) $$ given z = 110"
   ]
  },
  {
   "cell_type": "code",
   "execution_count": 7,
   "metadata": {},
   "outputs": [
    {
     "name": "stdout",
     "output_type": "stream",
     "text": [
      "0.6666666666666666\n"
     ]
    }
   ],
   "source": [
    "# z-Transformation\n",
    "z = (110 - 100) / 15\n",
    "print(z)"
   ]
  },
  {
   "cell_type": "code",
   "execution_count": 8,
   "metadata": {},
   "outputs": [
    {
     "data": {
      "text/plain": [
       "0.7475074624530771"
      ]
     },
     "execution_count": 8,
     "metadata": {},
     "output_type": "execute_result"
    }
   ],
   "source": [
    "## P(X < z)\n",
    "norm.cdf(z)"
   ]
  },
  {
   "cell_type": "code",
   "execution_count": 9,
   "metadata": {},
   "outputs": [],
   "source": [
    "## Direct computation in Python\n",
    "# norm.cdf(x=110, loc=100, scale=15)"
   ]
  },
  {
   "cell_type": "markdown",
   "metadata": {},
   "source": [
    "**What is the probability, that a person has an IQ between 85 and 115 points?**"
   ]
  },
  {
   "cell_type": "markdown",
   "metadata": {},
   "source": [
    "$$ P(a < Z \\le b) = F_{St}(b) - F_{St}(a) $$\n",
    "given a = 85 and b = 115."
   ]
  },
  {
   "cell_type": "code",
   "execution_count": 10,
   "metadata": {},
   "outputs": [
    {
     "name": "stdout",
     "output_type": "stream",
     "text": [
      "-1.0\n"
     ]
    }
   ],
   "source": [
    "# z-Transformation\n",
    "z_a = (85 - 100) / 15\n",
    "print(z_a)"
   ]
  },
  {
   "cell_type": "code",
   "execution_count": 11,
   "metadata": {},
   "outputs": [
    {
     "name": "stdout",
     "output_type": "stream",
     "text": [
      "1.0\n"
     ]
    }
   ],
   "source": [
    "# z-Transformation\n",
    "z_b = (115 - 100) / 15\n",
    "print(z_b)"
   ]
  },
  {
   "cell_type": "code",
   "execution_count": 12,
   "metadata": {},
   "outputs": [
    {
     "data": {
      "text/plain": [
       "0.8413447460685429"
      ]
     },
     "execution_count": 12,
     "metadata": {},
     "output_type": "execute_result"
    }
   ],
   "source": [
    "## F(b)\n",
    "norm.cdf(z_b)"
   ]
  },
  {
   "cell_type": "code",
   "execution_count": 13,
   "metadata": {},
   "outputs": [
    {
     "data": {
      "text/plain": [
       "0.15865525393145707"
      ]
     },
     "execution_count": 13,
     "metadata": {},
     "output_type": "execute_result"
    }
   ],
   "source": [
    "## F(a)\n",
    "norm.cdf(z_a)"
   ]
  },
  {
   "cell_type": "code",
   "execution_count": 14,
   "metadata": {},
   "outputs": [
    {
     "data": {
      "text/plain": [
       "0.6826894921370859"
      ]
     },
     "execution_count": 14,
     "metadata": {},
     "output_type": "execute_result"
    }
   ],
   "source": [
    "## P(a < X <= b)\n",
    "norm.cdf(z_b) - norm.cdf(z_a)"
   ]
  },
  {
   "cell_type": "code",
   "execution_count": 15,
   "metadata": {},
   "outputs": [],
   "source": [
    "## Direct computation in Python\n",
    "# norm.cdf(x=115, loc=100, scale=15) - norm.cdf(x=85, loc=100, scale=15)"
   ]
  },
  {
   "cell_type": "markdown",
   "metadata": {},
   "source": [
    "## Chart: Probability Density Function of the \"IQ\" Normal Distribution"
   ]
  },
  {
   "cell_type": "code",
   "execution_count": 17,
   "metadata": {},
   "outputs": [
    {
     "data": {
      "image/png": "[encoded data removed]",
      "text/plain": [
       "<Figure size 1008x576 with 1 Axes>"
      ]
     },
     "metadata": {
      "needs_background": "light"
     },
     "output_type": "display_data"
    },
    {
     "data": {
      "text/html": [
       "\n",
       "    <script>\n",
       "    function code_toggle() {\n",
       "        if ($('div.cell.code_cell.rendered.selected div.input').css('display')!='none'){\n",
       "            $('div.cell.code_cell.rendered.selected div.input').hide();\n",
       "        } else {\n",
       "            $('div.cell.code_cell.rendered.selected div.input').show();\n",
       "        }\n",
       "    }\n",
       "    </script>\n",
       "    <form action=\"javascript:code_toggle()\"><input type=\"submit\" id=\"toggleButton\" value=\"Toggle code\"></form>\n",
       "    "
      ],
      "text/plain": [
       "<IPython.core.display.HTML object>"
      ]
     },
     "metadata": {},
     "output_type": "display_data"
    }
   ],
   "source": [
    "import numpy as np\n",
    "import matplotlib.pyplot as plt\n",
    "%matplotlib inline\n",
    "\n",
    "x_values = np.linspace(40, 160, 100)\n",
    "y_values = [norm.pdf(i, loc=100, scale=15) for i in x_values]\n",
    "\n",
    "fig, ax = plt.subplots(figsize=(14, 8))\n",
    "\n",
    "ax.plot(x_values, y_values)\n",
    "\n",
    "ax.set_title('Probability Density Function $P$ of the \"IQ\" Normal Distribution with $\\mu$=100 and $\\sigma$=15', size=16)\n",
    "ax.set_xlabel('$x$', size=14)\n",
    "ax.set_ylabel('$P(x)$', size=14)\n",
    "\n",
    "ax.grid(True, axis='both')\n",
    "\n",
    "#ax.set_xticks(np.linspace(-3, 3, 13))\n",
    "#ax.set_xticklabels(x_labels)\n",
    "\n",
    "#ax.set_yticks(np.linspace(0.0, 1.0, 11))\n",
    "\n",
    "## Wert neben Linie schreiben\n",
    "#for x, y in zip(x_values, y_values):\n",
    "#    ax.annotate(str(y), xy=(x, y - 0.04), size=14)\n",
    "\n",
    "#major_ticks = np.arange(0, 1.1, 0.1)    \n",
    "#ax.set_yticks(major_ticks)\n",
    "    \n",
    "plt.show()\n",
    "toggle_code()"
   ]
  },
  {
   "cell_type": "markdown",
   "metadata": {},
   "source": [
    "## Interactive Chart\n",
    "### Computation of the probability, that the IQ lies between the lower bound a and the upper bound b"
   ]
  },
  {
   "cell_type": "code",
   "execution_count": 18,
   "metadata": {
    "code_folding": []
   },
   "outputs": [
    {
     "data": {
      "text/html": [
       "\n",
       "    <script>\n",
       "    function code_toggle() {\n",
       "        if ($('div.cell.code_cell.rendered.selected div.input').css('display')!='none'){\n",
       "            $('div.cell.code_cell.rendered.selected div.input').hide();\n",
       "        } else {\n",
       "            $('div.cell.code_cell.rendered.selected div.input').show();\n",
       "        }\n",
       "    }\n",
       "    </script>\n",
       "    <form action=\"javascript:code_toggle()\"><input type=\"submit\" id=\"toggleButton\" value=\"Toggle code\"></form>\n",
       "    "
      ],
      "text/plain": [
       "<IPython.core.display.HTML object>"
      ]
     },
     "metadata": {},
     "output_type": "display_data"
    }
   ],
   "source": [
    "import numpy as np\n",
    "import matplotlib.pyplot as plt\n",
    "import ipywidgets as widgets\n",
    "from ipywidgets import interact, interactive, fixed, interact_manual\n",
    "from scipy.stats import norm\n",
    "\n",
    "%matplotlib inline\n",
    "\n",
    "def make_plot(a_b, sigma):\n",
    "\n",
    "    mu = 100\n",
    "    a = a_b[0]\n",
    "    b = a_b[1]\n",
    "    \n",
    "    def y(x):\n",
    "        return norm.cdf(x, loc=mu, scale=sigma)\n",
    "\n",
    "    x_values = np.linspace(40, 160, 100)\n",
    "    y_values = list(map(y, x_values))\n",
    "\n",
    "    fig, ax = plt.subplots(figsize=(14, 8))\n",
    "\n",
    "    ax.plot(x_values, y_values)\n",
    "\n",
    "    title = 'Cumulative Normal Distribution $F$ of the Normal Distribution with $\\mu$=100 and $\\sigma$={}, a = {}, b = {}'.format(sigma, a, b)\n",
    "    ax.set_title(title, size=16)\n",
    "    ax.set_xlabel('$x$', size=14)\n",
    "    ax.set_ylabel('$F(x)$', size=14)\n",
    "\n",
    "    ax.grid(True, axis='both')\n",
    "\n",
    "    ax.set_xticks(np.linspace(40, 160, 13))\n",
    "    #ax.set_xticklabels(x_labels)\n",
    "\n",
    "    ax.set_yticks(np.linspace(0.0, 1.0, 11))\n",
    "\n",
    "    ## Wert neben Linie schreiben\n",
    "    #for x, y in zip(x_values, y_values):\n",
    "    #    ax.annotate(str(y), xy=(x, y - 0.04), size=14)\n",
    "\n",
    "    #major_ticks = np.arange(0, 1.1, 0.1)    \n",
    "    #ax.set_yticks(major_ticks)\n",
    "\n",
    "    ## Linie auf a\n",
    "    plt.vlines(a, 0, y(a), color='black', linewidth=1.0)\n",
    "    \n",
    "    ## Linie auf b\n",
    "    plt.vlines(b, 0, y(b), color='black', linewidth=1.0)\n",
    "\n",
    "\n",
    "    ## Doppelpfeil für Ergebnisbereich\n",
    "    plt.annotate(\n",
    "        s='',\n",
    "        xytext=(40, y(a)),\n",
    "        xy=(40, y(b)),\n",
    "        arrowprops={'arrowstyle': '<->', 'color': 'green', 'linewidth': 2.0}\n",
    "    )\n",
    "\n",
    "    ## Text für Ergebnis\n",
    "    plt.annotate(\n",
    "        'Result: {:.4f} - {:.4f} = {:.4f}'.format(y(b), y(a), y(b) - y(a)),\n",
    "        size=14,\n",
    "        xy=(45, 0.55)\n",
    "    )\n",
    "\n",
    "    ## Text für Ergebnis Formel\n",
    "    result = r'    $ P({} \\leq X < {}) $ = {:.4f}'.format(a, b, y(b) - y(a))\n",
    "    plt.annotate(\n",
    "        result,\n",
    "        size=16,\n",
    "        color='green',\n",
    "        xy=(45, 0.4)\n",
    "    )\n",
    "\n",
    "    ## Pfeil auf y(a)\n",
    "    plt.annotate('', xytext=(a, y(a)), xy=(plt.xlim()[0], y(a)),\n",
    "                 arrowprops={'arrowstyle': '->', 'color': 'black'})\n",
    "\n",
    "    ## Pfeil auf y(b)\n",
    "    plt.annotate('', xytext=(b, y(b)), xy=(plt.xlim()[0], y(b)),\n",
    "                 arrowprops={'arrowstyle': '->', 'color': 'black'})\n",
    "\n",
    "\n",
    "    ## ==================================================\n",
    "    #print(plt.ylim())\n",
    "    #print(plt.xlim())\n",
    "    plt.ylim(-0.05, 1.05)\n",
    "\n",
    "toggle_code()"
   ]
  },
  {
   "cell_type": "code",
   "execution_count": 20,
   "metadata": {},
   "outputs": [
    {
     "data": {
      "application/vnd.jupyter.widget-view+json": {
       "model_id": "e68ef2b52dae4d7a9cc2fa6c84629d9d",
       "version_major": 2,
       "version_minor": 0
      },
      "text/plain": [
       "interactive(children=(IntRangeSlider(value=(85, 115), continuous_update=False, description='a and b', max=160,…"
      ]
     },
     "metadata": {},
     "output_type": "display_data"
    }
   ],
   "source": [
    "interactive(\n",
    "    make_plot, \n",
    "    a_b=widgets.IntRangeSlider(value=[85, 115], min=40, max=160, step=5, continuous_update=False, description='a and b'),\n",
    "    sigma=widgets.IntSlider(value=15, min=10, max=20, step=1, continuous_update=False, description='$\\sigma$'))"
   ]
  },
  {
   "cell_type": "markdown",
   "metadata": {},
   "source": [
    "Copyright © 2020 IUBH Internationale Hochschule"
   ]
  }
 ],
 "metadata": {
  "kernelspec": {
   "display_name": "Python 3",
   "language": "python",
   "name": "python3"
  },
  "language_info": {
   "codemirror_mode": {
    "name": "ipython",
    "version": 3
   },
   "file_extension": ".py",
   "mimetype": "text/x-python",
   "name": "python",
   "nbconvert_exporter": "python",
   "pygments_lexer": "ipython3",
   "version": "3.7.4"
  }
 },
 "nbformat": 4,
 "nbformat_minor": 2
}
