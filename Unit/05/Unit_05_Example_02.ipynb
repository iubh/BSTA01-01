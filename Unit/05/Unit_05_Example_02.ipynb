{
 "cells": [
  {
   "cell_type": "markdown",
   "metadata": {},
   "source": [
    "# Unit 5 - Example 2"
   ]
  },
  {
   "cell_type": "markdown",
   "metadata": {},
   "source": [
    "Import of Python libraries"
   ]
  },
  {
   "cell_type": "code",
   "execution_count": 1,
   "metadata": {
    "code_folding": []
   },
   "outputs": [
    {
     "data": {
      "text/html": [
       "\n",
       "    <script>\n",
       "    function code_toggle() {\n",
       "        if ($('div.cell.code_cell.rendered.selected div.input').css('display')!='none'){\n",
       "            $('div.cell.code_cell.rendered.selected div.input').hide();\n",
       "        } else {\n",
       "            $('div.cell.code_cell.rendered.selected div.input').show();\n",
       "        }\n",
       "    }\n",
       "    </script>\n",
       "    <form action=\"javascript:code_toggle()\"><input type=\"submit\" id=\"toggleButton\" value=\"Toggle code\"></form>\n",
       "    "
      ],
      "text/plain": [
       "<IPython.core.display.HTML object>"
      ]
     },
     "metadata": {},
     "output_type": "display_data"
    }
   ],
   "source": [
    "## imports\n",
    "import math\n",
    "import pandas as pd\n",
    "from IPython.display import HTML, display\n",
    "\n",
    "\n",
    "## Der folgende Code dient zur Implementierung der Funktionalität, damit Code ein- und ausgeblendet werden kann.\n",
    "def toggle_code():\n",
    "    toggle_code_js_html = '''\n",
    "    <script>\n",
    "    function code_toggle() {\n",
    "        if ($('div.cell.code_cell.rendered.selected div.input').css('display')!='none'){\n",
    "            $('div.cell.code_cell.rendered.selected div.input').hide();\n",
    "        } else {\n",
    "            $('div.cell.code_cell.rendered.selected div.input').show();\n",
    "        }\n",
    "    }\n",
    "    </script>\n",
    "    <form action=\"javascript:code_toggle()\"><input type=\"submit\" id=\"toggleButton\" value=\"Toggle code\"></form>\n",
    "    '''\n",
    "    display(HTML(toggle_code_js_html))\n",
    "\n",
    "\n",
    "toggle_code()"
   ]
  },
  {
   "cell_type": "markdown",
   "metadata": {},
   "source": [
    "# Exercise"
   ]
  },
  {
   "cell_type": "markdown",
   "metadata": {},
   "source": [
    "In Finance the is the assumption that the yield of stocks is normal distributed. Therefore the yield can be viewed as a stochastic variable X where $\\mu$ is the expected rate of return and the standard deviation $\\sigma$ is the fluctuation of the rate of return, i.e. the risk.\n",
    "\n",
    "If it is assumed that there are three stocks A, B, and C. The rate of return of stock A is normal distributed with N(44%,22%), the rate of return of stock B is normal distributed with N(36%,20%) and for stock C the assumption is N(10%,4%). What is the probability of a loss (i.e. yield is below zero) for an investor who invests in one stock?"
   ]
  },
  {
   "cell_type": "markdown",
   "metadata": {},
   "source": [
    "# Solution"
   ]
  },
  {
   "cell_type": "code",
   "execution_count": 2,
   "metadata": {},
   "outputs": [],
   "source": [
    "from scipy.stats import norm"
   ]
  },
  {
   "cell_type": "markdown",
   "metadata": {},
   "source": [
    "We need to compute  \n",
    "for stock A: P(X<0) given N(0.44, 0.22).  \n",
    "for stock B: P(X<0) given N(0.36, 0.20).  \n",
    "for stock C: P(X<0) given N(0.1, 0.04).  "
   ]
  },
  {
   "cell_type": "markdown",
   "metadata": {},
   "source": [
    "### Stock A\n",
    "\n",
    "**What is the probability for a loss when one invests in stock A?**\n",
    "\n",
    "$$ P(Z < z) = F_{St}(z) $$\n",
    "given $z = 0$, $ \\mu = 0.44 $ and $ \\sigma = 0.22 $"
   ]
  },
  {
   "cell_type": "code",
   "execution_count": 3,
   "metadata": {},
   "outputs": [
    {
     "name": "stdout",
     "output_type": "stream",
     "text": [
      "-2.0\n"
     ]
    }
   ],
   "source": [
    "# z-Transformation\n",
    "z = (0 - 0.44) / 0.22\n",
    "print(z)"
   ]
  },
  {
   "cell_type": "code",
   "execution_count": 4,
   "metadata": {},
   "outputs": [
    {
     "data": {
      "text/plain": [
       "0.022750131948179195"
      ]
     },
     "execution_count": 4,
     "metadata": {},
     "output_type": "execute_result"
    }
   ],
   "source": [
    "# P(Z < z) = F(z)\n",
    "norm.cdf(z)"
   ]
  },
  {
   "cell_type": "markdown",
   "metadata": {},
   "source": [
    "### Stock B\n",
    "\n",
    "**What is the probability for a loss when one invests in stock A?**\n",
    "\n",
    "$$ P(Z < z) = F_{St}(z) $$\n",
    "given $z = 0$, $ \\mu = 0.36 $ and $ \\sigma = 0.2 $"
   ]
  },
  {
   "cell_type": "code",
   "execution_count": 5,
   "metadata": {},
   "outputs": [
    {
     "name": "stdout",
     "output_type": "stream",
     "text": [
      "-1.7999999999999998\n"
     ]
    }
   ],
   "source": [
    "# z-Transformation\n",
    "z = (0 - 0.36) / 0.2\n",
    "print(z)"
   ]
  },
  {
   "cell_type": "code",
   "execution_count": 6,
   "metadata": {},
   "outputs": [
    {
     "data": {
      "text/plain": [
       "0.03593031911292581"
      ]
     },
     "execution_count": 6,
     "metadata": {},
     "output_type": "execute_result"
    }
   ],
   "source": [
    "# P(Z < z) = F(z)\n",
    "norm.cdf(z)"
   ]
  },
  {
   "cell_type": "markdown",
   "metadata": {},
   "source": [
    "### Stock C\n",
    "\n",
    "**What is the probability for a loss when one invests in stock A?**\n",
    "\n",
    "$$ P(Z < z) = F_{St}(z) $$\n",
    "given $z = 0$, $ \\mu = 0.1 $ and $ \\sigma = 0.04 $"
   ]
  },
  {
   "cell_type": "code",
   "execution_count": 7,
   "metadata": {},
   "outputs": [
    {
     "name": "stdout",
     "output_type": "stream",
     "text": [
      "-2.5\n"
     ]
    }
   ],
   "source": [
    "# z-Transformation\n",
    "z = (0 - 0.1) / 0.04\n",
    "print(z)"
   ]
  },
  {
   "cell_type": "code",
   "execution_count": 8,
   "metadata": {},
   "outputs": [
    {
     "data": {
      "text/plain": [
       "0.006209665325776132"
      ]
     },
     "execution_count": 8,
     "metadata": {},
     "output_type": "execute_result"
    }
   ],
   "source": [
    "# P(Z < z) = F(z)\n",
    "norm.cdf(z)"
   ]
  },
  {
   "cell_type": "markdown",
   "metadata": {},
   "source": [
    "# Chart: Density plot"
   ]
  },
  {
   "cell_type": "code",
   "execution_count": 15,
   "metadata": {},
   "outputs": [
    {
     "data": {
      "image/png": "[encoded data removed]",
      "text/plain": [
       "<Figure size 1008x576 with 1 Axes>"
      ]
     },
     "metadata": {
      "needs_background": "light"
     },
     "output_type": "display_data"
    },
    {
     "data": {
      "text/html": [
       "\n",
       "    <script>\n",
       "    function code_toggle() {\n",
       "        if ($('div.cell.code_cell.rendered.selected div.input').css('display')!='none'){\n",
       "            $('div.cell.code_cell.rendered.selected div.input').hide();\n",
       "        } else {\n",
       "            $('div.cell.code_cell.rendered.selected div.input').show();\n",
       "        }\n",
       "    }\n",
       "    </script>\n",
       "    <form action=\"javascript:code_toggle()\"><input type=\"submit\" id=\"toggleButton\" value=\"Toggle code\"></form>\n",
       "    "
      ],
      "text/plain": [
       "<IPython.core.display.HTML object>"
      ]
     },
     "metadata": {},
     "output_type": "display_data"
    }
   ],
   "source": [
    "import numpy as np\n",
    "import matplotlib.pyplot as plt\n",
    "%matplotlib inline\n",
    "\n",
    "fig, ax = plt.subplots(figsize=(14, 8))\n",
    "\n",
    "## A\n",
    "x_values = np.linspace(-0.5, 1.5, 1000)\n",
    "y_values = [norm.pdf(i, loc=0.44, scale=0.22) for i in x_values]\n",
    "ax.plot(x_values, y_values, label='Stock A')\n",
    "\n",
    "## B\n",
    "x_values = np.linspace(-0.5, 1.5, 1000)\n",
    "y_values = [norm.pdf(i, loc=0.36, scale=0.2) for i in x_values]\n",
    "ax.plot(x_values, y_values, label='Stock B')\n",
    "\n",
    "## C\n",
    "x_values = np.linspace(-0.5, 1.5, 1000)\n",
    "y_values = [norm.pdf(i, loc=0.1, scale=0.04) for i in x_values]\n",
    "ax.plot(x_values, y_values, label='Stock C')\n",
    "\n",
    "ax.set_title('Density plot of the return x of the stocks A, B, and C', size=16)\n",
    "ax.set_xlabel('$x$', size=14)\n",
    "ax.set_ylabel('$f(x)$', size=14)\n",
    "\n",
    "ax.grid(True, axis='both')\n",
    "\n",
    "#ax.set_xticks(np.linspace(-3, 3, 13))\n",
    "#ax.set_xticklabels(x_labels)\n",
    "\n",
    "#ax.set_yticks(np.linspace(0.0, 1.0, 11))\n",
    "\n",
    "## Wert neben Linie schreiben\n",
    "#for x, y in zip(x_values, y_values):\n",
    "#    ax.annotate(str(y), xy=(x, y - 0.04), size=14)\n",
    "\n",
    "#major_ticks = np.arange(0, 1.1, 0.1)    \n",
    "#ax.set_yticks(major_ticks)\n",
    "\n",
    "plt.legend()\n",
    "\n",
    "plt.show()\n",
    "toggle_code()"
   ]
  },
  {
   "cell_type": "markdown",
   "metadata": {},
   "source": [
    "# Interactive Plot\n",
    "## Probability for loss"
   ]
  },
  {
   "cell_type": "code",
   "execution_count": 13,
   "metadata": {},
   "outputs": [
    {
     "data": {
      "text/html": [
       "\n",
       "    <script>\n",
       "    function code_toggle() {\n",
       "        if ($('div.cell.code_cell.rendered.selected div.input').css('display')!='none'){\n",
       "            $('div.cell.code_cell.rendered.selected div.input').hide();\n",
       "        } else {\n",
       "            $('div.cell.code_cell.rendered.selected div.input').show();\n",
       "        }\n",
       "    }\n",
       "    </script>\n",
       "    <form action=\"javascript:code_toggle()\"><input type=\"submit\" id=\"toggleButton\" value=\"Toggle code\"></form>\n",
       "    "
      ],
      "text/plain": [
       "<IPython.core.display.HTML object>"
      ]
     },
     "metadata": {},
     "output_type": "display_data"
    }
   ],
   "source": [
    "import numpy as np\n",
    "import matplotlib.pyplot as plt\n",
    "import ipywidgets as widgets\n",
    "from ipywidgets import interact, interactive, fixed, interact_manual\n",
    "\n",
    "%matplotlib inline\n",
    "\n",
    "\n",
    "def make_plot(mu, sigma):\n",
    "    fig, ax = plt.subplots(figsize=(14, 8))\n",
    "\n",
    "    x_values = np.linspace(-0.5, 1.5, 1000)\n",
    "    y_values = [norm.pdf(i, loc=mu, scale=sigma) for i in x_values]\n",
    "    ax.plot(x_values, y_values, label='Aktie A')\n",
    "\n",
    "    ax.set_title('Density plot for $\\mu$={:.2f} and $\\sigma$={:.2f} and probability for loss, i.e. P(X)<0'.format(\n",
    "                    mu, sigma),\n",
    "                 size=16)\n",
    "    ax.set_xlabel('$x$', size=14)\n",
    "    ax.set_ylabel('$f(x)$', size=14)\n",
    "\n",
    "    ax.grid(True, axis='both')\n",
    "\n",
    "    ## Linie bei x=0\n",
    "    x = 0\n",
    "    y = norm.pdf(x, loc=mu, scale=sigma)\n",
    "    plt.vlines(x, 0, y)\n",
    "    \n",
    "    ## Text für Ergebnis\n",
    "    p_verlust = norm.cdf(x, loc=mu, scale=sigma)\n",
    "    plt.annotate(\n",
    "        'P(X<0) = {:.4f}'.format(p_verlust),\n",
    "        size=14,\n",
    "        xy=(0.1, 0.1)\n",
    "    )    \n",
    "    \n",
    "    ## Fläche markieren\n",
    "    xs = np.linspace(-0.5, 0, 250)\n",
    "    ys1 = [0 for i in xs]\n",
    "    ys2 = [norm.pdf(i, loc=mu, scale=sigma) for i in xs]\n",
    "    plt.fill_between(x=xs, y1=ys1, y2=ys2, color='yellow')\n",
    "\n",
    "\n",
    "toggle_code()"
   ]
  },
  {
   "cell_type": "code",
   "execution_count": 14,
   "metadata": {},
   "outputs": [
    {
     "data": {
      "application/vnd.jupyter.widget-view+json": {
       "model_id": "d1e6aef5eb124d95b5d7e9190e0ea5e7",
       "version_major": 2,
       "version_minor": 0
      },
      "text/plain": [
       "interactive(children=(FloatSlider(value=0.44, continuous_update=False, description='$\\\\mu$', max=0.5, min=0.01…"
      ]
     },
     "metadata": {},
     "output_type": "display_data"
    }
   ],
   "source": [
    "interactive(\n",
    "    make_plot, \n",
    "    mu=widgets.FloatSlider(value=0.44, min=0.01, max=0.5, step=0.01, continuous_update=False, description='$\\mu$'),\n",
    "    sigma=widgets.FloatSlider(value=0.22, min=0.01, max=0.5, step=0.01, continuous_update=False, description='$\\sigma$'))"
   ]
  }
 ],
 "metadata": {
  "kernelspec": {
   "display_name": "Python 3",
   "language": "python",
   "name": "python3"
  },
  "language_info": {
   "codemirror_mode": {
    "name": "ipython",
    "version": 3
   },
   "file_extension": ".py",
   "mimetype": "text/x-python",
   "name": "python",
   "nbconvert_exporter": "python",
   "pygments_lexer": "ipython3",
   "version": "3.7.4"
  }
 },
 "nbformat": 4,
 "nbformat_minor": 2
}
